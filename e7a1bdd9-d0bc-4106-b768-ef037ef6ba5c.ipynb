{
 "cells": [
  {
   "cell_type": "markdown",
   "id": "c78a8cdc",
   "metadata": {},
   "source": [
    "<div style=\"border:solid green 2px; padding: 20px\">\n",
    "    \n",
    "<b>Никита, привет! Это Александр</b> Я рад тебя видеть на финальном спринте (Основной проект).\n",
    "\n",
    "---\n",
    "\n",
    "Я буду красить комментарии цветом, пожалуйста, не удаляй их:\n",
    "\n",
    "<div class=\"alert alert-block alert-danger\">✍\n",
    "    \n",
    "\n",
    "__Комментарий от тимлида №1__\n",
    "\n",
    "Такой комментарий нужно исправить обязательно, он критически влияет на удачное выполнение проекта.\n",
    "</div>\n",
    "    \n",
    "---\n",
    "\n",
    "<div class=\"alert alert-block alert-warning\">📝\n",
    "    \n",
    "\n",
    "__Комментарий от тимлида №1__\n",
    "\n",
    "\n",
    "Такой комментарий является рекомендацией или советом. Можешь использовать их на своё усмотрение.\n",
    "</div>\n",
    "\n",
    "---\n",
    "\n",
    "<div class=\"alert alert-block alert-success\">✔️\n",
    "    \n",
    "\n",
    "__Комментарий от тимлида №1__\n",
    "\n",
    "Такой комментарий  говорит о том, что было сделано что-то качественное и правильное =)\n",
    "</div>\n",
    "    \n",
    "---\n",
    "    \n",
    "Предлагаю работать над проектом в диалоге: если у тебя возникают вопросы — пиши об этом в слаке, не стесняйся. Так же, мне будет легче отследить изменения, если ты выделишь свои комментарии:   \n",
    "    \n",
    "<div class=\"alert alert-info\"> <b>Комментарии студента:</b> Например, вот так.</div>\n",
    "    \n",
    "    \n",
    "---"
   ]
  },
  {
   "cell_type": "markdown",
   "id": "845d8b51",
   "metadata": {},
   "source": []
  },
  {
   "cell_type": "markdown",
   "id": "e2c7d550",
   "metadata": {},
   "source": [
    "<div class=\"alert alert-block alert-danger\">✍\n",
    "    \n",
    "\n",
    "__Комментарий от тимлида №1__\n",
    "\n",
    "Цель и декомпозиция так и не расписана. Хорошо, когда не просто копировать, а как-то анализировать задачи на вход и приводят понятные цель с точки зрения основной бизнес задачи."
   ]
  },
  {
   "cell_type": "markdown",
   "id": "92eee8b4",
   "metadata": {},
   "source": []
  },
  {
   "cell_type": "markdown",
   "id": "adf3d6a6",
   "metadata": {},
   "source": [
    "   # Банки — Анализ оттока клиентов\n",
    "   "
   ]
  },
  {
   "cell_type": "markdown",
   "id": "18b5bcc1",
   "metadata": {},
   "source": [
    "В нашем распоряжении данные о клиентах банка, их город, возраст, количество собственности и наличие кредитной карты.\n",
    "Так же мы располагаем данными об оттоке клиентов.\n",
    "Наша задача найти причины оттока клиентов, составить их портрет и написать рекомендации отделу маркетинга которые лягут в основу будующих рекламных кампаний."
   ]
  },
  {
   "cell_type": "markdown",
   "id": "0238e12b",
   "metadata": {},
   "source": [
    "План работы:\n",
    "- Загрузка данных \n",
    "- Предобработка данных \n",
    "- Исследовательский анализ\n",
    "- Статистический анализ \n",
    "- Разделение клиентов на сегменты и их приоритизация \n",
    "- Формирование рекомендаций для отдела маркетинга "
   ]
  },
  {
   "cell_type": "markdown",
   "id": "1a2ca4af",
   "metadata": {},
   "source": [
    "<div class=\"alert alert-block alert-warning\">📝\n",
    "    \n",
    "\n",
    "__Комментарий от тимлида №2__\n",
    "\n",
    "\n",
    "В идеале можно добавить декомпозицию"
   ]
  },
  {
   "cell_type": "markdown",
   "id": "2ecfc532",
   "metadata": {},
   "source": []
  },
  {
   "cell_type": "markdown",
   "id": "06fbee47",
   "metadata": {},
   "source": [
    "## Загрузка данных и библиотек "
   ]
  },
  {
   "cell_type": "code",
   "execution_count": 1,
   "id": "7020cb61",
   "metadata": {},
   "outputs": [],
   "source": [
    "import pandas as pd \n",
    "import matplotlib.pyplot as plt\n",
    "import seaborn as sns\n",
    "from scipy import stats as st\n",
    "import numpy as np"
   ]
  },
  {
   "cell_type": "markdown",
   "id": "9e4145f7",
   "metadata": {},
   "source": [
    "<div class=\"alert alert-block alert-success\">✔️\n",
    "    \n",
    "\n",
    "__Комментарий от тимлида №1__\n",
    "\n",
    "Хорошо, модули загружены"
   ]
  },
  {
   "cell_type": "code",
   "execution_count": 2,
   "id": "06e18d7c",
   "metadata": {},
   "outputs": [],
   "source": [
    "try:\n",
    "    data = pd.read_csv('bank_scrooge.csv')\n",
    "except:\n",
    "    data = pd.read_csv('https://code.s3.yandex.net/datasets/bank_scrooge.csv')"
   ]
  },
  {
   "cell_type": "code",
   "execution_count": 3,
   "id": "31b97354",
   "metadata": {},
   "outputs": [
    {
     "data": {
      "text/html": [
       "<div>\n",
       "<style scoped>\n",
       "    .dataframe tbody tr th:only-of-type {\n",
       "        vertical-align: middle;\n",
       "    }\n",
       "\n",
       "    .dataframe tbody tr th {\n",
       "        vertical-align: top;\n",
       "    }\n",
       "\n",
       "    .dataframe thead th {\n",
       "        text-align: right;\n",
       "    }\n",
       "</style>\n",
       "<table border=\"1\" class=\"dataframe\">\n",
       "  <thead>\n",
       "    <tr style=\"text-align: right;\">\n",
       "      <th></th>\n",
       "      <th>USERID</th>\n",
       "      <th>score</th>\n",
       "      <th>city</th>\n",
       "      <th>gender</th>\n",
       "      <th>age</th>\n",
       "      <th>equity</th>\n",
       "      <th>balance</th>\n",
       "      <th>products</th>\n",
       "      <th>credit_card</th>\n",
       "      <th>last_activity</th>\n",
       "      <th>EST_SALARY</th>\n",
       "      <th>churn</th>\n",
       "    </tr>\n",
       "  </thead>\n",
       "  <tbody>\n",
       "    <tr>\n",
       "      <th>0</th>\n",
       "      <td>183012</td>\n",
       "      <td>850.0</td>\n",
       "      <td>Рыбинск</td>\n",
       "      <td>Ж</td>\n",
       "      <td>25.0</td>\n",
       "      <td>1</td>\n",
       "      <td>59214.82</td>\n",
       "      <td>2</td>\n",
       "      <td>0</td>\n",
       "      <td>1</td>\n",
       "      <td>75719.14</td>\n",
       "      <td>1</td>\n",
       "    </tr>\n",
       "    <tr>\n",
       "      <th>1</th>\n",
       "      <td>146556</td>\n",
       "      <td>861.0</td>\n",
       "      <td>Рыбинск</td>\n",
       "      <td>Ж</td>\n",
       "      <td>37.0</td>\n",
       "      <td>5</td>\n",
       "      <td>850594.33</td>\n",
       "      <td>3</td>\n",
       "      <td>1</td>\n",
       "      <td>0</td>\n",
       "      <td>86621.77</td>\n",
       "      <td>0</td>\n",
       "    </tr>\n",
       "    <tr>\n",
       "      <th>2</th>\n",
       "      <td>120722</td>\n",
       "      <td>892.0</td>\n",
       "      <td>Рыбинск</td>\n",
       "      <td>Ж</td>\n",
       "      <td>30.0</td>\n",
       "      <td>0</td>\n",
       "      <td>NaN</td>\n",
       "      <td>1</td>\n",
       "      <td>1</td>\n",
       "      <td>1</td>\n",
       "      <td>107683.34</td>\n",
       "      <td>0</td>\n",
       "    </tr>\n",
       "    <tr>\n",
       "      <th>3</th>\n",
       "      <td>225363</td>\n",
       "      <td>866.0</td>\n",
       "      <td>Ярославль</td>\n",
       "      <td>Ж</td>\n",
       "      <td>51.0</td>\n",
       "      <td>5</td>\n",
       "      <td>1524746.26</td>\n",
       "      <td>2</td>\n",
       "      <td>0</td>\n",
       "      <td>1</td>\n",
       "      <td>174423.53</td>\n",
       "      <td>1</td>\n",
       "    </tr>\n",
       "    <tr>\n",
       "      <th>4</th>\n",
       "      <td>157978</td>\n",
       "      <td>730.0</td>\n",
       "      <td>Ярославль</td>\n",
       "      <td>М</td>\n",
       "      <td>34.0</td>\n",
       "      <td>5</td>\n",
       "      <td>174.00</td>\n",
       "      <td>1</td>\n",
       "      <td>1</td>\n",
       "      <td>0</td>\n",
       "      <td>67353.16</td>\n",
       "      <td>1</td>\n",
       "    </tr>\n",
       "    <tr>\n",
       "      <th>5</th>\n",
       "      <td>202305</td>\n",
       "      <td>856.0</td>\n",
       "      <td>Рыбинск</td>\n",
       "      <td>М</td>\n",
       "      <td>56.0</td>\n",
       "      <td>4</td>\n",
       "      <td>863687.24</td>\n",
       "      <td>3</td>\n",
       "      <td>1</td>\n",
       "      <td>0</td>\n",
       "      <td>156619.80</td>\n",
       "      <td>0</td>\n",
       "    </tr>\n",
       "    <tr>\n",
       "      <th>6</th>\n",
       "      <td>177259</td>\n",
       "      <td>807.0</td>\n",
       "      <td>Ярославль</td>\n",
       "      <td>Ж</td>\n",
       "      <td>39.0</td>\n",
       "      <td>3</td>\n",
       "      <td>405042.44</td>\n",
       "      <td>3</td>\n",
       "      <td>0</td>\n",
       "      <td>1</td>\n",
       "      <td>103838.32</td>\n",
       "      <td>0</td>\n",
       "    </tr>\n",
       "    <tr>\n",
       "      <th>7</th>\n",
       "      <td>218868</td>\n",
       "      <td>825.0</td>\n",
       "      <td>Ярославль</td>\n",
       "      <td>Ж</td>\n",
       "      <td>38.0</td>\n",
       "      <td>4</td>\n",
       "      <td>458145.40</td>\n",
       "      <td>2</td>\n",
       "      <td>1</td>\n",
       "      <td>1</td>\n",
       "      <td>68085.48</td>\n",
       "      <td>0</td>\n",
       "    </tr>\n",
       "    <tr>\n",
       "      <th>8</th>\n",
       "      <td>211686</td>\n",
       "      <td>923.0</td>\n",
       "      <td>Ярославль</td>\n",
       "      <td>М</td>\n",
       "      <td>54.0</td>\n",
       "      <td>5</td>\n",
       "      <td>1206337.87</td>\n",
       "      <td>2</td>\n",
       "      <td>1</td>\n",
       "      <td>0</td>\n",
       "      <td>155371.79</td>\n",
       "      <td>0</td>\n",
       "    </tr>\n",
       "    <tr>\n",
       "      <th>9</th>\n",
       "      <td>133130</td>\n",
       "      <td>906.0</td>\n",
       "      <td>Ярославль</td>\n",
       "      <td>Ж</td>\n",
       "      <td>67.0</td>\n",
       "      <td>0</td>\n",
       "      <td>NaN</td>\n",
       "      <td>1</td>\n",
       "      <td>0</td>\n",
       "      <td>1</td>\n",
       "      <td>238055.53</td>\n",
       "      <td>0</td>\n",
       "    </tr>\n",
       "  </tbody>\n",
       "</table>\n",
       "</div>"
      ],
      "text/plain": [
       "   USERID  score       city gender   age  equity     balance  products  \\\n",
       "0  183012  850.0    Рыбинск      Ж  25.0       1    59214.82         2   \n",
       "1  146556  861.0    Рыбинск      Ж  37.0       5   850594.33         3   \n",
       "2  120722  892.0    Рыбинск      Ж  30.0       0         NaN         1   \n",
       "3  225363  866.0  Ярославль      Ж  51.0       5  1524746.26         2   \n",
       "4  157978  730.0  Ярославль      М  34.0       5      174.00         1   \n",
       "5  202305  856.0    Рыбинск      М  56.0       4   863687.24         3   \n",
       "6  177259  807.0  Ярославль      Ж  39.0       3   405042.44         3   \n",
       "7  218868  825.0  Ярославль      Ж  38.0       4   458145.40         2   \n",
       "8  211686  923.0  Ярославль      М  54.0       5  1206337.87         2   \n",
       "9  133130  906.0  Ярославль      Ж  67.0       0         NaN         1   \n",
       "\n",
       "   credit_card  last_activity  EST_SALARY  churn  \n",
       "0            0              1    75719.14      1  \n",
       "1            1              0    86621.77      0  \n",
       "2            1              1   107683.34      0  \n",
       "3            0              1   174423.53      1  \n",
       "4            1              0    67353.16      1  \n",
       "5            1              0   156619.80      0  \n",
       "6            0              1   103838.32      0  \n",
       "7            1              1    68085.48      0  \n",
       "8            1              0   155371.79      0  \n",
       "9            0              1   238055.53      0  "
      ]
     },
     "execution_count": 3,
     "metadata": {},
     "output_type": "execute_result"
    }
   ],
   "source": [
    "data.head(10)"
   ]
  },
  {
   "cell_type": "markdown",
   "id": "887090ba",
   "metadata": {},
   "source": [
    "## Предобработка данных"
   ]
  },
  {
   "cell_type": "code",
   "execution_count": 4,
   "id": "7988a87b",
   "metadata": {},
   "outputs": [
    {
     "data": {
      "text/plain": [
       "Ярославль    5888\n",
       "Рыбинск      2695\n",
       "Ростов       1417\n",
       "Name: city, dtype: int64"
      ]
     },
     "execution_count": 4,
     "metadata": {},
     "output_type": "execute_result"
    }
   ],
   "source": [
    "data.city.value_counts()"
   ]
  },
  {
   "cell_type": "code",
   "execution_count": 5,
   "id": "147f6edf",
   "metadata": {},
   "outputs": [],
   "source": [
    "data.columns = data.columns.str.lower()"
   ]
  },
  {
   "cell_type": "code",
   "execution_count": 6,
   "id": "eb1b5ba9",
   "metadata": {},
   "outputs": [],
   "source": [
    "data.rename(columns={'userid': 'user_id'}, inplace=True)"
   ]
  },
  {
   "cell_type": "code",
   "execution_count": 7,
   "id": "447f194d",
   "metadata": {},
   "outputs": [
    {
     "name": "stdout",
     "output_type": "stream",
     "text": [
      "<class 'pandas.core.frame.DataFrame'>\n",
      "RangeIndex: 10000 entries, 0 to 9999\n",
      "Data columns (total 12 columns):\n",
      " #   Column         Non-Null Count  Dtype  \n",
      "---  ------         --------------  -----  \n",
      " 0   user_id        10000 non-null  int64  \n",
      " 1   score          10000 non-null  float64\n",
      " 2   city           10000 non-null  object \n",
      " 3   gender         10000 non-null  object \n",
      " 4   age            9974 non-null   float64\n",
      " 5   equity         10000 non-null  int64  \n",
      " 6   balance        7705 non-null   float64\n",
      " 7   products       10000 non-null  int64  \n",
      " 8   credit_card    10000 non-null  int64  \n",
      " 9   last_activity  10000 non-null  int64  \n",
      " 10  est_salary     10000 non-null  float64\n",
      " 11  churn          10000 non-null  int64  \n",
      "dtypes: float64(4), int64(6), object(2)\n",
      "memory usage: 937.6+ KB\n"
     ]
    }
   ],
   "source": [
    "data.info()"
   ]
  },
  {
   "cell_type": "code",
   "execution_count": 8,
   "id": "5a709e7f",
   "metadata": {},
   "outputs": [],
   "source": [
    "data['score'] = data['score'].astype(int)"
   ]
  },
  {
   "cell_type": "markdown",
   "id": "4e37adaf",
   "metadata": {},
   "source": [
    "В датасете практически нет пропусков, кроме столбцов возраста и баланса\\\n",
    "пропущенных строк с возрастом не так много так что можем их удалить "
   ]
  },
  {
   "cell_type": "code",
   "execution_count": 9,
   "id": "add7fb15",
   "metadata": {},
   "outputs": [],
   "source": [
    "data = data.dropna(subset = ['age'])"
   ]
  },
  {
   "cell_type": "markdown",
   "id": "284a56cc",
   "metadata": {},
   "source": [
    "<div class=\"alert alert-block alert-success\">✔️\n",
    "    \n",
    "\n",
    "__Комментарий от тимлида №1__\n",
    "\n",
    "С возрастом корректно - за малочисленностью можно смело отбросить.\n"
   ]
  },
  {
   "cell_type": "code",
   "execution_count": 10,
   "id": "dfded5ae",
   "metadata": {},
   "outputs": [],
   "source": [
    "data['age'] = data['age'].astype(int)"
   ]
  },
  {
   "cell_type": "markdown",
   "id": "9af87e54",
   "metadata": {},
   "source": [
    "найдем причину пропусков в столбце баланса "
   ]
  },
  {
   "cell_type": "code",
   "execution_count": 11,
   "id": "8b8739dd",
   "metadata": {},
   "outputs": [],
   "source": [
    "unknown_balance = data[data['balance'].isnull()]"
   ]
  },
  {
   "cell_type": "code",
   "execution_count": 12,
   "id": "d2fcff63",
   "metadata": {},
   "outputs": [],
   "source": [
    "known_balance = data.dropna(subset = ['balance'])"
   ]
  },
  {
   "cell_type": "code",
   "execution_count": 13,
   "id": "35c114b1",
   "metadata": {},
   "outputs": [],
   "source": [
    "unbalance_pivot = unknown_balance.agg({'est_salary': lambda x: x.mean(), \n",
    "                      'age': lambda x: x.mean(),\n",
    "                      'products':lambda x: x.median(),\n",
    "                      'equity': lambda x: x.median(),\n",
    "                      'city': lambda x: x.mode().iat[0],\n",
    "                      'gender': lambda x: x.mode().iat[0],\n",
    "                      'churn': lambda x: x.mode().iat[0]\n",
    "                      }).T"
   ]
  },
  {
   "cell_type": "code",
   "execution_count": 14,
   "id": "14b95d3e",
   "metadata": {},
   "outputs": [],
   "source": [
    "unbalance_pivot = unbalance_pivot.to_frame()"
   ]
  },
  {
   "cell_type": "code",
   "execution_count": 15,
   "id": "05b4f281",
   "metadata": {},
   "outputs": [],
   "source": [
    "known_balance_pivot = known_balance.agg({'est_salary': lambda x: x.mean(), \n",
    "                      'age': lambda x: x.mean(),\n",
    "                      'products':lambda x: x.median(),\n",
    "                      'equity': lambda x: x.median(),\n",
    "                      'city': lambda x: x.mode().iat[0],\n",
    "                      'gender': lambda x: x.mode().iat[0],\n",
    "                      'churn': lambda x: x.mode().iat[0]\n",
    "                      }).T"
   ]
  },
  {
   "cell_type": "code",
   "execution_count": 16,
   "id": "6489f6d6",
   "metadata": {},
   "outputs": [],
   "source": [
    "known_balance_pivot = known_balance_pivot.to_frame()"
   ]
  },
  {
   "cell_type": "code",
   "execution_count": 17,
   "id": "3052c566",
   "metadata": {},
   "outputs": [],
   "source": [
    "new_balance_pivot = unbalance_pivot.merge(known_balance_pivot, left_index=True, right_index=True)"
   ]
  },
  {
   "cell_type": "code",
   "execution_count": 18,
   "id": "c4d047fc",
   "metadata": {},
   "outputs": [],
   "source": [
    "new_balance_pivot.columns = ['Пропуски','Заполненно']"
   ]
  },
  {
   "cell_type": "code",
   "execution_count": 19,
   "id": "0eb068b1",
   "metadata": {},
   "outputs": [
    {
     "data": {
      "text/html": [
       "<div>\n",
       "<style scoped>\n",
       "    .dataframe tbody tr th:only-of-type {\n",
       "        vertical-align: middle;\n",
       "    }\n",
       "\n",
       "    .dataframe tbody tr th {\n",
       "        vertical-align: top;\n",
       "    }\n",
       "\n",
       "    .dataframe thead th {\n",
       "        text-align: right;\n",
       "    }\n",
       "</style>\n",
       "<table border=\"1\" class=\"dataframe\">\n",
       "  <thead>\n",
       "    <tr style=\"text-align: right;\">\n",
       "      <th></th>\n",
       "      <th>Пропуски</th>\n",
       "      <th>Заполненно</th>\n",
       "    </tr>\n",
       "  </thead>\n",
       "  <tbody>\n",
       "    <tr>\n",
       "      <th>est_salary</th>\n",
       "      <td>226345.417464</td>\n",
       "      <td>124520.394264</td>\n",
       "    </tr>\n",
       "    <tr>\n",
       "      <th>age</th>\n",
       "      <td>42.093023</td>\n",
       "      <td>42.924366</td>\n",
       "    </tr>\n",
       "    <tr>\n",
       "      <th>products</th>\n",
       "      <td>1.0</td>\n",
       "      <td>2.0</td>\n",
       "    </tr>\n",
       "    <tr>\n",
       "      <th>equity</th>\n",
       "      <td>0.0</td>\n",
       "      <td>4.0</td>\n",
       "    </tr>\n",
       "    <tr>\n",
       "      <th>city</th>\n",
       "      <td>Ярославль</td>\n",
       "      <td>Ярославль</td>\n",
       "    </tr>\n",
       "    <tr>\n",
       "      <th>gender</th>\n",
       "      <td>М</td>\n",
       "      <td>Ж</td>\n",
       "    </tr>\n",
       "    <tr>\n",
       "      <th>churn</th>\n",
       "      <td>0</td>\n",
       "      <td>0</td>\n",
       "    </tr>\n",
       "  </tbody>\n",
       "</table>\n",
       "</div>"
      ],
      "text/plain": [
       "                 Пропуски     Заполненно\n",
       "est_salary  226345.417464  124520.394264\n",
       "age             42.093023      42.924366\n",
       "products              1.0            2.0\n",
       "equity                0.0            4.0\n",
       "city            Ярославль      Ярославль\n",
       "gender                  М              Ж\n",
       "churn                   0              0"
      ]
     },
     "execution_count": 19,
     "metadata": {},
     "output_type": "execute_result"
    }
   ],
   "source": [
    "new_balance_pivot"
   ]
  },
  {
   "cell_type": "code",
   "execution_count": 20,
   "id": "631fe9e6",
   "metadata": {},
   "outputs": [],
   "source": [
    "index_to_remove = ['city', 'gender']  \n",
    "new_balance_pivot = new_balance_pivot.drop(index_to_remove)"
   ]
  },
  {
   "cell_type": "code",
   "execution_count": 21,
   "id": "c26e8a20",
   "metadata": {},
   "outputs": [
    {
     "data": {
      "text/html": [
       "<div>\n",
       "<style scoped>\n",
       "    .dataframe tbody tr th:only-of-type {\n",
       "        vertical-align: middle;\n",
       "    }\n",
       "\n",
       "    .dataframe tbody tr th {\n",
       "        vertical-align: top;\n",
       "    }\n",
       "\n",
       "    .dataframe thead th {\n",
       "        text-align: right;\n",
       "    }\n",
       "</style>\n",
       "<table border=\"1\" class=\"dataframe\">\n",
       "  <thead>\n",
       "    <tr style=\"text-align: right;\">\n",
       "      <th></th>\n",
       "      <th>Пропуски</th>\n",
       "      <th>Заполненно</th>\n",
       "    </tr>\n",
       "  </thead>\n",
       "  <tbody>\n",
       "    <tr>\n",
       "      <th>est_salary</th>\n",
       "      <td>226345.417464</td>\n",
       "      <td>124520.394264</td>\n",
       "    </tr>\n",
       "    <tr>\n",
       "      <th>age</th>\n",
       "      <td>42.093023</td>\n",
       "      <td>42.924366</td>\n",
       "    </tr>\n",
       "    <tr>\n",
       "      <th>products</th>\n",
       "      <td>1.0</td>\n",
       "      <td>2.0</td>\n",
       "    </tr>\n",
       "    <tr>\n",
       "      <th>equity</th>\n",
       "      <td>0.0</td>\n",
       "      <td>4.0</td>\n",
       "    </tr>\n",
       "    <tr>\n",
       "      <th>churn</th>\n",
       "      <td>0</td>\n",
       "      <td>0</td>\n",
       "    </tr>\n",
       "  </tbody>\n",
       "</table>\n",
       "</div>"
      ],
      "text/plain": [
       "                 Пропуски     Заполненно\n",
       "est_salary  226345.417464  124520.394264\n",
       "age             42.093023      42.924366\n",
       "products              1.0            2.0\n",
       "equity                0.0            4.0\n",
       "churn                   0              0"
      ]
     },
     "execution_count": 21,
     "metadata": {},
     "output_type": "execute_result"
    }
   ],
   "source": [
    "new_balance_pivot"
   ]
  },
  {
   "cell_type": "code",
   "execution_count": 22,
   "id": "ce4c6e5c",
   "metadata": {},
   "outputs": [],
   "source": [
    "new_balance_pivot['Относительная разница'] = (new_balance_pivot['Заполненно'] - new_balance_pivot['Пропуски']) / new_balance_pivot['Заполненно']\n"
   ]
  },
  {
   "cell_type": "code",
   "execution_count": 23,
   "id": "91b1a19d",
   "metadata": {},
   "outputs": [
    {
     "data": {
      "text/html": [
       "<div>\n",
       "<style scoped>\n",
       "    .dataframe tbody tr th:only-of-type {\n",
       "        vertical-align: middle;\n",
       "    }\n",
       "\n",
       "    .dataframe tbody tr th {\n",
       "        vertical-align: top;\n",
       "    }\n",
       "\n",
       "    .dataframe thead th {\n",
       "        text-align: right;\n",
       "    }\n",
       "</style>\n",
       "<table border=\"1\" class=\"dataframe\">\n",
       "  <thead>\n",
       "    <tr style=\"text-align: right;\">\n",
       "      <th></th>\n",
       "      <th>Пропуски</th>\n",
       "      <th>Заполненно</th>\n",
       "      <th>Относительная разница</th>\n",
       "    </tr>\n",
       "  </thead>\n",
       "  <tbody>\n",
       "    <tr>\n",
       "      <th>est_salary</th>\n",
       "      <td>226345.417464</td>\n",
       "      <td>124520.394264</td>\n",
       "      <td>-0.817738</td>\n",
       "    </tr>\n",
       "    <tr>\n",
       "      <th>age</th>\n",
       "      <td>42.093023</td>\n",
       "      <td>42.924366</td>\n",
       "      <td>0.019368</td>\n",
       "    </tr>\n",
       "    <tr>\n",
       "      <th>products</th>\n",
       "      <td>1.0</td>\n",
       "      <td>2.0</td>\n",
       "      <td>0.5</td>\n",
       "    </tr>\n",
       "    <tr>\n",
       "      <th>equity</th>\n",
       "      <td>0.0</td>\n",
       "      <td>4.0</td>\n",
       "      <td>1.0</td>\n",
       "    </tr>\n",
       "    <tr>\n",
       "      <th>churn</th>\n",
       "      <td>0</td>\n",
       "      <td>0</td>\n",
       "      <td>NaN</td>\n",
       "    </tr>\n",
       "  </tbody>\n",
       "</table>\n",
       "</div>"
      ],
      "text/plain": [
       "                 Пропуски     Заполненно Относительная разница\n",
       "est_salary  226345.417464  124520.394264             -0.817738\n",
       "age             42.093023      42.924366              0.019368\n",
       "products              1.0            2.0                   0.5\n",
       "equity                0.0            4.0                   1.0\n",
       "churn                   0              0                   NaN"
      ]
     },
     "execution_count": 23,
     "metadata": {},
     "output_type": "execute_result"
    }
   ],
   "source": [
    "new_balance_pivot"
   ]
  },
  {
   "cell_type": "markdown",
   "id": "696cf732",
   "metadata": {},
   "source": [
    "Распределение пропусков не зависит от какого то конкретного признака, можем отнести их к категории MAR. Можем заполнить их методом интерполяции "
   ]
  },
  {
   "cell_type": "code",
   "execution_count": 24,
   "id": "61103a6d",
   "metadata": {},
   "outputs": [
    {
     "data": {
      "text/plain": [
       "0.3388004162077205"
      ]
     },
     "execution_count": 24,
     "metadata": {},
     "output_type": "execute_result"
    }
   ],
   "source": [
    "data['est_salary'].corr(data['balance'])"
   ]
  },
  {
   "cell_type": "markdown",
   "id": "2e19c4d4",
   "metadata": {},
   "source": [
    "Заметна умеренная связь баланса с предполагаемым доходом "
   ]
  },
  {
   "cell_type": "code",
   "execution_count": 25,
   "id": "4d2a2767",
   "metadata": {
    "scrolled": false
   },
   "outputs": [
    {
     "data": {
      "image/png": "[encoded data removed]",
      "text/plain": [
       "<Figure size 1080x720 with 1 Axes>"
      ]
     },
     "metadata": {
      "needs_background": "light"
     },
     "output_type": "display_data"
    }
   ],
   "source": [
    "plt.figure(figsize=(15,10))\n",
    "plt.hist(data['balance'], bins = 1000)\n",
    "plt.xlabel('Баланс')\n",
    "plt.ylabel('Кол-во клиентов')\n",
    "plt.title('Баланс клиентов')\n",
    "plt.ylim(0 , 500)\n",
    "\n",
    "plt.show()"
   ]
  },
  {
   "cell_type": "markdown",
   "id": "e08a64c2",
   "metadata": {},
   "source": [
    "<div class=\"alert alert-info\"> <b>Комментарии студента:</b>Здесь я хотел отметить что в данных есть выбросы и скорее построил его для себя чтобы оценить ситуацию.</div>\n"
   ]
  },
  {
   "cell_type": "markdown",
   "id": "6b6f1ff0",
   "metadata": {},
   "source": []
  },
  {
   "cell_type": "markdown",
   "id": "ef62e6ed",
   "metadata": {},
   "source": [
    "<div class=\"alert alert-block alert-danger\">✍\n",
    "    \n",
    "\n",
    "__Комментарий от тимлида №1__\n",
    "\n",
    "График по данным построен корректно, но не оформлен до конца. Суть в том, что график должен быть наглядным без контекста (т.к. в реальной практике ты будешь показывать презентации или отчет сторонним людям). \n",
    "\n",
    "Тебе необходимо проследить чтобы всегда был заголовок и подписаны оси. Доработай этот момент пожалуйста.\n",
    "    \n",
    "Данное замечания относится ко всему проекту и перепроверь его самостоятельно. Далее не буду акцентировать на этом внимание\n",
    "</div>"
   ]
  },
  {
   "cell_type": "markdown",
   "id": "3d786910",
   "metadata": {},
   "source": [
    "<div class=\"alert alert-block alert-success\">✔️\n",
    "    \n",
    "\n",
    "__Комментарий от тимлида №2__\n",
    "Учтено"
   ]
  },
  {
   "cell_type": "code",
   "execution_count": 26,
   "id": "26833f92",
   "metadata": {},
   "outputs": [
    {
     "data": {
      "text/plain": [
       "(0.0, 4000000.0)"
      ]
     },
     "execution_count": 26,
     "metadata": {},
     "output_type": "execute_result"
    },
    {
     "data": {
      "image/png": "[encoded data removed]",
      "text/plain": [
       "<Figure size 432x288 with 1 Axes>"
      ]
     },
     "metadata": {
      "needs_background": "light"
     },
     "output_type": "display_data"
    }
   ],
   "source": [
    "sns.boxplot(x= data['balance'])\n",
    "plt.xlim(0, 4000000)"
   ]
  },
  {
   "cell_type": "code",
   "execution_count": 27,
   "id": "3330d8ba",
   "metadata": {},
   "outputs": [
    {
     "data": {
      "text/plain": [
       "2114078.393999996"
      ]
     },
     "execution_count": 27,
     "metadata": {},
     "output_type": "execute_result"
    }
   ],
   "source": [
    "data['balance'].quantile(0.95)"
   ]
  },
  {
   "cell_type": "markdown",
   "id": "77f6399c",
   "metadata": {},
   "source": [
    "в данных по балансу есть выбросы а 95% всех значений лежит в пределах 2000000\\\n"
   ]
  },
  {
   "cell_type": "code",
   "execution_count": 28,
   "id": "1805dddc",
   "metadata": {},
   "outputs": [],
   "source": [
    "data = data.sort_values(by = 'est_salary', ascending = False)"
   ]
  },
  {
   "cell_type": "markdown",
   "id": "b9d6b161",
   "metadata": {},
   "source": [
    "Используем метод интерполяции для заполнения баланса в зависимости от дохода "
   ]
  },
  {
   "cell_type": "code",
   "execution_count": 29,
   "id": "ffea8eca",
   "metadata": {},
   "outputs": [],
   "source": [
    "data['balance'].interpolate(method='linear', x=data['est_salary'], inplace=True)"
   ]
  },
  {
   "cell_type": "code",
   "execution_count": 30,
   "id": "ea5f683d",
   "metadata": {},
   "outputs": [],
   "source": [
    "data['balance'] = data['balance'].astype(int)"
   ]
  },
  {
   "cell_type": "markdown",
   "id": "b533c378",
   "metadata": {},
   "source": [
    "<div class=\"alert alert-block alert-danger\">✍\n",
    "    \n",
    "\n",
    "__Комментарий от тимлида №1__\n",
    "\n",
    "Замена пропусков на нули в таблице может иметь нежелательные последствия и привести к искажению данных и результатов анализа. Вот несколько основных причин, почему замена пропусков на нули неприемлема:\n",
    "\n",
    "1. Искажение статистических показателей: Замена пропусков нулями может последовательно искажать статистические показатели, такие как среднее значение (mean) и стандартное отклонение (standard deviation). Если пропуски в данных имеются по каким-то определенным причинам, замена их на нули создаст иллюзию, что в этих местах значения фактически равны нулю. Это искажение может привести к ошибочным статистическим выводам и неправильным интерпретациям.\n",
    "\n",
    "2. Искажение распределения данных: Пропуски в данных часто имеют систематическую природу и представляют собой информацию. Замена пропусков нулями приведет к добавлению большого количества наблюдений со значением нуля, что может серьезно искажить распределение переменной и создать ложные зависимости или корреляции в данных.\n",
    "\n",
    "3. Потеря информации: Замена пропусков нулями может скрыть наличие пропущенных данных и потерять или затруднить обнаружение этих пропусков в дальнейшем анализе. Пропуски в данных могут иметь свою собственную семантику и информацию, например, отсутствие значения, значение вне диапазона или информацию об ошибке или недоступности. Изменение их на нули может привести к неправильным выводам и упущенной важной информации.\n",
    "\n",
    "4. Ложные связи и зависимости: Замена пропусков нулями может создать ложные связи или зависимости между переменными. Если пропуски являются случайной причиной отсутствия информации, замена их на нули может внести несуществующую структуру и создать ложные корреляции или зависимости в данных.\n",
    "\n",
    "Вместо замены пропусков нулями существуют более адекватные методы обработки пропущенных значений, такие как удаление пропущенных значений, замена их на среднее, медиану или другие статистические меры, использование специальных значений (например, «unknown»), использование методов интерполяции или применение алгоритмов заполнения пропущенных значений, например, на основе машинного обучения."
   ]
  },
  {
   "cell_type": "code",
   "execution_count": 31,
   "id": "c4e42bf3",
   "metadata": {},
   "outputs": [
    {
     "data": {
      "text/plain": [
       "0.3876335948564259"
      ]
     },
     "execution_count": 31,
     "metadata": {},
     "output_type": "execute_result"
    }
   ],
   "source": [
    "(data[data['balance'] > 2000000]['balance'].sum())/(data['balance'].sum())"
   ]
  },
  {
   "cell_type": "markdown",
   "id": "bc7809e3",
   "metadata": {},
   "source": [
    "выбросы составляют 63 процента от общего количества баланса "
   ]
  },
  {
   "cell_type": "markdown",
   "id": "b11c42b3",
   "metadata": {},
   "source": [
    "<div class=\"alert alert-block alert-danger\">✍\n",
    "    \n",
    "\n",
    "__Комментарий от тимлида №2__\n",
    "\n",
    "А для чего удалять баланс, который менее 2мл? Данные вроде похоже на правду. Также стоит в таких моментах рассчитать, какую долю от общего баланса ты удалил"
   ]
  },
  {
   "cell_type": "markdown",
   "id": "ce7a8046",
   "metadata": {},
   "source": [
    "<div class=\"alert alert-block alert-danger\">✍\n",
    "    \n",
    "\n",
    "__Комментарий от тимлида №3__\n",
    "\n",
    "Верное наблюдение, и по итогу получается. Что ты удаляешь 40% баланса банка. Но ведь это реальные клиенты. Либо их оставлять, либо переводить в VIP и проводить дополнительно анализы для VIP клиента"
   ]
  },
  {
   "cell_type": "markdown",
   "id": "b35116bc",
   "metadata": {},
   "source": [
    "<div class=\"alert alert-block alert-success\">✔️\n",
    "    \n",
    "\n",
    "__Комментарий от тимлида №4__\n",
    "\n",
    "Здорово, что разобрались"
   ]
  },
  {
   "cell_type": "code",
   "execution_count": 32,
   "id": "7518b9b5",
   "metadata": {},
   "outputs": [
    {
     "data": {
      "text/plain": [
       "590668.5"
      ]
     },
     "execution_count": 32,
     "metadata": {},
     "output_type": "execute_result"
    }
   ],
   "source": [
    "data['balance'].median()"
   ]
  },
  {
   "cell_type": "code",
   "execution_count": 33,
   "id": "44435d4a",
   "metadata": {},
   "outputs": [
    {
     "data": {
      "image/png": "[encoded data removed]",
      "text/plain": [
       "<Figure size 1080x720 with 1 Axes>"
      ]
     },
     "metadata": {
      "needs_background": "light"
     },
     "output_type": "display_data"
    }
   ],
   "source": [
    "\n",
    "plt.figure(figsize=(15,10))\n",
    "plt.hist(data['balance'], bins = 100)\n",
    "plt.xlabel('Баланс')\n",
    "plt.ylabel('Кол-во клиентов')\n",
    "plt.title('Баланс клиентов')\n",
    "plt.xlim(0, 7000000)\n",
    "\n",
    "plt.show()"
   ]
  },
  {
   "cell_type": "markdown",
   "id": "2cf54593",
   "metadata": {},
   "source": [
    "<div class=\"alert alert-block alert-danger\">✍\n",
    "    \n",
    "\n",
    "__Комментарий от тимлида №1__\n",
    "\n",
    "А что видно на этом графике?"
   ]
  },
  {
   "cell_type": "markdown",
   "id": "4801c2eb",
   "metadata": {},
   "source": [
    "закодируем неупорядоченные переменные для дальнейшего использования их в корреляционном анализе "
   ]
  },
  {
   "cell_type": "code",
   "execution_count": 34,
   "id": "916bd68c",
   "metadata": {},
   "outputs": [],
   "source": [
    "data['город'] = data['city']\n",
    "data = pd.get_dummies(data, columns = ['город'])"
   ]
  },
  {
   "cell_type": "code",
   "execution_count": 35,
   "id": "0aeda506",
   "metadata": {},
   "outputs": [],
   "source": [
    "data['пол'] = data['gender']\n",
    "data = pd.get_dummies(data, columns = ['пол'])"
   ]
  },
  {
   "cell_type": "markdown",
   "id": "ede9e752",
   "metadata": {},
   "source": [
    "проверка на неявные дубликаты"
   ]
  },
  {
   "cell_type": "markdown",
   "id": "6eb4d9cb",
   "metadata": {},
   "source": [
    "<div class=\"alert alert-block alert-warning\">📝\n",
    "    \n",
    "\n",
    "__Комментарий от тимлида №1__\n",
    "\n",
    "\n",
    "\"не не явные\" = \"неявные\""
   ]
  },
  {
   "cell_type": "code",
   "execution_count": 36,
   "id": "9a628cff",
   "metadata": {},
   "outputs": [],
   "source": [
    "user_dup = data.user_id.duplicated(keep = False)"
   ]
  },
  {
   "cell_type": "code",
   "execution_count": 37,
   "id": "3c8f7c48",
   "metadata": {},
   "outputs": [
    {
     "data": {
      "text/html": [
       "<div>\n",
       "<style scoped>\n",
       "    .dataframe tbody tr th:only-of-type {\n",
       "        vertical-align: middle;\n",
       "    }\n",
       "\n",
       "    .dataframe tbody tr th {\n",
       "        vertical-align: top;\n",
       "    }\n",
       "\n",
       "    .dataframe thead th {\n",
       "        text-align: right;\n",
       "    }\n",
       "</style>\n",
       "<table border=\"1\" class=\"dataframe\">\n",
       "  <thead>\n",
       "    <tr style=\"text-align: right;\">\n",
       "      <th></th>\n",
       "      <th>user_id</th>\n",
       "      <th>score</th>\n",
       "      <th>city</th>\n",
       "      <th>gender</th>\n",
       "      <th>age</th>\n",
       "      <th>equity</th>\n",
       "      <th>balance</th>\n",
       "      <th>products</th>\n",
       "      <th>credit_card</th>\n",
       "      <th>last_activity</th>\n",
       "      <th>est_salary</th>\n",
       "      <th>churn</th>\n",
       "      <th>город_Ростов</th>\n",
       "      <th>город_Рыбинск</th>\n",
       "      <th>город_Ярославль</th>\n",
       "      <th>пол_Ж</th>\n",
       "      <th>пол_М</th>\n",
       "    </tr>\n",
       "  </thead>\n",
       "  <tbody>\n",
       "    <tr>\n",
       "      <th>8205</th>\n",
       "      <td>227795</td>\n",
       "      <td>840</td>\n",
       "      <td>Рыбинск</td>\n",
       "      <td>М</td>\n",
       "      <td>34</td>\n",
       "      <td>2</td>\n",
       "      <td>350768</td>\n",
       "      <td>1</td>\n",
       "      <td>1</td>\n",
       "      <td>0</td>\n",
       "      <td>102036.14</td>\n",
       "      <td>1</td>\n",
       "      <td>0</td>\n",
       "      <td>1</td>\n",
       "      <td>0</td>\n",
       "      <td>0</td>\n",
       "      <td>1</td>\n",
       "    </tr>\n",
       "    <tr>\n",
       "      <th>8497</th>\n",
       "      <td>227795</td>\n",
       "      <td>839</td>\n",
       "      <td>Ярославль</td>\n",
       "      <td>М</td>\n",
       "      <td>34</td>\n",
       "      <td>2</td>\n",
       "      <td>326593</td>\n",
       "      <td>2</td>\n",
       "      <td>1</td>\n",
       "      <td>0</td>\n",
       "      <td>103314.92</td>\n",
       "      <td>0</td>\n",
       "      <td>0</td>\n",
       "      <td>0</td>\n",
       "      <td>1</td>\n",
       "      <td>0</td>\n",
       "      <td>1</td>\n",
       "    </tr>\n",
       "    <tr>\n",
       "      <th>2597</th>\n",
       "      <td>226719</td>\n",
       "      <td>990</td>\n",
       "      <td>Ярославль</td>\n",
       "      <td>М</td>\n",
       "      <td>37</td>\n",
       "      <td>4</td>\n",
       "      <td>14648692</td>\n",
       "      <td>2</td>\n",
       "      <td>0</td>\n",
       "      <td>0</td>\n",
       "      <td>934412.61</td>\n",
       "      <td>1</td>\n",
       "      <td>0</td>\n",
       "      <td>0</td>\n",
       "      <td>1</td>\n",
       "      <td>0</td>\n",
       "      <td>1</td>\n",
       "    </tr>\n",
       "    <tr>\n",
       "      <th>4216</th>\n",
       "      <td>226719</td>\n",
       "      <td>903</td>\n",
       "      <td>Рыбинск</td>\n",
       "      <td>Ж</td>\n",
       "      <td>63</td>\n",
       "      <td>0</td>\n",
       "      <td>1219727</td>\n",
       "      <td>1</td>\n",
       "      <td>1</td>\n",
       "      <td>0</td>\n",
       "      <td>138582.58</td>\n",
       "      <td>0</td>\n",
       "      <td>0</td>\n",
       "      <td>1</td>\n",
       "      <td>0</td>\n",
       "      <td>1</td>\n",
       "      <td>0</td>\n",
       "    </tr>\n",
       "    <tr>\n",
       "      <th>2302</th>\n",
       "      <td>220816</td>\n",
       "      <td>934</td>\n",
       "      <td>Рыбинск</td>\n",
       "      <td>Ж</td>\n",
       "      <td>74</td>\n",
       "      <td>5</td>\n",
       "      <td>1294285</td>\n",
       "      <td>3</td>\n",
       "      <td>1</td>\n",
       "      <td>0</td>\n",
       "      <td>95606.80</td>\n",
       "      <td>0</td>\n",
       "      <td>0</td>\n",
       "      <td>1</td>\n",
       "      <td>0</td>\n",
       "      <td>1</td>\n",
       "      <td>0</td>\n",
       "    </tr>\n",
       "    <tr>\n",
       "      <th>1740</th>\n",
       "      <td>220816</td>\n",
       "      <td>840</td>\n",
       "      <td>Ярославль</td>\n",
       "      <td>Ж</td>\n",
       "      <td>41</td>\n",
       "      <td>3</td>\n",
       "      <td>1193287</td>\n",
       "      <td>2</td>\n",
       "      <td>1</td>\n",
       "      <td>1</td>\n",
       "      <td>76434.94</td>\n",
       "      <td>1</td>\n",
       "      <td>0</td>\n",
       "      <td>0</td>\n",
       "      <td>1</td>\n",
       "      <td>1</td>\n",
       "      <td>0</td>\n",
       "    </tr>\n",
       "    <tr>\n",
       "      <th>4623</th>\n",
       "      <td>217826</td>\n",
       "      <td>842</td>\n",
       "      <td>Ярославль</td>\n",
       "      <td>М</td>\n",
       "      <td>39</td>\n",
       "      <td>4</td>\n",
       "      <td>439747</td>\n",
       "      <td>2</td>\n",
       "      <td>0</td>\n",
       "      <td>1</td>\n",
       "      <td>116736.75</td>\n",
       "      <td>1</td>\n",
       "      <td>0</td>\n",
       "      <td>0</td>\n",
       "      <td>1</td>\n",
       "      <td>0</td>\n",
       "      <td>1</td>\n",
       "    </tr>\n",
       "    <tr>\n",
       "      <th>9406</th>\n",
       "      <td>217826</td>\n",
       "      <td>790</td>\n",
       "      <td>Рыбинск</td>\n",
       "      <td>Ж</td>\n",
       "      <td>46</td>\n",
       "      <td>4</td>\n",
       "      <td>430414</td>\n",
       "      <td>2</td>\n",
       "      <td>1</td>\n",
       "      <td>1</td>\n",
       "      <td>49400.37</td>\n",
       "      <td>0</td>\n",
       "      <td>0</td>\n",
       "      <td>1</td>\n",
       "      <td>0</td>\n",
       "      <td>1</td>\n",
       "      <td>0</td>\n",
       "    </tr>\n",
       "    <tr>\n",
       "      <th>1970</th>\n",
       "      <td>217643</td>\n",
       "      <td>845</td>\n",
       "      <td>Ярославль</td>\n",
       "      <td>М</td>\n",
       "      <td>29</td>\n",
       "      <td>5</td>\n",
       "      <td>733098</td>\n",
       "      <td>4</td>\n",
       "      <td>1</td>\n",
       "      <td>1</td>\n",
       "      <td>41443.01</td>\n",
       "      <td>1</td>\n",
       "      <td>0</td>\n",
       "      <td>0</td>\n",
       "      <td>1</td>\n",
       "      <td>0</td>\n",
       "      <td>1</td>\n",
       "    </tr>\n",
       "    <tr>\n",
       "      <th>4186</th>\n",
       "      <td>217643</td>\n",
       "      <td>804</td>\n",
       "      <td>Рыбинск</td>\n",
       "      <td>Ж</td>\n",
       "      <td>40</td>\n",
       "      <td>2</td>\n",
       "      <td>301836</td>\n",
       "      <td>2</td>\n",
       "      <td>1</td>\n",
       "      <td>1</td>\n",
       "      <td>81137.22</td>\n",
       "      <td>0</td>\n",
       "      <td>0</td>\n",
       "      <td>1</td>\n",
       "      <td>0</td>\n",
       "      <td>1</td>\n",
       "      <td>0</td>\n",
       "    </tr>\n",
       "    <tr>\n",
       "      <th>4611</th>\n",
       "      <td>217619</td>\n",
       "      <td>903</td>\n",
       "      <td>Рыбинск</td>\n",
       "      <td>Ж</td>\n",
       "      <td>59</td>\n",
       "      <td>5</td>\n",
       "      <td>844055</td>\n",
       "      <td>2</td>\n",
       "      <td>0</td>\n",
       "      <td>1</td>\n",
       "      <td>133999.76</td>\n",
       "      <td>1</td>\n",
       "      <td>0</td>\n",
       "      <td>1</td>\n",
       "      <td>0</td>\n",
       "      <td>1</td>\n",
       "      <td>0</td>\n",
       "    </tr>\n",
       "    <tr>\n",
       "      <th>5807</th>\n",
       "      <td>217619</td>\n",
       "      <td>766</td>\n",
       "      <td>Ярославль</td>\n",
       "      <td>М</td>\n",
       "      <td>52</td>\n",
       "      <td>2</td>\n",
       "      <td>218199</td>\n",
       "      <td>1</td>\n",
       "      <td>1</td>\n",
       "      <td>0</td>\n",
       "      <td>120356.44</td>\n",
       "      <td>0</td>\n",
       "      <td>0</td>\n",
       "      <td>0</td>\n",
       "      <td>1</td>\n",
       "      <td>0</td>\n",
       "      <td>1</td>\n",
       "    </tr>\n",
       "  </tbody>\n",
       "</table>\n",
       "</div>"
      ],
      "text/plain": [
       "      user_id  score       city gender  age  equity   balance  products  \\\n",
       "8205   227795    840    Рыбинск      М   34       2    350768         1   \n",
       "8497   227795    839  Ярославль      М   34       2    326593         2   \n",
       "2597   226719    990  Ярославль      М   37       4  14648692         2   \n",
       "4216   226719    903    Рыбинск      Ж   63       0   1219727         1   \n",
       "2302   220816    934    Рыбинск      Ж   74       5   1294285         3   \n",
       "1740   220816    840  Ярославль      Ж   41       3   1193287         2   \n",
       "4623   217826    842  Ярославль      М   39       4    439747         2   \n",
       "9406   217826    790    Рыбинск      Ж   46       4    430414         2   \n",
       "1970   217643    845  Ярославль      М   29       5    733098         4   \n",
       "4186   217643    804    Рыбинск      Ж   40       2    301836         2   \n",
       "4611   217619    903    Рыбинск      Ж   59       5    844055         2   \n",
       "5807   217619    766  Ярославль      М   52       2    218199         1   \n",
       "\n",
       "      credit_card  last_activity  est_salary  churn  город_Ростов  \\\n",
       "8205            1              0   102036.14      1             0   \n",
       "8497            1              0   103314.92      0             0   \n",
       "2597            0              0   934412.61      1             0   \n",
       "4216            1              0   138582.58      0             0   \n",
       "2302            1              0    95606.80      0             0   \n",
       "1740            1              1    76434.94      1             0   \n",
       "4623            0              1   116736.75      1             0   \n",
       "9406            1              1    49400.37      0             0   \n",
       "1970            1              1    41443.01      1             0   \n",
       "4186            1              1    81137.22      0             0   \n",
       "4611            0              1   133999.76      1             0   \n",
       "5807            1              0   120356.44      0             0   \n",
       "\n",
       "      город_Рыбинск  город_Ярославль  пол_Ж  пол_М  \n",
       "8205              1                0      0      1  \n",
       "8497              0                1      0      1  \n",
       "2597              0                1      0      1  \n",
       "4216              1                0      1      0  \n",
       "2302              1                0      1      0  \n",
       "1740              0                1      1      0  \n",
       "4623              0                1      0      1  \n",
       "9406              1                0      1      0  \n",
       "1970              0                1      0      1  \n",
       "4186              1                0      1      0  \n",
       "4611              1                0      1      0  \n",
       "5807              0                1      0      1  "
      ]
     },
     "execution_count": 37,
     "metadata": {},
     "output_type": "execute_result"
    }
   ],
   "source": [
    "data[user_dup].sort_values(by = 'user_id', ascending = False).head(12)"
   ]
  },
  {
   "cell_type": "code",
   "execution_count": 38,
   "id": "e45c312b",
   "metadata": {},
   "outputs": [
    {
     "data": {
      "text/plain": [
       "0"
      ]
     },
     "execution_count": 38,
     "metadata": {},
     "output_type": "execute_result"
    }
   ],
   "source": [
    "data.duplicated(subset = ['user_id','city']).sum()"
   ]
  },
  {
   "cell_type": "markdown",
   "id": "cd4e7858",
   "metadata": {},
   "source": [
    "Дубликатов у столбцов user_id и city не обнаруженно, а значит можно не удалять\n",
    "скорее всего, нумерация клиентов в разных городах может пересекаться "
   ]
  },
  {
   "cell_type": "markdown",
   "id": "44768160",
   "metadata": {},
   "source": [
    "<div class=\"alert alert-block alert-warning\">📝\n",
    "    \n",
    "\n",
    "__Комментарий от тимлида №1__\n",
    "\n",
    "\n",
    "Если рассмотреть подробнее, то можно увидеть, что дубликаты отточного пользователя и лояльного. Вероятнее всего, id отточного клиента передали новому лояльному"
   ]
  },
  {
   "cell_type": "markdown",
   "id": "33470ee0",
   "metadata": {},
   "source": [
    "Вывод по предобработке данных:\n",
    "\n",
    "На этом этапе нам удалось выяснить что пропуски не зависят от какого то конкретного признака, можем отнести их к категории MAR. Можем заполнить их методом интерполяции\n",
    "\n",
    "Пропуски в возрасте из-за малого количества можно отбросить."
   ]
  },
  {
   "cell_type": "markdown",
   "id": "4b3c9bf2",
   "metadata": {},
   "source": [
    "<div class=\"alert alert-block alert-danger\">✍\n",
    "    \n",
    "\n",
    "__Комментарий от тимлида №1__\n",
    "\n",
    "Отсутствует вывод о качестве исходных данных. Также не сделан вывод, от какого признака зависят пропуски. Поправишь, пожалуйста?\n",
    "</div>"
   ]
  },
  {
   "cell_type": "markdown",
   "id": "a5c28295",
   "metadata": {},
   "source": [
    "<div class=\"alert alert-block alert-danger\">✍\n",
    "    \n",
    "\n",
    "__Комментарий от тимлида №2__\n",
    "\n",
    "Признаки описывал на этапе декомпозиции (MAR, MNAR и т.д.). Посмотри, пожалуйста, этот момент в декомпозиции"
   ]
  },
  {
   "cell_type": "markdown",
   "id": "a0af0235",
   "metadata": {},
   "source": [
    "<div class=\"alert alert-block alert-danger\">✍\n",
    "    \n",
    "\n",
    "__Комментарий от тимлида №3__\n",
    "\n",
    "Признаки описывал на этапе декомпозиции (MAR, MNAR и т.д.). Посмотри, пожалуйста, этот момент в декомпозиции"
   ]
  },
  {
   "cell_type": "markdown",
   "id": "2e43f083",
   "metadata": {},
   "source": [
    "## Исследовательский анализ"
   ]
  },
  {
   "cell_type": "markdown",
   "id": "bfc0084b",
   "metadata": {},
   "source": [
    "построим графики распределения признаков в разрезе оттока "
   ]
  },
  {
   "cell_type": "markdown",
   "id": "2818b18c",
   "metadata": {},
   "source": [
    "Возраст. "
   ]
  },
  {
   "cell_type": "code",
   "execution_count": 39,
   "id": "f61ec190",
   "metadata": {},
   "outputs": [
    {
     "data": {
      "text/plain": [
       "86"
      ]
     },
     "execution_count": 39,
     "metadata": {},
     "output_type": "execute_result"
    }
   ],
   "source": [
    "data['age'].max()"
   ]
  },
  {
   "cell_type": "code",
   "execution_count": 40,
   "id": "dc99fdf2",
   "metadata": {},
   "outputs": [
    {
     "data": {
      "image/png": "[encoded data removed]",
      "text/plain": [
       "<Figure size 864x720 with 1 Axes>"
      ]
     },
     "metadata": {
      "needs_background": "light"
     },
     "output_type": "display_data"
    }
   ],
   "source": [
    "plt.figure(figsize=(12, 10))\n",
    "sns.histplot(data = data, x = 'age', hue = 'churn',bins = 69, multiple=\"fill\", stat=\"density\", common_norm=False, binwidth=1)\n",
    "\n",
    "plt.grid(True, linestyle='--', alpha=0.7)\n",
    "plt.axhline(y = 0.5, color = 'red')\n",
    "plt.xlabel('Возраст')\n",
    "plt.ylabel('Плотность')\n",
    "plt.title('Распределение клиентов по возрасту')\n",
    "\n",
    "plt.show()"
   ]
  },
  {
   "cell_type": "code",
   "execution_count": 91,
   "id": "45253638",
   "metadata": {},
   "outputs": [
    {
     "data": {
      "image/png": "[encoded data removed]",
      "text/plain": [
       "<Figure size 864x720 with 1 Axes>"
      ]
     },
     "metadata": {
      "needs_background": "light"
     },
     "output_type": "display_data"
    }
   ],
   "source": [
    "plt.figure(figsize=(12, 10))\n",
    "sns.histplot(data = data, x = 'balance', hue = 'churn', multiple=\"fill\", stat=\"density\", common_norm=False)\n",
    "plt.axhline(y = 0.5, color = 'red')\n",
    "plt.xlim(0, 7000000)\n",
    "plt.xlabel('Баланс')\n",
    "plt.ylabel('Плотность')\n",
    "plt.title('Распределение клиентов по балансу')\n",
    "plt.show()"
   ]
  },
  {
   "cell_type": "markdown",
   "id": "c83d18f0",
   "metadata": {},
   "source": [
    "Судя по графику отток распределен равномерно, заметна тенденция роста оттока при увеличении баланса.\n",
    "\n",
    "Наибольший отток зафиксирован у клиентов с балансом от 900 000"
   ]
  },
  {
   "cell_type": "markdown",
   "id": "f854bb60",
   "metadata": {},
   "source": [
    "Баллы кредитного скоринга "
   ]
  },
  {
   "cell_type": "code",
   "execution_count": 42,
   "id": "382e872d",
   "metadata": {},
   "outputs": [
    {
     "data": {
      "text/plain": [
       "1000"
      ]
     },
     "execution_count": 42,
     "metadata": {},
     "output_type": "execute_result"
    }
   ],
   "source": [
    "data.score.max()"
   ]
  },
  {
   "cell_type": "code",
   "execution_count": 43,
   "id": "966872f8",
   "metadata": {},
   "outputs": [
    {
     "data": {
      "image/png": "[encoded data removed]",
      "text/plain": [
       "<Figure size 864x720 with 1 Axes>"
      ]
     },
     "metadata": {
      "needs_background": "light"
     },
     "output_type": "display_data"
    }
   ],
   "source": [
    "plt.figure(figsize=(12, 10))\n",
    "sns.histplot(data = data, x = 'score', hue = 'churn', multiple=\"fill\",stat=\"density\", common_norm=False, bins = 38,binwidth=10)\n",
    "plt.grid(True, linestyle='--', alpha=0.7)\n",
    "plt.axhline(y = 0.5, color = 'red')\n",
    "plt.xlabel('Баллы кредитного рейтинга')\n",
    "plt.ylabel('Плотность')\n",
    "plt.title('Распределение клиентов по баллам')\n",
    "plt.show()"
   ]
  },
  {
   "cell_type": "markdown",
   "id": "e55c160c",
   "metadata": {},
   "source": [
    "у графика нормальное распределение, заметно небольшое смещение оттока в сторону увеличения рейтинга "
   ]
  },
  {
   "cell_type": "markdown",
   "id": "2e0dd8a7",
   "metadata": {},
   "source": [
    "По оценочному доходу клиента "
   ]
  },
  {
   "cell_type": "code",
   "execution_count": 44,
   "id": "08581708",
   "metadata": {},
   "outputs": [
    {
     "data": {
      "text/plain": [
       "886322.5299000009"
      ]
     },
     "execution_count": 44,
     "metadata": {},
     "output_type": "execute_result"
    }
   ],
   "source": [
    "data['est_salary'].quantile(0.99)"
   ]
  },
  {
   "cell_type": "code",
   "execution_count": 45,
   "id": "e9ac0cf9",
   "metadata": {
    "scrolled": true
   },
   "outputs": [
    {
     "data": {
      "text/plain": [
       "562"
      ]
     },
     "execution_count": 45,
     "metadata": {},
     "output_type": "execute_result"
    }
   ],
   "source": [
    "data[data['est_salary'] > 300000]['user_id'].count()"
   ]
  },
  {
   "cell_type": "markdown",
   "id": "f1c69c5a",
   "metadata": {},
   "source": [
    "у 99% предполагаемый доход не превышает 310 000, предлагаю все что больше считать выбросами и отсечь "
   ]
  },
  {
   "cell_type": "code",
   "execution_count": 46,
   "id": "c931ba75",
   "metadata": {},
   "outputs": [],
   "source": [
    "data = data.query('est_salary < 310000')"
   ]
  },
  {
   "cell_type": "code",
   "execution_count": 47,
   "id": "07e5db59",
   "metadata": {
    "scrolled": false
   },
   "outputs": [
    {
     "data": {
      "image/png": "[encoded data removed]",
      "text/plain": [
       "<Figure size 720x720 with 1 Axes>"
      ]
     },
     "metadata": {
      "needs_background": "light"
     },
     "output_type": "display_data"
    }
   ],
   "source": [
    "plt.figure(figsize=(10, 10))\n",
    "sns.histplot(data = data, x = 'est_salary', hue = 'churn', multiple=\"fill\", stat=\"density\", common_norm=False)\n",
    "plt.grid(True, linestyle='--', alpha=0.7)\n",
    "plt.axhline(y = 0.5, color = 'red')\n",
    "plt.xlabel(' Предполагаемый доход')\n",
    "plt.ylabel('Плотность')\n",
    "plt.title('Распределение клиентов по доходу')\n",
    "plt.show()"
   ]
  },
  {
   "cell_type": "markdown",
   "id": "ecb25194",
   "metadata": {},
   "source": [
    "распределение оттока практически совпадает с распределением оценочного дохода клиентов "
   ]
  },
  {
   "cell_type": "markdown",
   "id": "eba7f9b9",
   "metadata": {},
   "source": [
    "<div class=\"alert alert-block alert-success\">✔️\n",
    "    \n",
    "\n",
    "__Комментарий от тимлида №1__\n",
    "\n",
    "Интересная реализация)"
   ]
  },
  {
   "cell_type": "markdown",
   "id": "4025abde",
   "metadata": {},
   "source": [
    "найдем общий отток по банку "
   ]
  },
  {
   "cell_type": "code",
   "execution_count": 48,
   "id": "3cb8c073",
   "metadata": {},
   "outputs": [
    {
     "data": {
      "text/plain": [
       "0.18"
      ]
     },
     "execution_count": 48,
     "metadata": {},
     "output_type": "execute_result"
    }
   ],
   "source": [
    "total_churn= (data['churn'].sum()/data['churn'].count()).round(2)\n",
    "total_churn"
   ]
  },
  {
   "cell_type": "markdown",
   "id": "62bc446a",
   "metadata": {},
   "source": [
    "<div class=\"alert alert-block alert-success\">✔️\n",
    "    \n",
    "\n",
    "__Комментарий от тимлида №1__\n",
    "\n",
    "Среднебанковский отток найден корректно"
   ]
  },
  {
   "cell_type": "markdown",
   "id": "ea415620",
   "metadata": {},
   "source": [
    "Пол."
   ]
  },
  {
   "cell_type": "code",
   "execution_count": 49,
   "id": "9573d40a",
   "metadata": {},
   "outputs": [
    {
     "data": {
      "image/png": "[encoded data removed]",
      "text/plain": [
       "<Figure size 432x288 with 1 Axes>"
      ]
     },
     "metadata": {
      "needs_background": "light"
     },
     "output_type": "display_data"
    }
   ],
   "source": [
    "sns.histplot(data = data, x = 'gender')\n",
    "plt.xlabel('пол')\n",
    "plt.ylabel('кол-во')\n",
    "plt.title('Разделение клиентов по полу')\n",
    "plt.show()"
   ]
  },
  {
   "cell_type": "code",
   "execution_count": 50,
   "id": "7fac7d18",
   "metadata": {
    "scrolled": false
   },
   "outputs": [
    {
     "data": {
      "image/png": "[encoded data removed]",
      "text/plain": [
       "<Figure size 720x720 with 1 Axes>"
      ]
     },
     "metadata": {
      "needs_background": "light"
     },
     "output_type": "display_data"
    }
   ],
   "source": [
    "plt.figure(figsize=(10, 10))\n",
    "sns.barplot(data = data, x = 'gender', y = 'churn')\n",
    "plt.axhline(y=total_churn)\n",
    "\n",
    "plt.xlabel('Пол')\n",
    "plt.ylabel('% оттока')\n",
    "plt.title('Распределение отточных клиентов по полу')\n",
    "plt.show()"
   ]
  },
  {
   "cell_type": "markdown",
   "id": "1af21e4b",
   "metadata": {},
   "source": [
    "можно заметить что среди клиентов незначительно больше мужчин, однако отток среди них гораздо выше "
   ]
  },
  {
   "cell_type": "markdown",
   "id": "57a5cb3d",
   "metadata": {},
   "source": [
    "Города "
   ]
  },
  {
   "cell_type": "code",
   "execution_count": 51,
   "id": "eb011a2c",
   "metadata": {},
   "outputs": [
    {
     "data": {
      "image/png": "[encoded data removed]",
      "text/plain": [
       "<Figure size 432x288 with 1 Axes>"
      ]
     },
     "metadata": {
      "needs_background": "light"
     },
     "output_type": "display_data"
    }
   ],
   "source": [
    "data.city.hist();"
   ]
  },
  {
   "cell_type": "code",
   "execution_count": 52,
   "id": "63546f65",
   "metadata": {
    "scrolled": false
   },
   "outputs": [
    {
     "data": {
      "image/png": "[encoded data removed]",
      "text/plain": [
       "<Figure size 720x720 with 1 Axes>"
      ]
     },
     "metadata": {
      "needs_background": "light"
     },
     "output_type": "display_data"
    }
   ],
   "source": [
    "plt.figure(figsize=(10, 10))\n",
    "sns.barplot(data = data, x = 'city', y = 'churn')\n",
    "plt.axhline(y=total_churn)\n",
    "plt.xlabel('Город')\n",
    "plt.ylabel('% оттока')\n",
    "plt.title('Распределение отточных клиентов по городу')\n",
    "plt.show()"
   ]
  },
  {
   "cell_type": "markdown",
   "id": "622ca182",
   "metadata": {},
   "source": [
    "Больше всего клиентов из Ярославля, так же в нем оттток больше чем в среднем по банку "
   ]
  },
  {
   "cell_type": "markdown",
   "id": "ca15f292",
   "metadata": {},
   "source": [
    "<div class=\"alert alert-block alert-success\">✔️\n",
    "    \n",
    "\n",
    "__Комментарий от тимлида №1__\n",
    "\n",
    "Рыбинск лучший город)"
   ]
  },
  {
   "cell_type": "code",
   "execution_count": 53,
   "id": "50a9ba2a",
   "metadata": {},
   "outputs": [
    {
     "data": {
      "image/png": "[encoded data removed]",
      "text/plain": [
       "<Figure size 432x288 with 1 Axes>"
      ]
     },
     "metadata": {
      "needs_background": "light"
     },
     "output_type": "display_data"
    }
   ],
   "source": [
    "data.equity.hist(bins = 18)\n",
    "plt.xlabel('кол-во собственности')\n",
    "plt.ylabel('кол-во клиентов')\n",
    "plt.title('Разделение клиентов по кол-ву собственности')\n",
    "plt.show()"
   ]
  },
  {
   "cell_type": "code",
   "execution_count": 54,
   "id": "56c97a30",
   "metadata": {},
   "outputs": [
    {
     "data": {
      "image/png": "[encoded data removed]",
      "text/plain": [
       "<Figure size 720x720 with 1 Axes>"
      ]
     },
     "metadata": {
      "needs_background": "light"
     },
     "output_type": "display_data"
    }
   ],
   "source": [
    "plt.figure(figsize=(10, 10))\n",
    "sns.barplot(data = data, x = 'equity', y = 'churn')\n",
    "plt.axhline(y=total_churn)\n",
    "\n",
    "plt.xlabel('Количество собственности')\n",
    "plt.ylabel('% оттока')\n",
    "plt.title('Распределение отточных клиентов кол-ву собственности')\n",
    "plt.show()"
   ]
  },
  {
   "cell_type": "markdown",
   "id": "39d9af17",
   "metadata": {},
   "source": [
    "заметна тенденция, количество отточных клиентов увеличивается с количеством баллов собственности "
   ]
  },
  {
   "cell_type": "code",
   "execution_count": 55,
   "id": "01f98d1c",
   "metadata": {},
   "outputs": [
    {
     "data": {
      "image/png": "[encoded data removed]",
      "text/plain": [
       "<Figure size 432x288 with 1 Axes>"
      ]
     },
     "metadata": {
      "needs_background": "light"
     },
     "output_type": "display_data"
    }
   ],
   "source": [
    "data.products.hist()\n",
    "plt.xlabel('кол-во продуктов')\n",
    "plt.ylabel('кол-во клиентов')\n",
    "plt.title('Разделение клиентов по кол-ву продуктов')\n",
    "plt.show()"
   ]
  },
  {
   "cell_type": "markdown",
   "id": "83cb4f09",
   "metadata": {},
   "source": [
    "почти у половины клиентов два продукта банка "
   ]
  },
  {
   "cell_type": "code",
   "execution_count": 56,
   "id": "53461a5f",
   "metadata": {},
   "outputs": [],
   "source": [
    "data = data[data['products'] != 0]"
   ]
  },
  {
   "cell_type": "code",
   "execution_count": 57,
   "id": "8825cf22",
   "metadata": {},
   "outputs": [
    {
     "data": {
      "image/png": "[encoded data removed]",
      "text/plain": [
       "<Figure size 720x720 with 1 Axes>"
      ]
     },
     "metadata": {
      "needs_background": "light"
     },
     "output_type": "display_data"
    }
   ],
   "source": [
    "plt.figure(figsize=(10, 10))\n",
    "sns.barplot(data = data, x = 'products', y = 'churn')\n",
    "plt.axhline(y=total_churn)\n",
    "plt.xlabel('Кол-во продуктов')\n",
    "plt.ylabel('% оттока')\n",
    "plt.title('Распределение отточных клиентов по кол-ву продуктов')\n",
    "plt.show()"
   ]
  },
  {
   "cell_type": "markdown",
   "id": "5119a376",
   "metadata": {},
   "source": [
    "<div class=\"alert alert-block alert-danger\">✍\n",
    "    \n",
    "\n",
    "__Комментарий от тимлида №1__\n",
    "\n",
    "0 продуктов это аномалия.  Предлагаю подумать, все ли значения адекватны"
   ]
  },
  {
   "cell_type": "markdown",
   "id": "f47067eb",
   "metadata": {},
   "source": [
    "<div class=\"alert alert-block alert-success\">✔️\n",
    "    \n",
    "\n",
    "__Комментарий от тимлида №2__\n",
    "\n",
    "Учтено"
   ]
  },
  {
   "cell_type": "markdown",
   "id": "f4986c12",
   "metadata": {},
   "source": [
    "отток выше у людей с 3,4 и 5 продуктами "
   ]
  },
  {
   "cell_type": "code",
   "execution_count": 58,
   "id": "dd3d777a",
   "metadata": {},
   "outputs": [
    {
     "data": {
      "image/png": "[encoded data removed]",
      "text/plain": [
       "<Figure size 432x288 with 1 Axes>"
      ]
     },
     "metadata": {
      "needs_background": "light"
     },
     "output_type": "display_data"
    }
   ],
   "source": [
    "data.credit_card.hist()\n",
    "plt.xlabel('0- отсутствие кредитки, 1- есть кредитка')\n",
    "plt.ylabel('кол-во клиентов')\n",
    "plt.title('Разделение клиентов по наличию кредитной карты')\n",
    "plt.show()"
   ]
  },
  {
   "cell_type": "code",
   "execution_count": 59,
   "id": "48e0ed7b",
   "metadata": {
    "scrolled": false
   },
   "outputs": [
    {
     "data": {
      "image/png": "[encoded data removed]",
      "text/plain": [
       "<Figure size 720x720 with 1 Axes>"
      ]
     },
     "metadata": {
      "needs_background": "light"
     },
     "output_type": "display_data"
    }
   ],
   "source": [
    "plt.figure(figsize=(10, 10))\n",
    "sns.barplot(data = data, x = 'credit_card', y = 'churn')\n",
    "plt.axhline(y=total_churn)\n",
    "plt.xlabel('Наличие кредитной карты')\n",
    "plt.ylabel('Отток')\n",
    "plt.title('Распределение отточных клиентов по наличию кредитной карты ')\n",
    "plt.show()"
   ]
  },
  {
   "cell_type": "markdown",
   "id": "20e04f11",
   "metadata": {},
   "source": [
    "Отток среди клиентов с дебетовыми картами выше чем с кредитными "
   ]
  },
  {
   "cell_type": "code",
   "execution_count": 60,
   "id": "a723987d",
   "metadata": {},
   "outputs": [
    {
     "data": {
      "image/png": "[encoded data removed]",
      "text/plain": [
       "<Figure size 432x288 with 1 Axes>"
      ]
     },
     "metadata": {
      "needs_background": "light"
     },
     "output_type": "display_data"
    }
   ],
   "source": [
    "data.last_activity.hist()\n",
    "plt.xlabel('0- не активный , 1- активный ')\n",
    "plt.ylabel('кол-во клиентов')\n",
    "plt.title('Разделение клиентов по активности')\n",
    "plt.show()"
   ]
  },
  {
   "cell_type": "code",
   "execution_count": 61,
   "id": "973978c5",
   "metadata": {},
   "outputs": [
    {
     "data": {
      "image/png": "[encoded data removed]",
      "text/plain": [
       "<Figure size 720x720 with 1 Axes>"
      ]
     },
     "metadata": {
      "needs_background": "light"
     },
     "output_type": "display_data"
    }
   ],
   "source": [
    "plt.figure(figsize=(10, 10))\n",
    "sns.barplot(data = data, x = 'last_activity', y = 'churn')\n",
    "plt.axhline(y=total_churn)\n",
    "plt.xlabel('Активный клиент')\n",
    "plt.ylabel('% оттока')\n",
    "plt.title('Распределение отточных клиентов по активности')\n",
    "plt.show()"
   ]
  },
  {
   "cell_type": "markdown",
   "id": "0ed7432b",
   "metadata": {},
   "source": [
    "отток среди активных клиентов выше"
   ]
  },
  {
   "cell_type": "markdown",
   "id": "60ad09cf",
   "metadata": {},
   "source": [
    "<div class=\"alert alert-block alert-success\">✔️\n",
    "    \n",
    "\n",
    "__Комментарий от тимлида №1__\n",
    "\n",
    "Всё верно"
   ]
  },
  {
   "cell_type": "code",
   "execution_count": 62,
   "id": "003da865",
   "metadata": {},
   "outputs": [
    {
     "name": "stdout",
     "output_type": "stream",
     "text": [
      "<class 'pandas.core.frame.DataFrame'>\n",
      "Int64Index: 9448 entries, 4410 to 8783\n",
      "Data columns (total 17 columns):\n",
      " #   Column           Non-Null Count  Dtype  \n",
      "---  ------           --------------  -----  \n",
      " 0   user_id          9448 non-null   int64  \n",
      " 1   score            9448 non-null   int64  \n",
      " 2   city             9448 non-null   object \n",
      " 3   gender           9448 non-null   object \n",
      " 4   age              9448 non-null   int64  \n",
      " 5   equity           9448 non-null   int64  \n",
      " 6   balance          9448 non-null   int64  \n",
      " 7   products         9448 non-null   int64  \n",
      " 8   credit_card      9448 non-null   int64  \n",
      " 9   last_activity    9448 non-null   int64  \n",
      " 10  est_salary       9448 non-null   float64\n",
      " 11  churn            9448 non-null   int64  \n",
      " 12  город_Ростов     9448 non-null   uint8  \n",
      " 13  город_Рыбинск    9448 non-null   uint8  \n",
      " 14  город_Ярославль  9448 non-null   uint8  \n",
      " 15  пол_Ж            9448 non-null   uint8  \n",
      " 16  пол_М            9448 non-null   uint8  \n",
      "dtypes: float64(1), int64(9), object(2), uint8(5)\n",
      "memory usage: 1.2+ MB\n"
     ]
    }
   ],
   "source": [
    "data.info()"
   ]
  },
  {
   "cell_type": "code",
   "execution_count": 63,
   "id": "d9776349",
   "metadata": {},
   "outputs": [],
   "source": [
    "data_corr = data.loc[:,'score':'пол_М'].corr()"
   ]
  },
  {
   "cell_type": "code",
   "execution_count": 64,
   "id": "99f1d385",
   "metadata": {},
   "outputs": [
    {
     "data": {
      "text/html": [
       "<div>\n",
       "<style scoped>\n",
       "    .dataframe tbody tr th:only-of-type {\n",
       "        vertical-align: middle;\n",
       "    }\n",
       "\n",
       "    .dataframe tbody tr th {\n",
       "        vertical-align: top;\n",
       "    }\n",
       "\n",
       "    .dataframe thead th {\n",
       "        text-align: right;\n",
       "    }\n",
       "</style>\n",
       "<table border=\"1\" class=\"dataframe\">\n",
       "  <thead>\n",
       "    <tr style=\"text-align: right;\">\n",
       "      <th></th>\n",
       "      <th>score</th>\n",
       "      <th>age</th>\n",
       "      <th>equity</th>\n",
       "      <th>balance</th>\n",
       "      <th>products</th>\n",
       "      <th>credit_card</th>\n",
       "      <th>last_activity</th>\n",
       "      <th>est_salary</th>\n",
       "      <th>churn</th>\n",
       "      <th>город_Ростов</th>\n",
       "      <th>город_Рыбинск</th>\n",
       "      <th>город_Ярославль</th>\n",
       "      <th>пол_Ж</th>\n",
       "      <th>пол_М</th>\n",
       "    </tr>\n",
       "  </thead>\n",
       "  <tbody>\n",
       "    <tr>\n",
       "      <th>score</th>\n",
       "      <td>1.000000</td>\n",
       "      <td>-0.009928</td>\n",
       "      <td>0.056024</td>\n",
       "      <td>0.131124</td>\n",
       "      <td>-0.011158</td>\n",
       "      <td>-0.085372</td>\n",
       "      <td>-0.032121</td>\n",
       "      <td>0.185619</td>\n",
       "      <td>0.101966</td>\n",
       "      <td>-0.033060</td>\n",
       "      <td>0.006028</td>\n",
       "      <td>0.018323</td>\n",
       "      <td>-0.002103</td>\n",
       "      <td>0.002103</td>\n",
       "    </tr>\n",
       "    <tr>\n",
       "      <th>age</th>\n",
       "      <td>-0.009928</td>\n",
       "      <td>1.000000</td>\n",
       "      <td>0.023019</td>\n",
       "      <td>0.079248</td>\n",
       "      <td>0.021211</td>\n",
       "      <td>-0.126244</td>\n",
       "      <td>-0.010666</td>\n",
       "      <td>-0.066560</td>\n",
       "      <td>-0.050060</td>\n",
       "      <td>0.046081</td>\n",
       "      <td>0.026219</td>\n",
       "      <td>-0.056771</td>\n",
       "      <td>0.212407</td>\n",
       "      <td>-0.212407</td>\n",
       "    </tr>\n",
       "    <tr>\n",
       "      <th>equity</th>\n",
       "      <td>0.056024</td>\n",
       "      <td>0.023019</td>\n",
       "      <td>1.000000</td>\n",
       "      <td>0.073724</td>\n",
       "      <td>0.412066</td>\n",
       "      <td>-0.154533</td>\n",
       "      <td>-0.003748</td>\n",
       "      <td>-0.167402</td>\n",
       "      <td>0.255368</td>\n",
       "      <td>0.027526</td>\n",
       "      <td>-0.006586</td>\n",
       "      <td>-0.013842</td>\n",
       "      <td>0.021141</td>\n",
       "      <td>-0.021141</td>\n",
       "    </tr>\n",
       "    <tr>\n",
       "      <th>balance</th>\n",
       "      <td>0.131124</td>\n",
       "      <td>0.079248</td>\n",
       "      <td>0.073724</td>\n",
       "      <td>1.000000</td>\n",
       "      <td>0.040053</td>\n",
       "      <td>-0.038101</td>\n",
       "      <td>0.011578</td>\n",
       "      <td>0.156847</td>\n",
       "      <td>0.059966</td>\n",
       "      <td>-0.028202</td>\n",
       "      <td>-0.016056</td>\n",
       "      <td>0.034754</td>\n",
       "      <td>-0.036097</td>\n",
       "      <td>0.036097</td>\n",
       "    </tr>\n",
       "    <tr>\n",
       "      <th>products</th>\n",
       "      <td>-0.011158</td>\n",
       "      <td>0.021211</td>\n",
       "      <td>0.412066</td>\n",
       "      <td>0.040053</td>\n",
       "      <td>1.000000</td>\n",
       "      <td>-0.248668</td>\n",
       "      <td>0.038016</td>\n",
       "      <td>-0.120037</td>\n",
       "      <td>0.291657</td>\n",
       "      <td>-0.015110</td>\n",
       "      <td>-0.041161</td>\n",
       "      <td>0.047991</td>\n",
       "      <td>0.023844</td>\n",
       "      <td>-0.023844</td>\n",
       "    </tr>\n",
       "    <tr>\n",
       "      <th>credit_card</th>\n",
       "      <td>-0.085372</td>\n",
       "      <td>-0.126244</td>\n",
       "      <td>-0.154533</td>\n",
       "      <td>-0.038101</td>\n",
       "      <td>-0.248668</td>\n",
       "      <td>1.000000</td>\n",
       "      <td>-0.034154</td>\n",
       "      <td>0.014386</td>\n",
       "      <td>-0.126885</td>\n",
       "      <td>-0.096781</td>\n",
       "      <td>-0.050708</td>\n",
       "      <td>0.115302</td>\n",
       "      <td>-0.129123</td>\n",
       "      <td>0.129123</td>\n",
       "    </tr>\n",
       "    <tr>\n",
       "      <th>last_activity</th>\n",
       "      <td>-0.032121</td>\n",
       "      <td>-0.010666</td>\n",
       "      <td>-0.003748</td>\n",
       "      <td>0.011578</td>\n",
       "      <td>0.038016</td>\n",
       "      <td>-0.034154</td>\n",
       "      <td>1.000000</td>\n",
       "      <td>-0.024666</td>\n",
       "      <td>0.166695</td>\n",
       "      <td>0.008275</td>\n",
       "      <td>0.050258</td>\n",
       "      <td>-0.051285</td>\n",
       "      <td>0.015464</td>\n",
       "      <td>-0.015464</td>\n",
       "    </tr>\n",
       "    <tr>\n",
       "      <th>est_salary</th>\n",
       "      <td>0.185619</td>\n",
       "      <td>-0.066560</td>\n",
       "      <td>-0.167402</td>\n",
       "      <td>0.156847</td>\n",
       "      <td>-0.120037</td>\n",
       "      <td>0.014386</td>\n",
       "      <td>-0.024666</td>\n",
       "      <td>1.000000</td>\n",
       "      <td>0.041199</td>\n",
       "      <td>-0.100969</td>\n",
       "      <td>-0.041162</td>\n",
       "      <td>0.109701</td>\n",
       "      <td>-0.116241</td>\n",
       "      <td>0.116241</td>\n",
       "    </tr>\n",
       "    <tr>\n",
       "      <th>churn</th>\n",
       "      <td>0.101966</td>\n",
       "      <td>-0.050060</td>\n",
       "      <td>0.255368</td>\n",
       "      <td>0.059966</td>\n",
       "      <td>0.291657</td>\n",
       "      <td>-0.126885</td>\n",
       "      <td>0.166695</td>\n",
       "      <td>0.041199</td>\n",
       "      <td>1.000000</td>\n",
       "      <td>0.001750</td>\n",
       "      <td>-0.030746</td>\n",
       "      <td>0.026478</td>\n",
       "      <td>-0.142789</td>\n",
       "      <td>0.142789</td>\n",
       "    </tr>\n",
       "    <tr>\n",
       "      <th>город_Ростов</th>\n",
       "      <td>-0.033060</td>\n",
       "      <td>0.046081</td>\n",
       "      <td>0.027526</td>\n",
       "      <td>-0.028202</td>\n",
       "      <td>-0.015110</td>\n",
       "      <td>-0.096781</td>\n",
       "      <td>0.008275</td>\n",
       "      <td>-0.100969</td>\n",
       "      <td>0.001750</td>\n",
       "      <td>1.000000</td>\n",
       "      <td>-0.254756</td>\n",
       "      <td>-0.488904</td>\n",
       "      <td>0.010900</td>\n",
       "      <td>-0.010900</td>\n",
       "    </tr>\n",
       "    <tr>\n",
       "      <th>город_Рыбинск</th>\n",
       "      <td>0.006028</td>\n",
       "      <td>0.026219</td>\n",
       "      <td>-0.006586</td>\n",
       "      <td>-0.016056</td>\n",
       "      <td>-0.041161</td>\n",
       "      <td>-0.050708</td>\n",
       "      <td>0.050258</td>\n",
       "      <td>-0.041162</td>\n",
       "      <td>-0.030746</td>\n",
       "      <td>-0.254756</td>\n",
       "      <td>1.000000</td>\n",
       "      <td>-0.719004</td>\n",
       "      <td>0.011480</td>\n",
       "      <td>-0.011480</td>\n",
       "    </tr>\n",
       "    <tr>\n",
       "      <th>город_Ярославль</th>\n",
       "      <td>0.018323</td>\n",
       "      <td>-0.056771</td>\n",
       "      <td>-0.013842</td>\n",
       "      <td>0.034754</td>\n",
       "      <td>0.047991</td>\n",
       "      <td>0.115302</td>\n",
       "      <td>-0.051285</td>\n",
       "      <td>0.109701</td>\n",
       "      <td>0.026478</td>\n",
       "      <td>-0.488904</td>\n",
       "      <td>-0.719004</td>\n",
       "      <td>1.000000</td>\n",
       "      <td>-0.018189</td>\n",
       "      <td>0.018189</td>\n",
       "    </tr>\n",
       "    <tr>\n",
       "      <th>пол_Ж</th>\n",
       "      <td>-0.002103</td>\n",
       "      <td>0.212407</td>\n",
       "      <td>0.021141</td>\n",
       "      <td>-0.036097</td>\n",
       "      <td>0.023844</td>\n",
       "      <td>-0.129123</td>\n",
       "      <td>0.015464</td>\n",
       "      <td>-0.116241</td>\n",
       "      <td>-0.142789</td>\n",
       "      <td>0.010900</td>\n",
       "      <td>0.011480</td>\n",
       "      <td>-0.018189</td>\n",
       "      <td>1.000000</td>\n",
       "      <td>-1.000000</td>\n",
       "    </tr>\n",
       "    <tr>\n",
       "      <th>пол_М</th>\n",
       "      <td>0.002103</td>\n",
       "      <td>-0.212407</td>\n",
       "      <td>-0.021141</td>\n",
       "      <td>0.036097</td>\n",
       "      <td>-0.023844</td>\n",
       "      <td>0.129123</td>\n",
       "      <td>-0.015464</td>\n",
       "      <td>0.116241</td>\n",
       "      <td>0.142789</td>\n",
       "      <td>-0.010900</td>\n",
       "      <td>-0.011480</td>\n",
       "      <td>0.018189</td>\n",
       "      <td>-1.000000</td>\n",
       "      <td>1.000000</td>\n",
       "    </tr>\n",
       "  </tbody>\n",
       "</table>\n",
       "</div>"
      ],
      "text/plain": [
       "                    score       age    equity   balance  products  \\\n",
       "score            1.000000 -0.009928  0.056024  0.131124 -0.011158   \n",
       "age             -0.009928  1.000000  0.023019  0.079248  0.021211   \n",
       "equity           0.056024  0.023019  1.000000  0.073724  0.412066   \n",
       "balance          0.131124  0.079248  0.073724  1.000000  0.040053   \n",
       "products        -0.011158  0.021211  0.412066  0.040053  1.000000   \n",
       "credit_card     -0.085372 -0.126244 -0.154533 -0.038101 -0.248668   \n",
       "last_activity   -0.032121 -0.010666 -0.003748  0.011578  0.038016   \n",
       "est_salary       0.185619 -0.066560 -0.167402  0.156847 -0.120037   \n",
       "churn            0.101966 -0.050060  0.255368  0.059966  0.291657   \n",
       "город_Ростов    -0.033060  0.046081  0.027526 -0.028202 -0.015110   \n",
       "город_Рыбинск    0.006028  0.026219 -0.006586 -0.016056 -0.041161   \n",
       "город_Ярославль  0.018323 -0.056771 -0.013842  0.034754  0.047991   \n",
       "пол_Ж           -0.002103  0.212407  0.021141 -0.036097  0.023844   \n",
       "пол_М            0.002103 -0.212407 -0.021141  0.036097 -0.023844   \n",
       "\n",
       "                 credit_card  last_activity  est_salary     churn  \\\n",
       "score              -0.085372      -0.032121    0.185619  0.101966   \n",
       "age                -0.126244      -0.010666   -0.066560 -0.050060   \n",
       "equity             -0.154533      -0.003748   -0.167402  0.255368   \n",
       "balance            -0.038101       0.011578    0.156847  0.059966   \n",
       "products           -0.248668       0.038016   -0.120037  0.291657   \n",
       "credit_card         1.000000      -0.034154    0.014386 -0.126885   \n",
       "last_activity      -0.034154       1.000000   -0.024666  0.166695   \n",
       "est_salary          0.014386      -0.024666    1.000000  0.041199   \n",
       "churn              -0.126885       0.166695    0.041199  1.000000   \n",
       "город_Ростов       -0.096781       0.008275   -0.100969  0.001750   \n",
       "город_Рыбинск      -0.050708       0.050258   -0.041162 -0.030746   \n",
       "город_Ярославль     0.115302      -0.051285    0.109701  0.026478   \n",
       "пол_Ж              -0.129123       0.015464   -0.116241 -0.142789   \n",
       "пол_М               0.129123      -0.015464    0.116241  0.142789   \n",
       "\n",
       "                 город_Ростов  город_Рыбинск  город_Ярославль     пол_Ж  \\\n",
       "score               -0.033060       0.006028         0.018323 -0.002103   \n",
       "age                  0.046081       0.026219        -0.056771  0.212407   \n",
       "equity               0.027526      -0.006586        -0.013842  0.021141   \n",
       "balance             -0.028202      -0.016056         0.034754 -0.036097   \n",
       "products            -0.015110      -0.041161         0.047991  0.023844   \n",
       "credit_card         -0.096781      -0.050708         0.115302 -0.129123   \n",
       "last_activity        0.008275       0.050258        -0.051285  0.015464   \n",
       "est_salary          -0.100969      -0.041162         0.109701 -0.116241   \n",
       "churn                0.001750      -0.030746         0.026478 -0.142789   \n",
       "город_Ростов         1.000000      -0.254756        -0.488904  0.010900   \n",
       "город_Рыбинск       -0.254756       1.000000        -0.719004  0.011480   \n",
       "город_Ярославль     -0.488904      -0.719004         1.000000 -0.018189   \n",
       "пол_Ж                0.010900       0.011480        -0.018189  1.000000   \n",
       "пол_М               -0.010900      -0.011480         0.018189 -1.000000   \n",
       "\n",
       "                    пол_М  \n",
       "score            0.002103  \n",
       "age             -0.212407  \n",
       "equity          -0.021141  \n",
       "balance          0.036097  \n",
       "products        -0.023844  \n",
       "credit_card      0.129123  \n",
       "last_activity   -0.015464  \n",
       "est_salary       0.116241  \n",
       "churn            0.142789  \n",
       "город_Ростов    -0.010900  \n",
       "город_Рыбинск   -0.011480  \n",
       "город_Ярославль  0.018189  \n",
       "пол_Ж           -1.000000  \n",
       "пол_М            1.000000  "
      ]
     },
     "execution_count": 64,
     "metadata": {},
     "output_type": "execute_result"
    }
   ],
   "source": [
    "data_corr"
   ]
  },
  {
   "cell_type": "code",
   "execution_count": 65,
   "id": "d2970206",
   "metadata": {},
   "outputs": [
    {
     "data": {
      "image/png": "[encoded data removed]",
      "text/plain": [
       "<Figure size 1080x1080 with 2 Axes>"
      ]
     },
     "metadata": {
      "needs_background": "light"
     },
     "output_type": "display_data"
    }
   ],
   "source": [
    "plt.figure(figsize=(15,15))\n",
    "sns.heatmap(data_corr, cmap='coolwarm', center=0)\n",
    "plt.show()"
   ]
  },
  {
   "cell_type": "code",
   "execution_count": 99,
   "id": "8228560f",
   "metadata": {},
   "outputs": [],
   "source": [
    "new_corr = data_corr['churn'].abs().sort_values(ascending = False).to_frame()"
   ]
  },
  {
   "cell_type": "code",
   "execution_count": 102,
   "id": "23e5f1b1",
   "metadata": {},
   "outputs": [
    {
     "data": {
      "text/html": [
       "<div>\n",
       "<style scoped>\n",
       "    .dataframe tbody tr th:only-of-type {\n",
       "        vertical-align: middle;\n",
       "    }\n",
       "\n",
       "    .dataframe tbody tr th {\n",
       "        vertical-align: top;\n",
       "    }\n",
       "\n",
       "    .dataframe thead th {\n",
       "        text-align: right;\n",
       "    }\n",
       "</style>\n",
       "<table border=\"1\" class=\"dataframe\">\n",
       "  <thead>\n",
       "    <tr style=\"text-align: right;\">\n",
       "      <th></th>\n",
       "      <th>churn</th>\n",
       "    </tr>\n",
       "  </thead>\n",
       "  <tbody>\n",
       "    <tr>\n",
       "      <th>churn</th>\n",
       "      <td>1.000000</td>\n",
       "    </tr>\n",
       "    <tr>\n",
       "      <th>products</th>\n",
       "      <td>0.291657</td>\n",
       "    </tr>\n",
       "    <tr>\n",
       "      <th>equity</th>\n",
       "      <td>0.255368</td>\n",
       "    </tr>\n",
       "    <tr>\n",
       "      <th>last_activity</th>\n",
       "      <td>0.166695</td>\n",
       "    </tr>\n",
       "    <tr>\n",
       "      <th>пол_М</th>\n",
       "      <td>0.142789</td>\n",
       "    </tr>\n",
       "    <tr>\n",
       "      <th>пол_Ж</th>\n",
       "      <td>0.142789</td>\n",
       "    </tr>\n",
       "    <tr>\n",
       "      <th>credit_card</th>\n",
       "      <td>0.126885</td>\n",
       "    </tr>\n",
       "    <tr>\n",
       "      <th>score</th>\n",
       "      <td>0.101966</td>\n",
       "    </tr>\n",
       "    <tr>\n",
       "      <th>balance</th>\n",
       "      <td>0.059966</td>\n",
       "    </tr>\n",
       "    <tr>\n",
       "      <th>age</th>\n",
       "      <td>0.050060</td>\n",
       "    </tr>\n",
       "    <tr>\n",
       "      <th>est_salary</th>\n",
       "      <td>0.041199</td>\n",
       "    </tr>\n",
       "    <tr>\n",
       "      <th>город_Рыбинск</th>\n",
       "      <td>0.030746</td>\n",
       "    </tr>\n",
       "    <tr>\n",
       "      <th>город_Ярославль</th>\n",
       "      <td>0.026478</td>\n",
       "    </tr>\n",
       "    <tr>\n",
       "      <th>город_Ростов</th>\n",
       "      <td>0.001750</td>\n",
       "    </tr>\n",
       "  </tbody>\n",
       "</table>\n",
       "</div>"
      ],
      "text/plain": [
       "                    churn\n",
       "churn            1.000000\n",
       "products         0.291657\n",
       "equity           0.255368\n",
       "last_activity    0.166695\n",
       "пол_М            0.142789\n",
       "пол_Ж            0.142789\n",
       "credit_card      0.126885\n",
       "score            0.101966\n",
       "balance          0.059966\n",
       "age              0.050060\n",
       "est_salary       0.041199\n",
       "город_Рыбинск    0.030746\n",
       "город_Ярославль  0.026478\n",
       "город_Ростов     0.001750"
      ]
     },
     "execution_count": 102,
     "metadata": {},
     "output_type": "execute_result"
    }
   ],
   "source": [
    "new_corr\n"
   ]
  },
  {
   "cell_type": "code",
   "execution_count": 101,
   "id": "45f5dc73",
   "metadata": {},
   "outputs": [
    {
     "data": {
      "image/png": "[encoded data removed]",
      "text/plain": [
       "<Figure size 720x720 with 2 Axes>"
      ]
     },
     "metadata": {
      "needs_background": "light"
     },
     "output_type": "display_data"
    }
   ],
   "source": [
    "plt.figure(figsize=(10,10))\n",
    "sns.heatmap(new_corr, cmap='coolwarm', center=0)\n",
    "plt.show()"
   ]
  },
  {
   "cell_type": "markdown",
   "id": "a8d05da5",
   "metadata": {},
   "source": [
    "<div class=\"alert alert-block alert-danger\">✍\n",
    "    \n",
    "\n",
    "__Комментарий от тимлида №1__\n",
    "\n",
    "user_id не нужно анализировать на предмет корреляции Тут user_id может быть связана с хронологией (но при этом корреляцию Пирсона тоже смотреть некорректно, т.к. то что у одного клиента id на тысячу больше чем у другого не говорит нам о конкретном чётком сроке заключения первого договора с банком)."
   ]
  },
  {
   "cell_type": "markdown",
   "id": "556d5485",
   "metadata": {},
   "source": [
    "есть заметная корреляция баланса с количеством баллов собственности и количеством продуктов\\\n",
    "есть слабая корреляция оттока с количеством баллов собственности, балансом, активностью и наличием кредитной карты "
   ]
  },
  {
   "cell_type": "markdown",
   "id": "f89568ef",
   "metadata": {},
   "source": [
    "<div class=\"alert alert-block alert-success\">✔️\n",
    "    \n",
    "\n",
    "__Комментарий от тимлида №2__\n",
    "\n",
    "Верная интерпретация корреляции. Так держать!)"
   ]
  },
  {
   "cell_type": "markdown",
   "id": "a24e3ab9",
   "metadata": {},
   "source": [
    "Составление портрета клиента "
   ]
  },
  {
   "cell_type": "code",
   "execution_count": 66,
   "id": "28bb0671",
   "metadata": {},
   "outputs": [],
   "source": [
    "no_churn = data[data['churn'] == 0]"
   ]
  },
  {
   "cell_type": "code",
   "execution_count": 67,
   "id": "1cc864dc",
   "metadata": {},
   "outputs": [],
   "source": [
    "churn = data[data['churn'] == 1]"
   ]
  },
  {
   "cell_type": "code",
   "execution_count": 68,
   "id": "122538c8",
   "metadata": {},
   "outputs": [],
   "source": [
    "no_churn_pivot = no_churn.agg({'score': lambda x: x.median(),\n",
    "                      'balance': lambda x: x.mean(),\n",
    "                      'credit_card': lambda x: x.mode().iat[0],\n",
    "                      'age': lambda x: x.mean(),\n",
    "                      'products':lambda x: x.mode().iat[0],\n",
    "                      'last_activity':lambda x: x.mode().iat[0],\n",
    "                      'est_salary':lambda x: x.median(),\n",
    "                      'equity': lambda x: x.mode().iat[0],\n",
    "                      'city': lambda x: x.mode().iat[0],\n",
    "                      'gender': lambda x: x.mode().iat[0],\n",
    "                      }).T"
   ]
  },
  {
   "cell_type": "code",
   "execution_count": 69,
   "id": "283385de",
   "metadata": {},
   "outputs": [],
   "source": [
    "no_churn_pivot = no_churn_pivot.to_frame()\n"
   ]
  },
  {
   "cell_type": "code",
   "execution_count": 70,
   "id": "b443c761",
   "metadata": {},
   "outputs": [],
   "source": [
    "churn_pivot = churn.agg({'score': lambda x: x.median(),\n",
    "                      'balance': lambda x: x.mean(),\n",
    "                      'credit_card': lambda x: x.mode().iat[0],\n",
    "                      'age': lambda x: x.mean(),\n",
    "                      'products':lambda x: x.mode().iat[0],\n",
    "                      'last_activity':lambda x: x.mode().iat[0],\n",
    "                      'est_salary':lambda x: x.median(),\n",
    "                      'equity': lambda x: x.mode().iat[0],\n",
    "                      'city': lambda x: x.mode().iat[0],\n",
    "                      'gender': lambda x: x.mode().iat[0],\n",
    "                      }).T"
   ]
  },
  {
   "cell_type": "code",
   "execution_count": 71,
   "id": "93c8e463",
   "metadata": {},
   "outputs": [],
   "source": [
    "churn_pivot = churn_pivot.to_frame()"
   ]
  },
  {
   "cell_type": "code",
   "execution_count": 72,
   "id": "f6a90ad0",
   "metadata": {},
   "outputs": [],
   "source": [
    "new_churn_pivot = no_churn_pivot.merge(churn_pivot, left_index=True, right_index=True)"
   ]
  },
  {
   "cell_type": "code",
   "execution_count": 73,
   "id": "637e2b01",
   "metadata": {},
   "outputs": [],
   "source": [
    "new_churn_pivot.columns = ['Не отточные','Отточные']"
   ]
  },
  {
   "cell_type": "code",
   "execution_count": 74,
   "id": "064cca2d",
   "metadata": {},
   "outputs": [
    {
     "data": {
      "text/html": [
       "<div>\n",
       "<style scoped>\n",
       "    .dataframe tbody tr th:only-of-type {\n",
       "        vertical-align: middle;\n",
       "    }\n",
       "\n",
       "    .dataframe tbody tr th {\n",
       "        vertical-align: top;\n",
       "    }\n",
       "\n",
       "    .dataframe thead th {\n",
       "        text-align: right;\n",
       "    }\n",
       "</style>\n",
       "<table border=\"1\" class=\"dataframe\">\n",
       "  <thead>\n",
       "    <tr style=\"text-align: right;\">\n",
       "      <th></th>\n",
       "      <th>Не отточные</th>\n",
       "      <th>Отточные</th>\n",
       "    </tr>\n",
       "  </thead>\n",
       "  <tbody>\n",
       "    <tr>\n",
       "      <th>score</th>\n",
       "      <td>846.0</td>\n",
       "      <td>865.0</td>\n",
       "    </tr>\n",
       "    <tr>\n",
       "      <th>balance</th>\n",
       "      <td>728474.307802</td>\n",
       "      <td>984892.959007</td>\n",
       "    </tr>\n",
       "    <tr>\n",
       "      <th>credit_card</th>\n",
       "      <td>1</td>\n",
       "      <td>1</td>\n",
       "    </tr>\n",
       "    <tr>\n",
       "      <th>age</th>\n",
       "      <td>43.064671</td>\n",
       "      <td>41.478637</td>\n",
       "    </tr>\n",
       "    <tr>\n",
       "      <th>products</th>\n",
       "      <td>2</td>\n",
       "      <td>2</td>\n",
       "    </tr>\n",
       "    <tr>\n",
       "      <th>last_activity</th>\n",
       "      <td>0</td>\n",
       "      <td>1</td>\n",
       "    </tr>\n",
       "    <tr>\n",
       "      <th>est_salary</th>\n",
       "      <td>113182.675</td>\n",
       "      <td>120966.26</td>\n",
       "    </tr>\n",
       "    <tr>\n",
       "      <th>equity</th>\n",
       "      <td>0</td>\n",
       "      <td>5</td>\n",
       "    </tr>\n",
       "    <tr>\n",
       "      <th>city</th>\n",
       "      <td>Ярославль</td>\n",
       "      <td>Ярославль</td>\n",
       "    </tr>\n",
       "    <tr>\n",
       "      <th>gender</th>\n",
       "      <td>Ж</td>\n",
       "      <td>М</td>\n",
       "    </tr>\n",
       "  </tbody>\n",
       "</table>\n",
       "</div>"
      ],
      "text/plain": [
       "                 Не отточные       Отточные\n",
       "score                  846.0          865.0\n",
       "balance        728474.307802  984892.959007\n",
       "credit_card                1              1\n",
       "age                43.064671      41.478637\n",
       "products                   2              2\n",
       "last_activity              0              1\n",
       "est_salary        113182.675      120966.26\n",
       "equity                     0              5\n",
       "city               Ярославль      Ярославль\n",
       "gender                     Ж              М"
      ]
     },
     "execution_count": 74,
     "metadata": {},
     "output_type": "execute_result"
    }
   ],
   "source": [
    "new_churn_pivot"
   ]
  },
  {
   "cell_type": "code",
   "execution_count": 75,
   "id": "35131f40",
   "metadata": {},
   "outputs": [],
   "source": [
    "index_to_remove = ['city', 'gender','score','est_salary']  \n",
    "new_churn_pivot = new_churn_pivot.drop(index_to_remove)"
   ]
  },
  {
   "cell_type": "code",
   "execution_count": 76,
   "id": "87017abd",
   "metadata": {},
   "outputs": [],
   "source": [
    "new_churn_pivot['Относительная разница'] = (new_churn_pivot['Отточные'] - new_churn_pivot['Не отточные']) / new_churn_pivot['Отточные']\n"
   ]
  },
  {
   "cell_type": "code",
   "execution_count": 77,
   "id": "0d3527d0",
   "metadata": {},
   "outputs": [
    {
     "data": {
      "text/html": [
       "<div>\n",
       "<style scoped>\n",
       "    .dataframe tbody tr th:only-of-type {\n",
       "        vertical-align: middle;\n",
       "    }\n",
       "\n",
       "    .dataframe tbody tr th {\n",
       "        vertical-align: top;\n",
       "    }\n",
       "\n",
       "    .dataframe thead th {\n",
       "        text-align: right;\n",
       "    }\n",
       "</style>\n",
       "<table border=\"1\" class=\"dataframe\">\n",
       "  <thead>\n",
       "    <tr style=\"text-align: right;\">\n",
       "      <th></th>\n",
       "      <th>Не отточные</th>\n",
       "      <th>Отточные</th>\n",
       "      <th>Относительная разница</th>\n",
       "    </tr>\n",
       "  </thead>\n",
       "  <tbody>\n",
       "    <tr>\n",
       "      <th>balance</th>\n",
       "      <td>728474.307802</td>\n",
       "      <td>984892.959007</td>\n",
       "      <td>0.260352</td>\n",
       "    </tr>\n",
       "    <tr>\n",
       "      <th>credit_card</th>\n",
       "      <td>1</td>\n",
       "      <td>1</td>\n",
       "      <td>0.0</td>\n",
       "    </tr>\n",
       "    <tr>\n",
       "      <th>age</th>\n",
       "      <td>43.064671</td>\n",
       "      <td>41.478637</td>\n",
       "      <td>-0.038237</td>\n",
       "    </tr>\n",
       "    <tr>\n",
       "      <th>products</th>\n",
       "      <td>2</td>\n",
       "      <td>2</td>\n",
       "      <td>0.0</td>\n",
       "    </tr>\n",
       "    <tr>\n",
       "      <th>last_activity</th>\n",
       "      <td>0</td>\n",
       "      <td>1</td>\n",
       "      <td>1.0</td>\n",
       "    </tr>\n",
       "    <tr>\n",
       "      <th>equity</th>\n",
       "      <td>0</td>\n",
       "      <td>5</td>\n",
       "      <td>1.0</td>\n",
       "    </tr>\n",
       "  </tbody>\n",
       "</table>\n",
       "</div>"
      ],
      "text/plain": [
       "                 Не отточные       Отточные Относительная разница\n",
       "balance        728474.307802  984892.959007              0.260352\n",
       "credit_card                1              1                   0.0\n",
       "age                43.064671      41.478637             -0.038237\n",
       "products                   2              2                   0.0\n",
       "last_activity              0              1                   1.0\n",
       "equity                     0              5                   1.0"
      ]
     },
     "execution_count": 77,
     "metadata": {},
     "output_type": "execute_result"
    }
   ],
   "source": [
    "new_churn_pivot"
   ]
  },
  {
   "cell_type": "markdown",
   "id": "13327891",
   "metadata": {},
   "source": [
    "заметно что у отточных клиентов клиентов выше баланс и больше собственности, возможно они заинтересованны во вкладах и страховании имущества\\\n",
    "так же среди отточных клиентов более распространенными являются активные "
   ]
  },
  {
   "cell_type": "markdown",
   "id": "705c06a2",
   "metadata": {},
   "source": [
    "<div class=\"alert alert-block alert-danger\">✍\n",
    "    \n",
    "\n",
    "__Комментарий от тимлида №1__\n",
    "    \n",
    "\n",
    "Для медианы относительную разницу считать не нужно - аналогично можно заполнить заглушкой."
   ]
  },
  {
   "cell_type": "markdown",
   "id": "dee3f989",
   "metadata": {},
   "source": [
    "<div class=\"alert alert-block alert-success\">✔️\n",
    "    \n",
    "\n",
    "__Комментарий от тимлида №2__\n",
    "\n",
    "Хорошо, портрет пользователя составлен"
   ]
  },
  {
   "cell_type": "markdown",
   "id": "3f21e3a8",
   "metadata": {},
   "source": [
    "## Статистический анализ "
   ]
  },
  {
   "cell_type": "code",
   "execution_count": 78,
   "id": "8fa47323",
   "metadata": {},
   "outputs": [
    {
     "data": {
      "text/plain": [
       "<AxesSubplot:>"
      ]
     },
     "execution_count": 78,
     "metadata": {},
     "output_type": "execute_result"
    },
    {
     "data": {
      "image/png": "[encoded data removed]",
      "text/plain": [
       "<Figure size 432x288 with 1 Axes>"
      ]
     },
     "metadata": {
      "needs_background": "light"
     },
     "output_type": "display_data"
    }
   ],
   "source": [
    "data[data['churn'] == 0]['est_salary'].hist(bins = 100)"
   ]
  },
  {
   "cell_type": "code",
   "execution_count": 79,
   "id": "25bf96af",
   "metadata": {},
   "outputs": [
    {
     "data": {
      "text/plain": [
       "<AxesSubplot:>"
      ]
     },
     "execution_count": 79,
     "metadata": {},
     "output_type": "execute_result"
    },
    {
     "data": {
      "image/png": "[encoded data removed]",
      "text/plain": [
       "<Figure size 432x288 with 1 Axes>"
      ]
     },
     "metadata": {
      "needs_background": "light"
     },
     "output_type": "display_data"
    }
   ],
   "source": [
    "data[data['churn'] == 1]['est_salary'].hist(bins = 100)"
   ]
  },
  {
   "cell_type": "markdown",
   "id": "8b93b2c0",
   "metadata": {},
   "source": [
    "У распределения имеется правый хвост"
   ]
  },
  {
   "cell_type": "code",
   "execution_count": 80,
   "id": "a2c7675c",
   "metadata": {},
   "outputs": [
    {
     "data": {
      "text/plain": [
       "1732"
      ]
     },
     "execution_count": 80,
     "metadata": {},
     "output_type": "execute_result"
    }
   ],
   "source": [
    "data[data['churn'] == 1]['user_id'].count()"
   ]
  },
  {
   "cell_type": "code",
   "execution_count": 81,
   "id": "ed3b0c39",
   "metadata": {},
   "outputs": [
    {
     "data": {
      "text/plain": [
       "7716"
      ]
     },
     "execution_count": 81,
     "metadata": {},
     "output_type": "execute_result"
    }
   ],
   "source": [
    "data[data['churn'] == 0]['user_id'].count()"
   ]
  },
  {
   "cell_type": "markdown",
   "id": "416a1fe6",
   "metadata": {},
   "source": [
    "получилась достаточно большая выборка, значит используя ЦПТ мы можем использовать ttest"
   ]
  },
  {
   "cell_type": "markdown",
   "id": "da1ca4da",
   "metadata": {},
   "source": [
    "<div class=\"alert alert-block alert-danger\">✍\n",
    "    \n",
    "\n",
    "__Комментарий от тимлида №1__\n",
    "\n",
    "Это не нормальное распределение, имеется правый хвост. Стоит обратиться к ЦПТ"
   ]
  },
  {
   "cell_type": "markdown",
   "id": "fcdccb41",
   "metadata": {},
   "source": [
    "<div class=\"alert alert-block alert-success\">✔️\n",
    "    \n",
    "\n",
    "__Комментарий от тимлида №2__\n",
    "\n",
    "Согласен, данных более 30. Можно использовать стат.тест"
   ]
  },
  {
   "cell_type": "markdown",
   "id": "49bd541c",
   "metadata": {},
   "source": [
    "Сформируем гипотезы \n",
    "\n",
    "Н0 - Средний доход лояльного клиента = Среднему доходу отточного клиента\\\n",
    "Н1 - Средний доход лояльного клиента ≠ Среднему доходу отточного клиента \n"
   ]
  },
  {
   "cell_type": "markdown",
   "id": "b49cab30",
   "metadata": {},
   "source": [
    "<div class=\"alert alert-block alert-success\">✔️\n",
    "    \n",
    "\n",
    "__Комментарий от тимлида №1__\n",
    "\n",
    "Верная интерпритация нулевой и альтернативной гипотез\n",
    "</div>"
   ]
  },
  {
   "cell_type": "markdown",
   "id": "4876bcbd",
   "metadata": {},
   "source": [
    "Наши гипотезы являются двустронними поскольку мы проверяем возможность их равенства, для теста подойдет двусторонний T test, применим equal_var=False поскольку имееем разные размеры выборок"
   ]
  },
  {
   "cell_type": "code",
   "execution_count": 82,
   "id": "05e69307",
   "metadata": {},
   "outputs": [
    {
     "name": "stdout",
     "output_type": "stream",
     "text": [
      "4.176912861953256e-05\n",
      "Отвергаем нулевую гипотезу\n"
     ]
    }
   ],
   "source": [
    "churn_tt = data[data['churn'] == 1]['est_salary']\n",
    "no_churn_tt = data[data['churn'] == 0]['est_salary']\n",
    "\n",
    "alpha = 0.05\n",
    "result = st.ttest_ind(churn_tt, no_churn_tt, equal_var=False)\n",
    "print(result.pvalue)\n",
    "if (result.pvalue < alpha):\n",
    "    print('Отвергаем нулевую гипотезу')\n",
    "else:\n",
    "    print('Не получилось отвергнуть нулевую теорию')"
   ]
  },
  {
   "cell_type": "code",
   "execution_count": 83,
   "id": "5ec15de4",
   "metadata": {},
   "outputs": [
    {
     "name": "stdout",
     "output_type": "stream",
     "text": [
      "Средний предполагаемый доход лояльных клиентов 121194.0\n",
      "Средний предполагаемый доход отточных клиентов 127989.0\n"
     ]
    }
   ],
   "source": [
    "print('Средний предполагаемый доход лояльных клиентов', data[data['churn'] == 0]['est_salary'].mean().round())\n",
    "print('Средний предполагаемый доход отточных клиентов', data[data['churn'] == 1]['est_salary'].mean().round())"
   ]
  },
  {
   "cell_type": "markdown",
   "id": "d70d011e",
   "metadata": {},
   "source": [
    "Отвергаем нулевую теорию, вероятность что доходы отточных и лояльных клиентов равны - низка "
   ]
  },
  {
   "cell_type": "markdown",
   "id": "34f30945",
   "metadata": {},
   "source": [
    "Проверка второй гипотезы "
   ]
  },
  {
   "cell_type": "code",
   "execution_count": 84,
   "id": "6e062136",
   "metadata": {
    "scrolled": false
   },
   "outputs": [
    {
     "data": {
      "image/png": "[encoded data removed]",
      "text/plain": [
       "<Figure size 432x288 with 1 Axes>"
      ]
     },
     "metadata": {
      "needs_background": "light"
     },
     "output_type": "display_data"
    }
   ],
   "source": [
    "data[data['churn'] == 0]['balance'].hist(bins = 1000)\n",
    "plt.xlim(0,2000000);"
   ]
  },
  {
   "cell_type": "code",
   "execution_count": 85,
   "id": "d9804880",
   "metadata": {},
   "outputs": [
    {
     "data": {
      "image/png": "[encoded data removed]",
      "text/plain": [
       "<Figure size 432x288 with 1 Axes>"
      ]
     },
     "metadata": {
      "needs_background": "light"
     },
     "output_type": "display_data"
    }
   ],
   "source": [
    "data[data['churn'] == 1]['balance'].hist(bins = 1000)\n",
    "plt.xlim(0,2000000);"
   ]
  },
  {
   "cell_type": "markdown",
   "id": "86318658",
   "metadata": {},
   "source": [
    "Н0 - Средний баланс лояльного клиента = Среднему балансу отточного клиента\\\n",
    "Н1 - Средний баланс лояльного клиента ≠ Среднему балансу отточного клиента "
   ]
  },
  {
   "cell_type": "markdown",
   "id": "0e07d7f3",
   "metadata": {},
   "source": [
    "<div class=\"alert alert-block alert-danger\">✍\n",
    "    \n",
    "\n",
    "__Комментарий от тимлида №1__\n",
    "\n",
    "Отсутствует проверка на нормальность распределения данных"
   ]
  },
  {
   "cell_type": "code",
   "execution_count": 86,
   "id": "29bb5b47",
   "metadata": {},
   "outputs": [
    {
     "name": "stdout",
     "output_type": "stream",
     "text": [
      "2.4282777889249475e-08\n",
      "Отвергаем нулевую гипотезу\n"
     ]
    }
   ],
   "source": [
    "bal_churn_tt = data[data['churn'] == 1]['balance']\n",
    "bal_no_churn_tt = data[data['churn'] == 0]['balance']\n",
    "\n",
    "alpha = 0.05\n",
    "result = st.ttest_ind(bal_churn_tt, bal_no_churn_tt, equal_var=False)\n",
    "print(result.pvalue)\n",
    "if (result.pvalue < alpha):\n",
    "    print('Отвергаем нулевую гипотезу')\n",
    "else:\n",
    "    print('Не получилось отвергнуть нулевую теорию')"
   ]
  },
  {
   "cell_type": "code",
   "execution_count": 87,
   "id": "00b471b3",
   "metadata": {},
   "outputs": [
    {
     "name": "stdout",
     "output_type": "stream",
     "text": [
      "Средний баланс лояльных клиентов 728474.0\n",
      "Средний баланс отточных клиентов 984893.0\n"
     ]
    }
   ],
   "source": [
    "print('Средний баланс лояльных клиентов', data[data['churn'] == 0]['balance'].mean().round())\n",
    "print('Средний баланс отточных клиентов', data[data['churn'] == 1]['balance'].mean().round())"
   ]
  },
  {
   "cell_type": "markdown",
   "id": "e6cae5b3",
   "metadata": {},
   "source": [
    "Отвергаем нулевую теорию, вероятность того что балансы лояльных и отточных клиентов равны - низка "
   ]
  },
  {
   "cell_type": "markdown",
   "id": "66208e36",
   "metadata": {},
   "source": [
    "## Подведение итогов"
   ]
  },
  {
   "cell_type": "markdown",
   "id": "26136860",
   "metadata": {},
   "source": [
    "По результатам исследовательского и статистического анализа можно сделать несколько выводов:\n",
    "\n",
    "Есть заметная корреляция баланса с количеством баллов собственности и количеством продуктов\\\n",
    "Есть слабая корреляция оттока с количеством баллов собственности, балансом, активностью и наличием кредитной карты \n",
    "\n",
    "Отток характерен для клиентов с балансом более 500к, рейтингом от 830 до 870, в возрасте 25-35 и 51-61 год\n",
    "среди них преобладают мужчины, такие клиенты активные и у них в собственности более 3х активов, у них нет кредитки\n",
    "\n",
    "Наиболее отточными можно считать клиентов с более чем с 2 продуктами \n",
    "\n",
    "Так же подтвердилась гипотеза что у клиентов которые уходят больше баланс, возможно они нашли более выгодные условия хранения своих сбережений "
   ]
  },
  {
   "cell_type": "markdown",
   "id": "99f82658",
   "metadata": {},
   "source": [
    "<div class=\"alert alert-block alert-warning\">📝\n",
    "    \n",
    "\n",
    "__Комментарий от тимлида №1__\n",
    "\n",
    "\n",
    "Поправь, пожалуйста, выводы после корректировки"
   ]
  },
  {
   "cell_type": "markdown",
   "id": "6d28f89e",
   "metadata": {},
   "source": [
    "<div class=\"alert alert-block alert-success\">✔️\n",
    "    \n",
    "\n",
    "__Комментарий от тимлида №2__\n",
    "\n",
    "Методологически проверка гипотез проведена верно и наглядный вывод результатов. Так держать!\n",
    "</div>"
   ]
  },
  {
   "cell_type": "markdown",
   "id": "133475bf",
   "metadata": {},
   "source": [
    "Сегментация клиентов "
   ]
  },
  {
   "cell_type": "markdown",
   "id": "75c92be1",
   "metadata": {},
   "source": [
    "При выборе сегментов будем ориентироваться на исследовательский и статистический анализ "
   ]
  },
  {
   "cell_type": "code",
   "execution_count": 88,
   "id": "8bbc7cba",
   "metadata": {},
   "outputs": [
    {
     "name": "stdout",
     "output_type": "stream",
     "text": [
      "Количество человек в первом сегменте: 602\n",
      "% оттока в сегменте: 0.3588039867109635\n",
      "Средний отток по банку: 0.18\n"
     ]
    }
   ],
   "source": [
    "first_condition = data[data['age'] >= 25]\n",
    "first_condition = first_condition[first_condition['age'] <= 35]\n",
    "first_condition = first_condition[first_condition['balance'] > 900000]\n",
    "print('Количество человек в первом сегменте:',first_condition['user_id'].count())\n",
    "print('% оттока в сегменте:',first_condition['churn'].sum()/first_condition['churn'].count())\n",
    "print('Средний отток по банку:',total_churn )\n"
   ]
  },
  {
   "cell_type": "code",
   "execution_count": 89,
   "id": "94ed3191",
   "metadata": {},
   "outputs": [
    {
     "name": "stdout",
     "output_type": "stream",
     "text": [
      "Количество человек во втором сегменте: 688\n",
      "% оттока в сегменте: 0.3633720930232558\n",
      "Средний отток по банку 0.18\n"
     ]
    }
   ],
   "source": [
    "sec_cond = data[data['age'] >= 51]\n",
    "sec_cond = sec_cond[sec_cond['age'] <= 61]\n",
    "sec_cond = sec_cond[sec_cond['equity'] > 3]\n",
    "print('Количество человек во втором сегменте:',sec_cond['user_id'].count())\n",
    "print('% оттока в сегменте:',sec_cond['churn'].sum()/sec_cond['churn'].count())\n",
    "print('Средний отток по банку',total_churn )"
   ]
  },
  {
   "cell_type": "code",
   "execution_count": 90,
   "id": "f309fce6",
   "metadata": {},
   "outputs": [
    {
     "name": "stdout",
     "output_type": "stream",
     "text": [
      "Количество человек в третьем сегменте: 912\n",
      "% оттока в сегменте: 0.3432017543859649\n",
      "Средний отток по банку 0.18\n"
     ]
    }
   ],
   "source": [
    "third_cond = data[data['gender'] == 'М']\n",
    "third_cond = third_cond[third_cond['last_activity'] == 1]\n",
    "third_cond = third_cond[third_cond['age'] >= 25]\n",
    "third_cond = third_cond[third_cond['age'] <= 35]\n",
    "print('Количество человек в третьем сегменте:', third_cond['user_id'].count())\n",
    "print('% оттока в сегменте:', third_cond['churn'].sum()/third_cond['churn'].count())\n",
    "print('Средний отток по банку',total_churn )"
   ]
  },
  {
   "cell_type": "markdown",
   "id": "1aa70682",
   "metadata": {},
   "source": [
    "<div class=\"alert alert-block alert-success\">✔️\n",
    "    \n",
    "\n",
    "__Комментарий от тимлида №1__\n",
    "\n",
    "Отличные сегменты)))"
   ]
  },
  {
   "cell_type": "markdown",
   "id": "cb6357d5",
   "metadata": {},
   "source": [
    "## Приоритезация сегментов:"
   ]
  },
  {
   "cell_type": "markdown",
   "id": "c525a4b0",
   "metadata": {},
   "source": [
    "Рекомендую начать с первых двух сегментов, так как в них у нас нет разделения по полу, а значит мы сможем использовать более универсальные решения"
   ]
  },
  {
   "cell_type": "markdown",
   "id": "38095190",
   "metadata": {},
   "source": [
    "<div class=\"alert alert-block alert-success\">✔️\n",
    "    \n",
    "\n",
    "__Комментарий от тимлида №1__\n",
    "\n",
    "Согласен"
   ]
  },
  {
   "cell_type": "markdown",
   "id": "bae53cc5",
   "metadata": {},
   "source": [
    "## Формирование рекомендаций для оттела маркетинга "
   ]
  },
  {
   "cell_type": "markdown",
   "id": "68086bf8",
   "metadata": {},
   "source": [
    "В первую очередь хочется обратить внимание на сегмент клиентов в возрасте 25-35 баланс которых превышает 900 000, по которым мы имеем большой отток, тк эти люди потенциальные вкладчики, мы могли бы предложить им вклады на более выгодных условиях или повышенных процент на остаток \n",
    "\n",
    "Так же хочется отметить сегмент в возрасте от 51 до 61 года в чьем распоряжении находятся более 3х активов, мы могли бы предложить им льготные условия по страхованию или возможность застраховать больше двух видов имущества со скидкой \n",
    "\n",
    "\n",
    "Стоит так же обратить внимание на активных клиентов с балансом более 600 000 и большим количеством собственности исходя из полученного портрета клиента.\\\n",
    "Как показала проверка гипотез, предполагаемый доход не влияет на отток клиента "
   ]
  },
  {
   "cell_type": "markdown",
   "id": "ab7046bf",
   "metadata": {},
   "source": [
    "<div class=\"alert alert-block alert-danger\">✍\n",
    "    \n",
    "\n",
    "__Комментарий от тимлида №1__\n",
    "\n",
    "Хорошие рекомендации, но отсутствует описание портрета пользователя и информации про гипотезы. Иначе непонятно, зачем мы их рассматривали"
   ]
  },
  {
   "cell_type": "markdown",
   "id": "ea8dd664",
   "metadata": {},
   "source": [
    "<div class=\"alert alert-block alert-success\">✔️\n",
    "    \n",
    "\n",
    "__Комментарий от тимлида №2__\n",
    "\n",
    "Спасибо за правку"
   ]
  },
  {
   "cell_type": "markdown",
   "id": "8004f7bc",
   "metadata": {},
   "source": []
  },
  {
   "cell_type": "markdown",
   "id": "ce980e80",
   "metadata": {},
   "source": []
  },
  {
   "cell_type": "markdown",
   "id": "0c61d326",
   "metadata": {},
   "source": [
    "<div class=\"alert alert-block alert-warning\">📝\n",
    "Комментарий от тимлида №1 </b> \n",
    "\n",
    "\n",
    "\n",
    "Итог ревью - ты проделал хорошую работу! Многие расчеты корректные, грамотная интерпретация полученных результатов! У тебя есть понимание данного процесса. Но есть некоторые моменты которые тебе предстоит доработать, чтобы я смог принять твой проект. Если возникнут вопросы - обязательно задавай. Буду ждать!\n",
    "\n",
    "---\n",
    "\n",
    "\n",
    "----\n",
    "\n",
    "\n",
    "Если у тебя будут какие-то вопросы по моим комментариям - обязательно пиши! Буду ждать работу на повторное ревью :)</div>"
   ]
  },
  {
   "cell_type": "markdown",
   "id": "ed566148",
   "metadata": {},
   "source": [
    "<div class=\"alert alert-block alert-warning\">📝\n",
    "Комментарий от тимлида №2 </b> \n",
    "\n",
    "\n",
    "\n",
    "Отличная работа, осталось поправить пару моментов на этапе предобработки\n",
    "\n",
    "---\n",
    "\n",
    "\n",
    "----\n",
    "\n",
    "\n",
    "Если у тебя будут какие-то вопросы по моим комментариям - обязательно пиши! Буду ждать работу на повторное ревью :)</div>"
   ]
  },
  {
   "cell_type": "markdown",
   "id": "43f16e80",
   "metadata": {},
   "source": [
    "<div class=\"alert alert-block alert-warning\">📝\n",
    "Комментарий от тимлида №3 </b> \n",
    "\n",
    "\n",
    "\n",
    "Последний штрих:\n",
    "\n",
    "---\n",
    "\n",
    "\n",
    "----\n",
    "\n",
    "\n",
    "Если у тебя будут какие-то вопросы по моим комментариям - обязательно пиши! Буду ждать работу на повторное ревью :)</div>"
   ]
  },
  {
   "cell_type": "markdown",
   "id": "41059a96",
   "metadata": {},
   "source": [
    "<div class=\"alert alert-block alert-success\">✔️\n",
    "    \n",
    "\n",
    "__Комментарий от тимлида №4__\n",
    "\n",
    "От себя хочу порекомендовать тебе отличную книгу про язык Python. Она очень классная (можно купить как новую, так и на Авито попадается. Вот ссылка на pdf этой книги)\n",
    "    \n",
    "https://monster-book.com/avtomatizaciya-zadach-s-python\n",
    "    \n",
    "---\n",
    "    \n",
    "\n",
    "\n",
    "Все замечания учтены. Успехов на АВ тесте!\n",
    "</div>"
   ]
  },
  {
   "cell_type": "code",
   "execution_count": null,
   "id": "7032ba78",
   "metadata": {},
   "outputs": [],
   "source": []
  }
 ],
 "metadata": {
  "ExecuteTimeLog": [
   {
    "duration": 1216,
    "start_time": "2023-10-18T11:55:46.510Z"
   },
   {
    "duration": 142,
    "start_time": "2023-10-18T11:55:47.728Z"
   },
   {
    "duration": 19,
    "start_time": "2023-10-18T11:55:47.872Z"
   },
   {
    "duration": 7,
    "start_time": "2023-10-18T11:55:47.893Z"
   },
   {
    "duration": 37,
    "start_time": "2023-10-18T11:55:47.902Z"
   },
   {
    "duration": 20,
    "start_time": "2023-10-18T11:55:47.940Z"
   },
   {
    "duration": 26,
    "start_time": "2023-10-18T11:55:47.962Z"
   },
   {
    "duration": 4,
    "start_time": "2023-10-18T11:55:47.990Z"
   },
   {
    "duration": 31,
    "start_time": "2023-10-18T11:55:47.995Z"
   },
   {
    "duration": 5,
    "start_time": "2023-10-18T11:55:48.028Z"
   },
   {
    "duration": 9,
    "start_time": "2023-10-18T11:55:48.035Z"
   },
   {
    "duration": 7,
    "start_time": "2023-10-18T11:55:48.046Z"
   },
   {
    "duration": 16,
    "start_time": "2023-10-18T11:55:48.055Z"
   },
   {
    "duration": 4,
    "start_time": "2023-10-18T11:55:48.076Z"
   },
   {
    "duration": 41,
    "start_time": "2023-10-18T11:55:48.081Z"
   },
   {
    "duration": 3,
    "start_time": "2023-10-18T11:55:48.126Z"
   },
   {
    "duration": 8,
    "start_time": "2023-10-18T11:55:48.131Z"
   },
   {
    "duration": 10,
    "start_time": "2023-10-18T11:55:48.141Z"
   },
   {
    "duration": 42,
    "start_time": "2023-10-18T11:55:48.153Z"
   },
   {
    "duration": 6,
    "start_time": "2023-10-18T11:55:48.197Z"
   },
   {
    "duration": 17,
    "start_time": "2023-10-18T11:55:48.205Z"
   },
   {
    "duration": 6,
    "start_time": "2023-10-18T11:55:48.226Z"
   },
   {
    "duration": 10,
    "start_time": "2023-10-18T11:55:48.233Z"
   },
   {
    "duration": 1439,
    "start_time": "2023-10-18T11:55:48.244Z"
   },
   {
    "duration": 6,
    "start_time": "2023-10-18T11:55:49.685Z"
   },
   {
    "duration": 31,
    "start_time": "2023-10-18T11:55:49.692Z"
   },
   {
    "duration": 23,
    "start_time": "2023-10-18T11:55:49.726Z"
   },
   {
    "duration": 19,
    "start_time": "2023-10-18T11:55:49.752Z"
   },
   {
    "duration": 8,
    "start_time": "2023-10-18T11:55:49.773Z"
   },
   {
    "duration": 17,
    "start_time": "2023-10-18T11:55:49.783Z"
   },
   {
    "duration": 1536,
    "start_time": "2023-10-18T11:55:49.801Z"
   },
   {
    "duration": 11,
    "start_time": "2023-10-18T11:55:51.338Z"
   },
   {
    "duration": 26,
    "start_time": "2023-10-18T11:55:51.350Z"
   },
   {
    "duration": 26,
    "start_time": "2023-10-18T11:55:51.377Z"
   },
   {
    "duration": 34,
    "start_time": "2023-10-18T11:55:51.404Z"
   },
   {
    "duration": 13,
    "start_time": "2023-10-18T11:55:51.440Z"
   },
   {
    "duration": 315,
    "start_time": "2023-10-18T11:55:51.454Z"
   },
   {
    "duration": 5,
    "start_time": "2023-10-18T11:55:51.771Z"
   },
   {
    "duration": 641,
    "start_time": "2023-10-18T11:55:51.777Z"
   },
   {
    "duration": 591,
    "start_time": "2023-10-18T11:55:52.423Z"
   },
   {
    "duration": 4,
    "start_time": "2023-10-18T11:55:53.028Z"
   },
   {
    "duration": 503,
    "start_time": "2023-10-18T11:55:53.034Z"
   },
   {
    "duration": 6,
    "start_time": "2023-10-18T11:55:53.538Z"
   },
   {
    "duration": 13,
    "start_time": "2023-10-18T11:55:53.545Z"
   },
   {
    "duration": 28,
    "start_time": "2023-10-18T11:55:53.560Z"
   },
   {
    "duration": 515,
    "start_time": "2023-10-18T11:55:53.590Z"
   },
   {
    "duration": 10,
    "start_time": "2023-10-18T11:55:54.107Z"
   },
   {
    "duration": 332,
    "start_time": "2023-10-18T11:55:54.118Z"
   },
   {
    "duration": 425,
    "start_time": "2023-10-18T11:55:54.452Z"
   },
   {
    "duration": 123,
    "start_time": "2023-10-18T11:55:54.878Z"
   },
   {
    "duration": 379,
    "start_time": "2023-10-18T11:55:55.003Z"
   },
   {
    "duration": 198,
    "start_time": "2023-10-18T11:55:55.385Z"
   },
   {
    "duration": 609,
    "start_time": "2023-10-18T11:55:55.585Z"
   },
   {
    "duration": 235,
    "start_time": "2023-10-18T11:55:56.196Z"
   },
   {
    "duration": 443,
    "start_time": "2023-10-18T11:55:56.433Z"
   },
   {
    "duration": 161,
    "start_time": "2023-10-18T11:55:56.877Z"
   },
   {
    "duration": 347,
    "start_time": "2023-10-18T11:55:57.040Z"
   },
   {
    "duration": 160,
    "start_time": "2023-10-18T11:55:57.389Z"
   },
   {
    "duration": 320,
    "start_time": "2023-10-18T11:55:57.551Z"
   },
   {
    "duration": 16,
    "start_time": "2023-10-18T11:55:57.874Z"
   },
   {
    "duration": 33,
    "start_time": "2023-10-18T11:55:57.892Z"
   },
   {
    "duration": 36,
    "start_time": "2023-10-18T11:55:57.929Z"
   },
   {
    "duration": 515,
    "start_time": "2023-10-18T11:55:57.967Z"
   },
   {
    "duration": 32,
    "start_time": "2023-10-18T11:55:58.484Z"
   },
   {
    "duration": 8,
    "start_time": "2023-10-18T11:55:58.519Z"
   },
   {
    "duration": 33,
    "start_time": "2023-10-18T11:55:58.528Z"
   },
   {
    "duration": 32,
    "start_time": "2023-10-18T11:55:58.563Z"
   },
   {
    "duration": 31,
    "start_time": "2023-10-18T11:55:58.597Z"
   },
   {
    "duration": 15,
    "start_time": "2023-10-18T11:55:58.630Z"
   },
   {
    "duration": 21,
    "start_time": "2023-10-18T11:55:58.646Z"
   },
   {
    "duration": 17,
    "start_time": "2023-10-18T11:55:58.669Z"
   },
   {
    "duration": 18,
    "start_time": "2023-10-18T11:55:58.687Z"
   },
   {
    "duration": 25,
    "start_time": "2023-10-18T11:55:58.706Z"
   },
   {
    "duration": 10,
    "start_time": "2023-10-18T11:55:58.733Z"
   },
   {
    "duration": 9,
    "start_time": "2023-10-18T11:55:58.745Z"
   },
   {
    "duration": 103,
    "start_time": "2023-10-18T11:55:58.755Z"
   },
   {
    "duration": 293,
    "start_time": "2023-10-18T11:55:58.860Z"
   },
   {
    "duration": 357,
    "start_time": "2023-10-18T11:55:59.156Z"
   },
   {
    "duration": 14,
    "start_time": "2023-10-18T11:55:59.516Z"
   },
   {
    "duration": 11,
    "start_time": "2023-10-18T11:55:59.532Z"
   },
   {
    "duration": 8,
    "start_time": "2023-10-18T11:55:59.544Z"
   },
   {
    "duration": 20,
    "start_time": "2023-10-18T11:55:59.553Z"
   },
   {
    "duration": 12,
    "start_time": "2023-10-18T11:55:59.575Z"
   },
   {
    "duration": 20,
    "start_time": "2023-10-18T11:55:59.589Z"
   },
   {
    "duration": 12,
    "start_time": "2023-10-18T11:55:59.621Z"
   },
   {
    "duration": 13,
    "start_time": "2023-10-18T12:08:21.544Z"
   },
   {
    "duration": 58,
    "start_time": "2023-10-19T08:45:14.765Z"
   },
   {
    "duration": 1572,
    "start_time": "2023-10-19T08:45:25.883Z"
   },
   {
    "duration": 131,
    "start_time": "2023-10-19T08:45:27.457Z"
   },
   {
    "duration": 18,
    "start_time": "2023-10-19T08:45:27.590Z"
   },
   {
    "duration": 13,
    "start_time": "2023-10-19T08:45:27.611Z"
   },
   {
    "duration": 5,
    "start_time": "2023-10-19T08:45:27.626Z"
   },
   {
    "duration": 34,
    "start_time": "2023-10-19T08:45:27.632Z"
   },
   {
    "duration": 16,
    "start_time": "2023-10-19T08:45:27.667Z"
   },
   {
    "duration": 7,
    "start_time": "2023-10-19T08:45:27.684Z"
   },
   {
    "duration": 98,
    "start_time": "2023-10-19T08:45:27.692Z"
   },
   {
    "duration": 113,
    "start_time": "2023-10-19T08:45:27.793Z"
   },
   {
    "duration": 46,
    "start_time": "2023-10-19T08:45:27.907Z"
   },
   {
    "duration": 13,
    "start_time": "2023-10-19T08:45:27.955Z"
   },
   {
    "duration": 55,
    "start_time": "2023-10-19T08:45:27.970Z"
   },
   {
    "duration": 15,
    "start_time": "2023-10-19T08:45:28.027Z"
   },
   {
    "duration": 44,
    "start_time": "2023-10-19T08:45:28.044Z"
   },
   {
    "duration": 15,
    "start_time": "2023-10-19T08:45:28.090Z"
   },
   {
    "duration": 79,
    "start_time": "2023-10-19T08:45:28.107Z"
   },
   {
    "duration": 29,
    "start_time": "2023-10-19T08:45:28.188Z"
   },
   {
    "duration": 33,
    "start_time": "2023-10-19T08:45:28.219Z"
   },
   {
    "duration": 87,
    "start_time": "2023-10-19T08:45:28.253Z"
   },
   {
    "duration": 49,
    "start_time": "2023-10-19T08:45:28.342Z"
   },
   {
    "duration": 69,
    "start_time": "2023-10-19T08:45:28.393Z"
   },
   {
    "duration": 50,
    "start_time": "2023-10-19T08:45:28.464Z"
   },
   {
    "duration": 1363,
    "start_time": "2023-10-19T08:45:28.517Z"
   },
   {
    "duration": 6,
    "start_time": "2023-10-19T08:45:29.881Z"
   },
   {
    "duration": 28,
    "start_time": "2023-10-19T08:45:29.889Z"
   },
   {
    "duration": 14,
    "start_time": "2023-10-19T08:45:29.919Z"
   },
   {
    "duration": 15,
    "start_time": "2023-10-19T08:45:29.938Z"
   },
   {
    "duration": 39,
    "start_time": "2023-10-19T08:45:29.955Z"
   },
   {
    "duration": 84,
    "start_time": "2023-10-19T08:45:29.996Z"
   },
   {
    "duration": 1564,
    "start_time": "2023-10-19T08:45:30.082Z"
   },
   {
    "duration": 9,
    "start_time": "2023-10-19T08:45:31.648Z"
   },
   {
    "duration": 168,
    "start_time": "2023-10-19T08:45:31.659Z"
   },
   {
    "duration": 187,
    "start_time": "2023-10-19T08:45:31.829Z"
   },
   {
    "duration": 54,
    "start_time": "2023-10-19T08:45:32.018Z"
   },
   {
    "duration": 42,
    "start_time": "2023-10-19T08:45:32.074Z"
   },
   {
    "duration": 365,
    "start_time": "2023-10-19T08:45:32.118Z"
   },
   {
    "duration": 4,
    "start_time": "2023-10-19T08:45:32.485Z"
   },
   {
    "duration": 996,
    "start_time": "2023-10-19T08:45:32.491Z"
   },
   {
    "duration": 613,
    "start_time": "2023-10-19T08:45:33.489Z"
   },
   {
    "duration": 19,
    "start_time": "2023-10-19T08:45:34.104Z"
   },
   {
    "duration": 499,
    "start_time": "2023-10-19T08:45:34.125Z"
   },
   {
    "duration": 5,
    "start_time": "2023-10-19T08:45:34.626Z"
   },
   {
    "duration": 110,
    "start_time": "2023-10-19T08:45:34.632Z"
   },
   {
    "duration": 176,
    "start_time": "2023-10-19T08:45:34.744Z"
   },
   {
    "duration": 718,
    "start_time": "2023-10-19T08:45:34.922Z"
   },
   {
    "duration": 4,
    "start_time": "2023-10-19T08:45:35.642Z"
   },
   {
    "duration": 185,
    "start_time": "2023-10-19T08:45:35.648Z"
   },
   {
    "duration": 343,
    "start_time": "2023-10-19T08:45:35.836Z"
   },
   {
    "duration": 143,
    "start_time": "2023-10-19T08:45:36.181Z"
   },
   {
    "duration": 673,
    "start_time": "2023-10-19T08:45:36.326Z"
   },
   {
    "duration": 136,
    "start_time": "2023-10-19T08:45:37.000Z"
   },
   {
    "duration": 577,
    "start_time": "2023-10-19T08:45:37.138Z"
   },
   {
    "duration": 221,
    "start_time": "2023-10-19T08:45:37.717Z"
   },
   {
    "duration": 597,
    "start_time": "2023-10-19T08:45:37.940Z"
   },
   {
    "duration": 134,
    "start_time": "2023-10-19T08:45:38.538Z"
   },
   {
    "duration": 596,
    "start_time": "2023-10-19T08:45:38.674Z"
   },
   {
    "duration": 132,
    "start_time": "2023-10-19T08:45:39.271Z"
   },
   {
    "duration": 371,
    "start_time": "2023-10-19T08:45:39.405Z"
   },
   {
    "duration": 12,
    "start_time": "2023-10-19T08:45:39.778Z"
   },
   {
    "duration": 70,
    "start_time": "2023-10-19T08:45:39.792Z"
   },
   {
    "duration": 334,
    "start_time": "2023-10-19T08:45:39.864Z"
   },
   {
    "duration": 543,
    "start_time": "2023-10-19T08:45:40.199Z"
   },
   {
    "duration": 20,
    "start_time": "2023-10-19T08:45:40.743Z"
   },
   {
    "duration": 6,
    "start_time": "2023-10-19T08:45:40.764Z"
   },
   {
    "duration": 6,
    "start_time": "2023-10-19T08:45:40.772Z"
   },
   {
    "duration": 18,
    "start_time": "2023-10-19T08:45:40.779Z"
   },
   {
    "duration": 4,
    "start_time": "2023-10-19T08:45:40.823Z"
   },
   {
    "duration": 19,
    "start_time": "2023-10-19T08:45:40.828Z"
   },
   {
    "duration": 10,
    "start_time": "2023-10-19T08:45:40.849Z"
   },
   {
    "duration": 16,
    "start_time": "2023-10-19T08:45:40.860Z"
   },
   {
    "duration": 9,
    "start_time": "2023-10-19T08:45:40.878Z"
   },
   {
    "duration": 15,
    "start_time": "2023-10-19T08:45:40.888Z"
   },
   {
    "duration": 6,
    "start_time": "2023-10-19T08:45:40.905Z"
   },
   {
    "duration": 19,
    "start_time": "2023-10-19T08:45:40.913Z"
   },
   {
    "duration": 13,
    "start_time": "2023-10-19T08:45:40.934Z"
   },
   {
    "duration": 260,
    "start_time": "2023-10-19T08:45:40.949Z"
   },
   {
    "duration": 327,
    "start_time": "2023-10-19T08:45:41.211Z"
   },
   {
    "duration": 8,
    "start_time": "2023-10-19T08:45:41.539Z"
   },
   {
    "duration": 64,
    "start_time": "2023-10-19T08:45:41.548Z"
   },
   {
    "duration": 34,
    "start_time": "2023-10-19T08:45:41.614Z"
   },
   {
    "duration": 12,
    "start_time": "2023-10-19T08:45:41.653Z"
   },
   {
    "duration": 17,
    "start_time": "2023-10-19T08:45:41.667Z"
   },
   {
    "duration": 14,
    "start_time": "2023-10-19T08:45:41.686Z"
   },
   {
    "duration": 14,
    "start_time": "2023-10-19T08:45:41.702Z"
   },
   {
    "duration": 1433,
    "start_time": "2023-10-19T08:45:47.981Z"
   },
   {
    "duration": 1539,
    "start_time": "2023-10-19T08:46:29.782Z"
   },
   {
    "duration": 1450,
    "start_time": "2023-10-19T08:49:06.384Z"
   },
   {
    "duration": 1517,
    "start_time": "2023-10-19T08:49:20.631Z"
   },
   {
    "duration": 1496,
    "start_time": "2023-10-19T08:49:33.744Z"
   },
   {
    "duration": 1266,
    "start_time": "2023-10-19T08:50:33.110Z"
   },
   {
    "duration": 155,
    "start_time": "2023-10-19T08:50:34.378Z"
   },
   {
    "duration": 19,
    "start_time": "2023-10-19T08:50:34.535Z"
   },
   {
    "duration": 8,
    "start_time": "2023-10-19T08:50:34.557Z"
   },
   {
    "duration": 10,
    "start_time": "2023-10-19T08:50:34.568Z"
   },
   {
    "duration": 32,
    "start_time": "2023-10-19T08:50:34.581Z"
   },
   {
    "duration": 21,
    "start_time": "2023-10-19T08:50:34.616Z"
   },
   {
    "duration": 5,
    "start_time": "2023-10-19T08:50:34.640Z"
   },
   {
    "duration": 14,
    "start_time": "2023-10-19T08:50:34.646Z"
   },
   {
    "duration": 5,
    "start_time": "2023-10-19T08:50:34.663Z"
   },
   {
    "duration": 21,
    "start_time": "2023-10-19T08:50:34.671Z"
   },
   {
    "duration": 20,
    "start_time": "2023-10-19T08:50:34.694Z"
   },
   {
    "duration": 28,
    "start_time": "2023-10-19T08:50:34.716Z"
   },
   {
    "duration": 9,
    "start_time": "2023-10-19T08:50:34.746Z"
   },
   {
    "duration": 28,
    "start_time": "2023-10-19T08:50:34.757Z"
   },
   {
    "duration": 7,
    "start_time": "2023-10-19T08:50:34.787Z"
   },
   {
    "duration": 21,
    "start_time": "2023-10-19T08:50:34.796Z"
   },
   {
    "duration": 17,
    "start_time": "2023-10-19T08:50:34.819Z"
   },
   {
    "duration": 13,
    "start_time": "2023-10-19T08:50:34.838Z"
   },
   {
    "duration": 8,
    "start_time": "2023-10-19T08:50:34.853Z"
   },
   {
    "duration": 31,
    "start_time": "2023-10-19T08:50:34.864Z"
   },
   {
    "duration": 43,
    "start_time": "2023-10-19T08:50:34.898Z"
   },
   {
    "duration": 32,
    "start_time": "2023-10-19T08:50:34.943Z"
   },
   {
    "duration": 1548,
    "start_time": "2023-10-19T08:50:35.595Z"
   },
   {
    "duration": 6,
    "start_time": "2023-10-19T08:50:37.145Z"
   },
   {
    "duration": 7,
    "start_time": "2023-10-19T08:50:37.153Z"
   },
   {
    "duration": 14,
    "start_time": "2023-10-19T08:50:37.161Z"
   },
   {
    "duration": 19,
    "start_time": "2023-10-19T08:50:37.178Z"
   },
   {
    "duration": 27,
    "start_time": "2023-10-19T08:50:37.200Z"
   },
   {
    "duration": 22,
    "start_time": "2023-10-19T08:50:37.228Z"
   },
   {
    "duration": 1504,
    "start_time": "2023-10-19T08:50:37.252Z"
   },
   {
    "duration": 11,
    "start_time": "2023-10-19T08:50:38.757Z"
   },
   {
    "duration": 21,
    "start_time": "2023-10-19T08:50:38.769Z"
   },
   {
    "duration": 4,
    "start_time": "2023-10-19T08:50:38.791Z"
   },
   {
    "duration": 34,
    "start_time": "2023-10-19T08:50:38.797Z"
   },
   {
    "duration": 25,
    "start_time": "2023-10-19T08:50:38.833Z"
   },
   {
    "duration": 286,
    "start_time": "2023-10-19T08:50:38.862Z"
   },
   {
    "duration": 5,
    "start_time": "2023-10-19T08:50:39.149Z"
   },
   {
    "duration": 642,
    "start_time": "2023-10-19T08:50:39.155Z"
   },
   {
    "duration": 636,
    "start_time": "2023-10-19T08:50:39.799Z"
   },
   {
    "duration": 7,
    "start_time": "2023-10-19T08:50:40.437Z"
   },
   {
    "duration": 520,
    "start_time": "2023-10-19T08:50:40.446Z"
   },
   {
    "duration": 7,
    "start_time": "2023-10-19T08:50:40.967Z"
   },
   {
    "duration": 31,
    "start_time": "2023-10-19T08:50:40.976Z"
   },
   {
    "duration": 9,
    "start_time": "2023-10-19T08:50:41.009Z"
   },
   {
    "duration": 504,
    "start_time": "2023-10-19T08:50:41.020Z"
   },
   {
    "duration": 5,
    "start_time": "2023-10-19T08:50:41.526Z"
   },
   {
    "duration": 119,
    "start_time": "2023-10-19T08:50:41.533Z"
   },
   {
    "duration": 313,
    "start_time": "2023-10-19T08:50:41.654Z"
   },
   {
    "duration": 118,
    "start_time": "2023-10-19T08:50:41.969Z"
   },
   {
    "duration": 404,
    "start_time": "2023-10-19T08:50:42.088Z"
   },
   {
    "duration": 151,
    "start_time": "2023-10-19T08:50:42.494Z"
   },
   {
    "duration": 1199,
    "start_time": "2023-10-19T08:52:42.380Z"
   },
   {
    "duration": 346,
    "start_time": "2023-10-19T08:52:43.580Z"
   },
   {
    "duration": 28,
    "start_time": "2023-10-19T08:52:43.928Z"
   },
   {
    "duration": 19,
    "start_time": "2023-10-19T08:52:43.958Z"
   },
   {
    "duration": 9,
    "start_time": "2023-10-19T08:52:43.979Z"
   },
   {
    "duration": 34,
    "start_time": "2023-10-19T08:52:43.990Z"
   },
   {
    "duration": 27,
    "start_time": "2023-10-19T08:52:44.026Z"
   },
   {
    "duration": 57,
    "start_time": "2023-10-19T08:52:44.055Z"
   },
   {
    "duration": 22,
    "start_time": "2023-10-19T08:52:44.114Z"
   },
   {
    "duration": 21,
    "start_time": "2023-10-19T08:52:44.139Z"
   },
   {
    "duration": 10,
    "start_time": "2023-10-19T08:52:44.162Z"
   },
   {
    "duration": 7,
    "start_time": "2023-10-19T08:52:44.174Z"
   },
   {
    "duration": 45,
    "start_time": "2023-10-19T08:52:44.183Z"
   },
   {
    "duration": 4,
    "start_time": "2023-10-19T08:52:44.230Z"
   },
   {
    "duration": 31,
    "start_time": "2023-10-19T08:52:44.236Z"
   },
   {
    "duration": 4,
    "start_time": "2023-10-19T08:52:44.269Z"
   },
   {
    "duration": 49,
    "start_time": "2023-10-19T08:52:44.275Z"
   },
   {
    "duration": 4,
    "start_time": "2023-10-19T08:52:44.886Z"
   },
   {
    "duration": 36,
    "start_time": "2023-10-19T08:52:44.892Z"
   },
   {
    "duration": 14,
    "start_time": "2023-10-19T08:52:44.930Z"
   },
   {
    "duration": 7,
    "start_time": "2023-10-19T08:52:45.182Z"
   },
   {
    "duration": 14,
    "start_time": "2023-10-19T08:52:45.192Z"
   },
   {
    "duration": 16,
    "start_time": "2023-10-19T08:52:45.208Z"
   },
   {
    "duration": 1777,
    "start_time": "2023-10-19T08:52:45.226Z"
   },
   {
    "duration": 7,
    "start_time": "2023-10-19T08:52:47.005Z"
   },
   {
    "duration": 67,
    "start_time": "2023-10-19T08:52:47.023Z"
   },
   {
    "duration": 76,
    "start_time": "2023-10-19T08:52:47.092Z"
   },
   {
    "duration": 32,
    "start_time": "2023-10-19T08:52:47.169Z"
   },
   {
    "duration": 43,
    "start_time": "2023-10-19T08:52:47.203Z"
   },
   {
    "duration": 67,
    "start_time": "2023-10-19T08:52:47.248Z"
   },
   {
    "duration": 1514,
    "start_time": "2023-10-19T08:52:47.318Z"
   },
   {
    "duration": 10,
    "start_time": "2023-10-19T08:52:48.834Z"
   },
   {
    "duration": 23,
    "start_time": "2023-10-19T08:52:48.845Z"
   },
   {
    "duration": 13,
    "start_time": "2023-10-19T08:52:48.871Z"
   },
   {
    "duration": 66,
    "start_time": "2023-10-19T08:52:48.885Z"
   },
   {
    "duration": 41,
    "start_time": "2023-10-19T08:52:48.954Z"
   },
   {
    "duration": 342,
    "start_time": "2023-10-19T08:52:48.996Z"
   },
   {
    "duration": 4,
    "start_time": "2023-10-19T08:52:49.340Z"
   },
   {
    "duration": 612,
    "start_time": "2023-10-19T08:52:49.346Z"
   },
   {
    "duration": 663,
    "start_time": "2023-10-19T08:52:49.961Z"
   },
   {
    "duration": 6,
    "start_time": "2023-10-19T08:52:50.626Z"
   },
   {
    "duration": 641,
    "start_time": "2023-10-19T08:52:50.633Z"
   },
   {
    "duration": 5,
    "start_time": "2023-10-19T08:52:51.276Z"
   },
   {
    "duration": 32,
    "start_time": "2023-10-19T08:52:51.283Z"
   },
   {
    "duration": 54,
    "start_time": "2023-10-19T08:52:51.317Z"
   },
   {
    "duration": 529,
    "start_time": "2023-10-19T08:52:51.373Z"
   },
   {
    "duration": 5,
    "start_time": "2023-10-19T08:52:51.904Z"
   },
   {
    "duration": 146,
    "start_time": "2023-10-19T08:52:51.912Z"
   },
   {
    "duration": 404,
    "start_time": "2023-10-19T08:52:52.060Z"
   },
   {
    "duration": 117,
    "start_time": "2023-10-19T08:52:52.466Z"
   },
   {
    "duration": 441,
    "start_time": "2023-10-19T08:52:52.585Z"
   },
   {
    "duration": 130,
    "start_time": "2023-10-19T08:52:53.027Z"
   },
   {
    "duration": 556,
    "start_time": "2023-10-19T08:52:53.159Z"
   },
   {
    "duration": 231,
    "start_time": "2023-10-19T08:52:53.716Z"
   },
   {
    "duration": 558,
    "start_time": "2023-10-19T08:52:53.949Z"
   },
   {
    "duration": 150,
    "start_time": "2023-10-19T08:52:54.509Z"
   },
   {
    "duration": 342,
    "start_time": "2023-10-19T08:52:54.660Z"
   },
   {
    "duration": 162,
    "start_time": "2023-10-19T08:52:55.004Z"
   },
   {
    "duration": 328,
    "start_time": "2023-10-19T08:52:55.168Z"
   },
   {
    "duration": 41,
    "start_time": "2023-10-19T08:52:55.498Z"
   },
   {
    "duration": 14,
    "start_time": "2023-10-19T08:52:55.546Z"
   },
   {
    "duration": 45,
    "start_time": "2023-10-19T08:52:55.562Z"
   },
   {
    "duration": 569,
    "start_time": "2023-10-19T08:52:55.625Z"
   },
   {
    "duration": 39,
    "start_time": "2023-10-19T08:52:56.196Z"
   },
   {
    "duration": 12,
    "start_time": "2023-10-19T08:52:56.237Z"
   },
   {
    "duration": 26,
    "start_time": "2023-10-19T08:52:56.250Z"
   },
   {
    "duration": 54,
    "start_time": "2023-10-19T08:52:56.277Z"
   },
   {
    "duration": 15,
    "start_time": "2023-10-19T08:52:56.333Z"
   },
   {
    "duration": 34,
    "start_time": "2023-10-19T08:52:56.351Z"
   },
   {
    "duration": 19,
    "start_time": "2023-10-19T08:52:56.388Z"
   },
   {
    "duration": 22,
    "start_time": "2023-10-19T08:52:56.410Z"
   },
   {
    "duration": 25,
    "start_time": "2023-10-19T08:52:56.435Z"
   },
   {
    "duration": 22,
    "start_time": "2023-10-19T08:52:56.463Z"
   },
   {
    "duration": 61,
    "start_time": "2023-10-19T08:52:56.487Z"
   },
   {
    "duration": 47,
    "start_time": "2023-10-19T08:52:56.550Z"
   },
   {
    "duration": 66,
    "start_time": "2023-10-19T08:52:56.599Z"
   },
   {
    "duration": 315,
    "start_time": "2023-10-19T08:52:56.667Z"
   },
   {
    "duration": 385,
    "start_time": "2023-10-19T08:52:56.984Z"
   },
   {
    "duration": 12,
    "start_time": "2023-10-19T08:52:57.371Z"
   },
   {
    "duration": 38,
    "start_time": "2023-10-19T08:52:57.385Z"
   },
   {
    "duration": 45,
    "start_time": "2023-10-19T08:52:57.425Z"
   },
   {
    "duration": 23,
    "start_time": "2023-10-19T08:52:57.473Z"
   },
   {
    "duration": 35,
    "start_time": "2023-10-19T08:52:57.498Z"
   },
   {
    "duration": 49,
    "start_time": "2023-10-19T08:52:57.536Z"
   },
   {
    "duration": 39,
    "start_time": "2023-10-19T08:52:57.589Z"
   },
   {
    "duration": 1509,
    "start_time": "2023-10-19T08:54:24.556Z"
   },
   {
    "duration": 1572,
    "start_time": "2023-10-19T08:54:37.463Z"
   },
   {
    "duration": 1729,
    "start_time": "2023-10-19T08:54:54.809Z"
   },
   {
    "duration": 1219,
    "start_time": "2023-10-19T08:55:12.529Z"
   },
   {
    "duration": 230,
    "start_time": "2023-10-19T08:55:13.750Z"
   },
   {
    "duration": 18,
    "start_time": "2023-10-19T08:55:13.981Z"
   },
   {
    "duration": 39,
    "start_time": "2023-10-19T08:55:14.001Z"
   },
   {
    "duration": 22,
    "start_time": "2023-10-19T08:55:14.042Z"
   },
   {
    "duration": 37,
    "start_time": "2023-10-19T08:55:14.066Z"
   },
   {
    "duration": 38,
    "start_time": "2023-10-19T08:55:14.105Z"
   },
   {
    "duration": 16,
    "start_time": "2023-10-19T08:55:14.145Z"
   },
   {
    "duration": 33,
    "start_time": "2023-10-19T08:55:14.163Z"
   },
   {
    "duration": 26,
    "start_time": "2023-10-19T08:55:14.197Z"
   },
   {
    "duration": 19,
    "start_time": "2023-10-19T08:55:14.225Z"
   },
   {
    "duration": 23,
    "start_time": "2023-10-19T08:55:14.245Z"
   },
   {
    "duration": 31,
    "start_time": "2023-10-19T08:55:14.270Z"
   },
   {
    "duration": 27,
    "start_time": "2023-10-19T08:55:14.304Z"
   },
   {
    "duration": 34,
    "start_time": "2023-10-19T08:55:14.333Z"
   },
   {
    "duration": 32,
    "start_time": "2023-10-19T08:55:14.368Z"
   },
   {
    "duration": 36,
    "start_time": "2023-10-19T08:55:14.402Z"
   },
   {
    "duration": 27,
    "start_time": "2023-10-19T08:55:14.440Z"
   },
   {
    "duration": 36,
    "start_time": "2023-10-19T08:55:14.469Z"
   },
   {
    "duration": 31,
    "start_time": "2023-10-19T08:55:14.507Z"
   },
   {
    "duration": 25,
    "start_time": "2023-10-19T08:55:14.540Z"
   },
   {
    "duration": 20,
    "start_time": "2023-10-19T08:55:14.567Z"
   },
   {
    "duration": 30,
    "start_time": "2023-10-19T08:55:14.589Z"
   },
   {
    "duration": 1680,
    "start_time": "2023-10-19T08:55:14.621Z"
   },
   {
    "duration": 21,
    "start_time": "2023-10-19T08:55:16.304Z"
   },
   {
    "duration": 14,
    "start_time": "2023-10-19T08:55:16.327Z"
   },
   {
    "duration": 20,
    "start_time": "2023-10-19T08:55:16.343Z"
   },
   {
    "duration": 21,
    "start_time": "2023-10-19T08:55:16.365Z"
   },
   {
    "duration": 20,
    "start_time": "2023-10-19T08:55:16.389Z"
   },
   {
    "duration": 16,
    "start_time": "2023-10-19T08:55:16.411Z"
   },
   {
    "duration": 1452,
    "start_time": "2023-10-19T08:55:16.429Z"
   },
   {
    "duration": 10,
    "start_time": "2023-10-19T08:55:17.883Z"
   },
   {
    "duration": 9,
    "start_time": "2023-10-19T08:55:17.894Z"
   },
   {
    "duration": 19,
    "start_time": "2023-10-19T08:55:17.905Z"
   },
   {
    "duration": 16,
    "start_time": "2023-10-19T08:55:17.926Z"
   },
   {
    "duration": 7,
    "start_time": "2023-10-19T08:55:17.943Z"
   },
   {
    "duration": 280,
    "start_time": "2023-10-19T08:55:17.952Z"
   },
   {
    "duration": 5,
    "start_time": "2023-10-19T08:55:18.234Z"
   },
   {
    "duration": 556,
    "start_time": "2023-10-19T08:55:18.241Z"
   },
   {
    "duration": 619,
    "start_time": "2023-10-19T08:55:18.800Z"
   },
   {
    "duration": 4,
    "start_time": "2023-10-19T08:55:19.424Z"
   },
   {
    "duration": 525,
    "start_time": "2023-10-19T08:55:19.430Z"
   },
   {
    "duration": 6,
    "start_time": "2023-10-19T08:55:19.957Z"
   },
   {
    "duration": 9,
    "start_time": "2023-10-19T08:55:19.964Z"
   },
   {
    "duration": 9,
    "start_time": "2023-10-19T08:55:19.978Z"
   },
   {
    "duration": 558,
    "start_time": "2023-10-19T08:55:19.989Z"
   },
   {
    "duration": 6,
    "start_time": "2023-10-19T08:55:20.549Z"
   },
   {
    "duration": 111,
    "start_time": "2023-10-19T08:55:20.557Z"
   },
   {
    "duration": 314,
    "start_time": "2023-10-19T08:55:20.670Z"
   },
   {
    "duration": 120,
    "start_time": "2023-10-19T08:55:20.986Z"
   },
   {
    "duration": 385,
    "start_time": "2023-10-19T08:55:21.108Z"
   },
   {
    "duration": 148,
    "start_time": "2023-10-19T08:55:21.495Z"
   },
   {
    "duration": 547,
    "start_time": "2023-10-19T08:55:21.645Z"
   },
   {
    "duration": 233,
    "start_time": "2023-10-19T08:55:22.194Z"
   },
   {
    "duration": 373,
    "start_time": "2023-10-19T08:55:22.429Z"
   },
   {
    "duration": 149,
    "start_time": "2023-10-19T08:55:22.824Z"
   },
   {
    "duration": 383,
    "start_time": "2023-10-19T08:55:22.975Z"
   },
   {
    "duration": 131,
    "start_time": "2023-10-19T08:55:23.361Z"
   },
   {
    "duration": 340,
    "start_time": "2023-10-19T08:55:23.494Z"
   },
   {
    "duration": 14,
    "start_time": "2023-10-19T08:55:23.836Z"
   },
   {
    "duration": 41,
    "start_time": "2023-10-19T08:55:23.851Z"
   },
   {
    "duration": 117,
    "start_time": "2023-10-19T08:55:23.894Z"
   },
   {
    "duration": 463,
    "start_time": "2023-10-19T08:55:24.012Z"
   },
   {
    "duration": 19,
    "start_time": "2023-10-19T08:55:24.477Z"
   },
   {
    "duration": 78,
    "start_time": "2023-10-19T08:55:24.497Z"
   },
   {
    "duration": 157,
    "start_time": "2023-10-19T08:55:24.577Z"
   },
   {
    "duration": 125,
    "start_time": "2023-10-19T08:55:24.736Z"
   },
   {
    "duration": 36,
    "start_time": "2023-10-19T08:55:24.863Z"
   },
   {
    "duration": 133,
    "start_time": "2023-10-19T08:55:24.901Z"
   },
   {
    "duration": 156,
    "start_time": "2023-10-19T08:55:25.037Z"
   },
   {
    "duration": 360,
    "start_time": "2023-10-19T08:55:25.195Z"
   },
   {
    "duration": 76,
    "start_time": "2023-10-19T08:55:25.557Z"
   },
   {
    "duration": 85,
    "start_time": "2023-10-19T08:55:25.634Z"
   },
   {
    "duration": 42,
    "start_time": "2023-10-19T08:55:25.721Z"
   },
   {
    "duration": 62,
    "start_time": "2023-10-19T08:55:25.766Z"
   },
   {
    "duration": 65,
    "start_time": "2023-10-19T08:55:25.830Z"
   },
   {
    "duration": 347,
    "start_time": "2023-10-19T08:55:25.897Z"
   },
   {
    "duration": 357,
    "start_time": "2023-10-19T08:55:26.247Z"
   },
   {
    "duration": 18,
    "start_time": "2023-10-19T08:55:26.606Z"
   },
   {
    "duration": 78,
    "start_time": "2023-10-19T08:55:26.626Z"
   },
   {
    "duration": 49,
    "start_time": "2023-10-19T08:55:26.706Z"
   },
   {
    "duration": 8,
    "start_time": "2023-10-19T08:55:26.757Z"
   },
   {
    "duration": 69,
    "start_time": "2023-10-19T08:55:26.767Z"
   },
   {
    "duration": 9,
    "start_time": "2023-10-19T08:55:26.838Z"
   },
   {
    "duration": 26,
    "start_time": "2023-10-19T08:55:26.849Z"
   },
   {
    "duration": 4,
    "start_time": "2023-10-19T09:01:27.407Z"
   },
   {
    "duration": 1182,
    "start_time": "2023-10-19T09:01:36.566Z"
   },
   {
    "duration": 135,
    "start_time": "2023-10-19T09:01:37.750Z"
   },
   {
    "duration": 18,
    "start_time": "2023-10-19T09:01:37.886Z"
   },
   {
    "duration": 58,
    "start_time": "2023-10-19T09:01:37.906Z"
   },
   {
    "duration": 70,
    "start_time": "2023-10-19T09:01:37.966Z"
   },
   {
    "duration": 33,
    "start_time": "2023-10-19T09:01:38.038Z"
   },
   {
    "duration": 43,
    "start_time": "2023-10-19T09:01:38.073Z"
   },
   {
    "duration": 32,
    "start_time": "2023-10-19T09:01:38.118Z"
   },
   {
    "duration": 48,
    "start_time": "2023-10-19T09:01:38.152Z"
   },
   {
    "duration": 42,
    "start_time": "2023-10-19T09:01:38.202Z"
   },
   {
    "duration": 24,
    "start_time": "2023-10-19T09:01:38.245Z"
   },
   {
    "duration": 18,
    "start_time": "2023-10-19T09:01:38.271Z"
   },
   {
    "duration": 34,
    "start_time": "2023-10-19T09:01:38.291Z"
   },
   {
    "duration": 26,
    "start_time": "2023-10-19T09:01:38.328Z"
   },
   {
    "duration": 41,
    "start_time": "2023-10-19T09:01:38.356Z"
   },
   {
    "duration": 35,
    "start_time": "2023-10-19T09:01:38.398Z"
   },
   {
    "duration": 16,
    "start_time": "2023-10-19T09:01:38.435Z"
   },
   {
    "duration": 26,
    "start_time": "2023-10-19T09:01:38.454Z"
   },
   {
    "duration": 26,
    "start_time": "2023-10-19T09:01:38.482Z"
   },
   {
    "duration": 18,
    "start_time": "2023-10-19T09:01:38.511Z"
   },
   {
    "duration": 33,
    "start_time": "2023-10-19T09:01:38.532Z"
   },
   {
    "duration": 27,
    "start_time": "2023-10-19T09:01:38.567Z"
   },
   {
    "duration": 30,
    "start_time": "2023-10-19T09:01:38.595Z"
   },
   {
    "duration": 1565,
    "start_time": "2023-10-19T09:01:38.627Z"
   },
   {
    "duration": 7,
    "start_time": "2023-10-19T09:01:40.195Z"
   },
   {
    "duration": 217,
    "start_time": "2023-10-19T09:01:40.205Z"
   },
   {
    "duration": 132,
    "start_time": "2023-10-19T09:01:40.425Z"
   },
   {
    "duration": 751,
    "start_time": "2023-10-19T09:01:40.559Z"
   },
   {
    "duration": 0,
    "start_time": "2023-10-19T09:01:41.314Z"
   },
   {
    "duration": 0,
    "start_time": "2023-10-19T09:01:41.315Z"
   },
   {
    "duration": 0,
    "start_time": "2023-10-19T09:01:41.316Z"
   },
   {
    "duration": 0,
    "start_time": "2023-10-19T09:01:41.317Z"
   },
   {
    "duration": 0,
    "start_time": "2023-10-19T09:01:41.318Z"
   },
   {
    "duration": 0,
    "start_time": "2023-10-19T09:01:41.319Z"
   },
   {
    "duration": 0,
    "start_time": "2023-10-19T09:01:41.321Z"
   },
   {
    "duration": 0,
    "start_time": "2023-10-19T09:01:41.322Z"
   },
   {
    "duration": 0,
    "start_time": "2023-10-19T09:01:41.323Z"
   },
   {
    "duration": 0,
    "start_time": "2023-10-19T09:01:41.324Z"
   },
   {
    "duration": 0,
    "start_time": "2023-10-19T09:01:41.325Z"
   },
   {
    "duration": 0,
    "start_time": "2023-10-19T09:01:41.326Z"
   },
   {
    "duration": 0,
    "start_time": "2023-10-19T09:01:41.327Z"
   },
   {
    "duration": 0,
    "start_time": "2023-10-19T09:01:41.327Z"
   },
   {
    "duration": 0,
    "start_time": "2023-10-19T09:01:41.328Z"
   },
   {
    "duration": 0,
    "start_time": "2023-10-19T09:01:41.329Z"
   },
   {
    "duration": 0,
    "start_time": "2023-10-19T09:01:41.330Z"
   },
   {
    "duration": 0,
    "start_time": "2023-10-19T09:01:41.331Z"
   },
   {
    "duration": 0,
    "start_time": "2023-10-19T09:01:41.333Z"
   },
   {
    "duration": 0,
    "start_time": "2023-10-19T09:01:41.335Z"
   },
   {
    "duration": 1,
    "start_time": "2023-10-19T09:01:41.336Z"
   },
   {
    "duration": 0,
    "start_time": "2023-10-19T09:01:41.339Z"
   },
   {
    "duration": 0,
    "start_time": "2023-10-19T09:01:41.340Z"
   },
   {
    "duration": 0,
    "start_time": "2023-10-19T09:01:41.341Z"
   },
   {
    "duration": 0,
    "start_time": "2023-10-19T09:01:41.343Z"
   },
   {
    "duration": 0,
    "start_time": "2023-10-19T09:01:41.344Z"
   },
   {
    "duration": 0,
    "start_time": "2023-10-19T09:01:41.345Z"
   },
   {
    "duration": 0,
    "start_time": "2023-10-19T09:01:41.346Z"
   },
   {
    "duration": 0,
    "start_time": "2023-10-19T09:01:41.347Z"
   },
   {
    "duration": 1,
    "start_time": "2023-10-19T09:01:41.348Z"
   },
   {
    "duration": 0,
    "start_time": "2023-10-19T09:01:41.349Z"
   },
   {
    "duration": 0,
    "start_time": "2023-10-19T09:01:41.351Z"
   },
   {
    "duration": 0,
    "start_time": "2023-10-19T09:01:41.352Z"
   },
   {
    "duration": 0,
    "start_time": "2023-10-19T09:01:41.353Z"
   },
   {
    "duration": 0,
    "start_time": "2023-10-19T09:01:41.354Z"
   },
   {
    "duration": 0,
    "start_time": "2023-10-19T09:01:41.355Z"
   },
   {
    "duration": 0,
    "start_time": "2023-10-19T09:01:41.357Z"
   },
   {
    "duration": 0,
    "start_time": "2023-10-19T09:01:41.358Z"
   },
   {
    "duration": 0,
    "start_time": "2023-10-19T09:01:41.359Z"
   },
   {
    "duration": 0,
    "start_time": "2023-10-19T09:01:41.359Z"
   },
   {
    "duration": 0,
    "start_time": "2023-10-19T09:01:41.361Z"
   },
   {
    "duration": 0,
    "start_time": "2023-10-19T09:01:41.361Z"
   },
   {
    "duration": 0,
    "start_time": "2023-10-19T09:01:41.362Z"
   },
   {
    "duration": 0,
    "start_time": "2023-10-19T09:01:41.363Z"
   },
   {
    "duration": 0,
    "start_time": "2023-10-19T09:01:41.425Z"
   },
   {
    "duration": 0,
    "start_time": "2023-10-19T09:01:41.427Z"
   },
   {
    "duration": 0,
    "start_time": "2023-10-19T09:01:41.429Z"
   },
   {
    "duration": 0,
    "start_time": "2023-10-19T09:01:41.430Z"
   },
   {
    "duration": 0,
    "start_time": "2023-10-19T09:01:41.431Z"
   },
   {
    "duration": 0,
    "start_time": "2023-10-19T09:01:41.433Z"
   },
   {
    "duration": 0,
    "start_time": "2023-10-19T09:01:41.433Z"
   },
   {
    "duration": 0,
    "start_time": "2023-10-19T09:01:41.435Z"
   },
   {
    "duration": 0,
    "start_time": "2023-10-19T09:01:41.437Z"
   },
   {
    "duration": 0,
    "start_time": "2023-10-19T09:01:41.438Z"
   },
   {
    "duration": 0,
    "start_time": "2023-10-19T09:01:41.438Z"
   },
   {
    "duration": 0,
    "start_time": "2023-10-19T09:01:41.439Z"
   },
   {
    "duration": 0,
    "start_time": "2023-10-19T09:01:41.441Z"
   },
   {
    "duration": 1200,
    "start_time": "2023-10-19T09:02:16.148Z"
   },
   {
    "duration": 150,
    "start_time": "2023-10-19T09:02:17.350Z"
   },
   {
    "duration": 28,
    "start_time": "2023-10-19T09:02:17.502Z"
   },
   {
    "duration": 8,
    "start_time": "2023-10-19T09:02:17.533Z"
   },
   {
    "duration": 19,
    "start_time": "2023-10-19T09:02:17.544Z"
   },
   {
    "duration": 15,
    "start_time": "2023-10-19T09:02:17.565Z"
   },
   {
    "duration": 28,
    "start_time": "2023-10-19T09:02:17.581Z"
   },
   {
    "duration": 5,
    "start_time": "2023-10-19T09:02:17.611Z"
   },
   {
    "duration": 19,
    "start_time": "2023-10-19T09:02:17.619Z"
   },
   {
    "duration": 14,
    "start_time": "2023-10-19T09:02:17.644Z"
   },
   {
    "duration": 7,
    "start_time": "2023-10-19T09:02:17.660Z"
   },
   {
    "duration": 11,
    "start_time": "2023-10-19T09:02:17.670Z"
   },
   {
    "duration": 25,
    "start_time": "2023-10-19T09:02:17.684Z"
   },
   {
    "duration": 22,
    "start_time": "2023-10-19T09:02:17.712Z"
   },
   {
    "duration": 31,
    "start_time": "2023-10-19T09:02:17.736Z"
   },
   {
    "duration": 20,
    "start_time": "2023-10-19T09:02:17.770Z"
   },
   {
    "duration": 20,
    "start_time": "2023-10-19T09:02:17.792Z"
   },
   {
    "duration": 23,
    "start_time": "2023-10-19T09:02:17.814Z"
   },
   {
    "duration": 16,
    "start_time": "2023-10-19T09:02:17.840Z"
   },
   {
    "duration": 7,
    "start_time": "2023-10-19T09:02:17.858Z"
   },
   {
    "duration": 13,
    "start_time": "2023-10-19T09:02:17.866Z"
   },
   {
    "duration": 13,
    "start_time": "2023-10-19T09:02:17.881Z"
   },
   {
    "duration": 15,
    "start_time": "2023-10-19T09:02:17.895Z"
   },
   {
    "duration": 1469,
    "start_time": "2023-10-19T09:02:17.911Z"
   },
   {
    "duration": 6,
    "start_time": "2023-10-19T09:02:19.382Z"
   },
   {
    "duration": 19,
    "start_time": "2023-10-19T09:02:19.389Z"
   },
   {
    "duration": 15,
    "start_time": "2023-10-19T09:02:19.409Z"
   },
   {
    "duration": 9,
    "start_time": "2023-10-19T09:02:19.429Z"
   },
   {
    "duration": 629,
    "start_time": "2023-10-19T09:02:19.439Z"
   },
   {
    "duration": 0,
    "start_time": "2023-10-19T09:02:20.070Z"
   },
   {
    "duration": 0,
    "start_time": "2023-10-19T09:02:20.072Z"
   },
   {
    "duration": 0,
    "start_time": "2023-10-19T09:02:20.073Z"
   },
   {
    "duration": 0,
    "start_time": "2023-10-19T09:02:20.074Z"
   },
   {
    "duration": 0,
    "start_time": "2023-10-19T09:02:20.075Z"
   },
   {
    "duration": 0,
    "start_time": "2023-10-19T09:02:20.076Z"
   },
   {
    "duration": 0,
    "start_time": "2023-10-19T09:02:20.077Z"
   },
   {
    "duration": 0,
    "start_time": "2023-10-19T09:02:20.079Z"
   },
   {
    "duration": 0,
    "start_time": "2023-10-19T09:02:20.080Z"
   },
   {
    "duration": 0,
    "start_time": "2023-10-19T09:02:20.081Z"
   },
   {
    "duration": 0,
    "start_time": "2023-10-19T09:02:20.083Z"
   },
   {
    "duration": 0,
    "start_time": "2023-10-19T09:02:20.084Z"
   },
   {
    "duration": 0,
    "start_time": "2023-10-19T09:02:20.085Z"
   },
   {
    "duration": 0,
    "start_time": "2023-10-19T09:02:20.086Z"
   },
   {
    "duration": 0,
    "start_time": "2023-10-19T09:02:20.087Z"
   },
   {
    "duration": 0,
    "start_time": "2023-10-19T09:02:20.088Z"
   },
   {
    "duration": 0,
    "start_time": "2023-10-19T09:02:20.090Z"
   },
   {
    "duration": 0,
    "start_time": "2023-10-19T09:02:20.091Z"
   },
   {
    "duration": 0,
    "start_time": "2023-10-19T09:02:20.092Z"
   },
   {
    "duration": 0,
    "start_time": "2023-10-19T09:02:20.093Z"
   },
   {
    "duration": 0,
    "start_time": "2023-10-19T09:02:20.094Z"
   },
   {
    "duration": 0,
    "start_time": "2023-10-19T09:02:20.095Z"
   },
   {
    "duration": 0,
    "start_time": "2023-10-19T09:02:20.096Z"
   },
   {
    "duration": 0,
    "start_time": "2023-10-19T09:02:20.097Z"
   },
   {
    "duration": 0,
    "start_time": "2023-10-19T09:02:20.098Z"
   },
   {
    "duration": 0,
    "start_time": "2023-10-19T09:02:20.099Z"
   },
   {
    "duration": 0,
    "start_time": "2023-10-19T09:02:20.100Z"
   },
   {
    "duration": 0,
    "start_time": "2023-10-19T09:02:20.101Z"
   },
   {
    "duration": 0,
    "start_time": "2023-10-19T09:02:20.102Z"
   },
   {
    "duration": 0,
    "start_time": "2023-10-19T09:02:20.103Z"
   },
   {
    "duration": 0,
    "start_time": "2023-10-19T09:02:20.105Z"
   },
   {
    "duration": 0,
    "start_time": "2023-10-19T09:02:20.106Z"
   },
   {
    "duration": 0,
    "start_time": "2023-10-19T09:02:20.107Z"
   },
   {
    "duration": 0,
    "start_time": "2023-10-19T09:02:20.108Z"
   },
   {
    "duration": 0,
    "start_time": "2023-10-19T09:02:20.109Z"
   },
   {
    "duration": 0,
    "start_time": "2023-10-19T09:02:20.124Z"
   },
   {
    "duration": 0,
    "start_time": "2023-10-19T09:02:20.126Z"
   },
   {
    "duration": 0,
    "start_time": "2023-10-19T09:02:20.127Z"
   },
   {
    "duration": 0,
    "start_time": "2023-10-19T09:02:20.128Z"
   },
   {
    "duration": 0,
    "start_time": "2023-10-19T09:02:20.129Z"
   },
   {
    "duration": 0,
    "start_time": "2023-10-19T09:02:20.130Z"
   },
   {
    "duration": 0,
    "start_time": "2023-10-19T09:02:20.131Z"
   },
   {
    "duration": 0,
    "start_time": "2023-10-19T09:02:20.132Z"
   },
   {
    "duration": 1,
    "start_time": "2023-10-19T09:02:20.133Z"
   },
   {
    "duration": 0,
    "start_time": "2023-10-19T09:02:20.135Z"
   },
   {
    "duration": 0,
    "start_time": "2023-10-19T09:02:20.136Z"
   },
   {
    "duration": 0,
    "start_time": "2023-10-19T09:02:20.137Z"
   },
   {
    "duration": 0,
    "start_time": "2023-10-19T09:02:20.138Z"
   },
   {
    "duration": 0,
    "start_time": "2023-10-19T09:02:20.139Z"
   },
   {
    "duration": 0,
    "start_time": "2023-10-19T09:02:20.140Z"
   },
   {
    "duration": 0,
    "start_time": "2023-10-19T09:02:20.142Z"
   },
   {
    "duration": 0,
    "start_time": "2023-10-19T09:02:20.143Z"
   },
   {
    "duration": 0,
    "start_time": "2023-10-19T09:02:20.143Z"
   },
   {
    "duration": 0,
    "start_time": "2023-10-19T09:02:20.144Z"
   },
   {
    "duration": 0,
    "start_time": "2023-10-19T09:02:20.145Z"
   },
   {
    "duration": 0,
    "start_time": "2023-10-19T09:02:20.146Z"
   },
   {
    "duration": 24,
    "start_time": "2023-10-19T09:03:05.894Z"
   },
   {
    "duration": 1389,
    "start_time": "2023-10-19T09:03:14.116Z"
   },
   {
    "duration": 120,
    "start_time": "2023-10-19T09:03:15.507Z"
   },
   {
    "duration": 28,
    "start_time": "2023-10-19T09:03:15.629Z"
   },
   {
    "duration": 84,
    "start_time": "2023-10-19T09:03:15.659Z"
   },
   {
    "duration": 66,
    "start_time": "2023-10-19T09:03:15.745Z"
   },
   {
    "duration": 80,
    "start_time": "2023-10-19T09:03:15.813Z"
   },
   {
    "duration": 69,
    "start_time": "2023-10-19T09:03:15.895Z"
   },
   {
    "duration": 15,
    "start_time": "2023-10-19T09:03:15.967Z"
   },
   {
    "duration": 55,
    "start_time": "2023-10-19T09:03:15.984Z"
   },
   {
    "duration": 22,
    "start_time": "2023-10-19T09:03:16.041Z"
   },
   {
    "duration": 57,
    "start_time": "2023-10-19T09:03:16.065Z"
   },
   {
    "duration": 28,
    "start_time": "2023-10-19T09:03:16.125Z"
   },
   {
    "duration": 117,
    "start_time": "2023-10-19T09:03:16.157Z"
   },
   {
    "duration": 30,
    "start_time": "2023-10-19T09:03:16.280Z"
   },
   {
    "duration": 26,
    "start_time": "2023-10-19T09:03:16.313Z"
   },
   {
    "duration": 46,
    "start_time": "2023-10-19T09:03:16.342Z"
   },
   {
    "duration": 33,
    "start_time": "2023-10-19T09:03:16.391Z"
   },
   {
    "duration": 45,
    "start_time": "2023-10-19T09:03:16.426Z"
   },
   {
    "duration": 22,
    "start_time": "2023-10-19T09:03:16.473Z"
   },
   {
    "duration": 24,
    "start_time": "2023-10-19T09:03:16.498Z"
   },
   {
    "duration": 33,
    "start_time": "2023-10-19T09:03:16.525Z"
   },
   {
    "duration": 44,
    "start_time": "2023-10-19T09:03:16.561Z"
   },
   {
    "duration": 150,
    "start_time": "2023-10-19T09:03:16.608Z"
   },
   {
    "duration": 1517,
    "start_time": "2023-10-19T09:03:16.760Z"
   },
   {
    "duration": 7,
    "start_time": "2023-10-19T09:03:18.279Z"
   },
   {
    "duration": 51,
    "start_time": "2023-10-19T09:03:18.287Z"
   },
   {
    "duration": 18,
    "start_time": "2023-10-19T09:03:18.340Z"
   },
   {
    "duration": 20,
    "start_time": "2023-10-19T09:03:18.360Z"
   },
   {
    "duration": 22,
    "start_time": "2023-10-19T09:03:18.382Z"
   },
   {
    "duration": 17,
    "start_time": "2023-10-19T09:03:18.406Z"
   },
   {
    "duration": 1437,
    "start_time": "2023-10-19T09:03:18.425Z"
   },
   {
    "duration": 11,
    "start_time": "2023-10-19T09:03:19.864Z"
   },
   {
    "duration": 38,
    "start_time": "2023-10-19T09:03:19.877Z"
   },
   {
    "duration": 38,
    "start_time": "2023-10-19T09:03:19.916Z"
   },
   {
    "duration": 35,
    "start_time": "2023-10-19T09:03:19.956Z"
   },
   {
    "duration": 14,
    "start_time": "2023-10-19T09:03:19.994Z"
   },
   {
    "duration": 343,
    "start_time": "2023-10-19T09:03:20.010Z"
   },
   {
    "duration": 6,
    "start_time": "2023-10-19T09:03:20.356Z"
   },
   {
    "duration": 648,
    "start_time": "2023-10-19T09:03:20.366Z"
   },
   {
    "duration": 681,
    "start_time": "2023-10-19T09:03:21.023Z"
   },
   {
    "duration": 5,
    "start_time": "2023-10-19T09:03:21.710Z"
   },
   {
    "duration": 503,
    "start_time": "2023-10-19T09:03:21.723Z"
   },
   {
    "duration": 7,
    "start_time": "2023-10-19T09:03:22.229Z"
   },
   {
    "duration": 74,
    "start_time": "2023-10-19T09:03:22.238Z"
   },
   {
    "duration": 14,
    "start_time": "2023-10-19T09:03:22.315Z"
   },
   {
    "duration": 512,
    "start_time": "2023-10-19T09:03:22.331Z"
   },
   {
    "duration": 5,
    "start_time": "2023-10-19T09:03:22.845Z"
   },
   {
    "duration": 148,
    "start_time": "2023-10-19T09:03:22.851Z"
   },
   {
    "duration": 382,
    "start_time": "2023-10-19T09:03:23.001Z"
   },
   {
    "duration": 120,
    "start_time": "2023-10-19T09:03:23.385Z"
   },
   {
    "duration": 403,
    "start_time": "2023-10-19T09:03:23.507Z"
   },
   {
    "duration": 158,
    "start_time": "2023-10-19T09:03:23.913Z"
   },
   {
    "duration": 542,
    "start_time": "2023-10-19T09:03:24.073Z"
   },
   {
    "duration": 253,
    "start_time": "2023-10-19T09:03:24.617Z"
   },
   {
    "duration": 424,
    "start_time": "2023-10-19T09:03:24.872Z"
   },
   {
    "duration": 157,
    "start_time": "2023-10-19T09:03:25.298Z"
   },
   {
    "duration": 373,
    "start_time": "2023-10-19T09:03:25.457Z"
   },
   {
    "duration": 235,
    "start_time": "2023-10-19T09:03:25.833Z"
   },
   {
    "duration": 372,
    "start_time": "2023-10-19T09:03:26.070Z"
   },
   {
    "duration": 13,
    "start_time": "2023-10-19T09:03:26.444Z"
   },
   {
    "duration": 16,
    "start_time": "2023-10-19T09:03:26.459Z"
   },
   {
    "duration": 38,
    "start_time": "2023-10-19T09:03:26.477Z"
   },
   {
    "duration": 486,
    "start_time": "2023-10-19T09:03:26.524Z"
   },
   {
    "duration": 32,
    "start_time": "2023-10-19T09:03:27.012Z"
   },
   {
    "duration": 50,
    "start_time": "2023-10-19T09:03:27.045Z"
   },
   {
    "duration": 16,
    "start_time": "2023-10-19T09:03:27.097Z"
   },
   {
    "duration": 37,
    "start_time": "2023-10-19T09:03:27.115Z"
   },
   {
    "duration": 21,
    "start_time": "2023-10-19T09:03:27.153Z"
   },
   {
    "duration": 49,
    "start_time": "2023-10-19T09:03:27.176Z"
   },
   {
    "duration": 31,
    "start_time": "2023-10-19T09:03:27.227Z"
   },
   {
    "duration": 26,
    "start_time": "2023-10-19T09:03:27.260Z"
   },
   {
    "duration": 18,
    "start_time": "2023-10-19T09:03:27.288Z"
   },
   {
    "duration": 37,
    "start_time": "2023-10-19T09:03:27.307Z"
   },
   {
    "duration": 6,
    "start_time": "2023-10-19T09:03:27.346Z"
   },
   {
    "duration": 19,
    "start_time": "2023-10-19T09:03:27.354Z"
   },
   {
    "duration": 26,
    "start_time": "2023-10-19T09:03:27.375Z"
   },
   {
    "duration": 282,
    "start_time": "2023-10-19T09:03:27.403Z"
   },
   {
    "duration": 357,
    "start_time": "2023-10-19T09:03:27.686Z"
   },
   {
    "duration": 8,
    "start_time": "2023-10-19T09:03:28.045Z"
   },
   {
    "duration": 22,
    "start_time": "2023-10-19T09:03:28.055Z"
   },
   {
    "duration": 13,
    "start_time": "2023-10-19T09:03:28.079Z"
   },
   {
    "duration": 32,
    "start_time": "2023-10-19T09:03:28.093Z"
   },
   {
    "duration": 64,
    "start_time": "2023-10-19T09:03:28.126Z"
   },
   {
    "duration": 68,
    "start_time": "2023-10-19T09:03:28.192Z"
   },
   {
    "duration": 62,
    "start_time": "2023-10-19T09:03:28.262Z"
   },
   {
    "duration": 13,
    "start_time": "2023-10-19T09:28:44.915Z"
   },
   {
    "duration": 4,
    "start_time": "2023-10-19T09:28:45.655Z"
   },
   {
    "duration": 14,
    "start_time": "2023-10-19T09:28:46.345Z"
   },
   {
    "duration": 1222,
    "start_time": "2023-10-19T09:28:53.608Z"
   },
   {
    "duration": 145,
    "start_time": "2023-10-19T09:28:54.832Z"
   },
   {
    "duration": 18,
    "start_time": "2023-10-19T09:28:54.979Z"
   },
   {
    "duration": 7,
    "start_time": "2023-10-19T09:28:54.998Z"
   },
   {
    "duration": 31,
    "start_time": "2023-10-19T09:28:55.007Z"
   },
   {
    "duration": 119,
    "start_time": "2023-10-19T09:28:55.040Z"
   },
   {
    "duration": 48,
    "start_time": "2023-10-19T09:28:55.161Z"
   },
   {
    "duration": 32,
    "start_time": "2023-10-19T09:28:55.211Z"
   },
   {
    "duration": 37,
    "start_time": "2023-10-19T09:28:55.245Z"
   },
   {
    "duration": 123,
    "start_time": "2023-10-19T09:28:55.283Z"
   },
   {
    "duration": 47,
    "start_time": "2023-10-19T09:28:55.408Z"
   },
   {
    "duration": 31,
    "start_time": "2023-10-19T09:28:55.457Z"
   },
   {
    "duration": 28,
    "start_time": "2023-10-19T09:28:55.490Z"
   },
   {
    "duration": 19,
    "start_time": "2023-10-19T09:28:55.522Z"
   },
   {
    "duration": 32,
    "start_time": "2023-10-19T09:28:55.543Z"
   },
   {
    "duration": 15,
    "start_time": "2023-10-19T09:28:55.577Z"
   },
   {
    "duration": 13,
    "start_time": "2023-10-19T09:28:55.594Z"
   },
   {
    "duration": 7,
    "start_time": "2023-10-19T09:28:55.609Z"
   },
   {
    "duration": 17,
    "start_time": "2023-10-19T09:28:55.618Z"
   },
   {
    "duration": 16,
    "start_time": "2023-10-19T09:28:55.637Z"
   },
   {
    "duration": 42,
    "start_time": "2023-10-19T09:28:55.656Z"
   },
   {
    "duration": 11,
    "start_time": "2023-10-19T09:28:55.700Z"
   },
   {
    "duration": 28,
    "start_time": "2023-10-19T09:28:55.713Z"
   },
   {
    "duration": 1518,
    "start_time": "2023-10-19T09:28:55.744Z"
   },
   {
    "duration": 6,
    "start_time": "2023-10-19T09:28:57.264Z"
   },
   {
    "duration": 88,
    "start_time": "2023-10-19T09:28:57.272Z"
   },
   {
    "duration": 146,
    "start_time": "2023-10-19T09:28:57.362Z"
   },
   {
    "duration": 48,
    "start_time": "2023-10-19T09:28:57.509Z"
   },
   {
    "duration": 72,
    "start_time": "2023-10-19T09:28:57.559Z"
   },
   {
    "duration": 56,
    "start_time": "2023-10-19T09:28:57.633Z"
   },
   {
    "duration": 1678,
    "start_time": "2023-10-19T09:28:57.691Z"
   },
   {
    "duration": 12,
    "start_time": "2023-10-19T09:28:59.372Z"
   },
   {
    "duration": 37,
    "start_time": "2023-10-19T09:28:59.385Z"
   },
   {
    "duration": 5,
    "start_time": "2023-10-19T09:28:59.425Z"
   },
   {
    "duration": 25,
    "start_time": "2023-10-19T09:28:59.432Z"
   },
   {
    "duration": 8,
    "start_time": "2023-10-19T09:28:59.459Z"
   },
   {
    "duration": 325,
    "start_time": "2023-10-19T09:28:59.469Z"
   },
   {
    "duration": 6,
    "start_time": "2023-10-19T09:28:59.795Z"
   },
   {
    "duration": 632,
    "start_time": "2023-10-19T09:28:59.802Z"
   },
   {
    "duration": 752,
    "start_time": "2023-10-19T09:29:00.436Z"
   },
   {
    "duration": 4,
    "start_time": "2023-10-19T09:29:01.193Z"
   },
   {
    "duration": 680,
    "start_time": "2023-10-19T09:29:01.199Z"
   },
   {
    "duration": 6,
    "start_time": "2023-10-19T09:29:01.881Z"
   },
   {
    "duration": 187,
    "start_time": "2023-10-19T09:29:01.889Z"
   },
   {
    "duration": 320,
    "start_time": "2023-10-19T09:29:02.078Z"
   },
   {
    "duration": 891,
    "start_time": "2023-10-19T09:29:02.400Z"
   },
   {
    "duration": 6,
    "start_time": "2023-10-19T09:29:03.293Z"
   },
   {
    "duration": 549,
    "start_time": "2023-10-19T09:29:03.301Z"
   },
   {
    "duration": 938,
    "start_time": "2023-10-19T09:29:03.852Z"
   },
   {
    "duration": 138,
    "start_time": "2023-10-19T09:29:04.792Z"
   },
   {
    "duration": 478,
    "start_time": "2023-10-19T09:29:04.933Z"
   },
   {
    "duration": 143,
    "start_time": "2023-10-19T09:29:05.413Z"
   },
   {
    "duration": 596,
    "start_time": "2023-10-19T09:29:05.558Z"
   },
   {
    "duration": 225,
    "start_time": "2023-10-19T09:29:06.156Z"
   },
   {
    "duration": 429,
    "start_time": "2023-10-19T09:29:06.383Z"
   },
   {
    "duration": 146,
    "start_time": "2023-10-19T09:29:06.814Z"
   },
   {
    "duration": 336,
    "start_time": "2023-10-19T09:29:06.962Z"
   },
   {
    "duration": 140,
    "start_time": "2023-10-19T09:29:07.300Z"
   },
   {
    "duration": 326,
    "start_time": "2023-10-19T09:29:07.441Z"
   },
   {
    "duration": 12,
    "start_time": "2023-10-19T09:29:07.769Z"
   },
   {
    "duration": 47,
    "start_time": "2023-10-19T09:29:07.783Z"
   },
   {
    "duration": 78,
    "start_time": "2023-10-19T09:29:07.832Z"
   },
   {
    "duration": 558,
    "start_time": "2023-10-19T09:29:07.912Z"
   },
   {
    "duration": 21,
    "start_time": "2023-10-19T09:29:08.472Z"
   },
   {
    "duration": 50,
    "start_time": "2023-10-19T09:29:08.495Z"
   },
   {
    "duration": 94,
    "start_time": "2023-10-19T09:29:08.547Z"
   },
   {
    "duration": 318,
    "start_time": "2023-10-19T09:29:08.643Z"
   },
   {
    "duration": 136,
    "start_time": "2023-10-19T09:29:08.963Z"
   },
   {
    "duration": 267,
    "start_time": "2023-10-19T09:29:09.101Z"
   },
   {
    "duration": 62,
    "start_time": "2023-10-19T09:29:09.371Z"
   },
   {
    "duration": 70,
    "start_time": "2023-10-19T09:29:09.435Z"
   },
   {
    "duration": 385,
    "start_time": "2023-10-19T09:29:09.507Z"
   },
   {
    "duration": 117,
    "start_time": "2023-10-19T09:29:09.894Z"
   },
   {
    "duration": 54,
    "start_time": "2023-10-19T09:29:10.012Z"
   },
   {
    "duration": 67,
    "start_time": "2023-10-19T09:29:10.068Z"
   },
   {
    "duration": 68,
    "start_time": "2023-10-19T09:29:10.136Z"
   },
   {
    "duration": 330,
    "start_time": "2023-10-19T09:29:10.207Z"
   },
   {
    "duration": 356,
    "start_time": "2023-10-19T09:29:10.538Z"
   },
   {
    "duration": 10,
    "start_time": "2023-10-19T09:29:10.897Z"
   },
   {
    "duration": 241,
    "start_time": "2023-10-19T09:29:10.908Z"
   },
   {
    "duration": 101,
    "start_time": "2023-10-19T09:29:11.151Z"
   },
   {
    "duration": 166,
    "start_time": "2023-10-19T09:29:11.253Z"
   },
   {
    "duration": 215,
    "start_time": "2023-10-19T09:29:11.421Z"
   },
   {
    "duration": 41,
    "start_time": "2023-10-19T09:29:11.638Z"
   },
   {
    "duration": 56,
    "start_time": "2023-10-19T09:29:11.680Z"
   },
   {
    "duration": 5,
    "start_time": "2023-10-19T10:15:52.870Z"
   },
   {
    "duration": 4,
    "start_time": "2023-10-19T10:16:03.003Z"
   },
   {
    "duration": 1261,
    "start_time": "2023-10-19T10:16:09.351Z"
   },
   {
    "duration": 536,
    "start_time": "2023-10-19T10:16:10.613Z"
   },
   {
    "duration": 19,
    "start_time": "2023-10-19T10:16:11.151Z"
   },
   {
    "duration": 16,
    "start_time": "2023-10-19T10:16:11.172Z"
   },
   {
    "duration": 25,
    "start_time": "2023-10-19T10:16:11.190Z"
   },
   {
    "duration": 20,
    "start_time": "2023-10-19T10:16:11.217Z"
   },
   {
    "duration": 16,
    "start_time": "2023-10-19T10:16:11.239Z"
   },
   {
    "duration": 5,
    "start_time": "2023-10-19T10:16:11.256Z"
   },
   {
    "duration": 17,
    "start_time": "2023-10-19T10:16:11.263Z"
   },
   {
    "duration": 6,
    "start_time": "2023-10-19T10:16:11.283Z"
   },
   {
    "duration": 13,
    "start_time": "2023-10-19T10:16:11.290Z"
   },
   {
    "duration": 13,
    "start_time": "2023-10-19T10:16:11.304Z"
   },
   {
    "duration": 17,
    "start_time": "2023-10-19T10:16:11.319Z"
   },
   {
    "duration": 29,
    "start_time": "2023-10-19T10:16:11.338Z"
   },
   {
    "duration": 13,
    "start_time": "2023-10-19T10:16:11.369Z"
   },
   {
    "duration": 10,
    "start_time": "2023-10-19T10:16:11.383Z"
   },
   {
    "duration": 10,
    "start_time": "2023-10-19T10:16:11.395Z"
   },
   {
    "duration": 12,
    "start_time": "2023-10-19T10:16:11.406Z"
   },
   {
    "duration": 12,
    "start_time": "2023-10-19T10:16:11.420Z"
   },
   {
    "duration": 13,
    "start_time": "2023-10-19T10:16:11.434Z"
   },
   {
    "duration": 10,
    "start_time": "2023-10-19T10:16:11.448Z"
   },
   {
    "duration": 9,
    "start_time": "2023-10-19T10:16:11.459Z"
   },
   {
    "duration": 16,
    "start_time": "2023-10-19T10:16:11.470Z"
   },
   {
    "duration": 1492,
    "start_time": "2023-10-19T10:16:11.487Z"
   },
   {
    "duration": 7,
    "start_time": "2023-10-19T10:16:12.981Z"
   },
   {
    "duration": 23,
    "start_time": "2023-10-19T10:16:12.990Z"
   },
   {
    "duration": 47,
    "start_time": "2023-10-19T10:16:13.015Z"
   },
   {
    "duration": 27,
    "start_time": "2023-10-19T10:16:13.067Z"
   },
   {
    "duration": 30,
    "start_time": "2023-10-19T10:16:13.096Z"
   },
   {
    "duration": 17,
    "start_time": "2023-10-19T10:16:13.127Z"
   },
   {
    "duration": 32,
    "start_time": "2023-10-19T10:16:13.146Z"
   },
   {
    "duration": 1712,
    "start_time": "2023-10-19T10:16:13.181Z"
   },
   {
    "duration": 13,
    "start_time": "2023-10-19T10:16:14.895Z"
   },
   {
    "duration": 19,
    "start_time": "2023-10-19T10:16:14.910Z"
   },
   {
    "duration": 47,
    "start_time": "2023-10-19T10:16:14.931Z"
   },
   {
    "duration": 45,
    "start_time": "2023-10-19T10:16:14.980Z"
   },
   {
    "duration": 93,
    "start_time": "2023-10-19T10:16:15.027Z"
   },
   {
    "duration": 332,
    "start_time": "2023-10-19T10:16:15.123Z"
   },
   {
    "duration": 5,
    "start_time": "2023-10-19T10:16:15.457Z"
   },
   {
    "duration": 746,
    "start_time": "2023-10-19T10:16:15.464Z"
   },
   {
    "duration": 631,
    "start_time": "2023-10-19T10:16:16.212Z"
   },
   {
    "duration": 8,
    "start_time": "2023-10-19T10:16:16.851Z"
   },
   {
    "duration": 551,
    "start_time": "2023-10-19T10:16:16.861Z"
   },
   {
    "duration": 13,
    "start_time": "2023-10-19T10:16:17.414Z"
   },
   {
    "duration": 96,
    "start_time": "2023-10-19T10:16:17.429Z"
   },
   {
    "duration": 197,
    "start_time": "2023-10-19T10:16:17.527Z"
   },
   {
    "duration": 615,
    "start_time": "2023-10-19T10:16:17.725Z"
   },
   {
    "duration": 5,
    "start_time": "2023-10-19T10:16:18.342Z"
   },
   {
    "duration": 224,
    "start_time": "2023-10-19T10:16:18.349Z"
   },
   {
    "duration": 312,
    "start_time": "2023-10-19T10:16:18.574Z"
   },
   {
    "duration": 136,
    "start_time": "2023-10-19T10:16:18.888Z"
   },
   {
    "duration": 369,
    "start_time": "2023-10-19T10:16:19.025Z"
   },
   {
    "duration": 136,
    "start_time": "2023-10-19T10:16:19.396Z"
   },
   {
    "duration": 536,
    "start_time": "2023-10-19T10:16:19.533Z"
   },
   {
    "duration": 228,
    "start_time": "2023-10-19T10:16:20.070Z"
   },
   {
    "duration": 443,
    "start_time": "2023-10-19T10:16:20.301Z"
   },
   {
    "duration": 161,
    "start_time": "2023-10-19T10:16:20.746Z"
   },
   {
    "duration": 363,
    "start_time": "2023-10-19T10:16:20.909Z"
   },
   {
    "duration": 123,
    "start_time": "2023-10-19T10:16:21.274Z"
   },
   {
    "duration": 357,
    "start_time": "2023-10-19T10:16:21.399Z"
   },
   {
    "duration": 13,
    "start_time": "2023-10-19T10:16:21.758Z"
   },
   {
    "duration": 8,
    "start_time": "2023-10-19T10:16:21.773Z"
   },
   {
    "duration": 43,
    "start_time": "2023-10-19T10:16:21.783Z"
   },
   {
    "duration": 474,
    "start_time": "2023-10-19T10:16:21.827Z"
   },
   {
    "duration": 28,
    "start_time": "2023-10-19T10:16:22.302Z"
   },
   {
    "duration": 5,
    "start_time": "2023-10-19T10:16:22.331Z"
   },
   {
    "duration": 8,
    "start_time": "2023-10-19T10:16:22.337Z"
   },
   {
    "duration": 27,
    "start_time": "2023-10-19T10:16:22.346Z"
   },
   {
    "duration": 10,
    "start_time": "2023-10-19T10:16:22.375Z"
   },
   {
    "duration": 16,
    "start_time": "2023-10-19T10:16:22.387Z"
   },
   {
    "duration": 4,
    "start_time": "2023-10-19T10:16:22.405Z"
   },
   {
    "duration": 9,
    "start_time": "2023-10-19T10:16:22.411Z"
   },
   {
    "duration": 10,
    "start_time": "2023-10-19T10:16:22.424Z"
   },
   {
    "duration": 14,
    "start_time": "2023-10-19T10:16:22.436Z"
   },
   {
    "duration": 11,
    "start_time": "2023-10-19T10:16:22.452Z"
   },
   {
    "duration": 15,
    "start_time": "2023-10-19T10:16:22.465Z"
   },
   {
    "duration": 22,
    "start_time": "2023-10-19T10:16:22.482Z"
   },
   {
    "duration": 271,
    "start_time": "2023-10-19T10:16:22.506Z"
   },
   {
    "duration": 382,
    "start_time": "2023-10-19T10:16:22.779Z"
   },
   {
    "duration": 9,
    "start_time": "2023-10-19T10:16:23.162Z"
   },
   {
    "duration": 40,
    "start_time": "2023-10-19T10:16:23.173Z"
   },
   {
    "duration": 9,
    "start_time": "2023-10-19T10:16:23.219Z"
   },
   {
    "duration": 24,
    "start_time": "2023-10-19T10:16:23.230Z"
   },
   {
    "duration": 28,
    "start_time": "2023-10-19T10:16:23.257Z"
   },
   {
    "duration": 16,
    "start_time": "2023-10-19T10:16:23.287Z"
   },
   {
    "duration": 14,
    "start_time": "2023-10-19T10:16:23.305Z"
   },
   {
    "duration": 14,
    "start_time": "2023-10-19T10:21:57.703Z"
   },
   {
    "duration": 1209,
    "start_time": "2023-10-19T10:22:33.752Z"
   },
   {
    "duration": 238,
    "start_time": "2023-10-19T10:22:34.963Z"
   },
   {
    "duration": 19,
    "start_time": "2023-10-19T10:22:35.203Z"
   },
   {
    "duration": 21,
    "start_time": "2023-10-19T10:22:35.223Z"
   },
   {
    "duration": 18,
    "start_time": "2023-10-19T10:22:35.246Z"
   },
   {
    "duration": 19,
    "start_time": "2023-10-19T10:22:35.266Z"
   },
   {
    "duration": 24,
    "start_time": "2023-10-19T10:22:35.287Z"
   },
   {
    "duration": 27,
    "start_time": "2023-10-19T10:22:35.313Z"
   },
   {
    "duration": 17,
    "start_time": "2023-10-19T10:22:35.342Z"
   },
   {
    "duration": 15,
    "start_time": "2023-10-19T10:22:35.361Z"
   },
   {
    "duration": 18,
    "start_time": "2023-10-19T10:22:35.378Z"
   },
   {
    "duration": 12,
    "start_time": "2023-10-19T10:22:35.398Z"
   },
   {
    "duration": 12,
    "start_time": "2023-10-19T10:22:35.412Z"
   },
   {
    "duration": 11,
    "start_time": "2023-10-19T10:22:35.427Z"
   },
   {
    "duration": 31,
    "start_time": "2023-10-19T10:22:35.440Z"
   },
   {
    "duration": 8,
    "start_time": "2023-10-19T10:22:35.473Z"
   },
   {
    "duration": 32,
    "start_time": "2023-10-19T10:22:35.482Z"
   },
   {
    "duration": 24,
    "start_time": "2023-10-19T10:22:35.515Z"
   },
   {
    "duration": 33,
    "start_time": "2023-10-19T10:22:35.541Z"
   },
   {
    "duration": 16,
    "start_time": "2023-10-19T10:22:35.576Z"
   },
   {
    "duration": 22,
    "start_time": "2023-10-19T10:22:35.594Z"
   },
   {
    "duration": 11,
    "start_time": "2023-10-19T10:22:35.618Z"
   },
   {
    "duration": 31,
    "start_time": "2023-10-19T10:22:35.631Z"
   },
   {
    "duration": 1563,
    "start_time": "2023-10-19T10:22:35.664Z"
   },
   {
    "duration": 6,
    "start_time": "2023-10-19T10:22:37.229Z"
   },
   {
    "duration": 9,
    "start_time": "2023-10-19T10:22:37.237Z"
   },
   {
    "duration": 17,
    "start_time": "2023-10-19T10:22:37.248Z"
   },
   {
    "duration": 7,
    "start_time": "2023-10-19T10:22:37.267Z"
   },
   {
    "duration": 7,
    "start_time": "2023-10-19T10:22:37.276Z"
   },
   {
    "duration": 8,
    "start_time": "2023-10-19T10:22:37.285Z"
   },
   {
    "duration": 7,
    "start_time": "2023-10-19T10:22:37.295Z"
   },
   {
    "duration": 1489,
    "start_time": "2023-10-19T10:22:37.303Z"
   },
   {
    "duration": 10,
    "start_time": "2023-10-19T10:22:38.794Z"
   },
   {
    "duration": 23,
    "start_time": "2023-10-19T10:22:38.806Z"
   },
   {
    "duration": 7,
    "start_time": "2023-10-19T10:22:38.830Z"
   },
   {
    "duration": 27,
    "start_time": "2023-10-19T10:22:38.838Z"
   },
   {
    "duration": 28,
    "start_time": "2023-10-19T10:22:38.866Z"
   },
   {
    "duration": 357,
    "start_time": "2023-10-19T10:22:38.896Z"
   },
   {
    "duration": 4,
    "start_time": "2023-10-19T10:22:39.255Z"
   },
   {
    "duration": 665,
    "start_time": "2023-10-19T10:22:39.261Z"
   },
   {
    "duration": 608,
    "start_time": "2023-10-19T10:22:39.930Z"
   },
   {
    "duration": 4,
    "start_time": "2023-10-19T10:22:40.540Z"
   },
   {
    "duration": 517,
    "start_time": "2023-10-19T10:22:40.546Z"
   },
   {
    "duration": 7,
    "start_time": "2023-10-19T10:22:41.065Z"
   },
   {
    "duration": 16,
    "start_time": "2023-10-19T10:22:41.075Z"
   },
   {
    "duration": 6,
    "start_time": "2023-10-19T10:22:41.093Z"
   },
   {
    "duration": 486,
    "start_time": "2023-10-19T10:22:41.101Z"
   },
   {
    "duration": 5,
    "start_time": "2023-10-19T10:22:41.589Z"
   },
   {
    "duration": 187,
    "start_time": "2023-10-19T10:22:41.595Z"
   },
   {
    "duration": 315,
    "start_time": "2023-10-19T10:22:41.784Z"
   },
   {
    "duration": 125,
    "start_time": "2023-10-19T10:22:42.101Z"
   },
   {
    "duration": 384,
    "start_time": "2023-10-19T10:22:42.227Z"
   },
   {
    "duration": 133,
    "start_time": "2023-10-19T10:22:42.612Z"
   },
   {
    "duration": 567,
    "start_time": "2023-10-19T10:22:42.747Z"
   },
   {
    "duration": 236,
    "start_time": "2023-10-19T10:22:43.316Z"
   },
   {
    "duration": 432,
    "start_time": "2023-10-19T10:22:43.554Z"
   },
   {
    "duration": 155,
    "start_time": "2023-10-19T10:22:43.987Z"
   },
   {
    "duration": 332,
    "start_time": "2023-10-19T10:22:44.144Z"
   },
   {
    "duration": 121,
    "start_time": "2023-10-19T10:22:44.477Z"
   },
   {
    "duration": 337,
    "start_time": "2023-10-19T10:22:44.600Z"
   },
   {
    "duration": 13,
    "start_time": "2023-10-19T10:22:44.939Z"
   },
   {
    "duration": 31,
    "start_time": "2023-10-19T10:22:44.953Z"
   },
   {
    "duration": 44,
    "start_time": "2023-10-19T10:22:44.986Z"
   },
   {
    "duration": 655,
    "start_time": "2023-10-19T10:22:45.032Z"
   },
   {
    "duration": 21,
    "start_time": "2023-10-19T10:22:45.689Z"
   },
   {
    "duration": 40,
    "start_time": "2023-10-19T10:22:45.724Z"
   },
   {
    "duration": 79,
    "start_time": "2023-10-19T10:22:45.766Z"
   },
   {
    "duration": 64,
    "start_time": "2023-10-19T10:22:45.848Z"
   },
   {
    "duration": 20,
    "start_time": "2023-10-19T10:22:45.914Z"
   },
   {
    "duration": 30,
    "start_time": "2023-10-19T10:22:45.936Z"
   },
   {
    "duration": 19,
    "start_time": "2023-10-19T10:22:45.968Z"
   },
   {
    "duration": 85,
    "start_time": "2023-10-19T10:22:45.990Z"
   },
   {
    "duration": 186,
    "start_time": "2023-10-19T10:22:46.077Z"
   },
   {
    "duration": 123,
    "start_time": "2023-10-19T10:22:46.266Z"
   },
   {
    "duration": 111,
    "start_time": "2023-10-19T10:22:46.391Z"
   },
   {
    "duration": 36,
    "start_time": "2023-10-19T10:22:46.504Z"
   },
   {
    "duration": 57,
    "start_time": "2023-10-19T10:22:46.542Z"
   },
   {
    "duration": 316,
    "start_time": "2023-10-19T10:22:46.602Z"
   },
   {
    "duration": 355,
    "start_time": "2023-10-19T10:22:46.927Z"
   },
   {
    "duration": 8,
    "start_time": "2023-10-19T10:22:47.284Z"
   },
   {
    "duration": 40,
    "start_time": "2023-10-19T10:22:47.293Z"
   },
   {
    "duration": 62,
    "start_time": "2023-10-19T10:22:47.334Z"
   },
   {
    "duration": 76,
    "start_time": "2023-10-19T10:22:47.398Z"
   },
   {
    "duration": 44,
    "start_time": "2023-10-19T10:22:47.476Z"
   },
   {
    "duration": 38,
    "start_time": "2023-10-19T10:22:47.522Z"
   },
   {
    "duration": 43,
    "start_time": "2023-10-19T10:22:47.562Z"
   },
   {
    "duration": 5,
    "start_time": "2023-10-19T10:25:49.808Z"
   },
   {
    "duration": 4,
    "start_time": "2023-10-19T10:25:51.667Z"
   },
   {
    "duration": 3,
    "start_time": "2023-10-19T10:25:54.891Z"
   },
   {
    "duration": 5,
    "start_time": "2023-10-19T10:25:55.719Z"
   },
   {
    "duration": 7,
    "start_time": "2023-10-19T10:25:56.650Z"
   },
   {
    "duration": 1467,
    "start_time": "2023-10-19T10:25:57.294Z"
   },
   {
    "duration": 16,
    "start_time": "2023-10-19T10:30:26.871Z"
   },
   {
    "duration": 22,
    "start_time": "2023-10-19T10:32:25.075Z"
   },
   {
    "duration": 1295,
    "start_time": "2023-10-19T10:32:35.694Z"
   },
   {
    "duration": 151,
    "start_time": "2023-10-19T10:32:36.991Z"
   },
   {
    "duration": 20,
    "start_time": "2023-10-19T10:32:37.144Z"
   },
   {
    "duration": 7,
    "start_time": "2023-10-19T10:32:37.165Z"
   },
   {
    "duration": 21,
    "start_time": "2023-10-19T10:32:37.175Z"
   },
   {
    "duration": 7,
    "start_time": "2023-10-19T10:32:37.197Z"
   },
   {
    "duration": 24,
    "start_time": "2023-10-19T10:32:37.206Z"
   },
   {
    "duration": 6,
    "start_time": "2023-10-19T10:32:37.231Z"
   },
   {
    "duration": 17,
    "start_time": "2023-10-19T10:32:37.239Z"
   },
   {
    "duration": 10,
    "start_time": "2023-10-19T10:32:37.258Z"
   },
   {
    "duration": 12,
    "start_time": "2023-10-19T10:32:37.270Z"
   },
   {
    "duration": 7,
    "start_time": "2023-10-19T10:32:37.283Z"
   },
   {
    "duration": 11,
    "start_time": "2023-10-19T10:32:37.292Z"
   },
   {
    "duration": 9,
    "start_time": "2023-10-19T10:32:37.306Z"
   },
   {
    "duration": 36,
    "start_time": "2023-10-19T10:32:37.317Z"
   },
   {
    "duration": 3,
    "start_time": "2023-10-19T10:32:37.355Z"
   },
   {
    "duration": 23,
    "start_time": "2023-10-19T10:32:37.360Z"
   },
   {
    "duration": 7,
    "start_time": "2023-10-19T10:32:37.384Z"
   },
   {
    "duration": 30,
    "start_time": "2023-10-19T10:32:37.392Z"
   },
   {
    "duration": 15,
    "start_time": "2023-10-19T10:32:37.424Z"
   },
   {
    "duration": 17,
    "start_time": "2023-10-19T10:32:37.441Z"
   },
   {
    "duration": 10,
    "start_time": "2023-10-19T10:32:37.460Z"
   },
   {
    "duration": 10,
    "start_time": "2023-10-19T10:32:37.471Z"
   },
   {
    "duration": 1567,
    "start_time": "2023-10-19T10:32:37.482Z"
   },
   {
    "duration": 6,
    "start_time": "2023-10-19T10:32:39.051Z"
   },
   {
    "duration": 10,
    "start_time": "2023-10-19T10:32:39.058Z"
   },
   {
    "duration": 4,
    "start_time": "2023-10-19T10:32:39.069Z"
   },
   {
    "duration": 41,
    "start_time": "2023-10-19T10:32:39.074Z"
   },
   {
    "duration": 32,
    "start_time": "2023-10-19T10:32:39.116Z"
   },
   {
    "duration": 134,
    "start_time": "2023-10-19T10:32:39.150Z"
   },
   {
    "duration": 59,
    "start_time": "2023-10-19T10:32:39.286Z"
   },
   {
    "duration": 16,
    "start_time": "2023-10-19T10:32:39.346Z"
   },
   {
    "duration": 16,
    "start_time": "2023-10-19T10:32:39.363Z"
   },
   {
    "duration": 24,
    "start_time": "2023-10-19T10:32:39.381Z"
   },
   {
    "duration": 1579,
    "start_time": "2023-10-19T10:32:39.407Z"
   },
   {
    "duration": 12,
    "start_time": "2023-10-19T10:32:40.987Z"
   },
   {
    "duration": 29,
    "start_time": "2023-10-19T10:32:41.001Z"
   },
   {
    "duration": 5,
    "start_time": "2023-10-19T10:32:41.032Z"
   },
   {
    "duration": 39,
    "start_time": "2023-10-19T10:32:41.040Z"
   },
   {
    "duration": 8,
    "start_time": "2023-10-19T10:32:41.081Z"
   },
   {
    "duration": 318,
    "start_time": "2023-10-19T10:32:41.094Z"
   },
   {
    "duration": 10,
    "start_time": "2023-10-19T10:32:41.414Z"
   },
   {
    "duration": 609,
    "start_time": "2023-10-19T10:32:41.426Z"
   },
   {
    "duration": 638,
    "start_time": "2023-10-19T10:32:42.037Z"
   },
   {
    "duration": 4,
    "start_time": "2023-10-19T10:32:42.677Z"
   },
   {
    "duration": 507,
    "start_time": "2023-10-19T10:32:42.683Z"
   },
   {
    "duration": 5,
    "start_time": "2023-10-19T10:32:43.192Z"
   },
   {
    "duration": 13,
    "start_time": "2023-10-19T10:32:43.199Z"
   },
   {
    "duration": 27,
    "start_time": "2023-10-19T10:32:43.213Z"
   },
   {
    "duration": 506,
    "start_time": "2023-10-19T10:32:43.242Z"
   },
   {
    "duration": 4,
    "start_time": "2023-10-19T10:32:43.750Z"
   },
   {
    "duration": 117,
    "start_time": "2023-10-19T10:32:43.756Z"
   },
   {
    "duration": 308,
    "start_time": "2023-10-19T10:32:43.874Z"
   },
   {
    "duration": 127,
    "start_time": "2023-10-19T10:32:44.184Z"
   },
   {
    "duration": 393,
    "start_time": "2023-10-19T10:32:44.313Z"
   },
   {
    "duration": 167,
    "start_time": "2023-10-19T10:32:44.708Z"
   },
   {
    "duration": 559,
    "start_time": "2023-10-19T10:32:44.876Z"
   },
   {
    "duration": 238,
    "start_time": "2023-10-19T10:32:45.437Z"
   },
   {
    "duration": 457,
    "start_time": "2023-10-19T10:32:45.677Z"
   },
   {
    "duration": 154,
    "start_time": "2023-10-19T10:32:46.137Z"
   },
   {
    "duration": 299,
    "start_time": "2023-10-19T10:32:46.293Z"
   },
   {
    "duration": 158,
    "start_time": "2023-10-19T10:32:46.594Z"
   },
   {
    "duration": 346,
    "start_time": "2023-10-19T10:32:46.754Z"
   },
   {
    "duration": 25,
    "start_time": "2023-10-19T10:32:47.102Z"
   },
   {
    "duration": 29,
    "start_time": "2023-10-19T10:32:47.130Z"
   },
   {
    "duration": 38,
    "start_time": "2023-10-19T10:32:47.161Z"
   },
   {
    "duration": 502,
    "start_time": "2023-10-19T10:32:47.201Z"
   },
   {
    "duration": 26,
    "start_time": "2023-10-19T10:32:47.704Z"
   },
   {
    "duration": 48,
    "start_time": "2023-10-19T10:32:47.732Z"
   },
   {
    "duration": 41,
    "start_time": "2023-10-19T10:32:47.782Z"
   },
   {
    "duration": 70,
    "start_time": "2023-10-19T10:32:47.831Z"
   },
   {
    "duration": 28,
    "start_time": "2023-10-19T10:32:47.903Z"
   },
   {
    "duration": 127,
    "start_time": "2023-10-19T10:32:47.933Z"
   },
   {
    "duration": 78,
    "start_time": "2023-10-19T10:32:48.061Z"
   },
   {
    "duration": 16,
    "start_time": "2023-10-19T10:32:48.141Z"
   },
   {
    "duration": 10,
    "start_time": "2023-10-19T10:32:48.159Z"
   },
   {
    "duration": 35,
    "start_time": "2023-10-19T10:32:48.171Z"
   },
   {
    "duration": 79,
    "start_time": "2023-10-19T10:32:48.208Z"
   },
   {
    "duration": 173,
    "start_time": "2023-10-19T10:32:48.288Z"
   },
   {
    "duration": 63,
    "start_time": "2023-10-19T10:32:48.463Z"
   },
   {
    "duration": 298,
    "start_time": "2023-10-19T10:32:48.528Z"
   },
   {
    "duration": 363,
    "start_time": "2023-10-19T10:32:48.828Z"
   },
   {
    "duration": 7,
    "start_time": "2023-10-19T10:32:49.193Z"
   },
   {
    "duration": 41,
    "start_time": "2023-10-19T10:32:49.202Z"
   },
   {
    "duration": 34,
    "start_time": "2023-10-19T10:32:49.245Z"
   },
   {
    "duration": 30,
    "start_time": "2023-10-19T10:32:49.281Z"
   },
   {
    "duration": 12,
    "start_time": "2023-10-19T10:32:49.314Z"
   },
   {
    "duration": 14,
    "start_time": "2023-10-19T10:32:49.329Z"
   },
   {
    "duration": 13,
    "start_time": "2023-10-19T10:32:49.345Z"
   },
   {
    "duration": 1214,
    "start_time": "2023-10-19T10:34:37.031Z"
   },
   {
    "duration": 182,
    "start_time": "2023-10-19T10:34:38.247Z"
   },
   {
    "duration": 20,
    "start_time": "2023-10-19T10:34:38.431Z"
   },
   {
    "duration": 34,
    "start_time": "2023-10-19T10:34:38.453Z"
   },
   {
    "duration": 14,
    "start_time": "2023-10-19T10:34:38.489Z"
   },
   {
    "duration": 30,
    "start_time": "2023-10-19T10:34:38.505Z"
   },
   {
    "duration": 37,
    "start_time": "2023-10-19T10:34:38.537Z"
   },
   {
    "duration": 30,
    "start_time": "2023-10-19T10:34:38.576Z"
   },
   {
    "duration": 32,
    "start_time": "2023-10-19T10:34:38.608Z"
   },
   {
    "duration": 51,
    "start_time": "2023-10-19T10:34:38.641Z"
   },
   {
    "duration": 21,
    "start_time": "2023-10-19T10:34:38.694Z"
   },
   {
    "duration": 23,
    "start_time": "2023-10-19T10:34:38.717Z"
   },
   {
    "duration": 46,
    "start_time": "2023-10-19T10:34:38.742Z"
   },
   {
    "duration": 21,
    "start_time": "2023-10-19T10:34:38.792Z"
   },
   {
    "duration": 23,
    "start_time": "2023-10-19T10:34:38.817Z"
   },
   {
    "duration": 11,
    "start_time": "2023-10-19T10:34:38.842Z"
   },
   {
    "duration": 26,
    "start_time": "2023-10-19T10:34:38.855Z"
   },
   {
    "duration": 17,
    "start_time": "2023-10-19T10:34:38.883Z"
   },
   {
    "duration": 23,
    "start_time": "2023-10-19T10:34:38.902Z"
   },
   {
    "duration": 11,
    "start_time": "2023-10-19T10:34:38.927Z"
   },
   {
    "duration": 24,
    "start_time": "2023-10-19T10:34:38.940Z"
   },
   {
    "duration": 13,
    "start_time": "2023-10-19T10:34:38.965Z"
   },
   {
    "duration": 23,
    "start_time": "2023-10-19T10:34:38.979Z"
   },
   {
    "duration": 1528,
    "start_time": "2023-10-19T10:34:39.003Z"
   },
   {
    "duration": 6,
    "start_time": "2023-10-19T10:34:40.534Z"
   },
   {
    "duration": 26,
    "start_time": "2023-10-19T10:34:40.542Z"
   },
   {
    "duration": 18,
    "start_time": "2023-10-19T10:34:40.570Z"
   },
   {
    "duration": 19,
    "start_time": "2023-10-19T10:34:40.590Z"
   },
   {
    "duration": 19,
    "start_time": "2023-10-19T10:34:40.611Z"
   },
   {
    "duration": 17,
    "start_time": "2023-10-19T10:34:40.631Z"
   },
   {
    "duration": 53,
    "start_time": "2023-10-19T10:34:40.650Z"
   },
   {
    "duration": 19,
    "start_time": "2023-10-19T10:34:40.706Z"
   },
   {
    "duration": 49,
    "start_time": "2023-10-19T10:34:40.728Z"
   },
   {
    "duration": 18,
    "start_time": "2023-10-19T10:34:40.779Z"
   },
   {
    "duration": 1434,
    "start_time": "2023-10-19T10:34:40.799Z"
   },
   {
    "duration": 12,
    "start_time": "2023-10-19T10:34:42.235Z"
   },
   {
    "duration": 60,
    "start_time": "2023-10-19T10:34:42.249Z"
   },
   {
    "duration": 4,
    "start_time": "2023-10-19T10:34:42.311Z"
   },
   {
    "duration": 29,
    "start_time": "2023-10-19T10:34:42.316Z"
   },
   {
    "duration": 57,
    "start_time": "2023-10-19T10:34:42.347Z"
   },
   {
    "duration": 292,
    "start_time": "2023-10-19T10:34:42.406Z"
   },
   {
    "duration": 5,
    "start_time": "2023-10-19T10:34:42.700Z"
   },
   {
    "duration": 620,
    "start_time": "2023-10-19T10:34:42.706Z"
   },
   {
    "duration": 638,
    "start_time": "2023-10-19T10:34:43.328Z"
   },
   {
    "duration": 4,
    "start_time": "2023-10-19T10:34:43.968Z"
   },
   {
    "duration": 450,
    "start_time": "2023-10-19T10:34:45.196Z"
   },
   {
    "duration": 6,
    "start_time": "2023-10-19T10:34:45.648Z"
   },
   {
    "duration": 42,
    "start_time": "2023-10-19T10:34:45.656Z"
   },
   {
    "duration": 52,
    "start_time": "2023-10-19T10:34:45.700Z"
   },
   {
    "duration": 590,
    "start_time": "2023-10-19T10:34:45.753Z"
   },
   {
    "duration": 5,
    "start_time": "2023-10-19T10:34:46.345Z"
   },
   {
    "duration": 132,
    "start_time": "2023-10-19T10:34:46.351Z"
   },
   {
    "duration": 374,
    "start_time": "2023-10-19T10:34:46.485Z"
   },
   {
    "duration": 145,
    "start_time": "2023-10-19T10:34:46.861Z"
   },
   {
    "duration": 379,
    "start_time": "2023-10-19T10:34:47.008Z"
   },
   {
    "duration": 145,
    "start_time": "2023-10-19T10:34:47.388Z"
   },
   {
    "duration": 570,
    "start_time": "2023-10-19T10:34:47.535Z"
   },
   {
    "duration": 212,
    "start_time": "2023-10-19T10:34:48.107Z"
   },
   {
    "duration": 386,
    "start_time": "2023-10-19T10:34:48.321Z"
   },
   {
    "duration": 137,
    "start_time": "2023-10-19T10:34:48.724Z"
   },
   {
    "duration": 333,
    "start_time": "2023-10-19T10:34:48.863Z"
   },
   {
    "duration": 120,
    "start_time": "2023-10-19T10:34:49.198Z"
   },
   {
    "duration": 360,
    "start_time": "2023-10-19T10:34:49.323Z"
   },
   {
    "duration": 12,
    "start_time": "2023-10-19T10:34:49.685Z"
   },
   {
    "duration": 43,
    "start_time": "2023-10-19T10:34:49.701Z"
   },
   {
    "duration": 62,
    "start_time": "2023-10-19T10:34:49.746Z"
   },
   {
    "duration": 469,
    "start_time": "2023-10-19T10:34:49.810Z"
   },
   {
    "duration": 24,
    "start_time": "2023-10-19T10:34:50.281Z"
   },
   {
    "duration": 60,
    "start_time": "2023-10-19T10:34:50.307Z"
   },
   {
    "duration": 46,
    "start_time": "2023-10-19T10:34:50.369Z"
   },
   {
    "duration": 31,
    "start_time": "2023-10-19T10:34:50.417Z"
   },
   {
    "duration": 68,
    "start_time": "2023-10-19T10:34:50.450Z"
   },
   {
    "duration": 40,
    "start_time": "2023-10-19T10:34:50.520Z"
   },
   {
    "duration": 82,
    "start_time": "2023-10-19T10:34:50.562Z"
   },
   {
    "duration": 49,
    "start_time": "2023-10-19T10:34:50.646Z"
   },
   {
    "duration": 42,
    "start_time": "2023-10-19T10:34:50.696Z"
   },
   {
    "duration": 42,
    "start_time": "2023-10-19T10:34:50.739Z"
   },
   {
    "duration": 30,
    "start_time": "2023-10-19T10:34:50.783Z"
   },
   {
    "duration": 47,
    "start_time": "2023-10-19T10:34:50.814Z"
   },
   {
    "duration": 84,
    "start_time": "2023-10-19T10:34:50.862Z"
   },
   {
    "duration": 270,
    "start_time": "2023-10-19T10:34:50.948Z"
   },
   {
    "duration": 337,
    "start_time": "2023-10-19T10:34:51.220Z"
   },
   {
    "duration": 8,
    "start_time": "2023-10-19T10:34:51.559Z"
   },
   {
    "duration": 170,
    "start_time": "2023-10-19T10:34:51.568Z"
   },
   {
    "duration": 70,
    "start_time": "2023-10-19T10:34:51.740Z"
   },
   {
    "duration": 42,
    "start_time": "2023-10-19T10:34:51.812Z"
   },
   {
    "duration": 127,
    "start_time": "2023-10-19T10:34:51.855Z"
   },
   {
    "duration": 138,
    "start_time": "2023-10-19T10:34:51.984Z"
   },
   {
    "duration": 170,
    "start_time": "2023-10-19T10:34:52.124Z"
   },
   {
    "duration": 99,
    "start_time": "2023-10-19T10:36:28.444Z"
   },
   {
    "duration": 6,
    "start_time": "2023-10-19T10:36:49.690Z"
   },
   {
    "duration": 4,
    "start_time": "2023-10-19T10:37:04.981Z"
   },
   {
    "duration": 15,
    "start_time": "2023-10-19T10:37:06.163Z"
   },
   {
    "duration": 1217,
    "start_time": "2023-10-19T12:12:15.233Z"
   },
   {
    "duration": 199,
    "start_time": "2023-10-19T12:12:16.452Z"
   },
   {
    "duration": 19,
    "start_time": "2023-10-19T12:12:16.653Z"
   },
   {
    "duration": 10,
    "start_time": "2023-10-19T12:12:16.673Z"
   },
   {
    "duration": 31,
    "start_time": "2023-10-19T12:12:16.686Z"
   },
   {
    "duration": 24,
    "start_time": "2023-10-19T12:12:16.718Z"
   },
   {
    "duration": 14,
    "start_time": "2023-10-19T12:12:16.744Z"
   },
   {
    "duration": 4,
    "start_time": "2023-10-19T12:12:16.760Z"
   },
   {
    "duration": 13,
    "start_time": "2023-10-19T12:12:16.765Z"
   },
   {
    "duration": 4,
    "start_time": "2023-10-19T12:12:16.780Z"
   },
   {
    "duration": 10,
    "start_time": "2023-10-19T12:12:16.785Z"
   },
   {
    "duration": 5,
    "start_time": "2023-10-19T12:12:16.797Z"
   },
   {
    "duration": 36,
    "start_time": "2023-10-19T12:12:16.804Z"
   },
   {
    "duration": 4,
    "start_time": "2023-10-19T12:12:16.844Z"
   },
   {
    "duration": 13,
    "start_time": "2023-10-19T12:12:16.849Z"
   },
   {
    "duration": 3,
    "start_time": "2023-10-19T12:12:16.863Z"
   },
   {
    "duration": 18,
    "start_time": "2023-10-19T12:12:16.868Z"
   },
   {
    "duration": 8,
    "start_time": "2023-10-19T12:12:16.888Z"
   },
   {
    "duration": 14,
    "start_time": "2023-10-19T12:12:16.898Z"
   },
   {
    "duration": 13,
    "start_time": "2023-10-19T12:12:16.914Z"
   },
   {
    "duration": 11,
    "start_time": "2023-10-19T12:12:16.929Z"
   },
   {
    "duration": 9,
    "start_time": "2023-10-19T12:12:16.942Z"
   },
   {
    "duration": 11,
    "start_time": "2023-10-19T12:12:16.953Z"
   },
   {
    "duration": 1403,
    "start_time": "2023-10-19T12:12:16.966Z"
   },
   {
    "duration": 5,
    "start_time": "2023-10-19T12:12:18.372Z"
   },
   {
    "duration": 16,
    "start_time": "2023-10-19T12:12:18.378Z"
   },
   {
    "duration": 6,
    "start_time": "2023-10-19T12:12:18.396Z"
   },
   {
    "duration": 6,
    "start_time": "2023-10-19T12:12:18.403Z"
   },
   {
    "duration": 19,
    "start_time": "2023-10-19T12:12:18.411Z"
   },
   {
    "duration": 7,
    "start_time": "2023-10-19T12:12:18.432Z"
   },
   {
    "duration": 36,
    "start_time": "2023-10-19T12:12:18.440Z"
   },
   {
    "duration": 38,
    "start_time": "2023-10-19T12:12:18.477Z"
   },
   {
    "duration": 21,
    "start_time": "2023-10-19T12:12:18.517Z"
   },
   {
    "duration": 21,
    "start_time": "2023-10-19T12:12:18.540Z"
   },
   {
    "duration": 5,
    "start_time": "2023-10-19T12:12:18.563Z"
   },
   {
    "duration": 15,
    "start_time": "2023-10-19T12:12:18.570Z"
   },
   {
    "duration": 7,
    "start_time": "2023-10-19T12:12:18.587Z"
   },
   {
    "duration": 9,
    "start_time": "2023-10-19T12:12:18.595Z"
   },
   {
    "duration": 5,
    "start_time": "2023-10-19T12:12:18.606Z"
   },
   {
    "duration": 1417,
    "start_time": "2023-10-19T12:12:18.613Z"
   },
   {
    "duration": 9,
    "start_time": "2023-10-19T12:12:20.035Z"
   },
   {
    "duration": 33,
    "start_time": "2023-10-19T12:12:20.046Z"
   },
   {
    "duration": 5,
    "start_time": "2023-10-19T12:12:20.081Z"
   },
   {
    "duration": 37,
    "start_time": "2023-10-19T12:12:20.088Z"
   },
   {
    "duration": 17,
    "start_time": "2023-10-19T12:12:20.127Z"
   },
   {
    "duration": 438,
    "start_time": "2023-10-19T12:12:20.146Z"
   },
   {
    "duration": 5,
    "start_time": "2023-10-19T12:12:20.585Z"
   },
   {
    "duration": 588,
    "start_time": "2023-10-19T12:12:20.591Z"
   },
   {
    "duration": 603,
    "start_time": "2023-10-19T12:12:21.181Z"
   },
   {
    "duration": 5,
    "start_time": "2023-10-19T12:12:21.785Z"
   },
   {
    "duration": 455,
    "start_time": "2023-10-19T12:12:21.791Z"
   },
   {
    "duration": 5,
    "start_time": "2023-10-19T12:12:22.248Z"
   },
   {
    "duration": 39,
    "start_time": "2023-10-19T12:12:22.255Z"
   },
   {
    "duration": 16,
    "start_time": "2023-10-19T12:12:22.295Z"
   },
   {
    "duration": 448,
    "start_time": "2023-10-19T12:12:22.313Z"
   },
   {
    "duration": 5,
    "start_time": "2023-10-19T12:12:22.762Z"
   },
   {
    "duration": 171,
    "start_time": "2023-10-19T12:12:22.768Z"
   },
   {
    "duration": 320,
    "start_time": "2023-10-19T12:12:22.941Z"
   },
   {
    "duration": 139,
    "start_time": "2023-10-19T12:12:23.262Z"
   },
   {
    "duration": 381,
    "start_time": "2023-10-19T12:12:23.403Z"
   },
   {
    "duration": 126,
    "start_time": "2023-10-19T12:12:23.786Z"
   },
   {
    "duration": 514,
    "start_time": "2023-10-19T12:12:23.913Z"
   },
   {
    "duration": 228,
    "start_time": "2023-10-19T12:12:24.429Z"
   },
   {
    "duration": 423,
    "start_time": "2023-10-19T12:12:24.658Z"
   },
   {
    "duration": 141,
    "start_time": "2023-10-19T12:12:25.083Z"
   },
   {
    "duration": 341,
    "start_time": "2023-10-19T12:12:25.225Z"
   },
   {
    "duration": 127,
    "start_time": "2023-10-19T12:12:25.567Z"
   },
   {
    "duration": 380,
    "start_time": "2023-10-19T12:12:25.696Z"
   },
   {
    "duration": 11,
    "start_time": "2023-10-19T12:12:26.078Z"
   },
   {
    "duration": 70,
    "start_time": "2023-10-19T12:12:26.091Z"
   },
   {
    "duration": 34,
    "start_time": "2023-10-19T12:12:26.163Z"
   },
   {
    "duration": 459,
    "start_time": "2023-10-19T12:12:26.199Z"
   },
   {
    "duration": 19,
    "start_time": "2023-10-19T12:12:26.660Z"
   },
   {
    "duration": 24,
    "start_time": "2023-10-19T12:12:26.681Z"
   },
   {
    "duration": 16,
    "start_time": "2023-10-19T12:12:26.707Z"
   },
   {
    "duration": 12,
    "start_time": "2023-10-19T12:12:26.725Z"
   },
   {
    "duration": 61,
    "start_time": "2023-10-19T12:12:26.739Z"
   },
   {
    "duration": 31,
    "start_time": "2023-10-19T12:12:26.802Z"
   },
   {
    "duration": 41,
    "start_time": "2023-10-19T12:12:26.834Z"
   },
   {
    "duration": 72,
    "start_time": "2023-10-19T12:12:26.877Z"
   },
   {
    "duration": 25,
    "start_time": "2023-10-19T12:12:26.951Z"
   },
   {
    "duration": 32,
    "start_time": "2023-10-19T12:12:26.977Z"
   },
   {
    "duration": 20,
    "start_time": "2023-10-19T12:12:27.010Z"
   },
   {
    "duration": 21,
    "start_time": "2023-10-19T12:12:27.031Z"
   },
   {
    "duration": 50,
    "start_time": "2023-10-19T12:12:27.053Z"
   },
   {
    "duration": 260,
    "start_time": "2023-10-19T12:12:27.105Z"
   },
   {
    "duration": 331,
    "start_time": "2023-10-19T12:12:27.367Z"
   },
   {
    "duration": 9,
    "start_time": "2023-10-19T12:12:27.700Z"
   },
   {
    "duration": 18,
    "start_time": "2023-10-19T12:12:27.711Z"
   },
   {
    "duration": 11,
    "start_time": "2023-10-19T12:12:27.731Z"
   },
   {
    "duration": 32,
    "start_time": "2023-10-19T12:12:27.743Z"
   },
   {
    "duration": 27,
    "start_time": "2023-10-19T12:12:27.780Z"
   },
   {
    "duration": 18,
    "start_time": "2023-10-19T12:12:27.810Z"
   },
   {
    "duration": 29,
    "start_time": "2023-10-19T12:12:27.830Z"
   },
   {
    "duration": 1189,
    "start_time": "2023-10-19T12:13:45.966Z"
   },
   {
    "duration": 144,
    "start_time": "2023-10-19T12:13:47.157Z"
   },
   {
    "duration": 18,
    "start_time": "2023-10-19T12:13:47.303Z"
   },
   {
    "duration": 29,
    "start_time": "2023-10-19T12:13:47.323Z"
   },
   {
    "duration": 29,
    "start_time": "2023-10-19T12:13:47.354Z"
   },
   {
    "duration": 34,
    "start_time": "2023-10-19T12:13:47.385Z"
   },
   {
    "duration": 60,
    "start_time": "2023-10-19T12:13:47.421Z"
   },
   {
    "duration": 48,
    "start_time": "2023-10-19T12:13:47.483Z"
   },
   {
    "duration": 34,
    "start_time": "2023-10-19T12:13:47.533Z"
   },
   {
    "duration": 29,
    "start_time": "2023-10-19T12:13:47.568Z"
   },
   {
    "duration": 30,
    "start_time": "2023-10-19T12:13:47.598Z"
   },
   {
    "duration": 26,
    "start_time": "2023-10-19T12:13:47.630Z"
   },
   {
    "duration": 33,
    "start_time": "2023-10-19T12:13:47.657Z"
   },
   {
    "duration": 31,
    "start_time": "2023-10-19T12:13:47.692Z"
   },
   {
    "duration": 43,
    "start_time": "2023-10-19T12:13:47.724Z"
   },
   {
    "duration": 27,
    "start_time": "2023-10-19T12:13:47.768Z"
   },
   {
    "duration": 21,
    "start_time": "2023-10-19T12:13:47.797Z"
   },
   {
    "duration": 28,
    "start_time": "2023-10-19T12:13:47.820Z"
   },
   {
    "duration": 29,
    "start_time": "2023-10-19T12:13:47.850Z"
   },
   {
    "duration": 34,
    "start_time": "2023-10-19T12:13:47.881Z"
   },
   {
    "duration": 32,
    "start_time": "2023-10-19T12:13:47.917Z"
   },
   {
    "duration": 25,
    "start_time": "2023-10-19T12:13:47.950Z"
   },
   {
    "duration": 36,
    "start_time": "2023-10-19T12:13:47.977Z"
   },
   {
    "duration": 1449,
    "start_time": "2023-10-19T12:13:48.015Z"
   },
   {
    "duration": 5,
    "start_time": "2023-10-19T12:13:49.466Z"
   },
   {
    "duration": 26,
    "start_time": "2023-10-19T12:13:49.473Z"
   },
   {
    "duration": 29,
    "start_time": "2023-10-19T12:13:49.501Z"
   },
   {
    "duration": 18,
    "start_time": "2023-10-19T12:13:49.532Z"
   },
   {
    "duration": 31,
    "start_time": "2023-10-19T12:13:49.552Z"
   },
   {
    "duration": 33,
    "start_time": "2023-10-19T12:13:49.585Z"
   },
   {
    "duration": 24,
    "start_time": "2023-10-19T12:13:49.619Z"
   },
   {
    "duration": 20,
    "start_time": "2023-10-19T12:13:49.645Z"
   },
   {
    "duration": 27,
    "start_time": "2023-10-19T12:13:49.667Z"
   },
   {
    "duration": 31,
    "start_time": "2023-10-19T12:13:49.696Z"
   },
   {
    "duration": 24,
    "start_time": "2023-10-19T12:13:49.728Z"
   },
   {
    "duration": 34,
    "start_time": "2023-10-19T12:13:49.753Z"
   },
   {
    "duration": 39,
    "start_time": "2023-10-19T12:13:49.789Z"
   },
   {
    "duration": 34,
    "start_time": "2023-10-19T12:13:49.830Z"
   },
   {
    "duration": 49,
    "start_time": "2023-10-19T12:13:49.866Z"
   },
   {
    "duration": 1442,
    "start_time": "2023-10-19T12:13:49.917Z"
   },
   {
    "duration": 11,
    "start_time": "2023-10-19T12:13:51.365Z"
   },
   {
    "duration": 30,
    "start_time": "2023-10-19T12:13:51.378Z"
   },
   {
    "duration": 59,
    "start_time": "2023-10-19T12:13:51.409Z"
   },
   {
    "duration": 140,
    "start_time": "2023-10-19T12:13:51.470Z"
   },
   {
    "duration": 39,
    "start_time": "2023-10-19T12:13:51.612Z"
   },
   {
    "duration": 323,
    "start_time": "2023-10-19T12:13:51.653Z"
   },
   {
    "duration": 4,
    "start_time": "2023-10-19T12:13:51.978Z"
   },
   {
    "duration": 601,
    "start_time": "2023-10-19T12:13:51.984Z"
   },
   {
    "duration": 611,
    "start_time": "2023-10-19T12:13:52.586Z"
   },
   {
    "duration": 5,
    "start_time": "2023-10-19T12:13:53.199Z"
   },
   {
    "duration": 500,
    "start_time": "2023-10-19T12:13:53.205Z"
   },
   {
    "duration": 5,
    "start_time": "2023-10-19T12:13:53.707Z"
   },
   {
    "duration": 26,
    "start_time": "2023-10-19T12:13:53.713Z"
   },
   {
    "duration": 10,
    "start_time": "2023-10-19T12:13:53.741Z"
   },
   {
    "duration": 464,
    "start_time": "2023-10-19T12:13:53.753Z"
   },
   {
    "duration": 8,
    "start_time": "2023-10-19T12:13:54.219Z"
   },
   {
    "duration": 140,
    "start_time": "2023-10-19T12:13:54.229Z"
   },
   {
    "duration": 303,
    "start_time": "2023-10-19T12:13:54.372Z"
   },
   {
    "duration": 115,
    "start_time": "2023-10-19T12:13:54.678Z"
   },
   {
    "duration": 388,
    "start_time": "2023-10-19T12:13:54.795Z"
   },
   {
    "duration": 157,
    "start_time": "2023-10-19T12:13:55.185Z"
   },
   {
    "duration": 540,
    "start_time": "2023-10-19T12:13:55.344Z"
   },
   {
    "duration": 236,
    "start_time": "2023-10-19T12:13:55.886Z"
   },
   {
    "duration": 423,
    "start_time": "2023-10-19T12:13:56.124Z"
   },
   {
    "duration": 135,
    "start_time": "2023-10-19T12:13:56.548Z"
   },
   {
    "duration": 298,
    "start_time": "2023-10-19T12:13:56.685Z"
   },
   {
    "duration": 123,
    "start_time": "2023-10-19T12:13:56.985Z"
   },
   {
    "duration": 335,
    "start_time": "2023-10-19T12:13:57.110Z"
   },
   {
    "duration": 10,
    "start_time": "2023-10-19T12:13:57.447Z"
   },
   {
    "duration": 33,
    "start_time": "2023-10-19T12:13:57.459Z"
   },
   {
    "duration": 67,
    "start_time": "2023-10-19T12:13:57.493Z"
   },
   {
    "duration": 472,
    "start_time": "2023-10-19T12:13:57.562Z"
   },
   {
    "duration": 16,
    "start_time": "2023-10-19T12:13:58.036Z"
   },
   {
    "duration": 34,
    "start_time": "2023-10-19T12:13:58.054Z"
   },
   {
    "duration": 24,
    "start_time": "2023-10-19T12:13:58.090Z"
   },
   {
    "duration": 28,
    "start_time": "2023-10-19T12:13:58.117Z"
   },
   {
    "duration": 34,
    "start_time": "2023-10-19T12:13:58.147Z"
   },
   {
    "duration": 30,
    "start_time": "2023-10-19T12:13:58.182Z"
   },
   {
    "duration": 39,
    "start_time": "2023-10-19T12:13:58.213Z"
   },
   {
    "duration": 22,
    "start_time": "2023-10-19T12:13:58.254Z"
   },
   {
    "duration": 16,
    "start_time": "2023-10-19T12:13:58.277Z"
   },
   {
    "duration": 31,
    "start_time": "2023-10-19T12:13:58.295Z"
   },
   {
    "duration": 26,
    "start_time": "2023-10-19T12:13:58.327Z"
   },
   {
    "duration": 29,
    "start_time": "2023-10-19T12:13:58.354Z"
   },
   {
    "duration": 22,
    "start_time": "2023-10-19T12:13:58.385Z"
   },
   {
    "duration": 244,
    "start_time": "2023-10-19T12:13:58.409Z"
   },
   {
    "duration": 323,
    "start_time": "2023-10-19T12:13:58.654Z"
   },
   {
    "duration": 8,
    "start_time": "2023-10-19T12:13:58.979Z"
   },
   {
    "duration": 102,
    "start_time": "2023-10-19T12:13:58.989Z"
   },
   {
    "duration": 32,
    "start_time": "2023-10-19T12:13:59.093Z"
   },
   {
    "duration": 34,
    "start_time": "2023-10-19T12:13:59.127Z"
   },
   {
    "duration": 42,
    "start_time": "2023-10-19T12:13:59.163Z"
   },
   {
    "duration": 48,
    "start_time": "2023-10-19T12:13:59.207Z"
   },
   {
    "duration": 72,
    "start_time": "2023-10-19T12:13:59.257Z"
   },
   {
    "duration": 104,
    "start_time": "2023-10-19T12:14:41.550Z"
   },
   {
    "duration": 5,
    "start_time": "2023-10-19T12:14:45.849Z"
   },
   {
    "duration": 5,
    "start_time": "2023-10-19T12:15:00.577Z"
   },
   {
    "duration": 9,
    "start_time": "2023-10-19T12:18:02.685Z"
   },
   {
    "duration": 10,
    "start_time": "2023-10-19T12:18:42.363Z"
   },
   {
    "duration": 9,
    "start_time": "2023-10-19T12:18:52.127Z"
   },
   {
    "duration": 5,
    "start_time": "2023-10-19T12:20:41.543Z"
   },
   {
    "duration": 5,
    "start_time": "2023-10-19T12:20:51.495Z"
   },
   {
    "duration": 1403,
    "start_time": "2023-10-19T12:26:36.995Z"
   },
   {
    "duration": 288,
    "start_time": "2023-10-19T12:26:44.504Z"
   },
   {
    "duration": 1466,
    "start_time": "2023-10-19T12:26:48.669Z"
   },
   {
    "duration": 283,
    "start_time": "2023-10-19T12:26:57.541Z"
   },
   {
    "duration": 281,
    "start_time": "2023-10-19T12:27:43.791Z"
   },
   {
    "duration": 7,
    "start_time": "2023-10-19T12:35:58.877Z"
   },
   {
    "duration": 12,
    "start_time": "2023-10-19T12:42:42.044Z"
   },
   {
    "duration": 5,
    "start_time": "2023-10-19T12:43:33.457Z"
   },
   {
    "duration": 391,
    "start_time": "2023-10-19T12:43:34.937Z"
   },
   {
    "duration": 190,
    "start_time": "2023-10-19T12:45:34.939Z"
   },
   {
    "duration": 257,
    "start_time": "2023-10-19T12:45:45.288Z"
   },
   {
    "duration": 126,
    "start_time": "2023-10-19T12:46:20.036Z"
   },
   {
    "duration": 213,
    "start_time": "2023-10-19T12:46:46.016Z"
   },
   {
    "duration": 155,
    "start_time": "2023-10-19T12:46:59.992Z"
   },
   {
    "duration": 161,
    "start_time": "2023-10-19T12:47:32.997Z"
   },
   {
    "duration": 158,
    "start_time": "2023-10-19T12:47:43.571Z"
   },
   {
    "duration": 149,
    "start_time": "2023-10-19T12:49:06.031Z"
   },
   {
    "duration": 151,
    "start_time": "2023-10-19T12:50:47.407Z"
   },
   {
    "duration": 146,
    "start_time": "2023-10-19T12:51:55.661Z"
   },
   {
    "duration": 10,
    "start_time": "2023-10-19T12:57:48.574Z"
   },
   {
    "duration": 20,
    "start_time": "2023-10-19T12:57:49.846Z"
   },
   {
    "duration": 426,
    "start_time": "2023-10-19T12:57:59.424Z"
   },
   {
    "duration": 489,
    "start_time": "2023-10-19T12:58:45.110Z"
   },
   {
    "duration": 638,
    "start_time": "2023-10-19T12:58:52.810Z"
   },
   {
    "duration": 35,
    "start_time": "2023-10-19T13:03:45.841Z"
   },
   {
    "duration": 1195,
    "start_time": "2023-10-19T13:04:00.364Z"
   },
   {
    "duration": 189,
    "start_time": "2023-10-19T13:04:01.561Z"
   },
   {
    "duration": 20,
    "start_time": "2023-10-19T13:04:01.751Z"
   },
   {
    "duration": 29,
    "start_time": "2023-10-19T13:04:01.774Z"
   },
   {
    "duration": 64,
    "start_time": "2023-10-19T13:04:01.805Z"
   },
   {
    "duration": 96,
    "start_time": "2023-10-19T13:04:01.871Z"
   },
   {
    "duration": 82,
    "start_time": "2023-10-19T13:04:01.969Z"
   },
   {
    "duration": 89,
    "start_time": "2023-10-19T13:04:02.053Z"
   },
   {
    "duration": 90,
    "start_time": "2023-10-19T13:04:02.144Z"
   },
   {
    "duration": 170,
    "start_time": "2023-10-19T13:04:02.237Z"
   },
   {
    "duration": 141,
    "start_time": "2023-10-19T13:04:02.409Z"
   },
   {
    "duration": 211,
    "start_time": "2023-10-19T13:04:02.552Z"
   },
   {
    "duration": 58,
    "start_time": "2023-10-19T13:04:02.765Z"
   },
   {
    "duration": 153,
    "start_time": "2023-10-19T13:04:02.825Z"
   },
   {
    "duration": 130,
    "start_time": "2023-10-19T13:04:02.980Z"
   },
   {
    "duration": 291,
    "start_time": "2023-10-19T13:04:03.111Z"
   },
   {
    "duration": 121,
    "start_time": "2023-10-19T13:04:03.404Z"
   },
   {
    "duration": 86,
    "start_time": "2023-10-19T13:04:03.527Z"
   },
   {
    "duration": 144,
    "start_time": "2023-10-19T13:04:03.617Z"
   },
   {
    "duration": 227,
    "start_time": "2023-10-19T13:04:03.763Z"
   },
   {
    "duration": 85,
    "start_time": "2023-10-19T13:04:03.991Z"
   },
   {
    "duration": 175,
    "start_time": "2023-10-19T13:04:04.077Z"
   },
   {
    "duration": 133,
    "start_time": "2023-10-19T13:04:04.254Z"
   },
   {
    "duration": 221,
    "start_time": "2023-10-19T13:04:04.389Z"
   },
   {
    "duration": 540,
    "start_time": "2023-10-19T13:04:04.612Z"
   },
   {
    "duration": 1721,
    "start_time": "2023-10-19T13:04:05.154Z"
   },
   {
    "duration": 6,
    "start_time": "2023-10-19T13:04:06.877Z"
   },
   {
    "duration": 151,
    "start_time": "2023-10-19T13:04:06.887Z"
   },
   {
    "duration": 59,
    "start_time": "2023-10-19T13:04:07.040Z"
   },
   {
    "duration": 70,
    "start_time": "2023-10-19T13:04:07.101Z"
   },
   {
    "duration": 22,
    "start_time": "2023-10-19T13:04:07.173Z"
   },
   {
    "duration": 37,
    "start_time": "2023-10-19T13:04:07.196Z"
   },
   {
    "duration": 13,
    "start_time": "2023-10-19T13:04:07.235Z"
   },
   {
    "duration": 350,
    "start_time": "2023-10-19T13:04:07.250Z"
   },
   {
    "duration": 10,
    "start_time": "2023-10-19T13:04:07.602Z"
   },
   {
    "duration": 54,
    "start_time": "2023-10-19T13:04:07.613Z"
   },
   {
    "duration": 44,
    "start_time": "2023-10-19T13:04:07.669Z"
   },
   {
    "duration": 35,
    "start_time": "2023-10-19T13:04:07.715Z"
   },
   {
    "duration": 7,
    "start_time": "2023-10-19T13:04:07.751Z"
   },
   {
    "duration": 12,
    "start_time": "2023-10-19T13:04:07.760Z"
   },
   {
    "duration": 573,
    "start_time": "2023-10-19T13:04:07.773Z"
   },
   {
    "duration": 467,
    "start_time": "2023-10-19T13:04:08.348Z"
   },
   {
    "duration": 4,
    "start_time": "2023-10-19T13:04:08.824Z"
   },
   {
    "duration": 702,
    "start_time": "2023-10-19T13:04:08.830Z"
   },
   {
    "duration": 5,
    "start_time": "2023-10-19T13:04:09.534Z"
   },
   {
    "duration": 33,
    "start_time": "2023-10-19T13:04:09.541Z"
   },
   {
    "duration": 17,
    "start_time": "2023-10-19T13:04:09.576Z"
   },
   {
    "duration": 464,
    "start_time": "2023-10-19T13:04:09.594Z"
   },
   {
    "duration": 5,
    "start_time": "2023-10-19T13:04:10.060Z"
   },
   {
    "duration": 221,
    "start_time": "2023-10-19T13:04:10.067Z"
   },
   {
    "duration": 351,
    "start_time": "2023-10-19T13:04:10.291Z"
   },
   {
    "duration": 115,
    "start_time": "2023-10-19T13:04:10.644Z"
   },
   {
    "duration": 379,
    "start_time": "2023-10-19T13:04:10.761Z"
   },
   {
    "duration": 155,
    "start_time": "2023-10-19T13:04:11.142Z"
   },
   {
    "duration": 512,
    "start_time": "2023-10-19T13:04:11.298Z"
   },
   {
    "duration": 144,
    "start_time": "2023-10-19T13:04:11.812Z"
   },
   {
    "duration": 4,
    "start_time": "2023-10-19T13:04:11.958Z"
   },
   {
    "duration": 543,
    "start_time": "2023-10-19T13:04:11.964Z"
   },
   {
    "duration": 149,
    "start_time": "2023-10-19T13:04:12.509Z"
   },
   {
    "duration": 313,
    "start_time": "2023-10-19T13:04:12.660Z"
   },
   {
    "duration": 141,
    "start_time": "2023-10-19T13:04:12.974Z"
   },
   {
    "duration": 340,
    "start_time": "2023-10-19T13:04:13.123Z"
   },
   {
    "duration": 12,
    "start_time": "2023-10-19T13:04:13.465Z"
   },
   {
    "duration": 51,
    "start_time": "2023-10-19T13:04:13.479Z"
   },
   {
    "duration": 31,
    "start_time": "2023-10-19T13:04:13.532Z"
   },
   {
    "duration": 577,
    "start_time": "2023-10-19T13:04:13.565Z"
   },
   {
    "duration": 18,
    "start_time": "2023-10-19T13:04:14.143Z"
   },
   {
    "duration": 42,
    "start_time": "2023-10-19T13:04:14.163Z"
   },
   {
    "duration": 57,
    "start_time": "2023-10-19T13:04:14.208Z"
   },
   {
    "duration": 48,
    "start_time": "2023-10-19T13:04:14.266Z"
   },
   {
    "duration": 53,
    "start_time": "2023-10-19T13:04:14.316Z"
   },
   {
    "duration": 89,
    "start_time": "2023-10-19T13:04:14.371Z"
   },
   {
    "duration": 28,
    "start_time": "2023-10-19T13:04:14.462Z"
   },
   {
    "duration": 10,
    "start_time": "2023-10-19T13:04:14.491Z"
   },
   {
    "duration": 13,
    "start_time": "2023-10-19T13:04:14.503Z"
   },
   {
    "duration": 17,
    "start_time": "2023-10-19T13:04:14.517Z"
   },
   {
    "duration": 20,
    "start_time": "2023-10-19T13:04:14.535Z"
   },
   {
    "duration": 31,
    "start_time": "2023-10-19T13:04:14.556Z"
   },
   {
    "duration": 42,
    "start_time": "2023-10-19T13:04:14.588Z"
   },
   {
    "duration": 267,
    "start_time": "2023-10-19T13:04:14.632Z"
   },
   {
    "duration": 243,
    "start_time": "2023-10-19T13:04:14.901Z"
   },
   {
    "duration": 7,
    "start_time": "2023-10-19T13:04:15.149Z"
   },
   {
    "duration": 25,
    "start_time": "2023-10-19T13:04:15.158Z"
   },
   {
    "duration": 34,
    "start_time": "2023-10-19T13:04:15.185Z"
   },
   {
    "duration": 29,
    "start_time": "2023-10-19T13:04:15.222Z"
   },
   {
    "duration": 33,
    "start_time": "2023-10-19T13:04:15.252Z"
   },
   {
    "duration": 51,
    "start_time": "2023-10-19T13:04:15.287Z"
   },
   {
    "duration": 181,
    "start_time": "2023-10-19T13:04:15.339Z"
   },
   {
    "duration": 486,
    "start_time": "2023-10-19T13:05:43.766Z"
   },
   {
    "duration": 104,
    "start_time": "2023-10-19T13:08:35.504Z"
   },
   {
    "duration": 1249,
    "start_time": "2023-10-19T13:08:50.592Z"
   },
   {
    "duration": 123,
    "start_time": "2023-10-19T13:08:51.843Z"
   },
   {
    "duration": 19,
    "start_time": "2023-10-19T13:08:51.967Z"
   },
   {
    "duration": 14,
    "start_time": "2023-10-19T13:08:51.988Z"
   },
   {
    "duration": 19,
    "start_time": "2023-10-19T13:08:52.004Z"
   },
   {
    "duration": 24,
    "start_time": "2023-10-19T13:08:52.025Z"
   },
   {
    "duration": 56,
    "start_time": "2023-10-19T13:08:52.051Z"
   },
   {
    "duration": 73,
    "start_time": "2023-10-19T13:08:52.109Z"
   },
   {
    "duration": 60,
    "start_time": "2023-10-19T13:08:52.184Z"
   },
   {
    "duration": 23,
    "start_time": "2023-10-19T13:08:52.246Z"
   },
   {
    "duration": 74,
    "start_time": "2023-10-19T13:08:52.271Z"
   },
   {
    "duration": 40,
    "start_time": "2023-10-19T13:08:52.347Z"
   },
   {
    "duration": 38,
    "start_time": "2023-10-19T13:08:52.389Z"
   },
   {
    "duration": 28,
    "start_time": "2023-10-19T13:08:52.431Z"
   },
   {
    "duration": 67,
    "start_time": "2023-10-19T13:08:52.460Z"
   },
   {
    "duration": 43,
    "start_time": "2023-10-19T13:08:52.529Z"
   },
   {
    "duration": 54,
    "start_time": "2023-10-19T13:08:52.574Z"
   },
   {
    "duration": 79,
    "start_time": "2023-10-19T13:08:52.630Z"
   },
   {
    "duration": 42,
    "start_time": "2023-10-19T13:08:52.711Z"
   },
   {
    "duration": 31,
    "start_time": "2023-10-19T13:08:52.755Z"
   },
   {
    "duration": 34,
    "start_time": "2023-10-19T13:08:52.788Z"
   },
   {
    "duration": 22,
    "start_time": "2023-10-19T13:08:52.825Z"
   },
   {
    "duration": 41,
    "start_time": "2023-10-19T13:08:52.850Z"
   },
   {
    "duration": 38,
    "start_time": "2023-10-19T13:08:52.893Z"
   },
   {
    "duration": 1563,
    "start_time": "2023-10-19T13:08:52.933Z"
   },
   {
    "duration": 5,
    "start_time": "2023-10-19T13:08:54.498Z"
   },
   {
    "duration": 29,
    "start_time": "2023-10-19T13:08:54.504Z"
   },
   {
    "duration": 10,
    "start_time": "2023-10-19T13:08:54.534Z"
   },
   {
    "duration": 27,
    "start_time": "2023-10-19T13:08:54.545Z"
   },
   {
    "duration": 26,
    "start_time": "2023-10-19T13:08:54.573Z"
   },
   {
    "duration": 35,
    "start_time": "2023-10-19T13:08:54.601Z"
   },
   {
    "duration": 12,
    "start_time": "2023-10-19T13:08:54.638Z"
   },
   {
    "duration": 317,
    "start_time": "2023-10-19T13:08:54.652Z"
   },
   {
    "duration": 10,
    "start_time": "2023-10-19T13:08:54.971Z"
   },
   {
    "duration": 129,
    "start_time": "2023-10-19T13:08:54.982Z"
   },
   {
    "duration": 17,
    "start_time": "2023-10-19T13:08:55.113Z"
   },
   {
    "duration": 41,
    "start_time": "2023-10-19T13:08:55.132Z"
   },
   {
    "duration": 12,
    "start_time": "2023-10-19T13:08:55.175Z"
   },
   {
    "duration": 5,
    "start_time": "2023-10-19T13:08:55.188Z"
   },
   {
    "duration": 608,
    "start_time": "2023-10-19T13:08:55.195Z"
   },
   {
    "duration": 505,
    "start_time": "2023-10-19T13:08:55.809Z"
   },
   {
    "duration": 8,
    "start_time": "2023-10-19T13:08:56.316Z"
   },
   {
    "duration": 625,
    "start_time": "2023-10-19T13:08:56.325Z"
   },
   {
    "duration": 6,
    "start_time": "2023-10-19T13:08:56.951Z"
   },
   {
    "duration": 10,
    "start_time": "2023-10-19T13:08:56.959Z"
   },
   {
    "duration": 29,
    "start_time": "2023-10-19T13:08:56.971Z"
   },
   {
    "duration": 503,
    "start_time": "2023-10-19T13:08:57.002Z"
   },
   {
    "duration": 5,
    "start_time": "2023-10-19T13:08:57.507Z"
   },
   {
    "duration": 206,
    "start_time": "2023-10-19T13:08:57.525Z"
   },
   {
    "duration": 349,
    "start_time": "2023-10-19T13:08:57.733Z"
   },
   {
    "duration": 110,
    "start_time": "2023-10-19T13:08:58.084Z"
   },
   {
    "duration": 387,
    "start_time": "2023-10-19T13:08:58.195Z"
   },
   {
    "duration": 154,
    "start_time": "2023-10-19T13:08:58.583Z"
   },
   {
    "duration": 518,
    "start_time": "2023-10-19T13:08:58.738Z"
   },
   {
    "duration": 140,
    "start_time": "2023-10-19T13:08:59.257Z"
   },
   {
    "duration": 4,
    "start_time": "2023-10-19T13:08:59.399Z"
   },
   {
    "duration": 479,
    "start_time": "2023-10-19T13:08:59.405Z"
   },
   {
    "duration": 155,
    "start_time": "2023-10-19T13:08:59.886Z"
   },
   {
    "duration": 331,
    "start_time": "2023-10-19T13:09:00.043Z"
   },
   {
    "duration": 151,
    "start_time": "2023-10-19T13:09:00.376Z"
   },
   {
    "duration": 328,
    "start_time": "2023-10-19T13:09:00.529Z"
   },
   {
    "duration": 12,
    "start_time": "2023-10-19T13:09:00.859Z"
   },
   {
    "duration": 164,
    "start_time": "2023-10-19T13:09:00.873Z"
   },
   {
    "duration": 470,
    "start_time": "2023-10-19T13:09:01.039Z"
   },
   {
    "duration": 820,
    "start_time": "2023-10-19T13:09:01.511Z"
   },
   {
    "duration": 19,
    "start_time": "2023-10-19T13:09:02.333Z"
   },
   {
    "duration": 38,
    "start_time": "2023-10-19T13:09:02.353Z"
   },
   {
    "duration": 33,
    "start_time": "2023-10-19T13:09:02.393Z"
   },
   {
    "duration": 49,
    "start_time": "2023-10-19T13:09:02.427Z"
   },
   {
    "duration": 59,
    "start_time": "2023-10-19T13:09:02.478Z"
   },
   {
    "duration": 88,
    "start_time": "2023-10-19T13:09:02.539Z"
   },
   {
    "duration": 147,
    "start_time": "2023-10-19T13:09:02.629Z"
   },
   {
    "duration": 406,
    "start_time": "2023-10-19T13:09:02.777Z"
   },
   {
    "duration": 123,
    "start_time": "2023-10-19T13:09:03.186Z"
   },
   {
    "duration": 308,
    "start_time": "2023-10-19T13:09:03.311Z"
   },
   {
    "duration": 272,
    "start_time": "2023-10-19T13:09:03.621Z"
   },
   {
    "duration": 331,
    "start_time": "2023-10-19T13:09:03.895Z"
   },
   {
    "duration": 201,
    "start_time": "2023-10-19T13:09:04.228Z"
   },
   {
    "duration": 645,
    "start_time": "2023-10-19T13:09:04.430Z"
   },
   {
    "duration": 249,
    "start_time": "2023-10-19T13:09:05.077Z"
   },
   {
    "duration": 8,
    "start_time": "2023-10-19T13:09:05.328Z"
   },
   {
    "duration": 195,
    "start_time": "2023-10-19T13:09:05.338Z"
   },
   {
    "duration": 196,
    "start_time": "2023-10-19T13:09:05.535Z"
   },
   {
    "duration": 416,
    "start_time": "2023-10-19T13:09:05.733Z"
   },
   {
    "duration": 192,
    "start_time": "2023-10-19T13:09:06.150Z"
   },
   {
    "duration": 53,
    "start_time": "2023-10-19T13:09:06.344Z"
   },
   {
    "duration": 117,
    "start_time": "2023-10-19T13:09:06.399Z"
   },
   {
    "duration": 265,
    "start_time": "2023-10-19T13:25:44.884Z"
   },
   {
    "duration": 245,
    "start_time": "2023-10-19T13:26:02.439Z"
   },
   {
    "duration": 231,
    "start_time": "2023-10-19T13:26:11.876Z"
   },
   {
    "duration": 268,
    "start_time": "2023-10-19T13:26:16.528Z"
   },
   {
    "duration": 9,
    "start_time": "2023-10-19T14:23:44.036Z"
   },
   {
    "duration": 6,
    "start_time": "2023-10-19T14:23:56.826Z"
   },
   {
    "duration": 6,
    "start_time": "2023-10-19T14:24:07.739Z"
   },
   {
    "duration": 6,
    "start_time": "2023-10-19T14:24:24.350Z"
   },
   {
    "duration": 84,
    "start_time": "2023-10-19T14:36:41.583Z"
   },
   {
    "duration": 1479,
    "start_time": "2023-10-19T17:28:03.884Z"
   },
   {
    "duration": 176,
    "start_time": "2023-10-19T17:28:05.373Z"
   },
   {
    "duration": 30,
    "start_time": "2023-10-19T17:28:05.559Z"
   },
   {
    "duration": 9,
    "start_time": "2023-10-19T17:28:05.591Z"
   },
   {
    "duration": 14,
    "start_time": "2023-10-19T17:28:05.601Z"
   },
   {
    "duration": 17,
    "start_time": "2023-10-19T17:28:05.617Z"
   },
   {
    "duration": 27,
    "start_time": "2023-10-19T17:28:05.636Z"
   },
   {
    "duration": 8,
    "start_time": "2023-10-19T17:28:05.665Z"
   },
   {
    "duration": 13,
    "start_time": "2023-10-19T17:28:05.677Z"
   },
   {
    "duration": 48,
    "start_time": "2023-10-19T17:28:05.694Z"
   },
   {
    "duration": 28,
    "start_time": "2023-10-19T17:28:05.746Z"
   },
   {
    "duration": 27,
    "start_time": "2023-10-19T17:28:05.776Z"
   },
   {
    "duration": 21,
    "start_time": "2023-10-19T17:28:05.805Z"
   },
   {
    "duration": 27,
    "start_time": "2023-10-19T17:28:05.827Z"
   },
   {
    "duration": 31,
    "start_time": "2023-10-19T17:28:05.859Z"
   },
   {
    "duration": 29,
    "start_time": "2023-10-19T17:28:05.892Z"
   },
   {
    "duration": 61,
    "start_time": "2023-10-19T17:28:05.923Z"
   },
   {
    "duration": 11,
    "start_time": "2023-10-19T17:28:05.986Z"
   },
   {
    "duration": 17,
    "start_time": "2023-10-19T17:28:05.998Z"
   },
   {
    "duration": 8,
    "start_time": "2023-10-19T17:28:06.017Z"
   },
   {
    "duration": 30,
    "start_time": "2023-10-19T17:28:06.026Z"
   },
   {
    "duration": 16,
    "start_time": "2023-10-19T17:28:06.064Z"
   },
   {
    "duration": 36,
    "start_time": "2023-10-19T17:28:06.085Z"
   },
   {
    "duration": 57,
    "start_time": "2023-10-19T17:28:06.123Z"
   },
   {
    "duration": 1807,
    "start_time": "2023-10-19T17:28:06.182Z"
   },
   {
    "duration": 6,
    "start_time": "2023-10-19T17:28:07.991Z"
   },
   {
    "duration": 18,
    "start_time": "2023-10-19T17:28:07.999Z"
   },
   {
    "duration": 7,
    "start_time": "2023-10-19T17:28:08.019Z"
   },
   {
    "duration": 7,
    "start_time": "2023-10-19T17:28:08.027Z"
   },
   {
    "duration": 29,
    "start_time": "2023-10-19T17:28:08.036Z"
   },
   {
    "duration": 11,
    "start_time": "2023-10-19T17:28:08.078Z"
   },
   {
    "duration": 6,
    "start_time": "2023-10-19T17:28:08.094Z"
   },
   {
    "duration": 375,
    "start_time": "2023-10-19T17:28:08.101Z"
   },
   {
    "duration": 11,
    "start_time": "2023-10-19T17:28:08.486Z"
   },
   {
    "duration": 62,
    "start_time": "2023-10-19T17:28:08.499Z"
   },
   {
    "duration": 15,
    "start_time": "2023-10-19T17:28:08.574Z"
   },
   {
    "duration": 32,
    "start_time": "2023-10-19T17:28:08.591Z"
   },
   {
    "duration": 7,
    "start_time": "2023-10-19T17:28:08.625Z"
   },
   {
    "duration": 20,
    "start_time": "2023-10-19T17:28:08.634Z"
   },
   {
    "duration": 701,
    "start_time": "2023-10-19T17:28:08.656Z"
   },
   {
    "duration": 841,
    "start_time": "2023-10-19T17:28:09.360Z"
   },
   {
    "duration": 14,
    "start_time": "2023-10-19T17:28:10.244Z"
   },
   {
    "duration": 1001,
    "start_time": "2023-10-19T17:28:10.262Z"
   },
   {
    "duration": 10,
    "start_time": "2023-10-19T17:28:11.265Z"
   },
   {
    "duration": 21,
    "start_time": "2023-10-19T17:28:11.277Z"
   },
   {
    "duration": 16,
    "start_time": "2023-10-19T17:28:11.302Z"
   },
   {
    "duration": 590,
    "start_time": "2023-10-19T17:28:11.320Z"
   },
   {
    "duration": 5,
    "start_time": "2023-10-19T17:28:11.912Z"
   },
   {
    "duration": 160,
    "start_time": "2023-10-19T17:28:11.918Z"
   },
   {
    "duration": 359,
    "start_time": "2023-10-19T17:28:12.079Z"
   },
   {
    "duration": 146,
    "start_time": "2023-10-19T17:28:12.440Z"
   },
   {
    "duration": 592,
    "start_time": "2023-10-19T17:28:12.588Z"
   },
   {
    "duration": 289,
    "start_time": "2023-10-19T17:28:13.189Z"
   },
   {
    "duration": 629,
    "start_time": "2023-10-19T17:28:13.485Z"
   },
   {
    "duration": 174,
    "start_time": "2023-10-19T17:28:14.115Z"
   },
   {
    "duration": 5,
    "start_time": "2023-10-19T17:28:14.291Z"
   },
   {
    "duration": 979,
    "start_time": "2023-10-19T17:28:14.298Z"
   },
   {
    "duration": 182,
    "start_time": "2023-10-19T17:28:15.279Z"
   },
   {
    "duration": 562,
    "start_time": "2023-10-19T17:28:15.463Z"
   },
   {
    "duration": 174,
    "start_time": "2023-10-19T17:28:16.027Z"
   },
   {
    "duration": 321,
    "start_time": "2023-10-19T17:28:16.203Z"
   },
   {
    "duration": 18,
    "start_time": "2023-10-19T17:28:16.543Z"
   },
   {
    "duration": 30,
    "start_time": "2023-10-19T17:28:16.562Z"
   },
   {
    "duration": 21,
    "start_time": "2023-10-19T17:28:16.595Z"
   },
   {
    "duration": 613,
    "start_time": "2023-10-19T17:28:16.617Z"
   },
   {
    "duration": 4,
    "start_time": "2023-10-19T17:28:17.232Z"
   },
   {
    "duration": 25,
    "start_time": "2023-10-19T17:28:17.244Z"
   },
   {
    "duration": 32,
    "start_time": "2023-10-19T17:28:17.271Z"
   },
   {
    "duration": 4,
    "start_time": "2023-10-19T17:28:17.304Z"
   },
   {
    "duration": 18,
    "start_time": "2023-10-19T17:28:17.310Z"
   },
   {
    "duration": 34,
    "start_time": "2023-10-19T17:28:17.330Z"
   },
   {
    "duration": 34,
    "start_time": "2023-10-19T17:28:17.367Z"
   },
   {
    "duration": 6,
    "start_time": "2023-10-19T17:28:17.403Z"
   },
   {
    "duration": 19,
    "start_time": "2023-10-19T17:28:17.410Z"
   },
   {
    "duration": 34,
    "start_time": "2023-10-19T17:28:17.431Z"
   },
   {
    "duration": 20,
    "start_time": "2023-10-19T17:28:17.468Z"
   },
   {
    "duration": 22,
    "start_time": "2023-10-19T17:28:17.489Z"
   },
   {
    "duration": 292,
    "start_time": "2023-10-19T17:28:17.513Z"
   },
   {
    "duration": 306,
    "start_time": "2023-10-19T17:28:17.807Z"
   },
   {
    "duration": 6,
    "start_time": "2023-10-19T17:28:18.115Z"
   },
   {
    "duration": 64,
    "start_time": "2023-10-19T17:28:18.123Z"
   },
   {
    "duration": 9,
    "start_time": "2023-10-19T17:28:18.189Z"
   },
   {
    "duration": 8,
    "start_time": "2023-10-19T17:28:18.199Z"
   },
   {
    "duration": 378,
    "start_time": "2023-10-19T17:28:18.208Z"
   },
   {
    "duration": 302,
    "start_time": "2023-10-19T17:28:18.589Z"
   },
   {
    "duration": 10,
    "start_time": "2023-10-19T17:28:18.894Z"
   },
   {
    "duration": 71,
    "start_time": "2023-10-19T17:28:18.905Z"
   },
   {
    "duration": 52,
    "start_time": "2023-10-19T17:28:18.983Z"
   },
   {
    "duration": 79,
    "start_time": "2023-10-19T17:28:19.037Z"
   },
   {
    "duration": 91,
    "start_time": "2023-10-19T17:28:19.117Z"
   },
   {
    "duration": 52,
    "start_time": "2023-10-20T06:27:12.501Z"
   },
   {
    "duration": 1392,
    "start_time": "2023-10-20T06:27:18.053Z"
   },
   {
    "duration": 138,
    "start_time": "2023-10-20T06:27:19.447Z"
   },
   {
    "duration": 21,
    "start_time": "2023-10-20T06:27:19.590Z"
   },
   {
    "duration": 8,
    "start_time": "2023-10-20T06:27:19.613Z"
   },
   {
    "duration": 19,
    "start_time": "2023-10-20T06:27:19.623Z"
   },
   {
    "duration": 28,
    "start_time": "2023-10-20T06:27:19.644Z"
   },
   {
    "duration": 31,
    "start_time": "2023-10-20T06:27:19.674Z"
   },
   {
    "duration": 12,
    "start_time": "2023-10-20T06:27:19.707Z"
   },
   {
    "duration": 31,
    "start_time": "2023-10-20T06:27:19.722Z"
   },
   {
    "duration": 26,
    "start_time": "2023-10-20T06:27:19.755Z"
   },
   {
    "duration": 27,
    "start_time": "2023-10-20T06:27:19.783Z"
   },
   {
    "duration": 18,
    "start_time": "2023-10-20T06:27:19.812Z"
   },
   {
    "duration": 20,
    "start_time": "2023-10-20T06:27:19.832Z"
   },
   {
    "duration": 14,
    "start_time": "2023-10-20T06:27:19.854Z"
   },
   {
    "duration": 26,
    "start_time": "2023-10-20T06:27:19.870Z"
   },
   {
    "duration": 8,
    "start_time": "2023-10-20T06:27:19.897Z"
   },
   {
    "duration": 18,
    "start_time": "2023-10-20T06:27:19.907Z"
   },
   {
    "duration": 29,
    "start_time": "2023-10-20T06:27:19.927Z"
   },
   {
    "duration": 13,
    "start_time": "2023-10-20T06:27:19.958Z"
   },
   {
    "duration": 12,
    "start_time": "2023-10-20T06:27:19.972Z"
   },
   {
    "duration": 29,
    "start_time": "2023-10-20T06:27:19.985Z"
   },
   {
    "duration": 32,
    "start_time": "2023-10-20T06:27:20.016Z"
   },
   {
    "duration": 58,
    "start_time": "2023-10-20T06:27:20.049Z"
   },
   {
    "duration": 24,
    "start_time": "2023-10-20T06:27:20.108Z"
   },
   {
    "duration": 1456,
    "start_time": "2023-10-20T06:27:20.134Z"
   },
   {
    "duration": 14,
    "start_time": "2023-10-20T06:27:21.592Z"
   },
   {
    "duration": 32,
    "start_time": "2023-10-20T06:27:21.610Z"
   },
   {
    "duration": 44,
    "start_time": "2023-10-20T06:27:21.643Z"
   },
   {
    "duration": 19,
    "start_time": "2023-10-20T06:27:21.689Z"
   },
   {
    "duration": 32,
    "start_time": "2023-10-20T06:27:21.710Z"
   },
   {
    "duration": 39,
    "start_time": "2023-10-20T06:27:21.743Z"
   },
   {
    "duration": 28,
    "start_time": "2023-10-20T06:27:21.784Z"
   },
   {
    "duration": 327,
    "start_time": "2023-10-20T06:27:21.814Z"
   },
   {
    "duration": 9,
    "start_time": "2023-10-20T06:27:22.142Z"
   },
   {
    "duration": 31,
    "start_time": "2023-10-20T06:27:22.153Z"
   },
   {
    "duration": 26,
    "start_time": "2023-10-20T06:27:22.186Z"
   },
   {
    "duration": 47,
    "start_time": "2023-10-20T06:27:22.214Z"
   },
   {
    "duration": 7,
    "start_time": "2023-10-20T06:27:22.262Z"
   },
   {
    "duration": 51,
    "start_time": "2023-10-20T06:27:22.271Z"
   },
   {
    "duration": 693,
    "start_time": "2023-10-20T06:27:22.324Z"
   },
   {
    "duration": 475,
    "start_time": "2023-10-20T06:27:23.019Z"
   },
   {
    "duration": 4,
    "start_time": "2023-10-20T06:27:23.501Z"
   },
   {
    "duration": 633,
    "start_time": "2023-10-20T06:27:23.507Z"
   },
   {
    "duration": 5,
    "start_time": "2023-10-20T06:27:24.142Z"
   },
   {
    "duration": 38,
    "start_time": "2023-10-20T06:27:24.149Z"
   },
   {
    "duration": 43,
    "start_time": "2023-10-20T06:27:24.189Z"
   },
   {
    "duration": 560,
    "start_time": "2023-10-20T06:27:24.234Z"
   },
   {
    "duration": 9,
    "start_time": "2023-10-20T06:27:24.796Z"
   },
   {
    "duration": 133,
    "start_time": "2023-10-20T06:27:24.807Z"
   },
   {
    "duration": 316,
    "start_time": "2023-10-20T06:27:24.942Z"
   },
   {
    "duration": 123,
    "start_time": "2023-10-20T06:27:25.260Z"
   },
   {
    "duration": 386,
    "start_time": "2023-10-20T06:27:25.385Z"
   },
   {
    "duration": 168,
    "start_time": "2023-10-20T06:27:25.773Z"
   },
   {
    "duration": 574,
    "start_time": "2023-10-20T06:27:25.942Z"
   },
   {
    "duration": 149,
    "start_time": "2023-10-20T06:27:26.518Z"
   },
   {
    "duration": 5,
    "start_time": "2023-10-20T06:27:26.668Z"
   },
   {
    "duration": 500,
    "start_time": "2023-10-20T06:27:26.674Z"
   },
   {
    "duration": 159,
    "start_time": "2023-10-20T06:27:27.176Z"
   },
   {
    "duration": 327,
    "start_time": "2023-10-20T06:27:27.337Z"
   },
   {
    "duration": 147,
    "start_time": "2023-10-20T06:27:27.665Z"
   },
   {
    "duration": 334,
    "start_time": "2023-10-20T06:27:27.814Z"
   },
   {
    "duration": 12,
    "start_time": "2023-10-20T06:27:28.150Z"
   },
   {
    "duration": 17,
    "start_time": "2023-10-20T06:27:28.163Z"
   },
   {
    "duration": 34,
    "start_time": "2023-10-20T06:27:28.182Z"
   },
   {
    "duration": 556,
    "start_time": "2023-10-20T06:27:28.217Z"
   },
   {
    "duration": 4,
    "start_time": "2023-10-20T06:27:28.775Z"
   },
   {
    "duration": 11,
    "start_time": "2023-10-20T06:27:28.781Z"
   },
   {
    "duration": 16,
    "start_time": "2023-10-20T06:27:28.801Z"
   },
   {
    "duration": 3,
    "start_time": "2023-10-20T06:27:28.819Z"
   },
   {
    "duration": 18,
    "start_time": "2023-10-20T06:27:28.824Z"
   },
   {
    "duration": 27,
    "start_time": "2023-10-20T06:27:28.844Z"
   },
   {
    "duration": 70,
    "start_time": "2023-10-20T06:27:28.873Z"
   },
   {
    "duration": 30,
    "start_time": "2023-10-20T06:27:28.945Z"
   },
   {
    "duration": 41,
    "start_time": "2023-10-20T06:27:28.978Z"
   },
   {
    "duration": 17,
    "start_time": "2023-10-20T06:27:29.021Z"
   },
   {
    "duration": 17,
    "start_time": "2023-10-20T06:27:29.040Z"
   },
   {
    "duration": 39,
    "start_time": "2023-10-20T06:27:29.058Z"
   },
   {
    "duration": 322,
    "start_time": "2023-10-20T06:27:29.099Z"
   },
   {
    "duration": 264,
    "start_time": "2023-10-20T06:27:29.422Z"
   },
   {
    "duration": 13,
    "start_time": "2023-10-20T06:27:29.688Z"
   },
   {
    "duration": 337,
    "start_time": "2023-10-20T06:27:29.707Z"
   },
   {
    "duration": 249,
    "start_time": "2023-10-20T06:27:30.046Z"
   },
   {
    "duration": 74,
    "start_time": "2023-10-20T06:27:30.297Z"
   },
   {
    "duration": 420,
    "start_time": "2023-10-20T06:27:30.373Z"
   },
   {
    "duration": 264,
    "start_time": "2023-10-20T06:27:30.794Z"
   },
   {
    "duration": 9,
    "start_time": "2023-10-20T06:27:31.059Z"
   },
   {
    "duration": 61,
    "start_time": "2023-10-20T06:27:31.070Z"
   },
   {
    "duration": 55,
    "start_time": "2023-10-20T06:27:31.133Z"
   },
   {
    "duration": 30,
    "start_time": "2023-10-20T06:27:31.190Z"
   },
   {
    "duration": 58,
    "start_time": "2023-10-20T06:27:31.222Z"
   },
   {
    "duration": 1263,
    "start_time": "2023-10-20T06:30:43.733Z"
   },
   {
    "duration": 123,
    "start_time": "2023-10-20T06:30:44.998Z"
   },
   {
    "duration": 20,
    "start_time": "2023-10-20T06:30:45.123Z"
   },
   {
    "duration": 35,
    "start_time": "2023-10-20T06:30:45.145Z"
   },
   {
    "duration": 18,
    "start_time": "2023-10-20T06:30:45.182Z"
   },
   {
    "duration": 15,
    "start_time": "2023-10-20T06:30:45.202Z"
   },
   {
    "duration": 19,
    "start_time": "2023-10-20T06:30:45.219Z"
   },
   {
    "duration": 8,
    "start_time": "2023-10-20T06:30:45.240Z"
   },
   {
    "duration": 17,
    "start_time": "2023-10-20T06:30:45.250Z"
   },
   {
    "duration": 5,
    "start_time": "2023-10-20T06:30:45.269Z"
   },
   {
    "duration": 12,
    "start_time": "2023-10-20T06:30:45.275Z"
   },
   {
    "duration": 20,
    "start_time": "2023-10-20T06:30:45.289Z"
   },
   {
    "duration": 30,
    "start_time": "2023-10-20T06:30:45.311Z"
   },
   {
    "duration": 32,
    "start_time": "2023-10-20T06:30:45.343Z"
   },
   {
    "duration": 33,
    "start_time": "2023-10-20T06:30:45.377Z"
   },
   {
    "duration": 22,
    "start_time": "2023-10-20T06:30:45.413Z"
   },
   {
    "duration": 21,
    "start_time": "2023-10-20T06:30:45.437Z"
   },
   {
    "duration": 17,
    "start_time": "2023-10-20T06:30:45.460Z"
   },
   {
    "duration": 18,
    "start_time": "2023-10-20T06:30:45.479Z"
   },
   {
    "duration": 14,
    "start_time": "2023-10-20T06:30:45.499Z"
   },
   {
    "duration": 14,
    "start_time": "2023-10-20T06:30:45.515Z"
   },
   {
    "duration": 20,
    "start_time": "2023-10-20T06:30:45.531Z"
   },
   {
    "duration": 28,
    "start_time": "2023-10-20T06:30:45.553Z"
   },
   {
    "duration": 27,
    "start_time": "2023-10-20T06:30:45.583Z"
   },
   {
    "duration": 1498,
    "start_time": "2023-10-20T06:30:45.612Z"
   },
   {
    "duration": 6,
    "start_time": "2023-10-20T06:30:47.112Z"
   },
   {
    "duration": 12,
    "start_time": "2023-10-20T06:30:47.120Z"
   },
   {
    "duration": 34,
    "start_time": "2023-10-20T06:30:47.136Z"
   },
   {
    "duration": 33,
    "start_time": "2023-10-20T06:30:47.172Z"
   },
   {
    "duration": 70,
    "start_time": "2023-10-20T06:30:47.207Z"
   },
   {
    "duration": 3,
    "start_time": "2023-10-20T06:30:47.279Z"
   },
   {
    "duration": 9,
    "start_time": "2023-10-20T06:30:47.283Z"
   },
   {
    "duration": 321,
    "start_time": "2023-10-20T06:30:47.294Z"
   },
   {
    "duration": 10,
    "start_time": "2023-10-20T06:30:47.617Z"
   },
   {
    "duration": 11,
    "start_time": "2023-10-20T06:30:47.629Z"
   },
   {
    "duration": 12,
    "start_time": "2023-10-20T06:30:47.641Z"
   },
   {
    "duration": 35,
    "start_time": "2023-10-20T06:30:47.656Z"
   },
   {
    "duration": 9,
    "start_time": "2023-10-20T06:30:47.693Z"
   },
   {
    "duration": 6,
    "start_time": "2023-10-20T06:30:47.704Z"
   },
   {
    "duration": 746,
    "start_time": "2023-10-20T06:30:47.712Z"
   },
   {
    "duration": 6675,
    "start_time": "2023-10-20T06:30:48.461Z"
   },
   {
    "duration": 6,
    "start_time": "2023-10-20T06:30:55.138Z"
   },
   {
    "duration": 505,
    "start_time": "2023-10-20T06:30:55.146Z"
   },
   {
    "duration": 8,
    "start_time": "2023-10-20T06:30:55.654Z"
   },
   {
    "duration": 9,
    "start_time": "2023-10-20T06:30:55.664Z"
   },
   {
    "duration": 29,
    "start_time": "2023-10-20T06:30:55.675Z"
   },
   {
    "duration": 838,
    "start_time": "2023-10-20T06:30:55.706Z"
   },
   {
    "duration": 6,
    "start_time": "2023-10-20T06:30:56.546Z"
   },
   {
    "duration": 139,
    "start_time": "2023-10-20T06:30:56.554Z"
   },
   {
    "duration": 350,
    "start_time": "2023-10-20T06:30:56.701Z"
   },
   {
    "duration": 133,
    "start_time": "2023-10-20T06:30:57.053Z"
   },
   {
    "duration": 398,
    "start_time": "2023-10-20T06:30:57.188Z"
   },
   {
    "duration": 167,
    "start_time": "2023-10-20T06:30:57.588Z"
   },
   {
    "duration": 547,
    "start_time": "2023-10-20T06:30:57.757Z"
   },
   {
    "duration": 160,
    "start_time": "2023-10-20T06:30:58.306Z"
   },
   {
    "duration": 6,
    "start_time": "2023-10-20T06:30:58.467Z"
   },
   {
    "duration": 429,
    "start_time": "2023-10-20T06:30:58.475Z"
   },
   {
    "duration": 158,
    "start_time": "2023-10-20T06:30:58.905Z"
   },
   {
    "duration": 410,
    "start_time": "2023-10-20T06:30:59.065Z"
   },
   {
    "duration": 187,
    "start_time": "2023-10-20T06:30:59.477Z"
   },
   {
    "duration": 366,
    "start_time": "2023-10-20T06:30:59.665Z"
   },
   {
    "duration": 19,
    "start_time": "2023-10-20T06:31:00.033Z"
   },
   {
    "duration": 44,
    "start_time": "2023-10-20T06:31:00.054Z"
   },
   {
    "duration": 183,
    "start_time": "2023-10-20T06:31:00.100Z"
   },
   {
    "duration": 572,
    "start_time": "2023-10-20T06:31:00.285Z"
   },
   {
    "duration": 5,
    "start_time": "2023-10-20T06:31:00.859Z"
   },
   {
    "duration": 56,
    "start_time": "2023-10-20T06:31:00.866Z"
   },
   {
    "duration": 57,
    "start_time": "2023-10-20T06:31:00.924Z"
   },
   {
    "duration": 107,
    "start_time": "2023-10-20T06:31:00.983Z"
   },
   {
    "duration": 118,
    "start_time": "2023-10-20T06:31:01.092Z"
   },
   {
    "duration": 36,
    "start_time": "2023-10-20T06:31:01.212Z"
   },
   {
    "duration": 59,
    "start_time": "2023-10-20T06:31:01.250Z"
   },
   {
    "duration": 64,
    "start_time": "2023-10-20T06:31:01.311Z"
   },
   {
    "duration": 65,
    "start_time": "2023-10-20T06:31:01.377Z"
   },
   {
    "duration": 74,
    "start_time": "2023-10-20T06:31:01.444Z"
   },
   {
    "duration": 49,
    "start_time": "2023-10-20T06:31:01.520Z"
   },
   {
    "duration": 119,
    "start_time": "2023-10-20T06:31:01.572Z"
   },
   {
    "duration": 330,
    "start_time": "2023-10-20T06:31:01.693Z"
   },
   {
    "duration": 271,
    "start_time": "2023-10-20T06:31:02.025Z"
   },
   {
    "duration": 7,
    "start_time": "2023-10-20T06:31:02.301Z"
   },
   {
    "duration": 106,
    "start_time": "2023-10-20T06:31:02.310Z"
   },
   {
    "duration": 40,
    "start_time": "2023-10-20T06:31:02.421Z"
   },
   {
    "duration": 56,
    "start_time": "2023-10-20T06:31:02.463Z"
   },
   {
    "duration": 291,
    "start_time": "2023-10-20T06:31:02.520Z"
   },
   {
    "duration": 358,
    "start_time": "2023-10-20T06:31:02.813Z"
   },
   {
    "duration": 11,
    "start_time": "2023-10-20T06:31:03.173Z"
   },
   {
    "duration": 29,
    "start_time": "2023-10-20T06:31:03.186Z"
   },
   {
    "duration": 30,
    "start_time": "2023-10-20T06:31:03.217Z"
   },
   {
    "duration": 33,
    "start_time": "2023-10-20T06:31:03.249Z"
   },
   {
    "duration": 40,
    "start_time": "2023-10-20T06:31:03.284Z"
   },
   {
    "duration": 7,
    "start_time": "2023-10-20T06:34:42.245Z"
   },
   {
    "duration": 109,
    "start_time": "2023-10-20T06:35:02.030Z"
   },
   {
    "duration": 75,
    "start_time": "2023-10-20T06:35:23.085Z"
   },
   {
    "duration": 7,
    "start_time": "2023-10-20T06:35:39.203Z"
   },
   {
    "duration": 79,
    "start_time": "2023-10-20T06:36:08.707Z"
   },
   {
    "duration": 9,
    "start_time": "2023-10-20T06:36:31.725Z"
   },
   {
    "duration": 8,
    "start_time": "2023-10-20T06:36:36.958Z"
   },
   {
    "duration": 8,
    "start_time": "2023-10-20T06:37:14.198Z"
   },
   {
    "duration": 9,
    "start_time": "2023-10-20T06:37:40.497Z"
   },
   {
    "duration": 7,
    "start_time": "2023-10-20T06:39:09.931Z"
   },
   {
    "duration": 282,
    "start_time": "2023-10-20T06:40:49.855Z"
   },
   {
    "duration": 290,
    "start_time": "2023-10-20T06:41:01.926Z"
   },
   {
    "duration": 318,
    "start_time": "2023-10-20T06:41:27.725Z"
   },
   {
    "duration": 301,
    "start_time": "2023-10-20T06:41:32.931Z"
   },
   {
    "duration": 1496,
    "start_time": "2023-10-20T06:41:46.679Z"
   },
   {
    "duration": 416,
    "start_time": "2023-10-20T06:42:02.521Z"
   },
   {
    "duration": 295,
    "start_time": "2023-10-20T06:44:09.566Z"
   },
   {
    "duration": 268,
    "start_time": "2023-10-20T06:44:32.791Z"
   },
   {
    "duration": 293,
    "start_time": "2023-10-20T06:44:37.287Z"
   },
   {
    "duration": 273,
    "start_time": "2023-10-20T06:44:53.270Z"
   },
   {
    "duration": 5,
    "start_time": "2023-10-20T07:20:07.464Z"
   },
   {
    "duration": 7,
    "start_time": "2023-10-20T07:20:26.265Z"
   },
   {
    "duration": 1238,
    "start_time": "2023-10-20T07:20:39.490Z"
   },
   {
    "duration": 114,
    "start_time": "2023-10-20T07:20:40.730Z"
   },
   {
    "duration": 19,
    "start_time": "2023-10-20T07:20:40.845Z"
   },
   {
    "duration": 13,
    "start_time": "2023-10-20T07:20:40.866Z"
   },
   {
    "duration": 6,
    "start_time": "2023-10-20T07:20:40.880Z"
   },
   {
    "duration": 6,
    "start_time": "2023-10-20T07:20:40.887Z"
   },
   {
    "duration": 45,
    "start_time": "2023-10-20T07:20:40.895Z"
   },
   {
    "duration": 9,
    "start_time": "2023-10-20T07:20:40.942Z"
   },
   {
    "duration": 15,
    "start_time": "2023-10-20T07:20:40.952Z"
   },
   {
    "duration": 8,
    "start_time": "2023-10-20T07:20:40.970Z"
   },
   {
    "duration": 16,
    "start_time": "2023-10-20T07:20:40.980Z"
   },
   {
    "duration": 34,
    "start_time": "2023-10-20T07:20:40.998Z"
   },
   {
    "duration": 22,
    "start_time": "2023-10-20T07:20:41.034Z"
   },
   {
    "duration": 3,
    "start_time": "2023-10-20T07:20:41.058Z"
   },
   {
    "duration": 20,
    "start_time": "2023-10-20T07:20:41.063Z"
   },
   {
    "duration": 6,
    "start_time": "2023-10-20T07:20:41.084Z"
   },
   {
    "duration": 38,
    "start_time": "2023-10-20T07:20:41.091Z"
   },
   {
    "duration": 27,
    "start_time": "2023-10-20T07:20:41.131Z"
   },
   {
    "duration": 13,
    "start_time": "2023-10-20T07:20:41.160Z"
   },
   {
    "duration": 10,
    "start_time": "2023-10-20T07:20:41.175Z"
   },
   {
    "duration": 24,
    "start_time": "2023-10-20T07:20:41.186Z"
   },
   {
    "duration": 6,
    "start_time": "2023-10-20T07:20:41.212Z"
   },
   {
    "duration": 32,
    "start_time": "2023-10-20T07:20:41.220Z"
   },
   {
    "duration": 7,
    "start_time": "2023-10-20T07:20:41.255Z"
   },
   {
    "duration": 1538,
    "start_time": "2023-10-20T07:20:41.264Z"
   },
   {
    "duration": 7,
    "start_time": "2023-10-20T07:20:42.803Z"
   },
   {
    "duration": 17,
    "start_time": "2023-10-20T07:20:42.812Z"
   },
   {
    "duration": 6,
    "start_time": "2023-10-20T07:20:42.833Z"
   },
   {
    "duration": 11,
    "start_time": "2023-10-20T07:20:42.841Z"
   },
   {
    "duration": 5,
    "start_time": "2023-10-20T07:20:42.853Z"
   },
   {
    "duration": 8,
    "start_time": "2023-10-20T07:20:42.859Z"
   },
   {
    "duration": 8,
    "start_time": "2023-10-20T07:20:42.868Z"
   },
   {
    "duration": 27,
    "start_time": "2023-10-20T07:20:42.877Z"
   },
   {
    "duration": 318,
    "start_time": "2023-10-20T07:20:42.906Z"
   },
   {
    "duration": 10,
    "start_time": "2023-10-20T07:20:43.226Z"
   },
   {
    "duration": 19,
    "start_time": "2023-10-20T07:20:43.237Z"
   },
   {
    "duration": 10,
    "start_time": "2023-10-20T07:20:43.258Z"
   },
   {
    "duration": 28,
    "start_time": "2023-10-20T07:20:43.270Z"
   },
   {
    "duration": 8,
    "start_time": "2023-10-20T07:20:43.300Z"
   },
   {
    "duration": 6,
    "start_time": "2023-10-20T07:20:43.309Z"
   },
   {
    "duration": 625,
    "start_time": "2023-10-20T07:20:43.316Z"
   },
   {
    "duration": 1534,
    "start_time": "2023-10-20T07:20:43.942Z"
   },
   {
    "duration": 4,
    "start_time": "2023-10-20T07:20:45.478Z"
   },
   {
    "duration": 545,
    "start_time": "2023-10-20T07:20:45.484Z"
   },
   {
    "duration": 7,
    "start_time": "2023-10-20T07:20:46.031Z"
   },
   {
    "duration": 11,
    "start_time": "2023-10-20T07:20:46.040Z"
   },
   {
    "duration": 57,
    "start_time": "2023-10-20T07:20:46.053Z"
   },
   {
    "duration": 524,
    "start_time": "2023-10-20T07:20:46.112Z"
   },
   {
    "duration": 5,
    "start_time": "2023-10-20T07:20:46.638Z"
   },
   {
    "duration": 135,
    "start_time": "2023-10-20T07:20:46.645Z"
   },
   {
    "duration": 474,
    "start_time": "2023-10-20T07:20:46.782Z"
   },
   {
    "duration": 124,
    "start_time": "2023-10-20T07:20:47.258Z"
   },
   {
    "duration": 385,
    "start_time": "2023-10-20T07:20:47.384Z"
   },
   {
    "duration": 151,
    "start_time": "2023-10-20T07:20:47.772Z"
   },
   {
    "duration": 602,
    "start_time": "2023-10-20T07:20:47.925Z"
   },
   {
    "duration": 164,
    "start_time": "2023-10-20T07:20:48.529Z"
   },
   {
    "duration": 9,
    "start_time": "2023-10-20T07:20:48.694Z"
   },
   {
    "duration": 485,
    "start_time": "2023-10-20T07:20:48.705Z"
   },
   {
    "duration": 172,
    "start_time": "2023-10-20T07:20:49.192Z"
   },
   {
    "duration": 396,
    "start_time": "2023-10-20T07:20:49.365Z"
   },
   {
    "duration": 152,
    "start_time": "2023-10-20T07:20:49.763Z"
   },
   {
    "duration": 338,
    "start_time": "2023-10-20T07:20:49.918Z"
   },
   {
    "duration": 15,
    "start_time": "2023-10-20T07:20:50.258Z"
   },
   {
    "duration": 33,
    "start_time": "2023-10-20T07:20:50.275Z"
   },
   {
    "duration": 42,
    "start_time": "2023-10-20T07:20:50.310Z"
   },
   {
    "duration": 662,
    "start_time": "2023-10-20T07:20:50.354Z"
   },
   {
    "duration": 5,
    "start_time": "2023-10-20T07:20:51.018Z"
   },
   {
    "duration": 11,
    "start_time": "2023-10-20T07:20:51.025Z"
   },
   {
    "duration": 46,
    "start_time": "2023-10-20T07:20:51.038Z"
   },
   {
    "duration": 33,
    "start_time": "2023-10-20T07:20:51.086Z"
   },
   {
    "duration": 41,
    "start_time": "2023-10-20T07:20:51.121Z"
   },
   {
    "duration": 33,
    "start_time": "2023-10-20T07:20:51.164Z"
   },
   {
    "duration": 15,
    "start_time": "2023-10-20T07:20:51.199Z"
   },
   {
    "duration": 31,
    "start_time": "2023-10-20T07:20:51.216Z"
   },
   {
    "duration": 32,
    "start_time": "2023-10-20T07:20:51.248Z"
   },
   {
    "duration": 27,
    "start_time": "2023-10-20T07:20:51.282Z"
   },
   {
    "duration": 27,
    "start_time": "2023-10-20T07:20:51.310Z"
   },
   {
    "duration": 22,
    "start_time": "2023-10-20T07:20:51.339Z"
   },
   {
    "duration": 290,
    "start_time": "2023-10-20T07:20:51.363Z"
   },
   {
    "duration": 266,
    "start_time": "2023-10-20T07:20:51.655Z"
   },
   {
    "duration": 7,
    "start_time": "2023-10-20T07:20:51.923Z"
   },
   {
    "duration": 30,
    "start_time": "2023-10-20T07:20:51.935Z"
   },
   {
    "duration": 21,
    "start_time": "2023-10-20T07:20:51.967Z"
   },
   {
    "duration": 40,
    "start_time": "2023-10-20T07:20:51.990Z"
   },
   {
    "duration": 275,
    "start_time": "2023-10-20T07:20:52.032Z"
   },
   {
    "duration": 274,
    "start_time": "2023-10-20T07:20:52.309Z"
   },
   {
    "duration": 19,
    "start_time": "2023-10-20T07:20:52.585Z"
   },
   {
    "duration": 36,
    "start_time": "2023-10-20T07:20:52.606Z"
   },
   {
    "duration": 16,
    "start_time": "2023-10-20T07:20:52.643Z"
   },
   {
    "duration": 9,
    "start_time": "2023-10-20T07:20:52.661Z"
   },
   {
    "duration": 15,
    "start_time": "2023-10-20T07:20:52.672Z"
   },
   {
    "duration": 6,
    "start_time": "2023-10-20T07:25:33.165Z"
   },
   {
    "duration": 1270,
    "start_time": "2023-10-20T07:29:09.805Z"
   },
   {
    "duration": 358,
    "start_time": "2023-10-20T07:29:11.077Z"
   },
   {
    "duration": 18,
    "start_time": "2023-10-20T07:29:11.437Z"
   },
   {
    "duration": 13,
    "start_time": "2023-10-20T07:29:11.456Z"
   },
   {
    "duration": 8,
    "start_time": "2023-10-20T07:29:11.471Z"
   },
   {
    "duration": 6,
    "start_time": "2023-10-20T07:29:11.481Z"
   },
   {
    "duration": 15,
    "start_time": "2023-10-20T07:29:11.489Z"
   },
   {
    "duration": 4,
    "start_time": "2023-10-20T07:29:11.505Z"
   },
   {
    "duration": 8,
    "start_time": "2023-10-20T07:29:11.511Z"
   },
   {
    "duration": 5,
    "start_time": "2023-10-20T07:29:11.522Z"
   },
   {
    "duration": 18,
    "start_time": "2023-10-20T07:29:11.529Z"
   },
   {
    "duration": 6,
    "start_time": "2023-10-20T07:29:11.549Z"
   },
   {
    "duration": 13,
    "start_time": "2023-10-20T07:29:11.556Z"
   },
   {
    "duration": 13,
    "start_time": "2023-10-20T07:29:11.570Z"
   },
   {
    "duration": 21,
    "start_time": "2023-10-20T07:29:11.586Z"
   },
   {
    "duration": 14,
    "start_time": "2023-10-20T07:29:11.609Z"
   },
   {
    "duration": 13,
    "start_time": "2023-10-20T07:29:11.626Z"
   },
   {
    "duration": 26,
    "start_time": "2023-10-20T07:29:11.641Z"
   },
   {
    "duration": 18,
    "start_time": "2023-10-20T07:29:11.670Z"
   },
   {
    "duration": 13,
    "start_time": "2023-10-20T07:29:11.691Z"
   },
   {
    "duration": 13,
    "start_time": "2023-10-20T07:29:11.706Z"
   },
   {
    "duration": 16,
    "start_time": "2023-10-20T07:29:11.722Z"
   },
   {
    "duration": 26,
    "start_time": "2023-10-20T07:29:11.739Z"
   },
   {
    "duration": 15,
    "start_time": "2023-10-20T07:29:11.767Z"
   },
   {
    "duration": 1504,
    "start_time": "2023-10-20T07:29:11.784Z"
   },
   {
    "duration": 12,
    "start_time": "2023-10-20T07:29:13.290Z"
   },
   {
    "duration": 6,
    "start_time": "2023-10-20T07:29:13.303Z"
   },
   {
    "duration": 10,
    "start_time": "2023-10-20T07:29:13.314Z"
   },
   {
    "duration": 22,
    "start_time": "2023-10-20T07:29:13.325Z"
   },
   {
    "duration": 7,
    "start_time": "2023-10-20T07:29:13.349Z"
   },
   {
    "duration": 7,
    "start_time": "2023-10-20T07:29:13.358Z"
   },
   {
    "duration": 8,
    "start_time": "2023-10-20T07:29:13.367Z"
   },
   {
    "duration": 18,
    "start_time": "2023-10-20T07:29:13.376Z"
   },
   {
    "duration": 320,
    "start_time": "2023-10-20T07:29:13.395Z"
   },
   {
    "duration": 11,
    "start_time": "2023-10-20T07:29:13.717Z"
   },
   {
    "duration": 26,
    "start_time": "2023-10-20T07:29:13.729Z"
   },
   {
    "duration": 9,
    "start_time": "2023-10-20T07:29:13.757Z"
   },
   {
    "duration": 20,
    "start_time": "2023-10-20T07:29:13.768Z"
   },
   {
    "duration": 13,
    "start_time": "2023-10-20T07:29:13.790Z"
   },
   {
    "duration": 11,
    "start_time": "2023-10-20T07:29:13.806Z"
   },
   {
    "duration": 622,
    "start_time": "2023-10-20T07:29:13.819Z"
   },
   {
    "duration": 1543,
    "start_time": "2023-10-20T07:29:14.443Z"
   },
   {
    "duration": 4,
    "start_time": "2023-10-20T07:29:15.988Z"
   },
   {
    "duration": 499,
    "start_time": "2023-10-20T07:29:16.002Z"
   },
   {
    "duration": 6,
    "start_time": "2023-10-20T07:29:16.502Z"
   },
   {
    "duration": 8,
    "start_time": "2023-10-20T07:29:16.509Z"
   },
   {
    "duration": 10,
    "start_time": "2023-10-20T07:29:16.519Z"
   },
   {
    "duration": 514,
    "start_time": "2023-10-20T07:29:16.530Z"
   },
   {
    "duration": 5,
    "start_time": "2023-10-20T07:29:17.046Z"
   },
   {
    "duration": 133,
    "start_time": "2023-10-20T07:29:17.053Z"
   },
   {
    "duration": 526,
    "start_time": "2023-10-20T07:29:17.188Z"
   },
   {
    "duration": 121,
    "start_time": "2023-10-20T07:29:17.716Z"
   },
   {
    "duration": 441,
    "start_time": "2023-10-20T07:29:17.839Z"
   },
   {
    "duration": 150,
    "start_time": "2023-10-20T07:29:18.282Z"
   },
   {
    "duration": 596,
    "start_time": "2023-10-20T07:29:18.433Z"
   },
   {
    "duration": 148,
    "start_time": "2023-10-20T07:29:19.031Z"
   },
   {
    "duration": 5,
    "start_time": "2023-10-20T07:29:19.180Z"
   },
   {
    "duration": 466,
    "start_time": "2023-10-20T07:29:19.186Z"
   },
   {
    "duration": 171,
    "start_time": "2023-10-20T07:29:19.654Z"
   },
   {
    "duration": 337,
    "start_time": "2023-10-20T07:29:19.827Z"
   },
   {
    "duration": 150,
    "start_time": "2023-10-20T07:29:20.166Z"
   },
   {
    "duration": 342,
    "start_time": "2023-10-20T07:29:20.318Z"
   },
   {
    "duration": 19,
    "start_time": "2023-10-20T07:29:20.663Z"
   },
   {
    "duration": 39,
    "start_time": "2023-10-20T07:29:20.684Z"
   },
   {
    "duration": 34,
    "start_time": "2023-10-20T07:29:20.725Z"
   },
   {
    "duration": 709,
    "start_time": "2023-10-20T07:29:20.760Z"
   },
   {
    "duration": 5,
    "start_time": "2023-10-20T07:29:21.471Z"
   },
   {
    "duration": 17,
    "start_time": "2023-10-20T07:29:21.478Z"
   },
   {
    "duration": 25,
    "start_time": "2023-10-20T07:29:21.496Z"
   },
   {
    "duration": 6,
    "start_time": "2023-10-20T07:29:21.523Z"
   },
   {
    "duration": 22,
    "start_time": "2023-10-20T07:29:21.531Z"
   },
   {
    "duration": 14,
    "start_time": "2023-10-20T07:29:21.555Z"
   },
   {
    "duration": 19,
    "start_time": "2023-10-20T07:29:21.571Z"
   },
   {
    "duration": 28,
    "start_time": "2023-10-20T07:29:21.591Z"
   },
   {
    "duration": 9,
    "start_time": "2023-10-20T07:29:21.621Z"
   },
   {
    "duration": 22,
    "start_time": "2023-10-20T07:29:21.632Z"
   },
   {
    "duration": 12,
    "start_time": "2023-10-20T07:29:21.655Z"
   },
   {
    "duration": 13,
    "start_time": "2023-10-20T07:29:21.669Z"
   },
   {
    "duration": 263,
    "start_time": "2023-10-20T07:29:21.684Z"
   },
   {
    "duration": 256,
    "start_time": "2023-10-20T07:29:21.949Z"
   },
   {
    "duration": 6,
    "start_time": "2023-10-20T07:29:22.207Z"
   },
   {
    "duration": 7,
    "start_time": "2023-10-20T07:29:22.218Z"
   },
   {
    "duration": 16,
    "start_time": "2023-10-20T07:29:22.226Z"
   },
   {
    "duration": 8,
    "start_time": "2023-10-20T07:29:22.244Z"
   },
   {
    "duration": 279,
    "start_time": "2023-10-20T07:29:22.254Z"
   },
   {
    "duration": 257,
    "start_time": "2023-10-20T07:29:22.534Z"
   },
   {
    "duration": 13,
    "start_time": "2023-10-20T07:29:22.793Z"
   },
   {
    "duration": 13,
    "start_time": "2023-10-20T07:29:22.808Z"
   },
   {
    "duration": 17,
    "start_time": "2023-10-20T07:29:22.822Z"
   },
   {
    "duration": 14,
    "start_time": "2023-10-20T07:29:22.841Z"
   },
   {
    "duration": 18,
    "start_time": "2023-10-20T07:29:22.857Z"
   },
   {
    "duration": 111,
    "start_time": "2023-10-20T07:31:24.305Z"
   },
   {
    "duration": 89,
    "start_time": "2023-10-20T07:32:02.713Z"
   },
   {
    "duration": 5,
    "start_time": "2023-10-20T07:32:14.517Z"
   },
   {
    "duration": 7,
    "start_time": "2023-10-20T07:33:06.368Z"
   },
   {
    "duration": 1241,
    "start_time": "2023-10-20T07:33:15.174Z"
   },
   {
    "duration": 117,
    "start_time": "2023-10-20T07:33:16.416Z"
   },
   {
    "duration": 23,
    "start_time": "2023-10-20T07:33:16.535Z"
   },
   {
    "duration": 6,
    "start_time": "2023-10-20T07:33:16.561Z"
   },
   {
    "duration": 7,
    "start_time": "2023-10-20T07:33:16.570Z"
   },
   {
    "duration": 13,
    "start_time": "2023-10-20T07:33:16.578Z"
   },
   {
    "duration": 31,
    "start_time": "2023-10-20T07:33:16.593Z"
   },
   {
    "duration": 4,
    "start_time": "2023-10-20T07:33:16.627Z"
   },
   {
    "duration": 9,
    "start_time": "2023-10-20T07:33:16.633Z"
   },
   {
    "duration": 5,
    "start_time": "2023-10-20T07:33:16.644Z"
   },
   {
    "duration": 15,
    "start_time": "2023-10-20T07:33:16.651Z"
   },
   {
    "duration": 9,
    "start_time": "2023-10-20T07:33:16.669Z"
   },
   {
    "duration": 11,
    "start_time": "2023-10-20T07:33:16.680Z"
   },
   {
    "duration": 4,
    "start_time": "2023-10-20T07:33:16.704Z"
   },
   {
    "duration": 17,
    "start_time": "2023-10-20T07:33:16.709Z"
   },
   {
    "duration": 3,
    "start_time": "2023-10-20T07:33:16.728Z"
   },
   {
    "duration": 16,
    "start_time": "2023-10-20T07:33:16.732Z"
   },
   {
    "duration": 9,
    "start_time": "2023-10-20T07:33:16.750Z"
   },
   {
    "duration": 23,
    "start_time": "2023-10-20T07:33:16.761Z"
   },
   {
    "duration": 6,
    "start_time": "2023-10-20T07:33:16.786Z"
   },
   {
    "duration": 8,
    "start_time": "2023-10-20T07:33:16.794Z"
   },
   {
    "duration": 22,
    "start_time": "2023-10-20T07:33:16.804Z"
   },
   {
    "duration": 19,
    "start_time": "2023-10-20T07:33:16.828Z"
   },
   {
    "duration": 30,
    "start_time": "2023-10-20T07:33:16.849Z"
   },
   {
    "duration": 1485,
    "start_time": "2023-10-20T07:33:16.881Z"
   },
   {
    "duration": 108,
    "start_time": "2023-10-20T07:33:18.368Z"
   },
   {
    "duration": 6,
    "start_time": "2023-10-20T07:33:18.478Z"
   },
   {
    "duration": 17,
    "start_time": "2023-10-20T07:33:18.485Z"
   },
   {
    "duration": 8,
    "start_time": "2023-10-20T07:33:18.504Z"
   },
   {
    "duration": 20,
    "start_time": "2023-10-20T07:33:18.513Z"
   },
   {
    "duration": 9,
    "start_time": "2023-10-20T07:33:18.535Z"
   },
   {
    "duration": 13,
    "start_time": "2023-10-20T07:33:18.546Z"
   },
   {
    "duration": 10,
    "start_time": "2023-10-20T07:33:18.561Z"
   },
   {
    "duration": 15,
    "start_time": "2023-10-20T07:33:18.572Z"
   },
   {
    "duration": 318,
    "start_time": "2023-10-20T07:33:18.589Z"
   },
   {
    "duration": 9,
    "start_time": "2023-10-20T07:33:18.909Z"
   },
   {
    "duration": 11,
    "start_time": "2023-10-20T07:33:18.920Z"
   },
   {
    "duration": 22,
    "start_time": "2023-10-20T07:33:18.932Z"
   },
   {
    "duration": 66,
    "start_time": "2023-10-20T07:33:18.956Z"
   },
   {
    "duration": 19,
    "start_time": "2023-10-20T07:33:19.023Z"
   },
   {
    "duration": 9,
    "start_time": "2023-10-20T07:33:19.048Z"
   },
   {
    "duration": 589,
    "start_time": "2023-10-20T07:33:19.058Z"
   },
   {
    "duration": 1452,
    "start_time": "2023-10-20T07:33:19.649Z"
   },
   {
    "duration": 4,
    "start_time": "2023-10-20T07:33:21.103Z"
   },
   {
    "duration": 524,
    "start_time": "2023-10-20T07:33:21.109Z"
   },
   {
    "duration": 5,
    "start_time": "2023-10-20T07:33:21.635Z"
   },
   {
    "duration": 24,
    "start_time": "2023-10-20T07:33:21.642Z"
   },
   {
    "duration": 23,
    "start_time": "2023-10-20T07:33:21.667Z"
   },
   {
    "duration": 502,
    "start_time": "2023-10-20T07:33:21.692Z"
   },
   {
    "duration": 7,
    "start_time": "2023-10-20T07:33:22.196Z"
   },
   {
    "duration": 260,
    "start_time": "2023-10-20T07:33:22.205Z"
   },
   {
    "duration": 378,
    "start_time": "2023-10-20T07:33:22.467Z"
   },
   {
    "duration": 117,
    "start_time": "2023-10-20T07:33:22.847Z"
   },
   {
    "duration": 397,
    "start_time": "2023-10-20T07:33:22.966Z"
   },
   {
    "duration": 151,
    "start_time": "2023-10-20T07:33:23.365Z"
   },
   {
    "duration": 538,
    "start_time": "2023-10-20T07:33:23.517Z"
   },
   {
    "duration": 146,
    "start_time": "2023-10-20T07:33:24.057Z"
   },
   {
    "duration": 5,
    "start_time": "2023-10-20T07:33:24.205Z"
   },
   {
    "duration": 476,
    "start_time": "2023-10-20T07:33:24.211Z"
   },
   {
    "duration": 190,
    "start_time": "2023-10-20T07:33:24.689Z"
   },
   {
    "duration": 356,
    "start_time": "2023-10-20T07:33:24.881Z"
   },
   {
    "duration": 150,
    "start_time": "2023-10-20T07:33:25.239Z"
   },
   {
    "duration": 430,
    "start_time": "2023-10-20T07:33:25.391Z"
   },
   {
    "duration": 12,
    "start_time": "2023-10-20T07:33:25.823Z"
   },
   {
    "duration": 11,
    "start_time": "2023-10-20T07:33:25.837Z"
   },
   {
    "duration": 19,
    "start_time": "2023-10-20T07:33:25.850Z"
   },
   {
    "duration": 544,
    "start_time": "2023-10-20T07:33:25.870Z"
   },
   {
    "duration": 6,
    "start_time": "2023-10-20T07:33:26.415Z"
   },
   {
    "duration": 8,
    "start_time": "2023-10-20T07:33:26.423Z"
   },
   {
    "duration": 21,
    "start_time": "2023-10-20T07:33:26.433Z"
   },
   {
    "duration": 7,
    "start_time": "2023-10-20T07:33:26.455Z"
   },
   {
    "duration": 15,
    "start_time": "2023-10-20T07:33:26.463Z"
   },
   {
    "duration": 4,
    "start_time": "2023-10-20T07:33:26.479Z"
   },
   {
    "duration": 6,
    "start_time": "2023-10-20T07:33:26.500Z"
   },
   {
    "duration": 6,
    "start_time": "2023-10-20T07:33:26.507Z"
   },
   {
    "duration": 11,
    "start_time": "2023-10-20T07:33:26.514Z"
   },
   {
    "duration": 5,
    "start_time": "2023-10-20T07:33:26.527Z"
   },
   {
    "duration": 8,
    "start_time": "2023-10-20T07:33:26.534Z"
   },
   {
    "duration": 18,
    "start_time": "2023-10-20T07:33:26.544Z"
   },
   {
    "duration": 270,
    "start_time": "2023-10-20T07:33:26.563Z"
   },
   {
    "duration": 289,
    "start_time": "2023-10-20T07:33:26.835Z"
   },
   {
    "duration": 6,
    "start_time": "2023-10-20T07:33:27.126Z"
   },
   {
    "duration": 88,
    "start_time": "2023-10-20T07:33:27.134Z"
   },
   {
    "duration": 78,
    "start_time": "2023-10-20T07:33:27.224Z"
   },
   {
    "duration": 25,
    "start_time": "2023-10-20T07:33:27.303Z"
   },
   {
    "duration": 261,
    "start_time": "2023-10-20T07:33:27.329Z"
   },
   {
    "duration": 252,
    "start_time": "2023-10-20T07:33:27.592Z"
   },
   {
    "duration": 10,
    "start_time": "2023-10-20T07:33:27.846Z"
   },
   {
    "duration": 9,
    "start_time": "2023-10-20T07:33:27.857Z"
   },
   {
    "duration": 8,
    "start_time": "2023-10-20T07:33:27.868Z"
   },
   {
    "duration": 9,
    "start_time": "2023-10-20T07:33:27.901Z"
   },
   {
    "duration": 19,
    "start_time": "2023-10-20T07:33:27.912Z"
   },
   {
    "duration": 1214,
    "start_time": "2023-10-20T07:34:03.135Z"
   },
   {
    "duration": 124,
    "start_time": "2023-10-20T07:34:04.351Z"
   },
   {
    "duration": 20,
    "start_time": "2023-10-20T07:34:04.477Z"
   },
   {
    "duration": 12,
    "start_time": "2023-10-20T07:34:04.499Z"
   },
   {
    "duration": 16,
    "start_time": "2023-10-20T07:34:04.512Z"
   },
   {
    "duration": 7,
    "start_time": "2023-10-20T07:34:04.531Z"
   },
   {
    "duration": 25,
    "start_time": "2023-10-20T07:34:04.540Z"
   },
   {
    "duration": 6,
    "start_time": "2023-10-20T07:34:04.567Z"
   },
   {
    "duration": 15,
    "start_time": "2023-10-20T07:34:04.575Z"
   },
   {
    "duration": 5,
    "start_time": "2023-10-20T07:34:04.603Z"
   },
   {
    "duration": 7,
    "start_time": "2023-10-20T07:34:04.610Z"
   },
   {
    "duration": 7,
    "start_time": "2023-10-20T07:34:04.619Z"
   },
   {
    "duration": 12,
    "start_time": "2023-10-20T07:34:04.629Z"
   },
   {
    "duration": 21,
    "start_time": "2023-10-20T07:34:04.643Z"
   },
   {
    "duration": 18,
    "start_time": "2023-10-20T07:34:04.667Z"
   },
   {
    "duration": 11,
    "start_time": "2023-10-20T07:34:04.701Z"
   },
   {
    "duration": 14,
    "start_time": "2023-10-20T07:34:04.715Z"
   },
   {
    "duration": 9,
    "start_time": "2023-10-20T07:34:04.731Z"
   },
   {
    "duration": 16,
    "start_time": "2023-10-20T07:34:04.742Z"
   },
   {
    "duration": 25,
    "start_time": "2023-10-20T07:34:04.760Z"
   },
   {
    "duration": 18,
    "start_time": "2023-10-20T07:34:04.787Z"
   },
   {
    "duration": 17,
    "start_time": "2023-10-20T07:34:04.807Z"
   },
   {
    "duration": 27,
    "start_time": "2023-10-20T07:34:04.826Z"
   },
   {
    "duration": 41,
    "start_time": "2023-10-20T07:34:04.855Z"
   },
   {
    "duration": 1498,
    "start_time": "2023-10-20T07:34:04.897Z"
   },
   {
    "duration": 107,
    "start_time": "2023-10-20T07:34:06.397Z"
   },
   {
    "duration": 33,
    "start_time": "2023-10-20T07:34:06.506Z"
   },
   {
    "duration": 182,
    "start_time": "2023-10-20T07:34:06.545Z"
   },
   {
    "duration": 193,
    "start_time": "2023-10-20T07:34:06.729Z"
   },
   {
    "duration": 57,
    "start_time": "2023-10-20T07:34:06.924Z"
   },
   {
    "duration": 91,
    "start_time": "2023-10-20T07:34:06.982Z"
   },
   {
    "duration": 24,
    "start_time": "2023-10-20T07:34:07.075Z"
   },
   {
    "duration": 15,
    "start_time": "2023-10-20T07:34:07.101Z"
   },
   {
    "duration": 32,
    "start_time": "2023-10-20T07:34:07.118Z"
   },
   {
    "duration": 318,
    "start_time": "2023-10-20T07:34:07.152Z"
   },
   {
    "duration": 11,
    "start_time": "2023-10-20T07:34:07.472Z"
   },
   {
    "duration": 54,
    "start_time": "2023-10-20T07:34:07.485Z"
   },
   {
    "duration": 104,
    "start_time": "2023-10-20T07:34:07.541Z"
   },
   {
    "duration": 68,
    "start_time": "2023-10-20T07:34:07.647Z"
   },
   {
    "duration": 15,
    "start_time": "2023-10-20T07:34:07.718Z"
   },
   {
    "duration": 16,
    "start_time": "2023-10-20T07:34:07.735Z"
   },
   {
    "duration": 622,
    "start_time": "2023-10-20T07:34:07.753Z"
   },
   {
    "duration": 638,
    "start_time": "2023-10-20T07:34:08.377Z"
   },
   {
    "duration": 4,
    "start_time": "2023-10-20T07:34:09.017Z"
   },
   {
    "duration": 517,
    "start_time": "2023-10-20T07:34:09.023Z"
   },
   {
    "duration": 6,
    "start_time": "2023-10-20T07:34:09.542Z"
   },
   {
    "duration": 24,
    "start_time": "2023-10-20T07:34:09.550Z"
   },
   {
    "duration": 14,
    "start_time": "2023-10-20T07:34:09.575Z"
   },
   {
    "duration": 503,
    "start_time": "2023-10-20T07:34:09.591Z"
   },
   {
    "duration": 10,
    "start_time": "2023-10-20T07:34:10.095Z"
   },
   {
    "duration": 146,
    "start_time": "2023-10-20T07:34:10.107Z"
   },
   {
    "duration": 318,
    "start_time": "2023-10-20T07:34:10.255Z"
   },
   {
    "duration": 149,
    "start_time": "2023-10-20T07:34:10.575Z"
   },
   {
    "duration": 355,
    "start_time": "2023-10-20T07:34:10.727Z"
   },
   {
    "duration": 187,
    "start_time": "2023-10-20T07:34:11.083Z"
   },
   {
    "duration": 543,
    "start_time": "2023-10-20T07:34:11.272Z"
   },
   {
    "duration": 256,
    "start_time": "2023-10-20T07:34:11.817Z"
   },
   {
    "duration": 5,
    "start_time": "2023-10-20T07:34:12.075Z"
   },
   {
    "duration": 586,
    "start_time": "2023-10-20T07:34:12.082Z"
   },
   {
    "duration": 161,
    "start_time": "2023-10-20T07:34:12.670Z"
   },
   {
    "duration": 333,
    "start_time": "2023-10-20T07:34:12.833Z"
   },
   {
    "duration": 149,
    "start_time": "2023-10-20T07:34:13.168Z"
   },
   {
    "duration": 342,
    "start_time": "2023-10-20T07:34:13.319Z"
   },
   {
    "duration": 13,
    "start_time": "2023-10-20T07:34:13.663Z"
   },
   {
    "duration": 30,
    "start_time": "2023-10-20T07:34:13.678Z"
   },
   {
    "duration": 23,
    "start_time": "2023-10-20T07:34:13.710Z"
   },
   {
    "duration": 576,
    "start_time": "2023-10-20T07:34:13.735Z"
   },
   {
    "duration": 5,
    "start_time": "2023-10-20T07:34:14.313Z"
   },
   {
    "duration": 12,
    "start_time": "2023-10-20T07:34:14.320Z"
   },
   {
    "duration": 20,
    "start_time": "2023-10-20T07:34:14.334Z"
   },
   {
    "duration": 4,
    "start_time": "2023-10-20T07:34:14.355Z"
   },
   {
    "duration": 12,
    "start_time": "2023-10-20T07:34:14.361Z"
   },
   {
    "duration": 25,
    "start_time": "2023-10-20T07:34:14.375Z"
   },
   {
    "duration": 26,
    "start_time": "2023-10-20T07:34:14.403Z"
   },
   {
    "duration": 7,
    "start_time": "2023-10-20T07:34:14.431Z"
   },
   {
    "duration": 13,
    "start_time": "2023-10-20T07:34:14.439Z"
   },
   {
    "duration": 9,
    "start_time": "2023-10-20T07:34:14.454Z"
   },
   {
    "duration": 9,
    "start_time": "2023-10-20T07:34:14.464Z"
   },
   {
    "duration": 11,
    "start_time": "2023-10-20T07:34:14.475Z"
   },
   {
    "duration": 340,
    "start_time": "2023-10-20T07:34:14.488Z"
   },
   {
    "duration": 372,
    "start_time": "2023-10-20T07:34:14.829Z"
   },
   {
    "duration": 6,
    "start_time": "2023-10-20T07:34:15.207Z"
   },
   {
    "duration": 37,
    "start_time": "2023-10-20T07:34:15.214Z"
   },
   {
    "duration": 8,
    "start_time": "2023-10-20T07:34:15.253Z"
   },
   {
    "duration": 40,
    "start_time": "2023-10-20T07:34:15.262Z"
   },
   {
    "duration": 266,
    "start_time": "2023-10-20T07:34:15.304Z"
   },
   {
    "duration": 269,
    "start_time": "2023-10-20T07:34:15.572Z"
   },
   {
    "duration": 10,
    "start_time": "2023-10-20T07:34:15.844Z"
   },
   {
    "duration": 14,
    "start_time": "2023-10-20T07:34:15.856Z"
   },
   {
    "duration": 24,
    "start_time": "2023-10-20T07:34:15.871Z"
   },
   {
    "duration": 8,
    "start_time": "2023-10-20T07:34:15.901Z"
   },
   {
    "duration": 10,
    "start_time": "2023-10-20T07:34:15.911Z"
   },
   {
    "duration": 309,
    "start_time": "2023-10-20T07:34:21.419Z"
   },
   {
    "duration": 1457,
    "start_time": "2023-10-20T07:39:34.873Z"
   },
   {
    "duration": 136,
    "start_time": "2023-10-20T07:39:36.332Z"
   },
   {
    "duration": 19,
    "start_time": "2023-10-20T07:39:36.470Z"
   },
   {
    "duration": 20,
    "start_time": "2023-10-20T07:39:36.491Z"
   },
   {
    "duration": 14,
    "start_time": "2023-10-20T07:39:36.514Z"
   },
   {
    "duration": 11,
    "start_time": "2023-10-20T07:39:36.530Z"
   },
   {
    "duration": 16,
    "start_time": "2023-10-20T07:39:36.543Z"
   },
   {
    "duration": 5,
    "start_time": "2023-10-20T07:39:36.561Z"
   },
   {
    "duration": 10,
    "start_time": "2023-10-20T07:39:36.567Z"
   },
   {
    "duration": 21,
    "start_time": "2023-10-20T07:39:36.580Z"
   },
   {
    "duration": 9,
    "start_time": "2023-10-20T07:39:36.605Z"
   },
   {
    "duration": 8,
    "start_time": "2023-10-20T07:39:36.616Z"
   },
   {
    "duration": 12,
    "start_time": "2023-10-20T07:39:36.625Z"
   },
   {
    "duration": 16,
    "start_time": "2023-10-20T07:39:36.638Z"
   },
   {
    "duration": 24,
    "start_time": "2023-10-20T07:39:36.656Z"
   },
   {
    "duration": 12,
    "start_time": "2023-10-20T07:39:36.682Z"
   },
   {
    "duration": 19,
    "start_time": "2023-10-20T07:39:36.695Z"
   },
   {
    "duration": 23,
    "start_time": "2023-10-20T07:39:36.716Z"
   },
   {
    "duration": 29,
    "start_time": "2023-10-20T07:39:36.740Z"
   },
   {
    "duration": 17,
    "start_time": "2023-10-20T07:39:36.771Z"
   },
   {
    "duration": 23,
    "start_time": "2023-10-20T07:39:36.789Z"
   },
   {
    "duration": 18,
    "start_time": "2023-10-20T07:39:36.815Z"
   },
   {
    "duration": 10,
    "start_time": "2023-10-20T07:39:36.835Z"
   },
   {
    "duration": 27,
    "start_time": "2023-10-20T07:39:36.847Z"
   },
   {
    "duration": 1707,
    "start_time": "2023-10-20T07:39:36.876Z"
   },
   {
    "duration": 133,
    "start_time": "2023-10-20T07:39:38.585Z"
   },
   {
    "duration": 9,
    "start_time": "2023-10-20T07:39:38.721Z"
   },
   {
    "duration": 9,
    "start_time": "2023-10-20T07:39:38.735Z"
   },
   {
    "duration": 25,
    "start_time": "2023-10-20T07:39:38.747Z"
   },
   {
    "duration": 6,
    "start_time": "2023-10-20T07:39:38.774Z"
   },
   {
    "duration": 7,
    "start_time": "2023-10-20T07:39:38.782Z"
   },
   {
    "duration": 12,
    "start_time": "2023-10-20T07:39:38.805Z"
   },
   {
    "duration": 6,
    "start_time": "2023-10-20T07:39:38.819Z"
   },
   {
    "duration": 8,
    "start_time": "2023-10-20T07:39:38.828Z"
   },
   {
    "duration": 366,
    "start_time": "2023-10-20T07:39:38.838Z"
   },
   {
    "duration": 15,
    "start_time": "2023-10-20T07:39:39.206Z"
   },
   {
    "duration": 11,
    "start_time": "2023-10-20T07:39:39.225Z"
   },
   {
    "duration": 4,
    "start_time": "2023-10-20T07:39:39.238Z"
   },
   {
    "duration": 34,
    "start_time": "2023-10-20T07:39:39.244Z"
   },
   {
    "duration": 23,
    "start_time": "2023-10-20T07:39:39.280Z"
   },
   {
    "duration": 5,
    "start_time": "2023-10-20T07:39:39.305Z"
   },
   {
    "duration": 650,
    "start_time": "2023-10-20T07:39:39.312Z"
   },
   {
    "duration": 695,
    "start_time": "2023-10-20T07:39:39.964Z"
   },
   {
    "duration": 4,
    "start_time": "2023-10-20T07:39:40.662Z"
   },
   {
    "duration": 578,
    "start_time": "2023-10-20T07:39:40.669Z"
   },
   {
    "duration": 8,
    "start_time": "2023-10-20T07:39:41.249Z"
   },
   {
    "duration": 19,
    "start_time": "2023-10-20T07:39:41.259Z"
   },
   {
    "duration": 49,
    "start_time": "2023-10-20T07:39:41.280Z"
   },
   {
    "duration": 539,
    "start_time": "2023-10-20T07:39:41.331Z"
   },
   {
    "duration": 5,
    "start_time": "2023-10-20T07:39:41.872Z"
   },
   {
    "duration": 157,
    "start_time": "2023-10-20T07:39:41.879Z"
   },
   {
    "duration": 336,
    "start_time": "2023-10-20T07:39:42.038Z"
   },
   {
    "duration": 124,
    "start_time": "2023-10-20T07:39:42.376Z"
   },
   {
    "duration": 408,
    "start_time": "2023-10-20T07:39:42.501Z"
   },
   {
    "duration": 172,
    "start_time": "2023-10-20T07:39:42.911Z"
   },
   {
    "duration": 565,
    "start_time": "2023-10-20T07:39:43.085Z"
   },
   {
    "duration": 291,
    "start_time": "2023-10-20T07:39:43.653Z"
   },
   {
    "duration": 6,
    "start_time": "2023-10-20T07:39:43.946Z"
   },
   {
    "duration": 479,
    "start_time": "2023-10-20T07:39:43.953Z"
   },
   {
    "duration": 203,
    "start_time": "2023-10-20T07:39:44.434Z"
   },
   {
    "duration": 449,
    "start_time": "2023-10-20T07:39:44.639Z"
   },
   {
    "duration": 172,
    "start_time": "2023-10-20T07:39:45.101Z"
   },
   {
    "duration": 414,
    "start_time": "2023-10-20T07:39:45.276Z"
   },
   {
    "duration": 27,
    "start_time": "2023-10-20T07:39:45.693Z"
   },
   {
    "duration": 171,
    "start_time": "2023-10-20T07:39:45.723Z"
   },
   {
    "duration": 66,
    "start_time": "2023-10-20T07:39:45.896Z"
   },
   {
    "duration": 620,
    "start_time": "2023-10-20T07:39:45.964Z"
   },
   {
    "duration": 16,
    "start_time": "2023-10-20T07:39:46.585Z"
   },
   {
    "duration": 7,
    "start_time": "2023-10-20T07:39:46.605Z"
   },
   {
    "duration": 25,
    "start_time": "2023-10-20T07:39:46.614Z"
   },
   {
    "duration": 4,
    "start_time": "2023-10-20T07:39:46.641Z"
   },
   {
    "duration": 27,
    "start_time": "2023-10-20T07:39:46.647Z"
   },
   {
    "duration": 24,
    "start_time": "2023-10-20T07:39:46.675Z"
   },
   {
    "duration": 26,
    "start_time": "2023-10-20T07:39:46.702Z"
   },
   {
    "duration": 10,
    "start_time": "2023-10-20T07:39:46.731Z"
   },
   {
    "duration": 20,
    "start_time": "2023-10-20T07:39:46.742Z"
   },
   {
    "duration": 19,
    "start_time": "2023-10-20T07:39:46.764Z"
   },
   {
    "duration": 42,
    "start_time": "2023-10-20T07:39:46.785Z"
   },
   {
    "duration": 35,
    "start_time": "2023-10-20T07:39:46.829Z"
   },
   {
    "duration": 325,
    "start_time": "2023-10-20T07:39:46.865Z"
   },
   {
    "duration": 414,
    "start_time": "2023-10-20T07:39:47.192Z"
   },
   {
    "duration": 10,
    "start_time": "2023-10-20T07:39:47.613Z"
   },
   {
    "duration": 9,
    "start_time": "2023-10-20T07:39:47.625Z"
   },
   {
    "duration": 11,
    "start_time": "2023-10-20T07:39:47.636Z"
   },
   {
    "duration": 22,
    "start_time": "2023-10-20T07:39:47.649Z"
   },
   {
    "duration": 277,
    "start_time": "2023-10-20T07:39:47.673Z"
   },
   {
    "duration": 303,
    "start_time": "2023-10-20T07:39:47.952Z"
   },
   {
    "duration": 8,
    "start_time": "2023-10-20T07:39:48.257Z"
   },
   {
    "duration": 42,
    "start_time": "2023-10-20T07:39:48.267Z"
   },
   {
    "duration": 17,
    "start_time": "2023-10-20T07:39:48.313Z"
   },
   {
    "duration": 23,
    "start_time": "2023-10-20T07:39:48.332Z"
   },
   {
    "duration": 19,
    "start_time": "2023-10-20T07:39:48.356Z"
   },
   {
    "duration": 6,
    "start_time": "2023-10-20T07:44:35.273Z"
   },
   {
    "duration": 1352,
    "start_time": "2023-10-20T07:44:41.518Z"
   },
   {
    "duration": 114,
    "start_time": "2023-10-20T07:44:42.872Z"
   },
   {
    "duration": 27,
    "start_time": "2023-10-20T07:44:42.987Z"
   },
   {
    "duration": 8,
    "start_time": "2023-10-20T07:44:43.018Z"
   },
   {
    "duration": 20,
    "start_time": "2023-10-20T07:44:43.028Z"
   },
   {
    "duration": 8,
    "start_time": "2023-10-20T07:44:43.050Z"
   },
   {
    "duration": 22,
    "start_time": "2023-10-20T07:44:43.059Z"
   },
   {
    "duration": 26,
    "start_time": "2023-10-20T07:44:43.083Z"
   },
   {
    "duration": 15,
    "start_time": "2023-10-20T07:44:43.113Z"
   },
   {
    "duration": 4,
    "start_time": "2023-10-20T07:44:43.131Z"
   },
   {
    "duration": 25,
    "start_time": "2023-10-20T07:44:43.137Z"
   },
   {
    "duration": 33,
    "start_time": "2023-10-20T07:44:43.164Z"
   },
   {
    "duration": 35,
    "start_time": "2023-10-20T07:44:43.199Z"
   },
   {
    "duration": 27,
    "start_time": "2023-10-20T07:44:43.235Z"
   },
   {
    "duration": 13,
    "start_time": "2023-10-20T07:44:43.264Z"
   },
   {
    "duration": 6,
    "start_time": "2023-10-20T07:44:43.279Z"
   },
   {
    "duration": 13,
    "start_time": "2023-10-20T07:44:43.287Z"
   },
   {
    "duration": 15,
    "start_time": "2023-10-20T07:44:43.303Z"
   },
   {
    "duration": 13,
    "start_time": "2023-10-20T07:44:43.322Z"
   },
   {
    "duration": 33,
    "start_time": "2023-10-20T07:44:43.337Z"
   },
   {
    "duration": 19,
    "start_time": "2023-10-20T07:44:43.372Z"
   },
   {
    "duration": 7,
    "start_time": "2023-10-20T07:44:43.393Z"
   },
   {
    "duration": 28,
    "start_time": "2023-10-20T07:44:43.403Z"
   },
   {
    "duration": 6,
    "start_time": "2023-10-20T07:44:43.433Z"
   },
   {
    "duration": 1798,
    "start_time": "2023-10-20T07:44:43.440Z"
   },
   {
    "duration": 121,
    "start_time": "2023-10-20T07:44:45.239Z"
   },
   {
    "duration": 5,
    "start_time": "2023-10-20T07:44:45.362Z"
   },
   {
    "duration": 48,
    "start_time": "2023-10-20T07:44:45.371Z"
   },
   {
    "duration": 26,
    "start_time": "2023-10-20T07:44:45.421Z"
   },
   {
    "duration": 47,
    "start_time": "2023-10-20T07:44:45.449Z"
   },
   {
    "duration": 27,
    "start_time": "2023-10-20T07:44:45.497Z"
   },
   {
    "duration": 51,
    "start_time": "2023-10-20T07:44:45.526Z"
   },
   {
    "duration": 41,
    "start_time": "2023-10-20T07:44:45.579Z"
   },
   {
    "duration": 13,
    "start_time": "2023-10-20T07:44:45.622Z"
   },
   {
    "duration": 369,
    "start_time": "2023-10-20T07:44:45.637Z"
   },
   {
    "duration": 18,
    "start_time": "2023-10-20T07:44:46.010Z"
   },
   {
    "duration": 22,
    "start_time": "2023-10-20T07:44:46.030Z"
   },
   {
    "duration": 33,
    "start_time": "2023-10-20T07:44:46.054Z"
   },
   {
    "duration": 44,
    "start_time": "2023-10-20T07:44:46.089Z"
   },
   {
    "duration": 7,
    "start_time": "2023-10-20T07:44:46.136Z"
   },
   {
    "duration": 15,
    "start_time": "2023-10-20T07:44:46.144Z"
   },
   {
    "duration": 691,
    "start_time": "2023-10-20T07:44:46.161Z"
   },
   {
    "duration": 703,
    "start_time": "2023-10-20T07:44:46.854Z"
   },
   {
    "duration": 5,
    "start_time": "2023-10-20T07:44:47.559Z"
   },
   {
    "duration": 578,
    "start_time": "2023-10-20T07:44:47.565Z"
   },
   {
    "duration": 5,
    "start_time": "2023-10-20T07:44:48.145Z"
   },
   {
    "duration": 26,
    "start_time": "2023-10-20T07:44:48.152Z"
   },
   {
    "duration": 48,
    "start_time": "2023-10-20T07:44:48.180Z"
   },
   {
    "duration": 558,
    "start_time": "2023-10-20T07:44:48.230Z"
   },
   {
    "duration": 18,
    "start_time": "2023-10-20T07:44:48.790Z"
   },
   {
    "duration": 150,
    "start_time": "2023-10-20T07:44:48.809Z"
   },
   {
    "duration": 402,
    "start_time": "2023-10-20T07:44:48.962Z"
   },
   {
    "duration": 134,
    "start_time": "2023-10-20T07:44:49.366Z"
   },
   {
    "duration": 405,
    "start_time": "2023-10-20T07:44:49.503Z"
   },
   {
    "duration": 205,
    "start_time": "2023-10-20T07:44:49.910Z"
   },
   {
    "duration": 631,
    "start_time": "2023-10-20T07:44:50.118Z"
   },
   {
    "duration": 283,
    "start_time": "2023-10-20T07:44:50.751Z"
   },
   {
    "duration": 6,
    "start_time": "2023-10-20T07:44:51.037Z"
   },
   {
    "duration": 490,
    "start_time": "2023-10-20T07:44:51.045Z"
   },
   {
    "duration": 180,
    "start_time": "2023-10-20T07:44:51.537Z"
   },
   {
    "duration": 368,
    "start_time": "2023-10-20T07:44:51.719Z"
   },
   {
    "duration": 174,
    "start_time": "2023-10-20T07:44:52.089Z"
   },
   {
    "duration": 405,
    "start_time": "2023-10-20T07:44:52.265Z"
   },
   {
    "duration": 14,
    "start_time": "2023-10-20T07:44:52.672Z"
   },
   {
    "duration": 34,
    "start_time": "2023-10-20T07:44:52.703Z"
   },
   {
    "duration": 24,
    "start_time": "2023-10-20T07:44:52.739Z"
   },
   {
    "duration": 608,
    "start_time": "2023-10-20T07:44:52.765Z"
   },
   {
    "duration": 6,
    "start_time": "2023-10-20T07:44:53.375Z"
   },
   {
    "duration": 22,
    "start_time": "2023-10-20T07:44:53.382Z"
   },
   {
    "duration": 35,
    "start_time": "2023-10-20T07:44:53.406Z"
   },
   {
    "duration": 14,
    "start_time": "2023-10-20T07:44:53.442Z"
   },
   {
    "duration": 27,
    "start_time": "2023-10-20T07:44:53.458Z"
   },
   {
    "duration": 30,
    "start_time": "2023-10-20T07:44:53.486Z"
   },
   {
    "duration": 38,
    "start_time": "2023-10-20T07:44:53.520Z"
   },
   {
    "duration": 26,
    "start_time": "2023-10-20T07:44:53.560Z"
   },
   {
    "duration": 34,
    "start_time": "2023-10-20T07:44:53.588Z"
   },
   {
    "duration": 28,
    "start_time": "2023-10-20T07:44:53.625Z"
   },
   {
    "duration": 32,
    "start_time": "2023-10-20T07:44:53.655Z"
   },
   {
    "duration": 43,
    "start_time": "2023-10-20T07:44:53.689Z"
   },
   {
    "duration": 334,
    "start_time": "2023-10-20T07:44:53.734Z"
   },
   {
    "duration": 411,
    "start_time": "2023-10-20T07:44:54.070Z"
   },
   {
    "duration": 6,
    "start_time": "2023-10-20T07:44:54.487Z"
   },
   {
    "duration": 31,
    "start_time": "2023-10-20T07:44:54.503Z"
   },
   {
    "duration": 65,
    "start_time": "2023-10-20T07:44:54.536Z"
   },
   {
    "duration": 47,
    "start_time": "2023-10-20T07:44:54.610Z"
   },
   {
    "duration": 317,
    "start_time": "2023-10-20T07:44:54.659Z"
   },
   {
    "duration": 282,
    "start_time": "2023-10-20T07:44:54.978Z"
   },
   {
    "duration": 8,
    "start_time": "2023-10-20T07:44:55.262Z"
   },
   {
    "duration": 114,
    "start_time": "2023-10-20T07:44:55.272Z"
   },
   {
    "duration": 89,
    "start_time": "2023-10-20T07:44:55.387Z"
   },
   {
    "duration": 45,
    "start_time": "2023-10-20T07:44:55.478Z"
   },
   {
    "duration": 34,
    "start_time": "2023-10-20T07:44:55.525Z"
   },
   {
    "duration": 1403,
    "start_time": "2023-10-20T07:45:13.006Z"
   },
   {
    "duration": 122,
    "start_time": "2023-10-20T07:45:14.411Z"
   },
   {
    "duration": 24,
    "start_time": "2023-10-20T07:45:14.535Z"
   },
   {
    "duration": 13,
    "start_time": "2023-10-20T07:45:14.563Z"
   },
   {
    "duration": 32,
    "start_time": "2023-10-20T07:45:14.578Z"
   },
   {
    "duration": 44,
    "start_time": "2023-10-20T07:45:14.614Z"
   },
   {
    "duration": 53,
    "start_time": "2023-10-20T07:45:14.660Z"
   },
   {
    "duration": 12,
    "start_time": "2023-10-20T07:45:14.716Z"
   },
   {
    "duration": 20,
    "start_time": "2023-10-20T07:45:14.731Z"
   },
   {
    "duration": 7,
    "start_time": "2023-10-20T07:45:14.755Z"
   },
   {
    "duration": 20,
    "start_time": "2023-10-20T07:45:14.764Z"
   },
   {
    "duration": 12,
    "start_time": "2023-10-20T07:45:14.786Z"
   },
   {
    "duration": 30,
    "start_time": "2023-10-20T07:45:14.800Z"
   },
   {
    "duration": 19,
    "start_time": "2023-10-20T07:45:14.833Z"
   },
   {
    "duration": 24,
    "start_time": "2023-10-20T07:45:14.854Z"
   },
   {
    "duration": 10,
    "start_time": "2023-10-20T07:45:14.881Z"
   },
   {
    "duration": 16,
    "start_time": "2023-10-20T07:45:14.893Z"
   },
   {
    "duration": 4,
    "start_time": "2023-10-20T07:45:14.914Z"
   },
   {
    "duration": 21,
    "start_time": "2023-10-20T07:45:14.921Z"
   },
   {
    "duration": 16,
    "start_time": "2023-10-20T07:45:14.944Z"
   },
   {
    "duration": 21,
    "start_time": "2023-10-20T07:45:14.961Z"
   },
   {
    "duration": 6,
    "start_time": "2023-10-20T07:45:14.983Z"
   },
   {
    "duration": 26,
    "start_time": "2023-10-20T07:45:14.991Z"
   },
   {
    "duration": 49,
    "start_time": "2023-10-20T07:45:15.020Z"
   },
   {
    "duration": 1665,
    "start_time": "2023-10-20T07:45:15.071Z"
   },
   {
    "duration": 113,
    "start_time": "2023-10-20T07:45:16.738Z"
   },
   {
    "duration": 5,
    "start_time": "2023-10-20T07:45:16.854Z"
   },
   {
    "duration": 26,
    "start_time": "2023-10-20T07:45:16.864Z"
   },
   {
    "duration": 30,
    "start_time": "2023-10-20T07:45:16.892Z"
   },
   {
    "duration": 27,
    "start_time": "2023-10-20T07:45:16.925Z"
   },
   {
    "duration": 20,
    "start_time": "2023-10-20T07:45:16.953Z"
   },
   {
    "duration": 21,
    "start_time": "2023-10-20T07:45:16.975Z"
   },
   {
    "duration": 12,
    "start_time": "2023-10-20T07:45:16.998Z"
   },
   {
    "duration": 17,
    "start_time": "2023-10-20T07:45:17.012Z"
   },
   {
    "duration": 369,
    "start_time": "2023-10-20T07:45:17.032Z"
   },
   {
    "duration": 17,
    "start_time": "2023-10-20T07:45:17.410Z"
   },
   {
    "duration": 14,
    "start_time": "2023-10-20T07:45:17.429Z"
   },
   {
    "duration": 9,
    "start_time": "2023-10-20T07:45:17.445Z"
   },
   {
    "duration": 40,
    "start_time": "2023-10-20T07:45:17.456Z"
   },
   {
    "duration": 17,
    "start_time": "2023-10-20T07:45:17.498Z"
   },
   {
    "duration": 15,
    "start_time": "2023-10-20T07:45:17.518Z"
   },
   {
    "duration": 722,
    "start_time": "2023-10-20T07:45:17.535Z"
   },
   {
    "duration": 702,
    "start_time": "2023-10-20T07:45:18.260Z"
   },
   {
    "duration": 5,
    "start_time": "2023-10-20T07:45:18.965Z"
   },
   {
    "duration": 590,
    "start_time": "2023-10-20T07:45:18.973Z"
   },
   {
    "duration": 5,
    "start_time": "2023-10-20T07:45:19.565Z"
   },
   {
    "duration": 15,
    "start_time": "2023-10-20T07:45:19.572Z"
   },
   {
    "duration": 16,
    "start_time": "2023-10-20T07:45:19.601Z"
   },
   {
    "duration": 566,
    "start_time": "2023-10-20T07:45:19.621Z"
   },
   {
    "duration": 17,
    "start_time": "2023-10-20T07:45:20.190Z"
   },
   {
    "duration": 143,
    "start_time": "2023-10-20T07:45:20.209Z"
   },
   {
    "duration": 371,
    "start_time": "2023-10-20T07:45:20.355Z"
   },
   {
    "duration": 135,
    "start_time": "2023-10-20T07:45:20.729Z"
   },
   {
    "duration": 459,
    "start_time": "2023-10-20T07:45:20.866Z"
   },
   {
    "duration": 227,
    "start_time": "2023-10-20T07:45:21.327Z"
   },
   {
    "duration": 671,
    "start_time": "2023-10-20T07:45:21.556Z"
   },
   {
    "duration": 277,
    "start_time": "2023-10-20T07:45:22.230Z"
   },
   {
    "duration": 6,
    "start_time": "2023-10-20T07:45:22.509Z"
   },
   {
    "duration": 473,
    "start_time": "2023-10-20T07:45:22.519Z"
   },
   {
    "duration": 185,
    "start_time": "2023-10-20T07:45:22.994Z"
   },
   {
    "duration": 390,
    "start_time": "2023-10-20T07:45:23.181Z"
   },
   {
    "duration": 170,
    "start_time": "2023-10-20T07:45:23.573Z"
   },
   {
    "duration": 372,
    "start_time": "2023-10-20T07:45:23.745Z"
   },
   {
    "duration": 20,
    "start_time": "2023-10-20T07:45:24.119Z"
   },
   {
    "duration": 11,
    "start_time": "2023-10-20T07:45:24.141Z"
   },
   {
    "duration": 52,
    "start_time": "2023-10-20T07:45:24.154Z"
   },
   {
    "duration": 631,
    "start_time": "2023-10-20T07:45:24.209Z"
   },
   {
    "duration": 6,
    "start_time": "2023-10-20T07:45:24.843Z"
   },
   {
    "duration": 7,
    "start_time": "2023-10-20T07:45:24.852Z"
   },
   {
    "duration": 45,
    "start_time": "2023-10-20T07:45:24.861Z"
   },
   {
    "duration": 5,
    "start_time": "2023-10-20T07:45:24.910Z"
   },
   {
    "duration": 15,
    "start_time": "2023-10-20T07:45:24.921Z"
   },
   {
    "duration": 6,
    "start_time": "2023-10-20T07:45:24.937Z"
   },
   {
    "duration": 11,
    "start_time": "2023-10-20T07:45:24.945Z"
   },
   {
    "duration": 9,
    "start_time": "2023-10-20T07:45:24.957Z"
   },
   {
    "duration": 13,
    "start_time": "2023-10-20T07:45:24.968Z"
   },
   {
    "duration": 7,
    "start_time": "2023-10-20T07:45:25.002Z"
   },
   {
    "duration": 13,
    "start_time": "2023-10-20T07:45:25.014Z"
   },
   {
    "duration": 18,
    "start_time": "2023-10-20T07:45:25.030Z"
   },
   {
    "duration": 315,
    "start_time": "2023-10-20T07:45:25.049Z"
   },
   {
    "duration": 393,
    "start_time": "2023-10-20T07:45:25.366Z"
   },
   {
    "duration": 6,
    "start_time": "2023-10-20T07:45:25.765Z"
   },
   {
    "duration": 29,
    "start_time": "2023-10-20T07:45:25.773Z"
   },
   {
    "duration": 15,
    "start_time": "2023-10-20T07:45:25.805Z"
   },
   {
    "duration": 9,
    "start_time": "2023-10-20T07:45:25.826Z"
   },
   {
    "duration": 303,
    "start_time": "2023-10-20T07:45:25.837Z"
   },
   {
    "duration": 324,
    "start_time": "2023-10-20T07:45:26.142Z"
   },
   {
    "duration": 9,
    "start_time": "2023-10-20T07:45:26.469Z"
   },
   {
    "duration": 28,
    "start_time": "2023-10-20T07:45:26.480Z"
   },
   {
    "duration": 30,
    "start_time": "2023-10-20T07:45:26.510Z"
   },
   {
    "duration": 17,
    "start_time": "2023-10-20T07:45:26.544Z"
   },
   {
    "duration": 14,
    "start_time": "2023-10-20T07:45:26.563Z"
   },
   {
    "duration": 1344,
    "start_time": "2023-10-20T07:45:40.415Z"
   },
   {
    "duration": 115,
    "start_time": "2023-10-20T07:45:41.761Z"
   },
   {
    "duration": 20,
    "start_time": "2023-10-20T07:45:41.878Z"
   },
   {
    "duration": 26,
    "start_time": "2023-10-20T07:45:41.901Z"
   },
   {
    "duration": 23,
    "start_time": "2023-10-20T07:45:41.929Z"
   },
   {
    "duration": 40,
    "start_time": "2023-10-20T07:45:41.953Z"
   },
   {
    "duration": 30,
    "start_time": "2023-10-20T07:45:41.995Z"
   },
   {
    "duration": 18,
    "start_time": "2023-10-20T07:45:42.027Z"
   },
   {
    "duration": 60,
    "start_time": "2023-10-20T07:45:42.047Z"
   },
   {
    "duration": 24,
    "start_time": "2023-10-20T07:45:42.112Z"
   },
   {
    "duration": 42,
    "start_time": "2023-10-20T07:45:42.138Z"
   },
   {
    "duration": 53,
    "start_time": "2023-10-20T07:45:42.182Z"
   },
   {
    "duration": 64,
    "start_time": "2023-10-20T07:45:42.238Z"
   },
   {
    "duration": 34,
    "start_time": "2023-10-20T07:45:42.306Z"
   },
   {
    "duration": 39,
    "start_time": "2023-10-20T07:45:42.342Z"
   },
   {
    "duration": 11,
    "start_time": "2023-10-20T07:45:42.383Z"
   },
   {
    "duration": 14,
    "start_time": "2023-10-20T07:45:42.395Z"
   },
   {
    "duration": 17,
    "start_time": "2023-10-20T07:45:42.413Z"
   },
   {
    "duration": 20,
    "start_time": "2023-10-20T07:45:42.432Z"
   },
   {
    "duration": 27,
    "start_time": "2023-10-20T07:45:42.453Z"
   },
   {
    "duration": 42,
    "start_time": "2023-10-20T07:45:42.481Z"
   },
   {
    "duration": 15,
    "start_time": "2023-10-20T07:45:42.525Z"
   },
   {
    "duration": 45,
    "start_time": "2023-10-20T07:45:42.543Z"
   },
   {
    "duration": 30,
    "start_time": "2023-10-20T07:45:42.590Z"
   },
   {
    "duration": 1672,
    "start_time": "2023-10-20T07:45:42.624Z"
   },
   {
    "duration": 145,
    "start_time": "2023-10-20T07:45:44.306Z"
   },
   {
    "duration": 6,
    "start_time": "2023-10-20T07:45:44.453Z"
   },
   {
    "duration": 6,
    "start_time": "2023-10-20T07:45:44.463Z"
   },
   {
    "duration": 13,
    "start_time": "2023-10-20T07:45:44.471Z"
   },
   {
    "duration": 8,
    "start_time": "2023-10-20T07:45:44.504Z"
   },
   {
    "duration": 21,
    "start_time": "2023-10-20T07:45:44.514Z"
   },
   {
    "duration": 12,
    "start_time": "2023-10-20T07:45:44.538Z"
   },
   {
    "duration": 6,
    "start_time": "2023-10-20T07:45:44.553Z"
   },
   {
    "duration": 14,
    "start_time": "2023-10-20T07:45:44.561Z"
   },
   {
    "duration": 504,
    "start_time": "2023-10-20T07:45:44.577Z"
   },
   {
    "duration": 31,
    "start_time": "2023-10-20T07:45:45.083Z"
   },
   {
    "duration": 75,
    "start_time": "2023-10-20T07:45:45.118Z"
   },
   {
    "duration": 23,
    "start_time": "2023-10-20T07:45:45.195Z"
   },
   {
    "duration": 32,
    "start_time": "2023-10-20T07:45:45.220Z"
   },
   {
    "duration": 8,
    "start_time": "2023-10-20T07:45:45.255Z"
   },
   {
    "duration": 7,
    "start_time": "2023-10-20T07:45:45.264Z"
   },
   {
    "duration": 705,
    "start_time": "2023-10-20T07:45:45.273Z"
   },
   {
    "duration": 1698,
    "start_time": "2023-10-20T07:45:45.980Z"
   },
   {
    "duration": 5,
    "start_time": "2023-10-20T07:45:47.679Z"
   },
   {
    "duration": 594,
    "start_time": "2023-10-20T07:45:47.686Z"
   },
   {
    "duration": 6,
    "start_time": "2023-10-20T07:45:48.282Z"
   },
   {
    "duration": 15,
    "start_time": "2023-10-20T07:45:48.303Z"
   },
   {
    "duration": 8,
    "start_time": "2023-10-20T07:45:48.321Z"
   },
   {
    "duration": 544,
    "start_time": "2023-10-20T07:45:48.330Z"
   },
   {
    "duration": 5,
    "start_time": "2023-10-20T07:45:48.876Z"
   },
   {
    "duration": 284,
    "start_time": "2023-10-20T07:45:48.883Z"
   },
   {
    "duration": 410,
    "start_time": "2023-10-20T07:45:49.169Z"
   },
   {
    "duration": 163,
    "start_time": "2023-10-20T07:45:49.581Z"
   },
   {
    "duration": 439,
    "start_time": "2023-10-20T07:45:49.746Z"
   },
   {
    "duration": 157,
    "start_time": "2023-10-20T07:45:50.187Z"
   },
   {
    "duration": 590,
    "start_time": "2023-10-20T07:45:50.347Z"
   },
   {
    "duration": 188,
    "start_time": "2023-10-20T07:45:50.939Z"
   },
   {
    "duration": 6,
    "start_time": "2023-10-20T07:45:51.130Z"
   },
   {
    "duration": 559,
    "start_time": "2023-10-20T07:45:51.137Z"
   },
   {
    "duration": 187,
    "start_time": "2023-10-20T07:45:51.702Z"
   },
   {
    "duration": 400,
    "start_time": "2023-10-20T07:45:51.891Z"
   },
   {
    "duration": 179,
    "start_time": "2023-10-20T07:45:52.293Z"
   },
   {
    "duration": 500,
    "start_time": "2023-10-20T07:45:52.475Z"
   },
   {
    "duration": 33,
    "start_time": "2023-10-20T07:45:52.977Z"
   },
   {
    "duration": 13,
    "start_time": "2023-10-20T07:45:53.012Z"
   },
   {
    "duration": 30,
    "start_time": "2023-10-20T07:45:53.027Z"
   },
   {
    "duration": 617,
    "start_time": "2023-10-20T07:45:53.059Z"
   },
   {
    "duration": 6,
    "start_time": "2023-10-20T07:45:53.678Z"
   },
   {
    "duration": 20,
    "start_time": "2023-10-20T07:45:53.685Z"
   },
   {
    "duration": 37,
    "start_time": "2023-10-20T07:45:53.710Z"
   },
   {
    "duration": 17,
    "start_time": "2023-10-20T07:45:53.749Z"
   },
   {
    "duration": 31,
    "start_time": "2023-10-20T07:45:53.768Z"
   },
   {
    "duration": 24,
    "start_time": "2023-10-20T07:45:53.802Z"
   },
   {
    "duration": 16,
    "start_time": "2023-10-20T07:45:53.829Z"
   },
   {
    "duration": 35,
    "start_time": "2023-10-20T07:45:53.847Z"
   },
   {
    "duration": 38,
    "start_time": "2023-10-20T07:45:53.886Z"
   },
   {
    "duration": 23,
    "start_time": "2023-10-20T07:45:53.926Z"
   },
   {
    "duration": 10,
    "start_time": "2023-10-20T07:45:53.951Z"
   },
   {
    "duration": 22,
    "start_time": "2023-10-20T07:45:53.965Z"
   },
   {
    "duration": 325,
    "start_time": "2023-10-20T07:45:53.989Z"
   },
   {
    "duration": 321,
    "start_time": "2023-10-20T07:45:54.316Z"
   },
   {
    "duration": 8,
    "start_time": "2023-10-20T07:45:54.646Z"
   },
   {
    "duration": 8,
    "start_time": "2023-10-20T07:45:54.657Z"
   },
   {
    "duration": 41,
    "start_time": "2023-10-20T07:45:54.668Z"
   },
   {
    "duration": 14,
    "start_time": "2023-10-20T07:45:54.712Z"
   },
   {
    "duration": 372,
    "start_time": "2023-10-20T07:45:54.728Z"
   },
   {
    "duration": 293,
    "start_time": "2023-10-20T07:45:55.103Z"
   },
   {
    "duration": 17,
    "start_time": "2023-10-20T07:45:55.406Z"
   },
   {
    "duration": 9,
    "start_time": "2023-10-20T07:45:55.430Z"
   },
   {
    "duration": 15,
    "start_time": "2023-10-20T07:45:55.441Z"
   },
   {
    "duration": 21,
    "start_time": "2023-10-20T07:45:55.458Z"
   },
   {
    "duration": 25,
    "start_time": "2023-10-20T07:45:55.482Z"
   },
   {
    "duration": 202,
    "start_time": "2023-10-20T07:49:40.635Z"
   },
   {
    "duration": 118,
    "start_time": "2023-10-20T07:49:50.531Z"
   },
   {
    "duration": 13,
    "start_time": "2023-10-20T07:50:14.525Z"
   },
   {
    "duration": 1361,
    "start_time": "2023-10-20T07:50:32.029Z"
   },
   {
    "duration": 136,
    "start_time": "2023-10-20T07:50:33.393Z"
   },
   {
    "duration": 20,
    "start_time": "2023-10-20T07:50:33.531Z"
   },
   {
    "duration": 118,
    "start_time": "2023-10-20T07:50:33.553Z"
   },
   {
    "duration": 60,
    "start_time": "2023-10-20T07:50:33.674Z"
   },
   {
    "duration": 13,
    "start_time": "2023-10-20T07:50:33.737Z"
   },
   {
    "duration": 29,
    "start_time": "2023-10-20T07:50:33.753Z"
   },
   {
    "duration": 44,
    "start_time": "2023-10-20T07:50:33.784Z"
   },
   {
    "duration": 21,
    "start_time": "2023-10-20T07:50:33.831Z"
   },
   {
    "duration": 4,
    "start_time": "2023-10-20T07:50:33.854Z"
   },
   {
    "duration": 18,
    "start_time": "2023-10-20T07:50:33.859Z"
   },
   {
    "duration": 17,
    "start_time": "2023-10-20T07:50:33.878Z"
   },
   {
    "duration": 32,
    "start_time": "2023-10-20T07:50:33.897Z"
   },
   {
    "duration": 18,
    "start_time": "2023-10-20T07:50:33.934Z"
   },
   {
    "duration": 27,
    "start_time": "2023-10-20T07:50:33.954Z"
   },
   {
    "duration": 5,
    "start_time": "2023-10-20T07:50:33.984Z"
   },
   {
    "duration": 25,
    "start_time": "2023-10-20T07:50:33.992Z"
   },
   {
    "duration": 7,
    "start_time": "2023-10-20T07:50:34.019Z"
   },
   {
    "duration": 22,
    "start_time": "2023-10-20T07:50:34.028Z"
   },
   {
    "duration": 33,
    "start_time": "2023-10-20T07:50:34.053Z"
   },
   {
    "duration": 11,
    "start_time": "2023-10-20T07:50:34.088Z"
   },
   {
    "duration": 11,
    "start_time": "2023-10-20T07:50:34.102Z"
   },
   {
    "duration": 14,
    "start_time": "2023-10-20T07:50:34.115Z"
   },
   {
    "duration": 31,
    "start_time": "2023-10-20T07:50:34.131Z"
   },
   {
    "duration": 2038,
    "start_time": "2023-10-20T07:50:34.164Z"
   },
   {
    "duration": 226,
    "start_time": "2023-10-20T07:50:36.205Z"
   },
   {
    "duration": 6,
    "start_time": "2023-10-20T07:50:36.432Z"
   },
   {
    "duration": 31,
    "start_time": "2023-10-20T07:50:36.439Z"
   },
   {
    "duration": 12,
    "start_time": "2023-10-20T07:50:36.472Z"
   },
   {
    "duration": 15,
    "start_time": "2023-10-20T07:50:36.486Z"
   },
   {
    "duration": 20,
    "start_time": "2023-10-20T07:50:36.504Z"
   },
   {
    "duration": 24,
    "start_time": "2023-10-20T07:50:36.526Z"
   },
   {
    "duration": 33,
    "start_time": "2023-10-20T07:50:36.552Z"
   },
   {
    "duration": 33,
    "start_time": "2023-10-20T07:50:36.587Z"
   },
   {
    "duration": 344,
    "start_time": "2023-10-20T07:50:36.623Z"
   },
   {
    "duration": 9,
    "start_time": "2023-10-20T07:50:36.969Z"
   },
   {
    "duration": 32,
    "start_time": "2023-10-20T07:50:36.980Z"
   },
   {
    "duration": 4,
    "start_time": "2023-10-20T07:50:37.014Z"
   },
   {
    "duration": 22,
    "start_time": "2023-10-20T07:50:37.020Z"
   },
   {
    "duration": 7,
    "start_time": "2023-10-20T07:50:37.044Z"
   },
   {
    "duration": 28,
    "start_time": "2023-10-20T07:50:37.056Z"
   },
   {
    "duration": 682,
    "start_time": "2023-10-20T07:50:37.086Z"
   },
   {
    "duration": 708,
    "start_time": "2023-10-20T07:50:37.770Z"
   },
   {
    "duration": 5,
    "start_time": "2023-10-20T07:50:38.480Z"
   },
   {
    "duration": 606,
    "start_time": "2023-10-20T07:50:38.487Z"
   },
   {
    "duration": 8,
    "start_time": "2023-10-20T07:50:39.095Z"
   },
   {
    "duration": 31,
    "start_time": "2023-10-20T07:50:39.106Z"
   },
   {
    "duration": 44,
    "start_time": "2023-10-20T07:50:39.139Z"
   },
   {
    "duration": 569,
    "start_time": "2023-10-20T07:50:39.185Z"
   },
   {
    "duration": 5,
    "start_time": "2023-10-20T07:50:39.756Z"
   },
   {
    "duration": 142,
    "start_time": "2023-10-20T07:50:39.763Z"
   },
   {
    "duration": 373,
    "start_time": "2023-10-20T07:50:39.907Z"
   },
   {
    "duration": 126,
    "start_time": "2023-10-20T07:50:40.282Z"
   },
   {
    "duration": 427,
    "start_time": "2023-10-20T07:50:40.410Z"
   },
   {
    "duration": 199,
    "start_time": "2023-10-20T07:50:40.839Z"
   },
   {
    "duration": 609,
    "start_time": "2023-10-20T07:50:41.039Z"
   },
   {
    "duration": 288,
    "start_time": "2023-10-20T07:50:41.650Z"
   },
   {
    "duration": 5,
    "start_time": "2023-10-20T07:50:41.940Z"
   },
   {
    "duration": 474,
    "start_time": "2023-10-20T07:50:41.946Z"
   },
   {
    "duration": 173,
    "start_time": "2023-10-20T07:50:42.423Z"
   },
   {
    "duration": 385,
    "start_time": "2023-10-20T07:50:42.598Z"
   },
   {
    "duration": 169,
    "start_time": "2023-10-20T07:50:42.985Z"
   },
   {
    "duration": 412,
    "start_time": "2023-10-20T07:50:43.156Z"
   },
   {
    "duration": 37,
    "start_time": "2023-10-20T07:50:43.571Z"
   },
   {
    "duration": 14,
    "start_time": "2023-10-20T07:50:43.611Z"
   },
   {
    "duration": 20,
    "start_time": "2023-10-20T07:50:43.628Z"
   },
   {
    "duration": 637,
    "start_time": "2023-10-20T07:50:43.650Z"
   },
   {
    "duration": 14,
    "start_time": "2023-10-20T07:50:44.288Z"
   },
   {
    "duration": 26,
    "start_time": "2023-10-20T07:50:44.305Z"
   },
   {
    "duration": 26,
    "start_time": "2023-10-20T07:50:44.333Z"
   },
   {
    "duration": 26,
    "start_time": "2023-10-20T07:50:44.361Z"
   },
   {
    "duration": 12,
    "start_time": "2023-10-20T07:50:44.388Z"
   },
   {
    "duration": 13,
    "start_time": "2023-10-20T07:50:44.402Z"
   },
   {
    "duration": 26,
    "start_time": "2023-10-20T07:50:44.418Z"
   },
   {
    "duration": 18,
    "start_time": "2023-10-20T07:50:44.446Z"
   },
   {
    "duration": 47,
    "start_time": "2023-10-20T07:50:44.466Z"
   },
   {
    "duration": 10,
    "start_time": "2023-10-20T07:50:44.515Z"
   },
   {
    "duration": 59,
    "start_time": "2023-10-20T07:50:44.527Z"
   },
   {
    "duration": 36,
    "start_time": "2023-10-20T07:50:44.588Z"
   },
   {
    "duration": 481,
    "start_time": "2023-10-20T07:50:44.628Z"
   },
   {
    "duration": 428,
    "start_time": "2023-10-20T07:50:45.112Z"
   },
   {
    "duration": 6,
    "start_time": "2023-10-20T07:50:45.541Z"
   },
   {
    "duration": 23,
    "start_time": "2023-10-20T07:50:45.549Z"
   },
   {
    "duration": 17,
    "start_time": "2023-10-20T07:50:45.574Z"
   },
   {
    "duration": 19,
    "start_time": "2023-10-20T07:50:45.593Z"
   },
   {
    "duration": 282,
    "start_time": "2023-10-20T07:50:45.615Z"
   },
   {
    "duration": 286,
    "start_time": "2023-10-20T07:50:45.908Z"
   },
   {
    "duration": 11,
    "start_time": "2023-10-20T07:50:46.203Z"
   },
   {
    "duration": 9,
    "start_time": "2023-10-20T07:50:46.217Z"
   },
   {
    "duration": 9,
    "start_time": "2023-10-20T07:50:46.228Z"
   },
   {
    "duration": 29,
    "start_time": "2023-10-20T07:50:46.239Z"
   },
   {
    "duration": 28,
    "start_time": "2023-10-20T07:50:46.270Z"
   },
   {
    "duration": 1454,
    "start_time": "2023-10-20T12:05:45.502Z"
   },
   {
    "duration": 142,
    "start_time": "2023-10-20T12:05:46.958Z"
   },
   {
    "duration": 20,
    "start_time": "2023-10-20T12:05:47.102Z"
   },
   {
    "duration": 65,
    "start_time": "2023-10-20T12:05:47.125Z"
   },
   {
    "duration": 45,
    "start_time": "2023-10-20T12:05:47.192Z"
   },
   {
    "duration": 34,
    "start_time": "2023-10-20T12:05:47.239Z"
   },
   {
    "duration": 32,
    "start_time": "2023-10-20T12:05:47.275Z"
   },
   {
    "duration": 27,
    "start_time": "2023-10-20T12:05:47.309Z"
   },
   {
    "duration": 58,
    "start_time": "2023-10-20T12:05:47.338Z"
   },
   {
    "duration": 76,
    "start_time": "2023-10-20T12:05:47.400Z"
   },
   {
    "duration": 26,
    "start_time": "2023-10-20T12:05:47.478Z"
   },
   {
    "duration": 40,
    "start_time": "2023-10-20T12:05:47.506Z"
   },
   {
    "duration": 39,
    "start_time": "2023-10-20T12:05:47.549Z"
   },
   {
    "duration": 49,
    "start_time": "2023-10-20T12:05:47.590Z"
   },
   {
    "duration": 46,
    "start_time": "2023-10-20T12:05:47.641Z"
   },
   {
    "duration": 14,
    "start_time": "2023-10-20T12:05:47.689Z"
   },
   {
    "duration": 22,
    "start_time": "2023-10-20T12:05:47.705Z"
   },
   {
    "duration": 17,
    "start_time": "2023-10-20T12:05:47.729Z"
   },
   {
    "duration": 19,
    "start_time": "2023-10-20T12:05:47.748Z"
   },
   {
    "duration": 17,
    "start_time": "2023-10-20T12:05:47.769Z"
   },
   {
    "duration": 19,
    "start_time": "2023-10-20T12:05:47.788Z"
   },
   {
    "duration": 9,
    "start_time": "2023-10-20T12:05:47.809Z"
   },
   {
    "duration": 59,
    "start_time": "2023-10-20T12:05:47.820Z"
   },
   {
    "duration": 10,
    "start_time": "2023-10-20T12:05:47.881Z"
   },
   {
    "duration": 1588,
    "start_time": "2023-10-20T12:05:47.893Z"
   },
   {
    "duration": 124,
    "start_time": "2023-10-20T12:05:49.484Z"
   },
   {
    "duration": 6,
    "start_time": "2023-10-20T12:05:49.610Z"
   },
   {
    "duration": 34,
    "start_time": "2023-10-20T12:05:49.621Z"
   },
   {
    "duration": 9,
    "start_time": "2023-10-20T12:05:49.657Z"
   },
   {
    "duration": 8,
    "start_time": "2023-10-20T12:05:49.668Z"
   },
   {
    "duration": 16,
    "start_time": "2023-10-20T12:05:49.678Z"
   },
   {
    "duration": 11,
    "start_time": "2023-10-20T12:05:49.695Z"
   },
   {
    "duration": 19,
    "start_time": "2023-10-20T12:05:49.708Z"
   },
   {
    "duration": 11,
    "start_time": "2023-10-20T12:05:49.729Z"
   },
   {
    "duration": 321,
    "start_time": "2023-10-20T12:05:49.742Z"
   },
   {
    "duration": 11,
    "start_time": "2023-10-20T12:05:50.065Z"
   },
   {
    "duration": 28,
    "start_time": "2023-10-20T12:05:50.078Z"
   },
   {
    "duration": 3,
    "start_time": "2023-10-20T12:05:50.108Z"
   },
   {
    "duration": 32,
    "start_time": "2023-10-20T12:05:50.113Z"
   },
   {
    "duration": 16,
    "start_time": "2023-10-20T12:05:50.147Z"
   },
   {
    "duration": 22,
    "start_time": "2023-10-20T12:05:50.165Z"
   },
   {
    "duration": 639,
    "start_time": "2023-10-20T12:05:50.189Z"
   },
   {
    "duration": 594,
    "start_time": "2023-10-20T12:05:50.830Z"
   },
   {
    "duration": 5,
    "start_time": "2023-10-20T12:05:51.426Z"
   },
   {
    "duration": 494,
    "start_time": "2023-10-20T12:05:51.433Z"
   },
   {
    "duration": 6,
    "start_time": "2023-10-20T12:05:51.929Z"
   },
   {
    "duration": 32,
    "start_time": "2023-10-20T12:05:51.937Z"
   },
   {
    "duration": 41,
    "start_time": "2023-10-20T12:05:51.970Z"
   },
   {
    "duration": 518,
    "start_time": "2023-10-20T12:05:52.013Z"
   },
   {
    "duration": 5,
    "start_time": "2023-10-20T12:05:52.533Z"
   },
   {
    "duration": 145,
    "start_time": "2023-10-20T12:05:52.540Z"
   },
   {
    "duration": 385,
    "start_time": "2023-10-20T12:05:52.687Z"
   },
   {
    "duration": 128,
    "start_time": "2023-10-20T12:05:53.073Z"
   },
   {
    "duration": 386,
    "start_time": "2023-10-20T12:05:53.203Z"
   },
   {
    "duration": 174,
    "start_time": "2023-10-20T12:05:53.591Z"
   },
   {
    "duration": 557,
    "start_time": "2023-10-20T12:05:53.767Z"
   },
   {
    "duration": 242,
    "start_time": "2023-10-20T12:05:54.326Z"
   },
   {
    "duration": 5,
    "start_time": "2023-10-20T12:05:54.570Z"
   },
   {
    "duration": 510,
    "start_time": "2023-10-20T12:05:54.578Z"
   },
   {
    "duration": 167,
    "start_time": "2023-10-20T12:05:55.091Z"
   },
   {
    "duration": 341,
    "start_time": "2023-10-20T12:05:55.260Z"
   },
   {
    "duration": 152,
    "start_time": "2023-10-20T12:05:55.604Z"
   },
   {
    "duration": 378,
    "start_time": "2023-10-20T12:05:55.758Z"
   },
   {
    "duration": 12,
    "start_time": "2023-10-20T12:05:56.138Z"
   },
   {
    "duration": 12,
    "start_time": "2023-10-20T12:05:56.152Z"
   },
   {
    "duration": 37,
    "start_time": "2023-10-20T12:05:56.166Z"
   },
   {
    "duration": 534,
    "start_time": "2023-10-20T12:05:56.204Z"
   },
   {
    "duration": 6,
    "start_time": "2023-10-20T12:05:56.740Z"
   },
   {
    "duration": 57,
    "start_time": "2023-10-20T12:05:56.748Z"
   },
   {
    "duration": 34,
    "start_time": "2023-10-20T12:05:56.807Z"
   },
   {
    "duration": 7,
    "start_time": "2023-10-20T12:05:56.842Z"
   },
   {
    "duration": 46,
    "start_time": "2023-10-20T12:05:56.851Z"
   },
   {
    "duration": 19,
    "start_time": "2023-10-20T12:05:56.899Z"
   },
   {
    "duration": 13,
    "start_time": "2023-10-20T12:05:56.920Z"
   },
   {
    "duration": 13,
    "start_time": "2023-10-20T12:05:56.935Z"
   },
   {
    "duration": 34,
    "start_time": "2023-10-20T12:05:56.950Z"
   },
   {
    "duration": 26,
    "start_time": "2023-10-20T12:05:56.985Z"
   },
   {
    "duration": 8,
    "start_time": "2023-10-20T12:05:57.013Z"
   },
   {
    "duration": 14,
    "start_time": "2023-10-20T12:05:57.023Z"
   },
   {
    "duration": 276,
    "start_time": "2023-10-20T12:05:57.038Z"
   },
   {
    "duration": 363,
    "start_time": "2023-10-20T12:05:57.315Z"
   },
   {
    "duration": 15,
    "start_time": "2023-10-20T12:05:57.686Z"
   },
   {
    "duration": 44,
    "start_time": "2023-10-20T12:05:57.703Z"
   },
   {
    "duration": 34,
    "start_time": "2023-10-20T12:05:57.748Z"
   },
   {
    "duration": 23,
    "start_time": "2023-10-20T12:05:57.784Z"
   },
   {
    "duration": 268,
    "start_time": "2023-10-20T12:05:57.809Z"
   },
   {
    "duration": 281,
    "start_time": "2023-10-20T12:05:58.079Z"
   },
   {
    "duration": 9,
    "start_time": "2023-10-20T12:05:58.362Z"
   },
   {
    "duration": 18,
    "start_time": "2023-10-20T12:05:58.373Z"
   },
   {
    "duration": 23,
    "start_time": "2023-10-20T12:05:58.392Z"
   },
   {
    "duration": 20,
    "start_time": "2023-10-20T12:05:58.416Z"
   },
   {
    "duration": 16,
    "start_time": "2023-10-20T12:05:58.438Z"
   },
   {
    "duration": 1242,
    "start_time": "2023-10-20T12:06:50.186Z"
   },
   {
    "duration": 116,
    "start_time": "2023-10-20T12:06:51.430Z"
   },
   {
    "duration": 21,
    "start_time": "2023-10-20T12:06:51.548Z"
   },
   {
    "duration": 76,
    "start_time": "2023-10-20T12:06:51.572Z"
   },
   {
    "duration": 77,
    "start_time": "2023-10-20T12:06:51.650Z"
   },
   {
    "duration": 145,
    "start_time": "2023-10-20T12:06:51.729Z"
   },
   {
    "duration": 135,
    "start_time": "2023-10-20T12:06:51.875Z"
   },
   {
    "duration": 39,
    "start_time": "2023-10-20T12:06:52.012Z"
   },
   {
    "duration": 44,
    "start_time": "2023-10-20T12:06:52.053Z"
   },
   {
    "duration": 43,
    "start_time": "2023-10-20T12:06:52.101Z"
   },
   {
    "duration": 46,
    "start_time": "2023-10-20T12:06:52.146Z"
   },
   {
    "duration": 41,
    "start_time": "2023-10-20T12:06:52.194Z"
   },
   {
    "duration": 52,
    "start_time": "2023-10-20T12:06:52.237Z"
   },
   {
    "duration": 55,
    "start_time": "2023-10-20T12:06:52.291Z"
   },
   {
    "duration": 22,
    "start_time": "2023-10-20T12:06:52.348Z"
   },
   {
    "duration": 42,
    "start_time": "2023-10-20T12:06:52.371Z"
   },
   {
    "duration": 37,
    "start_time": "2023-10-20T12:06:52.415Z"
   },
   {
    "duration": 36,
    "start_time": "2023-10-20T12:06:52.454Z"
   },
   {
    "duration": 39,
    "start_time": "2023-10-20T12:06:52.492Z"
   },
   {
    "duration": 40,
    "start_time": "2023-10-20T12:06:52.533Z"
   },
   {
    "duration": 58,
    "start_time": "2023-10-20T12:06:52.575Z"
   },
   {
    "duration": 106,
    "start_time": "2023-10-20T12:06:52.635Z"
   },
   {
    "duration": 40,
    "start_time": "2023-10-20T12:06:52.743Z"
   },
   {
    "duration": 34,
    "start_time": "2023-10-20T12:06:52.785Z"
   },
   {
    "duration": 1542,
    "start_time": "2023-10-20T12:06:52.821Z"
   },
   {
    "duration": 116,
    "start_time": "2023-10-20T12:06:54.365Z"
   },
   {
    "duration": 6,
    "start_time": "2023-10-20T12:06:54.482Z"
   },
   {
    "duration": 12,
    "start_time": "2023-10-20T12:06:54.501Z"
   },
   {
    "duration": 37,
    "start_time": "2023-10-20T12:06:54.515Z"
   },
   {
    "duration": 31,
    "start_time": "2023-10-20T12:06:54.556Z"
   },
   {
    "duration": 22,
    "start_time": "2023-10-20T12:06:54.591Z"
   },
   {
    "duration": 70,
    "start_time": "2023-10-20T12:06:54.616Z"
   },
   {
    "duration": 144,
    "start_time": "2023-10-20T12:06:54.688Z"
   },
   {
    "duration": 0,
    "start_time": "2023-10-20T12:06:54.834Z"
   },
   {
    "duration": 0,
    "start_time": "2023-10-20T12:06:54.835Z"
   },
   {
    "duration": 0,
    "start_time": "2023-10-20T12:06:54.836Z"
   },
   {
    "duration": 0,
    "start_time": "2023-10-20T12:06:54.837Z"
   },
   {
    "duration": 0,
    "start_time": "2023-10-20T12:06:54.838Z"
   },
   {
    "duration": 0,
    "start_time": "2023-10-20T12:06:54.839Z"
   },
   {
    "duration": 0,
    "start_time": "2023-10-20T12:06:54.840Z"
   },
   {
    "duration": 0,
    "start_time": "2023-10-20T12:06:54.842Z"
   },
   {
    "duration": 0,
    "start_time": "2023-10-20T12:06:54.843Z"
   },
   {
    "duration": 0,
    "start_time": "2023-10-20T12:06:54.843Z"
   },
   {
    "duration": 0,
    "start_time": "2023-10-20T12:06:54.844Z"
   },
   {
    "duration": 0,
    "start_time": "2023-10-20T12:06:54.845Z"
   },
   {
    "duration": 0,
    "start_time": "2023-10-20T12:06:54.846Z"
   },
   {
    "duration": 0,
    "start_time": "2023-10-20T12:06:54.847Z"
   },
   {
    "duration": 0,
    "start_time": "2023-10-20T12:06:54.848Z"
   },
   {
    "duration": 0,
    "start_time": "2023-10-20T12:06:54.849Z"
   },
   {
    "duration": 0,
    "start_time": "2023-10-20T12:06:54.851Z"
   },
   {
    "duration": 0,
    "start_time": "2023-10-20T12:06:54.852Z"
   },
   {
    "duration": 0,
    "start_time": "2023-10-20T12:06:54.853Z"
   },
   {
    "duration": 0,
    "start_time": "2023-10-20T12:06:54.854Z"
   },
   {
    "duration": 0,
    "start_time": "2023-10-20T12:06:54.855Z"
   },
   {
    "duration": 0,
    "start_time": "2023-10-20T12:06:54.856Z"
   },
   {
    "duration": 0,
    "start_time": "2023-10-20T12:06:54.857Z"
   },
   {
    "duration": 0,
    "start_time": "2023-10-20T12:06:54.858Z"
   },
   {
    "duration": 0,
    "start_time": "2023-10-20T12:06:54.859Z"
   },
   {
    "duration": 0,
    "start_time": "2023-10-20T12:06:54.861Z"
   },
   {
    "duration": 0,
    "start_time": "2023-10-20T12:06:54.901Z"
   },
   {
    "duration": 0,
    "start_time": "2023-10-20T12:06:54.903Z"
   },
   {
    "duration": 0,
    "start_time": "2023-10-20T12:06:54.904Z"
   },
   {
    "duration": 0,
    "start_time": "2023-10-20T12:06:54.905Z"
   },
   {
    "duration": 0,
    "start_time": "2023-10-20T12:06:54.906Z"
   },
   {
    "duration": 0,
    "start_time": "2023-10-20T12:06:54.908Z"
   },
   {
    "duration": 0,
    "start_time": "2023-10-20T12:06:54.909Z"
   },
   {
    "duration": 0,
    "start_time": "2023-10-20T12:06:54.910Z"
   },
   {
    "duration": 0,
    "start_time": "2023-10-20T12:06:54.911Z"
   },
   {
    "duration": 0,
    "start_time": "2023-10-20T12:06:54.913Z"
   },
   {
    "duration": 0,
    "start_time": "2023-10-20T12:06:54.914Z"
   },
   {
    "duration": 0,
    "start_time": "2023-10-20T12:06:54.915Z"
   },
   {
    "duration": 0,
    "start_time": "2023-10-20T12:06:54.916Z"
   },
   {
    "duration": 0,
    "start_time": "2023-10-20T12:06:54.918Z"
   },
   {
    "duration": 0,
    "start_time": "2023-10-20T12:06:54.919Z"
   },
   {
    "duration": 0,
    "start_time": "2023-10-20T12:06:54.920Z"
   },
   {
    "duration": 0,
    "start_time": "2023-10-20T12:06:54.921Z"
   },
   {
    "duration": 0,
    "start_time": "2023-10-20T12:06:54.923Z"
   },
   {
    "duration": 0,
    "start_time": "2023-10-20T12:06:54.924Z"
   },
   {
    "duration": 1,
    "start_time": "2023-10-20T12:06:54.924Z"
   },
   {
    "duration": 0,
    "start_time": "2023-10-20T12:06:54.926Z"
   },
   {
    "duration": 0,
    "start_time": "2023-10-20T12:06:54.926Z"
   },
   {
    "duration": 0,
    "start_time": "2023-10-20T12:06:54.927Z"
   },
   {
    "duration": 0,
    "start_time": "2023-10-20T12:06:54.929Z"
   },
   {
    "duration": 0,
    "start_time": "2023-10-20T12:06:54.930Z"
   },
   {
    "duration": 0,
    "start_time": "2023-10-20T12:06:54.931Z"
   },
   {
    "duration": 0,
    "start_time": "2023-10-20T12:06:54.932Z"
   },
   {
    "duration": 0,
    "start_time": "2023-10-20T12:06:54.933Z"
   },
   {
    "duration": 0,
    "start_time": "2023-10-20T12:06:54.934Z"
   },
   {
    "duration": 0,
    "start_time": "2023-10-20T12:06:54.935Z"
   },
   {
    "duration": 1,
    "start_time": "2023-10-20T12:06:54.936Z"
   },
   {
    "duration": 0,
    "start_time": "2023-10-20T12:06:55.001Z"
   },
   {
    "duration": 0,
    "start_time": "2023-10-20T12:06:55.003Z"
   },
   {
    "duration": 0,
    "start_time": "2023-10-20T12:06:55.004Z"
   },
   {
    "duration": 1209,
    "start_time": "2023-10-20T12:07:01.532Z"
   },
   {
    "duration": 115,
    "start_time": "2023-10-20T12:07:02.742Z"
   },
   {
    "duration": 22,
    "start_time": "2023-10-20T12:07:02.859Z"
   },
   {
    "duration": 8,
    "start_time": "2023-10-20T12:07:02.883Z"
   },
   {
    "duration": 11,
    "start_time": "2023-10-20T12:07:02.893Z"
   },
   {
    "duration": 20,
    "start_time": "2023-10-20T12:07:02.906Z"
   },
   {
    "duration": 31,
    "start_time": "2023-10-20T12:07:02.927Z"
   },
   {
    "duration": 7,
    "start_time": "2023-10-20T12:07:02.960Z"
   },
   {
    "duration": 22,
    "start_time": "2023-10-20T12:07:02.969Z"
   },
   {
    "duration": 15,
    "start_time": "2023-10-20T12:07:02.995Z"
   },
   {
    "duration": 34,
    "start_time": "2023-10-20T12:07:03.012Z"
   },
   {
    "duration": 42,
    "start_time": "2023-10-20T12:07:03.048Z"
   },
   {
    "duration": 28,
    "start_time": "2023-10-20T12:07:03.092Z"
   },
   {
    "duration": 16,
    "start_time": "2023-10-20T12:07:03.121Z"
   },
   {
    "duration": 28,
    "start_time": "2023-10-20T12:07:03.139Z"
   },
   {
    "duration": 31,
    "start_time": "2023-10-20T12:07:03.168Z"
   },
   {
    "duration": 47,
    "start_time": "2023-10-20T12:07:03.201Z"
   },
   {
    "duration": 23,
    "start_time": "2023-10-20T12:07:03.251Z"
   },
   {
    "duration": 14,
    "start_time": "2023-10-20T12:07:03.276Z"
   },
   {
    "duration": 33,
    "start_time": "2023-10-20T12:07:03.293Z"
   },
   {
    "duration": 28,
    "start_time": "2023-10-20T12:07:03.328Z"
   },
   {
    "duration": 33,
    "start_time": "2023-10-20T12:07:03.358Z"
   },
   {
    "duration": 18,
    "start_time": "2023-10-20T12:07:03.393Z"
   },
   {
    "duration": 16,
    "start_time": "2023-10-20T12:07:03.412Z"
   },
   {
    "duration": 1571,
    "start_time": "2023-10-20T12:07:03.430Z"
   },
   {
    "duration": 122,
    "start_time": "2023-10-20T12:07:05.003Z"
   },
   {
    "duration": 6,
    "start_time": "2023-10-20T12:07:05.127Z"
   },
   {
    "duration": 12,
    "start_time": "2023-10-20T12:07:05.138Z"
   },
   {
    "duration": 29,
    "start_time": "2023-10-20T12:07:05.152Z"
   },
   {
    "duration": 28,
    "start_time": "2023-10-20T12:07:05.183Z"
   },
   {
    "duration": 12,
    "start_time": "2023-10-20T12:07:05.213Z"
   },
   {
    "duration": 20,
    "start_time": "2023-10-20T12:07:05.227Z"
   },
   {
    "duration": 17,
    "start_time": "2023-10-20T12:07:05.249Z"
   },
   {
    "duration": 44,
    "start_time": "2023-10-20T12:07:05.268Z"
   },
   {
    "duration": 327,
    "start_time": "2023-10-20T12:07:05.313Z"
   },
   {
    "duration": 9,
    "start_time": "2023-10-20T12:07:05.642Z"
   },
   {
    "duration": 96,
    "start_time": "2023-10-20T12:07:05.653Z"
   },
   {
    "duration": 55,
    "start_time": "2023-10-20T12:07:05.750Z"
   },
   {
    "duration": 37,
    "start_time": "2023-10-20T12:07:05.807Z"
   },
   {
    "duration": 50,
    "start_time": "2023-10-20T12:07:05.846Z"
   },
   {
    "duration": 21,
    "start_time": "2023-10-20T12:07:05.898Z"
   },
   {
    "duration": 642,
    "start_time": "2023-10-20T12:07:05.920Z"
   },
   {
    "duration": 639,
    "start_time": "2023-10-20T12:07:06.564Z"
   },
   {
    "duration": 4,
    "start_time": "2023-10-20T12:07:07.205Z"
   },
   {
    "duration": 495,
    "start_time": "2023-10-20T12:07:07.211Z"
   },
   {
    "duration": 7,
    "start_time": "2023-10-20T12:07:07.708Z"
   },
   {
    "duration": 26,
    "start_time": "2023-10-20T12:07:07.716Z"
   },
   {
    "duration": 23,
    "start_time": "2023-10-20T12:07:07.744Z"
   },
   {
    "duration": 535,
    "start_time": "2023-10-20T12:07:07.770Z"
   },
   {
    "duration": 5,
    "start_time": "2023-10-20T12:07:08.307Z"
   },
   {
    "duration": 126,
    "start_time": "2023-10-20T12:07:08.313Z"
   },
   {
    "duration": 321,
    "start_time": "2023-10-20T12:07:08.441Z"
   },
   {
    "duration": 124,
    "start_time": "2023-10-20T12:07:08.764Z"
   },
   {
    "duration": 383,
    "start_time": "2023-10-20T12:07:08.890Z"
   },
   {
    "duration": 173,
    "start_time": "2023-10-20T12:07:09.275Z"
   },
   {
    "duration": 558,
    "start_time": "2023-10-20T12:07:09.450Z"
   },
   {
    "duration": 248,
    "start_time": "2023-10-20T12:07:10.011Z"
   },
   {
    "duration": 56,
    "start_time": "2023-10-20T12:07:10.262Z"
   },
   {
    "duration": 463,
    "start_time": "2023-10-20T12:07:10.320Z"
   },
   {
    "duration": 164,
    "start_time": "2023-10-20T12:07:10.785Z"
   },
   {
    "duration": 313,
    "start_time": "2023-10-20T12:07:10.951Z"
   },
   {
    "duration": 160,
    "start_time": "2023-10-20T12:07:11.266Z"
   },
   {
    "duration": 325,
    "start_time": "2023-10-20T12:07:11.428Z"
   },
   {
    "duration": 13,
    "start_time": "2023-10-20T12:07:11.755Z"
   },
   {
    "duration": 66,
    "start_time": "2023-10-20T12:07:11.770Z"
   },
   {
    "duration": 43,
    "start_time": "2023-10-20T12:07:11.838Z"
   },
   {
    "duration": 534,
    "start_time": "2023-10-20T12:07:11.883Z"
   },
   {
    "duration": 5,
    "start_time": "2023-10-20T12:07:12.418Z"
   },
   {
    "duration": 45,
    "start_time": "2023-10-20T12:07:12.424Z"
   },
   {
    "duration": 59,
    "start_time": "2023-10-20T12:07:12.471Z"
   },
   {
    "duration": 19,
    "start_time": "2023-10-20T12:07:12.533Z"
   },
   {
    "duration": 56,
    "start_time": "2023-10-20T12:07:12.554Z"
   },
   {
    "duration": 48,
    "start_time": "2023-10-20T12:07:12.611Z"
   },
   {
    "duration": 35,
    "start_time": "2023-10-20T12:07:12.660Z"
   },
   {
    "duration": 9,
    "start_time": "2023-10-20T12:07:12.697Z"
   },
   {
    "duration": 43,
    "start_time": "2023-10-20T12:07:12.708Z"
   },
   {
    "duration": 42,
    "start_time": "2023-10-20T12:07:12.752Z"
   },
   {
    "duration": 36,
    "start_time": "2023-10-20T12:07:12.795Z"
   },
   {
    "duration": 45,
    "start_time": "2023-10-20T12:07:12.833Z"
   },
   {
    "duration": 299,
    "start_time": "2023-10-20T12:07:12.880Z"
   },
   {
    "duration": 355,
    "start_time": "2023-10-20T12:07:13.181Z"
   },
   {
    "duration": 6,
    "start_time": "2023-10-20T12:07:13.541Z"
   },
   {
    "duration": 58,
    "start_time": "2023-10-20T12:07:13.549Z"
   },
   {
    "duration": 29,
    "start_time": "2023-10-20T12:07:13.609Z"
   },
   {
    "duration": 56,
    "start_time": "2023-10-20T12:07:13.639Z"
   },
   {
    "duration": 287,
    "start_time": "2023-10-20T12:07:13.697Z"
   },
   {
    "duration": 288,
    "start_time": "2023-10-20T12:07:13.986Z"
   },
   {
    "duration": 11,
    "start_time": "2023-10-20T12:07:14.276Z"
   },
   {
    "duration": 24,
    "start_time": "2023-10-20T12:07:14.302Z"
   },
   {
    "duration": 28,
    "start_time": "2023-10-20T12:07:14.328Z"
   },
   {
    "duration": 45,
    "start_time": "2023-10-20T12:07:14.358Z"
   },
   {
    "duration": 44,
    "start_time": "2023-10-20T12:07:14.405Z"
   },
   {
    "duration": 4,
    "start_time": "2023-10-20T19:49:54.079Z"
   },
   {
    "duration": 1491,
    "start_time": "2023-10-20T19:50:00.125Z"
   },
   {
    "duration": 119,
    "start_time": "2023-10-20T19:50:01.618Z"
   },
   {
    "duration": 25,
    "start_time": "2023-10-20T19:50:01.738Z"
   },
   {
    "duration": 133,
    "start_time": "2023-10-20T19:50:01.766Z"
   },
   {
    "duration": 233,
    "start_time": "2023-10-20T19:50:01.900Z"
   },
   {
    "duration": 121,
    "start_time": "2023-10-20T19:50:02.135Z"
   },
   {
    "duration": 52,
    "start_time": "2023-10-20T19:50:02.258Z"
   },
   {
    "duration": 45,
    "start_time": "2023-10-20T19:50:02.313Z"
   },
   {
    "duration": 55,
    "start_time": "2023-10-20T19:50:02.360Z"
   },
   {
    "duration": 47,
    "start_time": "2023-10-20T19:50:02.418Z"
   },
   {
    "duration": 35,
    "start_time": "2023-10-20T19:50:02.467Z"
   },
   {
    "duration": 48,
    "start_time": "2023-10-20T19:50:02.503Z"
   },
   {
    "duration": 47,
    "start_time": "2023-10-20T19:50:02.553Z"
   },
   {
    "duration": 38,
    "start_time": "2023-10-20T19:50:02.602Z"
   },
   {
    "duration": 59,
    "start_time": "2023-10-20T19:50:02.642Z"
   },
   {
    "duration": 60,
    "start_time": "2023-10-20T19:50:02.702Z"
   },
   {
    "duration": 40,
    "start_time": "2023-10-20T19:50:02.764Z"
   },
   {
    "duration": 31,
    "start_time": "2023-10-20T19:50:02.806Z"
   },
   {
    "duration": 54,
    "start_time": "2023-10-20T19:50:02.839Z"
   },
   {
    "duration": 43,
    "start_time": "2023-10-20T19:50:02.895Z"
   },
   {
    "duration": 41,
    "start_time": "2023-10-20T19:50:02.940Z"
   },
   {
    "duration": 12,
    "start_time": "2023-10-20T19:50:02.983Z"
   },
   {
    "duration": 30,
    "start_time": "2023-10-20T19:50:02.997Z"
   },
   {
    "duration": 23,
    "start_time": "2023-10-20T19:50:03.029Z"
   },
   {
    "duration": 1506,
    "start_time": "2023-10-20T19:50:03.054Z"
   },
   {
    "duration": 125,
    "start_time": "2023-10-20T19:50:04.563Z"
   },
   {
    "duration": 7,
    "start_time": "2023-10-20T19:50:04.690Z"
   },
   {
    "duration": 6,
    "start_time": "2023-10-20T19:50:04.701Z"
   },
   {
    "duration": 12,
    "start_time": "2023-10-20T19:50:04.709Z"
   },
   {
    "duration": 28,
    "start_time": "2023-10-20T19:50:04.723Z"
   },
   {
    "duration": 10,
    "start_time": "2023-10-20T19:50:04.754Z"
   },
   {
    "duration": 17,
    "start_time": "2023-10-20T19:50:04.766Z"
   },
   {
    "duration": 3,
    "start_time": "2023-10-20T19:50:04.785Z"
   },
   {
    "duration": 11,
    "start_time": "2023-10-20T19:50:04.789Z"
   },
   {
    "duration": 364,
    "start_time": "2023-10-20T19:50:04.802Z"
   },
   {
    "duration": 13,
    "start_time": "2023-10-20T19:50:05.168Z"
   },
   {
    "duration": 36,
    "start_time": "2023-10-20T19:50:05.183Z"
   },
   {
    "duration": 12,
    "start_time": "2023-10-20T19:50:05.222Z"
   },
   {
    "duration": 53,
    "start_time": "2023-10-20T19:50:05.237Z"
   },
   {
    "duration": 10,
    "start_time": "2023-10-20T19:50:05.292Z"
   },
   {
    "duration": 6,
    "start_time": "2023-10-20T19:50:05.304Z"
   },
   {
    "duration": 678,
    "start_time": "2023-10-20T19:50:05.312Z"
   },
   {
    "duration": 6848,
    "start_time": "2023-10-20T19:50:05.992Z"
   },
   {
    "duration": 4,
    "start_time": "2023-10-20T19:50:12.847Z"
   },
   {
    "duration": 917,
    "start_time": "2023-10-20T19:50:12.852Z"
   },
   {
    "duration": 6,
    "start_time": "2023-10-20T19:50:13.771Z"
   },
   {
    "duration": 8,
    "start_time": "2023-10-20T19:50:13.778Z"
   },
   {
    "duration": 8,
    "start_time": "2023-10-20T19:50:13.788Z"
   },
   {
    "duration": 557,
    "start_time": "2023-10-20T19:50:13.797Z"
   },
   {
    "duration": 5,
    "start_time": "2023-10-20T19:50:14.356Z"
   },
   {
    "duration": 133,
    "start_time": "2023-10-20T19:50:14.363Z"
   },
   {
    "duration": 354,
    "start_time": "2023-10-20T19:50:14.498Z"
   },
   {
    "duration": 121,
    "start_time": "2023-10-20T19:50:14.854Z"
   },
   {
    "duration": 395,
    "start_time": "2023-10-20T19:50:14.977Z"
   },
   {
    "duration": 192,
    "start_time": "2023-10-20T19:50:15.373Z"
   },
   {
    "duration": 601,
    "start_time": "2023-10-20T19:50:15.568Z"
   },
   {
    "duration": 158,
    "start_time": "2023-10-20T19:50:16.171Z"
   },
   {
    "duration": 5,
    "start_time": "2023-10-20T19:50:16.331Z"
   },
   {
    "duration": 466,
    "start_time": "2023-10-20T19:50:16.347Z"
   },
   {
    "duration": 273,
    "start_time": "2023-10-20T19:50:16.815Z"
   },
   {
    "duration": 330,
    "start_time": "2023-10-20T19:50:17.090Z"
   },
   {
    "duration": 153,
    "start_time": "2023-10-20T19:50:17.446Z"
   },
   {
    "duration": 350,
    "start_time": "2023-10-20T19:50:17.601Z"
   },
   {
    "duration": 13,
    "start_time": "2023-10-20T19:50:17.953Z"
   },
   {
    "duration": 29,
    "start_time": "2023-10-20T19:50:17.968Z"
   },
   {
    "duration": 25,
    "start_time": "2023-10-20T19:50:17.999Z"
   },
   {
    "duration": 575,
    "start_time": "2023-10-20T19:50:18.026Z"
   },
   {
    "duration": 4,
    "start_time": "2023-10-20T19:50:18.603Z"
   },
   {
    "duration": 22,
    "start_time": "2023-10-20T19:50:18.609Z"
   },
   {
    "duration": 36,
    "start_time": "2023-10-20T19:50:18.633Z"
   },
   {
    "duration": 15,
    "start_time": "2023-10-20T19:50:18.671Z"
   },
   {
    "duration": 14,
    "start_time": "2023-10-20T19:50:18.688Z"
   },
   {
    "duration": 4,
    "start_time": "2023-10-20T19:50:18.704Z"
   },
   {
    "duration": 21,
    "start_time": "2023-10-20T19:50:18.710Z"
   },
   {
    "duration": 12,
    "start_time": "2023-10-20T19:50:18.732Z"
   },
   {
    "duration": 17,
    "start_time": "2023-10-20T19:50:18.746Z"
   },
   {
    "duration": 17,
    "start_time": "2023-10-20T19:50:18.765Z"
   },
   {
    "duration": 13,
    "start_time": "2023-10-20T19:50:18.784Z"
   },
   {
    "duration": 23,
    "start_time": "2023-10-20T19:50:18.798Z"
   },
   {
    "duration": 310,
    "start_time": "2023-10-20T19:50:18.823Z"
   },
   {
    "duration": 283,
    "start_time": "2023-10-20T19:50:19.135Z"
   },
   {
    "duration": 7,
    "start_time": "2023-10-20T19:50:19.424Z"
   },
   {
    "duration": 7,
    "start_time": "2023-10-20T19:50:19.446Z"
   },
   {
    "duration": 13,
    "start_time": "2023-10-20T19:50:19.455Z"
   },
   {
    "duration": 8,
    "start_time": "2023-10-20T19:50:19.470Z"
   },
   {
    "duration": 379,
    "start_time": "2023-10-20T19:50:19.479Z"
   },
   {
    "duration": 282,
    "start_time": "2023-10-20T19:50:19.860Z"
   },
   {
    "duration": 8,
    "start_time": "2023-10-20T19:50:20.146Z"
   },
   {
    "duration": 24,
    "start_time": "2023-10-20T19:50:20.156Z"
   },
   {
    "duration": 22,
    "start_time": "2023-10-20T19:50:20.182Z"
   },
   {
    "duration": 22,
    "start_time": "2023-10-20T19:50:20.206Z"
   },
   {
    "duration": 21,
    "start_time": "2023-10-20T19:50:20.230Z"
   },
   {
    "duration": 335,
    "start_time": "2023-10-20T19:53:43.447Z"
   },
   {
    "duration": 315,
    "start_time": "2023-10-20T19:53:48.515Z"
   },
   {
    "duration": 307,
    "start_time": "2023-10-20T19:54:04.189Z"
   },
   {
    "duration": 7574,
    "start_time": "2023-10-20T20:08:32.977Z"
   },
   {
    "duration": 7465,
    "start_time": "2023-10-20T20:08:54.307Z"
   },
   {
    "duration": 681,
    "start_time": "2023-10-20T20:10:28.866Z"
   },
   {
    "duration": 254,
    "start_time": "2023-10-20T20:10:37.058Z"
   },
   {
    "duration": 1431,
    "start_time": "2023-10-20T20:10:51.733Z"
   },
   {
    "duration": 1471,
    "start_time": "2023-10-20T20:11:11.027Z"
   },
   {
    "duration": 53,
    "start_time": "2023-10-23T15:28:51.952Z"
   },
   {
    "duration": 1530,
    "start_time": "2023-10-23T15:28:59.169Z"
   },
   {
    "duration": 345,
    "start_time": "2023-10-23T15:29:00.701Z"
   },
   {
    "duration": 28,
    "start_time": "2023-10-23T15:29:01.050Z"
   },
   {
    "duration": 146,
    "start_time": "2023-10-23T15:29:01.080Z"
   },
   {
    "duration": 209,
    "start_time": "2023-10-23T15:29:01.228Z"
   },
   {
    "duration": 118,
    "start_time": "2023-10-23T15:29:01.439Z"
   },
   {
    "duration": 68,
    "start_time": "2023-10-23T15:29:01.565Z"
   },
   {
    "duration": 47,
    "start_time": "2023-10-23T15:29:01.635Z"
   },
   {
    "duration": 61,
    "start_time": "2023-10-23T15:29:01.684Z"
   },
   {
    "duration": 34,
    "start_time": "2023-10-23T15:29:01.748Z"
   },
   {
    "duration": 58,
    "start_time": "2023-10-23T15:29:01.784Z"
   },
   {
    "duration": 43,
    "start_time": "2023-10-23T15:29:01.849Z"
   },
   {
    "duration": 54,
    "start_time": "2023-10-23T15:29:01.894Z"
   },
   {
    "duration": 36,
    "start_time": "2023-10-23T15:29:01.953Z"
   },
   {
    "duration": 60,
    "start_time": "2023-10-23T15:29:01.991Z"
   },
   {
    "duration": 25,
    "start_time": "2023-10-23T15:29:02.053Z"
   },
   {
    "duration": 68,
    "start_time": "2023-10-23T15:29:02.079Z"
   },
   {
    "duration": 2,
    "start_time": "2023-10-23T15:29:02.150Z"
   },
   {
    "duration": 45,
    "start_time": "2023-10-23T15:29:02.155Z"
   },
   {
    "duration": 55,
    "start_time": "2023-10-23T15:29:02.202Z"
   },
   {
    "duration": 35,
    "start_time": "2023-10-23T15:29:02.259Z"
   },
   {
    "duration": 18,
    "start_time": "2023-10-23T15:29:02.296Z"
   },
   {
    "duration": 25,
    "start_time": "2023-10-23T15:29:02.316Z"
   },
   {
    "duration": 20,
    "start_time": "2023-10-23T15:29:02.348Z"
   },
   {
    "duration": 1811,
    "start_time": "2023-10-23T15:29:02.369Z"
   },
   {
    "duration": 142,
    "start_time": "2023-10-23T15:29:04.182Z"
   },
   {
    "duration": 8,
    "start_time": "2023-10-23T15:29:04.326Z"
   },
   {
    "duration": 6,
    "start_time": "2023-10-23T15:29:04.345Z"
   },
   {
    "duration": 24,
    "start_time": "2023-10-23T15:29:04.353Z"
   },
   {
    "duration": 30,
    "start_time": "2023-10-23T15:29:04.380Z"
   },
   {
    "duration": 17,
    "start_time": "2023-10-23T15:29:04.412Z"
   },
   {
    "duration": 10,
    "start_time": "2023-10-23T15:29:04.430Z"
   },
   {
    "duration": 326,
    "start_time": "2023-10-23T15:29:04.442Z"
   },
   {
    "duration": 10,
    "start_time": "2023-10-23T15:29:04.770Z"
   },
   {
    "duration": 22,
    "start_time": "2023-10-23T15:29:04.782Z"
   },
   {
    "duration": 16,
    "start_time": "2023-10-23T15:29:04.806Z"
   },
   {
    "duration": 52,
    "start_time": "2023-10-23T15:29:04.823Z"
   },
   {
    "duration": 32,
    "start_time": "2023-10-23T15:29:04.877Z"
   },
   {
    "duration": 32,
    "start_time": "2023-10-23T15:29:04.912Z"
   },
   {
    "duration": 711,
    "start_time": "2023-10-23T15:29:04.947Z"
   },
   {
    "duration": 6546,
    "start_time": "2023-10-23T15:29:05.663Z"
   },
   {
    "duration": 5,
    "start_time": "2023-10-23T15:29:12.211Z"
   },
   {
    "duration": 901,
    "start_time": "2023-10-23T15:29:12.217Z"
   },
   {
    "duration": 5,
    "start_time": "2023-10-23T15:29:13.120Z"
   },
   {
    "duration": 28,
    "start_time": "2023-10-23T15:29:13.127Z"
   },
   {
    "duration": 6,
    "start_time": "2023-10-23T15:29:13.157Z"
   },
   {
    "duration": 488,
    "start_time": "2023-10-23T15:29:13.164Z"
   },
   {
    "duration": 9,
    "start_time": "2023-10-23T15:29:13.653Z"
   },
   {
    "duration": 118,
    "start_time": "2023-10-23T15:29:13.663Z"
   },
   {
    "duration": 330,
    "start_time": "2023-10-23T15:29:13.783Z"
   },
   {
    "duration": 146,
    "start_time": "2023-10-23T15:29:14.115Z"
   },
   {
    "duration": 479,
    "start_time": "2023-10-23T15:29:14.263Z"
   },
   {
    "duration": 156,
    "start_time": "2023-10-23T15:29:14.745Z"
   },
   {
    "duration": 568,
    "start_time": "2023-10-23T15:29:14.903Z"
   },
   {
    "duration": 162,
    "start_time": "2023-10-23T15:29:15.473Z"
   },
   {
    "duration": 21,
    "start_time": "2023-10-23T15:29:15.637Z"
   },
   {
    "duration": 485,
    "start_time": "2023-10-23T15:29:15.663Z"
   },
   {
    "duration": 248,
    "start_time": "2023-10-23T15:29:16.156Z"
   },
   {
    "duration": 366,
    "start_time": "2023-10-23T15:29:16.406Z"
   },
   {
    "duration": 147,
    "start_time": "2023-10-23T15:29:16.775Z"
   },
   {
    "duration": 386,
    "start_time": "2023-10-23T15:29:16.924Z"
   },
   {
    "duration": 11,
    "start_time": "2023-10-23T15:29:17.312Z"
   },
   {
    "duration": 39,
    "start_time": "2023-10-23T15:29:17.325Z"
   },
   {
    "duration": 42,
    "start_time": "2023-10-23T15:29:17.366Z"
   },
   {
    "duration": 581,
    "start_time": "2023-10-23T15:29:17.410Z"
   },
   {
    "duration": 6,
    "start_time": "2023-10-23T15:29:17.993Z"
   },
   {
    "duration": 39,
    "start_time": "2023-10-23T15:29:18.001Z"
   },
   {
    "duration": 68,
    "start_time": "2023-10-23T15:29:18.043Z"
   },
   {
    "duration": 47,
    "start_time": "2023-10-23T15:29:18.113Z"
   },
   {
    "duration": 57,
    "start_time": "2023-10-23T15:29:18.162Z"
   },
   {
    "duration": 55,
    "start_time": "2023-10-23T15:29:18.221Z"
   },
   {
    "duration": 60,
    "start_time": "2023-10-23T15:29:18.278Z"
   },
   {
    "duration": 42,
    "start_time": "2023-10-23T15:29:18.340Z"
   },
   {
    "duration": 46,
    "start_time": "2023-10-23T15:29:18.384Z"
   },
   {
    "duration": 8,
    "start_time": "2023-10-23T15:29:18.432Z"
   },
   {
    "duration": 18,
    "start_time": "2023-10-23T15:29:18.442Z"
   },
   {
    "duration": 9,
    "start_time": "2023-10-23T15:29:18.461Z"
   },
   {
    "duration": 260,
    "start_time": "2023-10-23T15:29:18.472Z"
   },
   {
    "duration": 262,
    "start_time": "2023-10-23T15:29:18.734Z"
   },
   {
    "duration": 6,
    "start_time": "2023-10-23T15:29:18.998Z"
   },
   {
    "duration": 9,
    "start_time": "2023-10-23T15:29:19.006Z"
   },
   {
    "duration": 53,
    "start_time": "2023-10-23T15:29:19.017Z"
   },
   {
    "duration": 14,
    "start_time": "2023-10-23T15:29:19.071Z"
   },
   {
    "duration": 1378,
    "start_time": "2023-10-23T15:29:19.088Z"
   },
   {
    "duration": 1453,
    "start_time": "2023-10-23T15:29:20.468Z"
   },
   {
    "duration": 9,
    "start_time": "2023-10-23T15:29:21.923Z"
   },
   {
    "duration": 14,
    "start_time": "2023-10-23T15:29:21.946Z"
   },
   {
    "duration": 15,
    "start_time": "2023-10-23T15:29:21.964Z"
   },
   {
    "duration": 8,
    "start_time": "2023-10-23T15:29:21.981Z"
   },
   {
    "duration": 11,
    "start_time": "2023-10-23T15:29:21.991Z"
   },
   {
    "duration": 630,
    "start_time": "2023-10-23T15:29:29.106Z"
   },
   {
    "duration": 692,
    "start_time": "2023-10-23T15:31:30.891Z"
   },
   {
    "duration": 1207,
    "start_time": "2023-10-23T15:32:50.990Z"
   },
   {
    "duration": 399,
    "start_time": "2023-10-23T15:32:52.198Z"
   },
   {
    "duration": 18,
    "start_time": "2023-10-23T15:32:52.599Z"
   },
   {
    "duration": 5,
    "start_time": "2023-10-23T15:32:52.619Z"
   },
   {
    "duration": 5,
    "start_time": "2023-10-23T15:32:52.627Z"
   },
   {
    "duration": 5,
    "start_time": "2023-10-23T15:32:52.634Z"
   },
   {
    "duration": 29,
    "start_time": "2023-10-23T15:32:52.640Z"
   },
   {
    "duration": 31,
    "start_time": "2023-10-23T15:32:52.671Z"
   },
   {
    "duration": 17,
    "start_time": "2023-10-23T15:32:52.704Z"
   },
   {
    "duration": 9,
    "start_time": "2023-10-23T15:32:52.722Z"
   },
   {
    "duration": 25,
    "start_time": "2023-10-23T15:32:52.732Z"
   },
   {
    "duration": 6,
    "start_time": "2023-10-23T15:32:52.758Z"
   },
   {
    "duration": 12,
    "start_time": "2023-10-23T15:32:52.766Z"
   },
   {
    "duration": 16,
    "start_time": "2023-10-23T15:32:52.781Z"
   },
   {
    "duration": 32,
    "start_time": "2023-10-23T15:32:52.799Z"
   },
   {
    "duration": 9,
    "start_time": "2023-10-23T15:32:52.833Z"
   },
   {
    "duration": 17,
    "start_time": "2023-10-23T15:32:52.844Z"
   },
   {
    "duration": 9,
    "start_time": "2023-10-23T15:32:52.863Z"
   },
   {
    "duration": 10,
    "start_time": "2023-10-23T15:32:52.873Z"
   },
   {
    "duration": 24,
    "start_time": "2023-10-23T15:32:52.885Z"
   },
   {
    "duration": 20,
    "start_time": "2023-10-23T15:32:52.911Z"
   },
   {
    "duration": 28,
    "start_time": "2023-10-23T15:32:52.933Z"
   },
   {
    "duration": 14,
    "start_time": "2023-10-23T15:32:52.963Z"
   },
   {
    "duration": 14,
    "start_time": "2023-10-23T15:32:52.979Z"
   },
   {
    "duration": 1604,
    "start_time": "2023-10-23T15:32:52.995Z"
   },
   {
    "duration": 109,
    "start_time": "2023-10-23T15:32:54.601Z"
   },
   {
    "duration": 6,
    "start_time": "2023-10-23T15:32:54.712Z"
   },
   {
    "duration": 29,
    "start_time": "2023-10-23T15:32:54.719Z"
   },
   {
    "duration": 10,
    "start_time": "2023-10-23T15:32:54.750Z"
   },
   {
    "duration": 4,
    "start_time": "2023-10-23T15:32:54.762Z"
   },
   {
    "duration": 11,
    "start_time": "2023-10-23T15:32:54.768Z"
   },
   {
    "duration": 12,
    "start_time": "2023-10-23T15:32:54.781Z"
   },
   {
    "duration": 321,
    "start_time": "2023-10-23T15:32:54.794Z"
   },
   {
    "duration": 9,
    "start_time": "2023-10-23T15:32:55.117Z"
   },
   {
    "duration": 43,
    "start_time": "2023-10-23T15:32:55.127Z"
   },
   {
    "duration": 10,
    "start_time": "2023-10-23T15:32:55.172Z"
   },
   {
    "duration": 17,
    "start_time": "2023-10-23T15:32:55.184Z"
   },
   {
    "duration": 7,
    "start_time": "2023-10-23T15:32:55.202Z"
   },
   {
    "duration": 60,
    "start_time": "2023-10-23T15:32:55.210Z"
   },
   {
    "duration": 694,
    "start_time": "2023-10-23T15:32:55.272Z"
   },
   {
    "duration": 6432,
    "start_time": "2023-10-23T15:32:55.970Z"
   },
   {
    "duration": 5,
    "start_time": "2023-10-23T15:33:02.403Z"
   },
   {
    "duration": 972,
    "start_time": "2023-10-23T15:33:02.410Z"
   },
   {
    "duration": 7,
    "start_time": "2023-10-23T15:33:03.384Z"
   },
   {
    "duration": 22,
    "start_time": "2023-10-23T15:33:03.393Z"
   },
   {
    "duration": 14,
    "start_time": "2023-10-23T15:33:03.418Z"
   },
   {
    "duration": 561,
    "start_time": "2023-10-23T15:33:03.434Z"
   },
   {
    "duration": 5,
    "start_time": "2023-10-23T15:33:03.997Z"
   },
   {
    "duration": 177,
    "start_time": "2023-10-23T15:33:04.003Z"
   },
   {
    "duration": 483,
    "start_time": "2023-10-23T15:33:04.182Z"
   },
   {
    "duration": 117,
    "start_time": "2023-10-23T15:33:04.667Z"
   },
   {
    "duration": 369,
    "start_time": "2023-10-23T15:33:04.786Z"
   },
   {
    "duration": 147,
    "start_time": "2023-10-23T15:33:05.158Z"
   },
   {
    "duration": 653,
    "start_time": "2023-10-23T15:33:05.307Z"
   },
   {
    "duration": 153,
    "start_time": "2023-10-23T15:33:05.962Z"
   },
   {
    "duration": 5,
    "start_time": "2023-10-23T15:33:06.117Z"
   },
   {
    "duration": 636,
    "start_time": "2023-10-23T15:33:06.123Z"
   },
   {
    "duration": 272,
    "start_time": "2023-10-23T15:33:06.761Z"
   },
   {
    "duration": 357,
    "start_time": "2023-10-23T15:33:07.036Z"
   },
   {
    "duration": 169,
    "start_time": "2023-10-23T15:33:07.395Z"
   },
   {
    "duration": 324,
    "start_time": "2023-10-23T15:33:07.565Z"
   },
   {
    "duration": 13,
    "start_time": "2023-10-23T15:33:07.891Z"
   },
   {
    "duration": 11,
    "start_time": "2023-10-23T15:33:07.906Z"
   },
   {
    "duration": 47,
    "start_time": "2023-10-23T15:33:07.919Z"
   },
   {
    "duration": 499,
    "start_time": "2023-10-23T15:33:07.968Z"
   },
   {
    "duration": 5,
    "start_time": "2023-10-23T15:33:08.469Z"
   },
   {
    "duration": 18,
    "start_time": "2023-10-23T15:33:08.476Z"
   },
   {
    "duration": 18,
    "start_time": "2023-10-23T15:33:08.496Z"
   },
   {
    "duration": 21,
    "start_time": "2023-10-23T15:33:08.515Z"
   },
   {
    "duration": 13,
    "start_time": "2023-10-23T15:33:08.538Z"
   },
   {
    "duration": 10,
    "start_time": "2023-10-23T15:33:08.554Z"
   },
   {
    "duration": 35,
    "start_time": "2023-10-23T15:33:08.567Z"
   },
   {
    "duration": 35,
    "start_time": "2023-10-23T15:33:08.604Z"
   },
   {
    "duration": 56,
    "start_time": "2023-10-23T15:33:08.641Z"
   },
   {
    "duration": 27,
    "start_time": "2023-10-23T15:33:08.699Z"
   },
   {
    "duration": 55,
    "start_time": "2023-10-23T15:33:08.728Z"
   },
   {
    "duration": 34,
    "start_time": "2023-10-23T15:33:08.785Z"
   },
   {
    "duration": 267,
    "start_time": "2023-10-23T15:33:08.821Z"
   },
   {
    "duration": 245,
    "start_time": "2023-10-23T15:33:09.090Z"
   },
   {
    "duration": 22,
    "start_time": "2023-10-23T15:33:09.337Z"
   },
   {
    "duration": 6,
    "start_time": "2023-10-23T15:33:09.361Z"
   },
   {
    "duration": 13,
    "start_time": "2023-10-23T15:33:09.369Z"
   },
   {
    "duration": 11,
    "start_time": "2023-10-23T15:33:09.384Z"
   },
   {
    "duration": 1349,
    "start_time": "2023-10-23T15:33:09.397Z"
   },
   {
    "duration": 1366,
    "start_time": "2023-10-23T15:33:10.748Z"
   },
   {
    "duration": 8,
    "start_time": "2023-10-23T15:33:12.116Z"
   },
   {
    "duration": 33,
    "start_time": "2023-10-23T15:33:12.126Z"
   },
   {
    "duration": 10,
    "start_time": "2023-10-23T15:33:12.161Z"
   },
   {
    "duration": 22,
    "start_time": "2023-10-23T15:33:12.172Z"
   },
   {
    "duration": 20,
    "start_time": "2023-10-23T15:33:12.196Z"
   },
   {
    "duration": 7700,
    "start_time": "2023-10-23T15:39:01.068Z"
   },
   {
    "duration": 25,
    "start_time": "2023-10-23T17:03:51.452Z"
   },
   {
    "duration": 6,
    "start_time": "2023-10-23T17:04:01.185Z"
   },
   {
    "duration": 6,
    "start_time": "2023-10-23T17:04:26.767Z"
   },
   {
    "duration": 8,
    "start_time": "2023-10-23T17:04:45.869Z"
   },
   {
    "duration": 9,
    "start_time": "2023-10-23T17:06:35.972Z"
   },
   {
    "duration": 10,
    "start_time": "2023-10-23T17:06:58.869Z"
   },
   {
    "duration": 9,
    "start_time": "2023-10-23T17:07:03.969Z"
   },
   {
    "duration": 4,
    "start_time": "2023-10-23T17:07:27.824Z"
   },
   {
    "duration": 447,
    "start_time": "2023-10-23T17:07:44.928Z"
   },
   {
    "duration": 383,
    "start_time": "2023-10-23T17:08:25.427Z"
   },
   {
    "duration": 8,
    "start_time": "2023-10-23T17:09:38.623Z"
   }
  ],
  "kernelspec": {
   "display_name": "Python 3 (ipykernel)",
   "language": "python",
   "name": "python3"
  },
  "language_info": {
   "codemirror_mode": {
    "name": "ipython",
    "version": 3
   },
   "file_extension": ".py",
   "mimetype": "text/x-python",
   "name": "python",
   "nbconvert_exporter": "python",
   "pygments_lexer": "ipython3",
   "version": "3.9.5"
  },
  "toc": {
   "base_numbering": 1,
   "nav_menu": {},
   "number_sections": true,
   "sideBar": true,
   "skip_h1_title": true,
   "title_cell": "Table of Contents",
   "title_sidebar": "Contents",
   "toc_cell": false,
   "toc_position": {
    "height": "calc(100% - 180px)",
    "left": "10px",
    "top": "150px",
    "width": "306.884px"
   },
   "toc_section_display": true,
   "toc_window_display": true
  }
 },
 "nbformat": 4,
 "nbformat_minor": 5
}
